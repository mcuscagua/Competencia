{
 "cells": [
  {
   "cell_type": "code",
   "execution_count": 4,
   "metadata": {},
   "outputs": [],
   "source": [
    "import pandas as pd\n",
    "from sklearn.model_selection import train_test_split"
   ]
  },
  {
   "cell_type": "code",
   "execution_count": 21,
   "metadata": {},
   "outputs": [],
   "source": [
    "Data = pd.read_csv('datacountstudents.csv')\n",
    "Data = Data.drop('id', axis = 1)\n",
    "X = Data.drop('yC', axis = 1)\n",
    "Y = Data['yC']\n",
    "\n",
    "X_Train, X_Test, Y_Train,Y_Test = train_test_split(X, Y, train_size = 0.8, random_state=19)\n",
    "Train = pd.concat([Y_Train, X_Train], axis = 1)\n",
    "Test = pd.concat([Y_Test, X_Test], axis = 1)\n",
    "\n",
    "Train.to_csv('count_train.csv')\n",
    "Test.to_csv('count_test.csv')"
   ]
  },
  {
   "cell_type": "code",
   "execution_count": 22,
   "metadata": {},
   "outputs": [],
   "source": [
    "Data = pd.read_csv('datacontinuousstudents.csv')\n",
    "Data = Data.drop('id', axis = 1)\n",
    "X = Data.drop('y', axis = 1)\n",
    "Y = Data['y']\n",
    "\n",
    "X_Train, X_Test, Y_Train,Y_Test = train_test_split(X, Y, train_size = 0.8, random_state=19)\n",
    "Train = pd.concat([Y_Train, X_Train], axis = 1)\n",
    "Test = pd.concat([Y_Test, X_Test], axis = 1)\n",
    "\n",
    "Train.to_csv('continuous_train.csv')\n",
    "Test.to_csv('continuous_test.csv')"
   ]
  },
  {
   "cell_type": "code",
   "execution_count": 23,
   "metadata": {},
   "outputs": [],
   "source": [
    "Data = pd.read_csv('databinarystudents.csv')\n",
    "Data = Data.drop('id', axis = 1)\n",
    "X = Data.drop('yL', axis = 1)\n",
    "Y = Data['yL']\n",
    "\n",
    "X_Train, X_Test, Y_Train,Y_Test = train_test_split(X, Y, train_size = 0.8, random_state=19)\n",
    "Train = pd.concat([Y_Train, X_Train], axis = 1)\n",
    "Test = pd.concat([Y_Test, X_Test], axis = 1)\n",
    "\n",
    "Train.to_csv('binary_train.csv')\n",
    "Test.to_csv('binary_test.csv')"
   ]
  }
 ],
 "metadata": {
  "kernelspec": {
   "display_name": "Python 3",
   "language": "python",
   "name": "python3"
  },
  "language_info": {
   "codemirror_mode": {
    "name": "ipython",
    "version": 3
   },
   "file_extension": ".py",
   "mimetype": "text/x-python",
   "name": "python",
   "nbconvert_exporter": "python",
   "pygments_lexer": "ipython3",
   "version": "3.7.3"
  }
 },
 "nbformat": 4,
 "nbformat_minor": 2
}
