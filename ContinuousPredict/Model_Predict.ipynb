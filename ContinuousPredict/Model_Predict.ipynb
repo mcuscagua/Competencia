{
 "cells": [
  {
   "cell_type": "markdown",
   "metadata": {},
   "source": [
    "# MODELO CONTINUO <br>\n",
    "\n",
    "## Equipo:\n",
    "\n",
    "    - Diana Catalina Velásquez\n",
    "    - Mauricio Cuscagua\n",
    "    - Camila Mejía\n",
    "    \n",
    "### Variables seleccionadas:\n",
    "    - x23, x25"
   ]
  },
  {
   "cell_type": "markdown",
   "metadata": {},
   "source": [
    "## Se requieren las siguientes librerías:\n",
    "    - pandas\n",
    "    - numpy\n",
    "    - sklearn\n",
    "    - pickle"
   ]
  },
  {
   "cell_type": "code",
   "execution_count": 1,
   "metadata": {},
   "outputs": [],
   "source": [
    "import pandas as pd\n",
    "import numpy as np\n",
    "from sklearn.preprocessing import StandardScaler\n",
    "from sklearn.linear_model import LinearRegression\n",
    "from sklearn.pipeline import Pipeline\n",
    "from sklearn.metrics import mean_squared_error\n",
    "import pickle"
   ]
  },
  {
   "cell_type": "markdown",
   "metadata": {},
   "source": [
    "## Lectura del archivo"
   ]
  },
  {
   "cell_type": "markdown",
   "metadata": {},
   "source": [
    "**path_of_file**: es la ruta donde se encuentra el archivo con los datos que se quiere predecir.<br>\n",
    "**name_variable_y**: es el nombre de la variable respuesta que en los archivos enviados de prueba era \"y\"."
   ]
  },
  {
   "cell_type": "code",
   "execution_count": 2,
   "metadata": {},
   "outputs": [],
   "source": [
    "path_of_file = 'continuous_test.csv'\n",
    "name_variable_y = 'y'"
   ]
  },
  {
   "cell_type": "code",
   "execution_count": 3,
   "metadata": {},
   "outputs": [],
   "source": [
    "test = pd.read_csv(path_of_file, sep = ',', na_filter = False)\n",
    "\n",
    "X_test = test.drop(columns = [name_variable_y]).copy()\n",
    "y_test = test[[name_variable_y]].copy()"
   ]
  },
  {
   "cell_type": "markdown",
   "metadata": {},
   "source": [
    "## Cargar el modelo"
   ]
  },
  {
   "cell_type": "markdown",
   "metadata": {},
   "source": [
    "**path_model**: ruta donde se encuentra la estructura enviada por el equipo, por facilidad mejor dejarla en la misma carpeta donde se ejecute el Jupyter notebook"
   ]
  },
  {
   "cell_type": "code",
   "execution_count": 4,
   "metadata": {},
   "outputs": [],
   "source": [
    "path_model = 'modelContinuos.sav'"
   ]
  },
  {
   "cell_type": "code",
   "execution_count": 5,
   "metadata": {},
   "outputs": [],
   "source": [
    "model = pickle.load(open(path_model, 'rb'))"
   ]
  },
  {
   "cell_type": "markdown",
   "metadata": {},
   "source": [
    "## Función de evaluación"
   ]
  },
  {
   "cell_type": "code",
   "execution_count": 8,
   "metadata": {},
   "outputs": [],
   "source": [
    "def evaluate_model(model,X,y):\n",
    "    variablesSelected = model['variableSelected']\n",
    "    X_eval = X[variablesSelected].copy()\n",
    "    y_pred = model['model'].predict(X_eval)\n",
    "\n",
    "    y_pred = pd.DataFrame(y_pred, index=y_test.index, columns=[\"y_pred\"])\n",
    "\n",
    "    total = y_pred.join(y_test)\n",
    "    total['y_menor_-1'] = (total['y']<-1).astype(int)\n",
    "    total['y_pred_menor_-1'] = (total['y_pred']<-1).astype(int)\n",
    "    total['good_class'] = (total['y_menor_-1']==total['y_pred_menor_-1']).astype(int)\n",
    "    mse = mean_squared_error(y, y_pred)\n",
    "    accuray =total['good_class'].sum()/len(total)\n",
    "    print(f'El error cuadrático medio de los datos es: {mse}')\n",
    "    print(f'El accuracy de los datos es: {accuray:5.2f}')\n",
    "    return total,mse,accuray"
   ]
  },
  {
   "cell_type": "markdown",
   "metadata": {},
   "source": [
    "# Resultados:"
   ]
  },
  {
   "cell_type": "code",
   "execution_count": 9,
   "metadata": {},
   "outputs": [
    {
     "name": "stdout",
     "output_type": "stream",
     "text": [
      "El error cuadrático medio de los datos es: 4.206217969668216\n",
      "El accuracy de los datos es:  0.83\n"
     ]
    }
   ],
   "source": [
    "y_pred,mse,accuracy = evaluate_model(model,X_test,y_test)"
   ]
  },
  {
   "cell_type": "code",
   "execution_count": 10,
   "metadata": {},
   "outputs": [
    {
     "data": {
      "text/html": [
       "<div>\n",
       "<style scoped>\n",
       "    .dataframe tbody tr th:only-of-type {\n",
       "        vertical-align: middle;\n",
       "    }\n",
       "\n",
       "    .dataframe tbody tr th {\n",
       "        vertical-align: top;\n",
       "    }\n",
       "\n",
       "    .dataframe thead th {\n",
       "        text-align: right;\n",
       "    }\n",
       "</style>\n",
       "<table border=\"1\" class=\"dataframe\">\n",
       "  <thead>\n",
       "    <tr style=\"text-align: right;\">\n",
       "      <th></th>\n",
       "      <th>y_pred</th>\n",
       "      <th>y</th>\n",
       "      <th>y_menor_-1</th>\n",
       "      <th>y_pred_menor_-1</th>\n",
       "      <th>good_class</th>\n",
       "    </tr>\n",
       "  </thead>\n",
       "  <tbody>\n",
       "    <tr>\n",
       "      <td>0</td>\n",
       "      <td>1.295974</td>\n",
       "      <td>5.951199</td>\n",
       "      <td>0</td>\n",
       "      <td>0</td>\n",
       "      <td>1</td>\n",
       "    </tr>\n",
       "    <tr>\n",
       "      <td>1</td>\n",
       "      <td>-0.465576</td>\n",
       "      <td>-0.578514</td>\n",
       "      <td>0</td>\n",
       "      <td>0</td>\n",
       "      <td>1</td>\n",
       "    </tr>\n",
       "    <tr>\n",
       "      <td>2</td>\n",
       "      <td>0.625175</td>\n",
       "      <td>2.715522</td>\n",
       "      <td>0</td>\n",
       "      <td>0</td>\n",
       "      <td>1</td>\n",
       "    </tr>\n",
       "    <tr>\n",
       "      <td>3</td>\n",
       "      <td>1.317045</td>\n",
       "      <td>0.832788</td>\n",
       "      <td>0</td>\n",
       "      <td>0</td>\n",
       "      <td>1</td>\n",
       "    </tr>\n",
       "    <tr>\n",
       "      <td>4</td>\n",
       "      <td>-0.107407</td>\n",
       "      <td>-2.114191</td>\n",
       "      <td>1</td>\n",
       "      <td>0</td>\n",
       "      <td>0</td>\n",
       "    </tr>\n",
       "  </tbody>\n",
       "</table>\n",
       "</div>"
      ],
      "text/plain": [
       "     y_pred         y  y_menor_-1  y_pred_menor_-1  good_class\n",
       "0  1.295974  5.951199           0                0           1\n",
       "1 -0.465576 -0.578514           0                0           1\n",
       "2  0.625175  2.715522           0                0           1\n",
       "3  1.317045  0.832788           0                0           1\n",
       "4 -0.107407 -2.114191           1                0           0"
      ]
     },
     "execution_count": 10,
     "metadata": {},
     "output_type": "execute_result"
    }
   ],
   "source": [
    "y_pred.head()"
   ]
  }
 ],
 "metadata": {
  "kernelspec": {
   "display_name": "Python 3",
   "language": "python",
   "name": "python3"
  },
  "language_info": {
   "codemirror_mode": {
    "name": "ipython",
    "version": 3
   },
   "file_extension": ".py",
   "mimetype": "text/x-python",
   "name": "python",
   "nbconvert_exporter": "python",
   "pygments_lexer": "ipython3",
   "version": "3.6.6"
  }
 },
 "nbformat": 4,
 "nbformat_minor": 2
}
