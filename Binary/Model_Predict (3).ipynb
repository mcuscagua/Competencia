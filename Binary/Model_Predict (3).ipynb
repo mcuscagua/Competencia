{
 "cells": [
  {
   "cell_type": "markdown",
   "metadata": {},
   "source": [
    "# MODELO BINARIO <br>\n",
    "\n",
    "## Equipo:\n",
    "\n",
    "    - Diana Catalina Velásquez\n",
    "    - Mauricio Cuscagua\n",
    "    - Camila Mejía\n",
    "    \n",
    "### Variables seleccionadas:\n",
    "    - x1, x10, x12, x17 , x23"
   ]
  },
  {
   "cell_type": "markdown",
   "metadata": {},
   "source": [
    "## Se requieren las siguientes librerías:\n",
    "    - pandas\n",
    "    - numpy\n",
    "    - sklearn\n",
    "    - pickle"
   ]
  },
  {
   "cell_type": "code",
   "execution_count": 4,
   "metadata": {},
   "outputs": [],
   "source": [
    "import pandas as pd\n",
    "import numpy as np\n",
    "from sklearn.preprocessing import StandardScaler\n",
    "from sklearn.pipeline import Pipeline\n",
    "import pickle\n",
    "from sklearn.metrics import accuracy_score, recall_score, precision_score, roc_curve, auc,roc_auc_score\n",
    "from sklearn import neighbors"
   ]
  },
  {
   "cell_type": "markdown",
   "metadata": {},
   "source": [
    "## Lectura del archivo"
   ]
  },
  {
   "cell_type": "markdown",
   "metadata": {},
   "source": [
    "**path_of_file**: es la ruta donde se encuentra el archivo con los datos que se quiere predecir.<br>\n",
    "**name_variable_y**: es el nombre de la variable respuesta que en los archivos enviados de prueba era \"y\"."
   ]
  },
  {
   "cell_type": "code",
   "execution_count": 6,
   "metadata": {},
   "outputs": [],
   "source": [
    "path_of_file = 'databinarystudents.csv'\n",
    "name_variable_y = 'yL'"
   ]
  },
  {
   "cell_type": "code",
   "execution_count": 7,
   "metadata": {},
   "outputs": [],
   "source": [
    "test = pd.read_csv(path_of_file, sep = ',', na_filter = False)\n",
    "\n",
    "X_test = test.drop(columns = [name_variable_y]).copy()\n",
    "y_test = test[[name_variable_y]].copy()"
   ]
  },
  {
   "cell_type": "markdown",
   "metadata": {},
   "source": [
    "## Cargar el modelo"
   ]
  },
  {
   "cell_type": "markdown",
   "metadata": {},
   "source": [
    "**path_model**: ruta donde se encuentra la estructura enviada por el equipo, por facilidad mejor dejarla en la misma carpeta donde se ejecute el Jupyter notebook"
   ]
  },
  {
   "cell_type": "code",
   "execution_count": 8,
   "metadata": {},
   "outputs": [],
   "source": [
    "path_model = 'modelBinary.sav'"
   ]
  },
  {
   "cell_type": "code",
   "execution_count": 9,
   "metadata": {},
   "outputs": [],
   "source": [
    "model = pickle.load(open(path_model, 'rb'))"
   ]
  },
  {
   "cell_type": "markdown",
   "metadata": {},
   "source": [
    "## Función de evaluación"
   ]
  },
  {
   "cell_type": "code",
   "execution_count": 10,
   "metadata": {},
   "outputs": [],
   "source": [
    "def evaluate_model(model,X,y):\n",
    "    variablesSelected = model['variableSelected']\n",
    "    X_eval = X[variablesSelected].copy()\n",
    "    y_pred = model['model'].predict(X_eval)\n",
    "\n",
    "    y_pred = pd.DataFrame(y_pred, index=y_test.index, columns=[\"y_pred\"])\n",
    "\n",
    "    total = y_pred.join(y_test)\n",
    "    auc = roc_auc_score(y_test, y_pred, average=\"macro\")\n",
    "    accuracy = accuracy_score(y_test, y_pred)\n",
    "    print(f'El auc de los datos es: {auc}')\n",
    "    print(f'El accuracy de los datos es: {accuracy:5.2f}')\n",
    "    return total,auc,accuracy"
   ]
  },
  {
   "cell_type": "markdown",
   "metadata": {},
   "source": [
    "# Resultados:"
   ]
  },
  {
   "cell_type": "code",
   "execution_count": 11,
   "metadata": {},
   "outputs": [
    {
     "name": "stdout",
     "output_type": "stream",
     "text": [
      "El auc de los datos es: 0.685\n",
      "El accuracy de los datos es:  0.75\n"
     ]
    }
   ],
   "source": [
    "y_pred,mse,accuracy = evaluate_model(model,X_test,y_test)"
   ]
  },
  {
   "cell_type": "code",
   "execution_count": 12,
   "metadata": {},
   "outputs": [
    {
     "data": {
      "text/html": [
       "<div>\n",
       "<style scoped>\n",
       "    .dataframe tbody tr th:only-of-type {\n",
       "        vertical-align: middle;\n",
       "    }\n",
       "\n",
       "    .dataframe tbody tr th {\n",
       "        vertical-align: top;\n",
       "    }\n",
       "\n",
       "    .dataframe thead th {\n",
       "        text-align: right;\n",
       "    }\n",
       "</style>\n",
       "<table border=\"1\" class=\"dataframe\">\n",
       "  <thead>\n",
       "    <tr style=\"text-align: right;\">\n",
       "      <th></th>\n",
       "      <th>y_pred</th>\n",
       "      <th>yL</th>\n",
       "    </tr>\n",
       "  </thead>\n",
       "  <tbody>\n",
       "    <tr>\n",
       "      <th>0</th>\n",
       "      <td>1</td>\n",
       "      <td>1</td>\n",
       "    </tr>\n",
       "    <tr>\n",
       "      <th>1</th>\n",
       "      <td>1</td>\n",
       "      <td>1</td>\n",
       "    </tr>\n",
       "    <tr>\n",
       "      <th>2</th>\n",
       "      <td>1</td>\n",
       "      <td>1</td>\n",
       "    </tr>\n",
       "    <tr>\n",
       "      <th>3</th>\n",
       "      <td>0</td>\n",
       "      <td>0</td>\n",
       "    </tr>\n",
       "    <tr>\n",
       "      <th>4</th>\n",
       "      <td>1</td>\n",
       "      <td>1</td>\n",
       "    </tr>\n",
       "  </tbody>\n",
       "</table>\n",
       "</div>"
      ],
      "text/plain": [
       "   y_pred  yL\n",
       "0       1   1\n",
       "1       1   1\n",
       "2       1   1\n",
       "3       0   0\n",
       "4       1   1"
      ]
     },
     "execution_count": 12,
     "metadata": {},
     "output_type": "execute_result"
    }
   ],
   "source": [
    "y_pred.head()"
   ]
  },
  {
   "cell_type": "code",
   "execution_count": null,
   "metadata": {},
   "outputs": [],
   "source": []
  }
 ],
 "metadata": {
  "kernelspec": {
   "display_name": "Python 3",
   "language": "python",
   "name": "python3"
  },
  "language_info": {
   "codemirror_mode": {
    "name": "ipython",
    "version": 3
   },
   "file_extension": ".py",
   "mimetype": "text/x-python",
   "name": "python",
   "nbconvert_exporter": "python",
   "pygments_lexer": "ipython3",
   "version": "3.7.3"
  }
 },
 "nbformat": 4,
 "nbformat_minor": 2
}
