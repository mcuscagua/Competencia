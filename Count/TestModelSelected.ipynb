{
 "cells": [
  {
   "cell_type": "code",
   "execution_count": 6,
   "metadata": {},
   "outputs": [],
   "source": [
    "import pandas as pd\n",
    "import numpy as np\n",
    "from sklearn.model_selection import GridSearchCV,train_test_split\n",
    "from sklearn.preprocessing import StandardScaler\n",
    "from sklearn.linear_model import LinearRegression\n",
    "import matplotlib.pyplot as plt\n",
    "from sklearn.pipeline import Pipeline\n",
    "from sklearn.metrics import mean_squared_error, accuracy_score\n",
    "import xgboost as xgb\n",
    "import pickle"
   ]
  },
  {
   "cell_type": "code",
   "execution_count": 7,
   "metadata": {},
   "outputs": [],
   "source": [
    "path = 'datacountstudents.csv'\n",
    "data = pd.read_csv(path, sep = ',', na_filter = False)\n",
    "data = data.set_index('id')\n",
    "X_train = data.drop(columns = ['yC']).copy()\n",
    "y_train = data[['yC']].copy()"
   ]
  },
  {
   "cell_type": "code",
   "execution_count": 8,
   "metadata": {},
   "outputs": [
    {
     "data": {
      "text/html": [
       "<div>\n",
       "<style scoped>\n",
       "    .dataframe tbody tr th:only-of-type {\n",
       "        vertical-align: middle;\n",
       "    }\n",
       "\n",
       "    .dataframe tbody tr th {\n",
       "        vertical-align: top;\n",
       "    }\n",
       "\n",
       "    .dataframe thead th {\n",
       "        text-align: right;\n",
       "    }\n",
       "</style>\n",
       "<table border=\"1\" class=\"dataframe\">\n",
       "  <thead>\n",
       "    <tr style=\"text-align: right;\">\n",
       "      <th></th>\n",
       "      <th>x1</th>\n",
       "      <th>x2</th>\n",
       "      <th>x3</th>\n",
       "      <th>x4</th>\n",
       "      <th>x5</th>\n",
       "      <th>x6</th>\n",
       "      <th>x7</th>\n",
       "      <th>x8</th>\n",
       "      <th>x9</th>\n",
       "      <th>x10</th>\n",
       "      <th>...</th>\n",
       "      <th>x23</th>\n",
       "      <th>x24</th>\n",
       "      <th>x25</th>\n",
       "      <th>x26</th>\n",
       "      <th>x27</th>\n",
       "      <th>x28</th>\n",
       "      <th>x29</th>\n",
       "      <th>x30</th>\n",
       "      <th>x31</th>\n",
       "      <th>x32</th>\n",
       "    </tr>\n",
       "    <tr>\n",
       "      <th>id</th>\n",
       "      <th></th>\n",
       "      <th></th>\n",
       "      <th></th>\n",
       "      <th></th>\n",
       "      <th></th>\n",
       "      <th></th>\n",
       "      <th></th>\n",
       "      <th></th>\n",
       "      <th></th>\n",
       "      <th></th>\n",
       "      <th></th>\n",
       "      <th></th>\n",
       "      <th></th>\n",
       "      <th></th>\n",
       "      <th></th>\n",
       "      <th></th>\n",
       "      <th></th>\n",
       "      <th></th>\n",
       "      <th></th>\n",
       "      <th></th>\n",
       "      <th></th>\n",
       "    </tr>\n",
       "  </thead>\n",
       "  <tbody>\n",
       "    <tr>\n",
       "      <th>1</th>\n",
       "      <td>49.856</td>\n",
       "      <td>118.8</td>\n",
       "      <td>1</td>\n",
       "      <td>0</td>\n",
       "      <td>0</td>\n",
       "      <td>0</td>\n",
       "      <td>0</td>\n",
       "      <td>16.32096</td>\n",
       "      <td>0</td>\n",
       "      <td>18.762237</td>\n",
       "      <td>...</td>\n",
       "      <td>0.9709</td>\n",
       "      <td>0.0003</td>\n",
       "      <td>6</td>\n",
       "      <td>6</td>\n",
       "      <td>24.7138</td>\n",
       "      <td>0</td>\n",
       "      <td>0</td>\n",
       "      <td>7</td>\n",
       "      <td>0.056546</td>\n",
       "      <td>0.112860</td>\n",
       "    </tr>\n",
       "    <tr>\n",
       "      <th>2</th>\n",
       "      <td>71.836</td>\n",
       "      <td>34.8</td>\n",
       "      <td>0</td>\n",
       "      <td>0</td>\n",
       "      <td>0</td>\n",
       "      <td>0</td>\n",
       "      <td>1</td>\n",
       "      <td>15.00535</td>\n",
       "      <td>44</td>\n",
       "      <td>119.946790</td>\n",
       "      <td>...</td>\n",
       "      <td>0.4200</td>\n",
       "      <td>0.0000</td>\n",
       "      <td>8</td>\n",
       "      <td>4</td>\n",
       "      <td>38.0658</td>\n",
       "      <td>0</td>\n",
       "      <td>0</td>\n",
       "      <td>7</td>\n",
       "      <td>0.655260</td>\n",
       "      <td>0.886908</td>\n",
       "    </tr>\n",
       "    <tr>\n",
       "      <th>3</th>\n",
       "      <td>66.725</td>\n",
       "      <td>41.8</td>\n",
       "      <td>0</td>\n",
       "      <td>1</td>\n",
       "      <td>0</td>\n",
       "      <td>0</td>\n",
       "      <td>0</td>\n",
       "      <td>17.07023</td>\n",
       "      <td>27</td>\n",
       "      <td>10.879595</td>\n",
       "      <td>...</td>\n",
       "      <td>0.9650</td>\n",
       "      <td>0.0000</td>\n",
       "      <td>6</td>\n",
       "      <td>6</td>\n",
       "      <td>48.3807</td>\n",
       "      <td>0</td>\n",
       "      <td>1</td>\n",
       "      <td>4</td>\n",
       "      <td>0.067855</td>\n",
       "      <td>0.133944</td>\n",
       "    </tr>\n",
       "    <tr>\n",
       "      <th>4</th>\n",
       "      <td>41.696</td>\n",
       "      <td>132.0</td>\n",
       "      <td>0</td>\n",
       "      <td>0</td>\n",
       "      <td>1</td>\n",
       "      <td>0</td>\n",
       "      <td>0</td>\n",
       "      <td>16.31460</td>\n",
       "      <td>0</td>\n",
       "      <td>9.762927</td>\n",
       "      <td>...</td>\n",
       "      <td>0.0091</td>\n",
       "      <td>0.0001</td>\n",
       "      <td>6</td>\n",
       "      <td>4</td>\n",
       "      <td>59.8410</td>\n",
       "      <td>0</td>\n",
       "      <td>0</td>\n",
       "      <td>7</td>\n",
       "      <td>0.133230</td>\n",
       "      <td>0.260102</td>\n",
       "    </tr>\n",
       "    <tr>\n",
       "      <th>5</th>\n",
       "      <td>71.351</td>\n",
       "      <td>24.2</td>\n",
       "      <td>1</td>\n",
       "      <td>0</td>\n",
       "      <td>0</td>\n",
       "      <td>0</td>\n",
       "      <td>0</td>\n",
       "      <td>11.10790</td>\n",
       "      <td>31</td>\n",
       "      <td>151.581820</td>\n",
       "      <td>...</td>\n",
       "      <td>0.0051</td>\n",
       "      <td>0.0000</td>\n",
       "      <td>5</td>\n",
       "      <td>7</td>\n",
       "      <td>175.9250</td>\n",
       "      <td>0</td>\n",
       "      <td>0</td>\n",
       "      <td>3</td>\n",
       "      <td>0.318584</td>\n",
       "      <td>0.627729</td>\n",
       "    </tr>\n",
       "  </tbody>\n",
       "</table>\n",
       "<p>5 rows × 32 columns</p>\n",
       "</div>"
      ],
      "text/plain": [
       "        x1     x2  x3  x4  x5  x6  x7        x8  x9         x10    ...     \\\n",
       "id                                                                 ...      \n",
       "1   49.856  118.8   1   0   0   0   0  16.32096   0   18.762237    ...      \n",
       "2   71.836   34.8   0   0   0   0   1  15.00535  44  119.946790    ...      \n",
       "3   66.725   41.8   0   1   0   0   0  17.07023  27   10.879595    ...      \n",
       "4   41.696  132.0   0   0   1   0   0  16.31460   0    9.762927    ...      \n",
       "5   71.351   24.2   1   0   0   0   0  11.10790  31  151.581820    ...      \n",
       "\n",
       "       x23     x24  x25  x26       x27  x28  x29  x30       x31       x32  \n",
       "id                                                                         \n",
       "1   0.9709  0.0003    6    6   24.7138    0    0    7  0.056546  0.112860  \n",
       "2   0.4200  0.0000    8    4   38.0658    0    0    7  0.655260  0.886908  \n",
       "3   0.9650  0.0000    6    6   48.3807    0    1    4  0.067855  0.133944  \n",
       "4   0.0091  0.0001    6    4   59.8410    0    0    7  0.133230  0.260102  \n",
       "5   0.0051  0.0000    5    7  175.9250    0    0    3  0.318584  0.627729  \n",
       "\n",
       "[5 rows x 32 columns]"
      ]
     },
     "execution_count": 8,
     "metadata": {},
     "output_type": "execute_result"
    }
   ],
   "source": [
    "X_train.head()"
   ]
  },
  {
   "cell_type": "code",
   "execution_count": 9,
   "metadata": {},
   "outputs": [],
   "source": [
    "def calculated_metrics(variablesSelected,X_trained_scaled,y_train,X_test_scaled,y_test):\n",
    "    X_trained_scaled_aux = X_trained_scaled[variablesSelected].copy()\n",
    "    X_test_scaled_aux = X_test_scaled[variablesSelected].copy()\n",
    "    regr = xgb.XGBRegressor(objective ='reg:squarederror')\n",
    "\n",
    "    # Train the model using the training sets\n",
    "    regr.fit(X_trained_scaled_aux,  y_train['yC'].values)\n",
    "\n",
    "    # Make predictions using the testing set\n",
    "    y_pred = regr.predict(X_test_scaled_aux)\n",
    "\n",
    "    y_pred = pd.DataFrame(y_pred, index=y_test.index, columns=[\"y_pred\"])\n",
    "    y_pred = np.round(y_pred)\n",
    "\n",
    "    total = y_pred.join(y_test)\n",
    "    total['y_igual_0'] = (total['yC'] == 0).astype(int)\n",
    "    total['y_pred_igual_0'] = (total['y_pred'] == 0).astype(int)\n",
    "    total['good_class'] = (total['y_igual_0']==total['y_pred_igual_0']).astype(int)\n",
    "    mse = mean_squared_error(y_test, y_pred)\n",
    "    accuray = accuracy_score(total['y_igual_0'], total['y_pred_igual_0']) \n",
    "    return mse,accuray"
   ]
  },
  {
   "cell_type": "code",
   "execution_count": 10,
   "metadata": {},
   "outputs": [],
   "source": [
    "modelToProof = [['x4', 'x13', 'x25', 'x24', 'x27', 'x7', 'x14', 'x3', 'x2', 'x8', 'x22']]"
   ]
  },
  {
   "cell_type": "code",
   "execution_count": 22,
   "metadata": {},
   "outputs": [
    {
     "name": "stdout",
     "output_type": "stream",
     "text": [
      "['x4', 'x13', 'x25', 'x24', 'x27', 'x7', 'x14', 'x3', 'x2', 'x8', 'x22']\n"
     ]
    }
   ],
   "source": [
    "resultados =  pd.DataFrame()\n",
    "mse_total =  pd.DataFrame()\n",
    "accuracy_total =  pd.DataFrame()\n",
    "for variablesTorun in modelToProof:\n",
    "    print(variablesTorun)\n",
    "    mse = []\n",
    "    accuray = []\n",
    "    if len(variablesTorun)>0:\n",
    "        for j in range(1,100):\n",
    "            X_train_aux, X_test_aux, y_train_aux, y_test_aux = train_test_split(X_train, y_train, test_size=0.2)\n",
    "            standarscaler = StandardScaler()\n",
    "            X_trained_scaled_aux = standarscaler.fit_transform(X_train_aux)\n",
    "            X_trained_scaled_aux = pd.DataFrame(X_trained_scaled_aux, index=X_train_aux.index, columns=X_train_aux.columns.values)\n",
    "\n",
    "            X_test_scaled_aux = standarscaler.transform(X_test_aux)\n",
    "\n",
    "            X_test_scaled_aux = pd.DataFrame(X_test_scaled_aux, index=X_test_aux.index, columns=X_test_aux.columns.values)\n",
    "\n",
    "            variablesSelected = list(variablesTorun)\n",
    "            mse_aux,accuray_aux= calculated_metrics(variablesSelected,X_trained_scaled_aux,y_train_aux,X_test_scaled_aux,y_test_aux)\n",
    "            mse.append(mse_aux)\n",
    "            accuray.append(accuray_aux)\n",
    "\n",
    "\n",
    "        auxRes= pd.DataFrame({'Modelo': [variablesTorun], 'Median: Mean squared error': [np.median(np.asarray(mse))],'Median: Accuray': [np.median(np.asarray(accuray))]})\n",
    "        resultados = pd.concat([resultados,auxRes])\n",
    "        name = ','.join(variablesTorun)\n",
    "\n",
    "        mse_total[name] = mse\n",
    "        accuracy_total[name] = accuray\n",
    "#         break\n",
    "#         resultados.to_csv('ResultadosCV_scores.csv')\n",
    "    else:\n",
    "        print(f\"El conjunto de variables {variablesTorun} no tiene variables\")\n",
    "#     break\n",
    "# resultado_scores_ranking_cv.reset_index(inplace = True,drop = True)"
   ]
  },
  {
   "cell_type": "code",
   "execution_count": 23,
   "metadata": {
    "scrolled": true
   },
   "outputs": [
    {
     "data": {
      "text/html": [
       "<div>\n",
       "<style scoped>\n",
       "    .dataframe tbody tr th:only-of-type {\n",
       "        vertical-align: middle;\n",
       "    }\n",
       "\n",
       "    .dataframe tbody tr th {\n",
       "        vertical-align: top;\n",
       "    }\n",
       "\n",
       "    .dataframe thead th {\n",
       "        text-align: right;\n",
       "    }\n",
       "</style>\n",
       "<table border=\"1\" class=\"dataframe\">\n",
       "  <thead>\n",
       "    <tr style=\"text-align: right;\">\n",
       "      <th></th>\n",
       "      <th>Median: Accuray</th>\n",
       "      <th>Median: Mean squared error</th>\n",
       "      <th>Modelo</th>\n",
       "    </tr>\n",
       "  </thead>\n",
       "  <tbody>\n",
       "    <tr>\n",
       "      <th>0</th>\n",
       "      <td>0.633333</td>\n",
       "      <td>1.433333</td>\n",
       "      <td>[x4, x13, x25, x24, x27, x7, x14, x3, x2, x8, ...</td>\n",
       "    </tr>\n",
       "  </tbody>\n",
       "</table>\n",
       "</div>"
      ],
      "text/plain": [
       "   Median: Accuray  Median: Mean squared error  \\\n",
       "0         0.633333                    1.433333   \n",
       "\n",
       "                                              Modelo  \n",
       "0  [x4, x13, x25, x24, x27, x7, x14, x3, x2, x8, ...  "
      ]
     },
     "execution_count": 23,
     "metadata": {},
     "output_type": "execute_result"
    }
   ],
   "source": [
    "resultados.sort_values('Median: Mean squared error')"
   ]
  },
  {
   "cell_type": "code",
   "execution_count": 24,
   "metadata": {},
   "outputs": [
    {
     "data": {
      "text/plain": [
       "<matplotlib.axes._subplots.AxesSubplot at 0x1dfb1cc0dd8>"
      ]
     },
     "execution_count": 24,
     "metadata": {},
     "output_type": "execute_result"
    },
    {
     "data": {
      "image/png": "[encoded data removed]",
      "text/plain": [
       "<Figure size 432x288 with 1 Axes>"
      ]
     },
     "metadata": {},
     "output_type": "display_data"
    }
   ],
   "source": [
    "mse_total.plot()"
   ]
  },
  {
   "cell_type": "code",
   "execution_count": 25,
   "metadata": {},
   "outputs": [
    {
     "data": {
      "text/html": [
       "<div>\n",
       "<style scoped>\n",
       "    .dataframe tbody tr th:only-of-type {\n",
       "        vertical-align: middle;\n",
       "    }\n",
       "\n",
       "    .dataframe tbody tr th {\n",
       "        vertical-align: top;\n",
       "    }\n",
       "\n",
       "    .dataframe thead th {\n",
       "        text-align: right;\n",
       "    }\n",
       "</style>\n",
       "<table border=\"1\" class=\"dataframe\">\n",
       "  <thead>\n",
       "    <tr style=\"text-align: right;\">\n",
       "      <th></th>\n",
       "      <th>count</th>\n",
       "      <th>mean</th>\n",
       "      <th>std</th>\n",
       "      <th>min</th>\n",
       "      <th>25%</th>\n",
       "      <th>50%</th>\n",
       "      <th>75%</th>\n",
       "      <th>max</th>\n",
       "    </tr>\n",
       "  </thead>\n",
       "  <tbody>\n",
       "    <tr>\n",
       "      <th>x4,x13,x25,x24,x27,x7,x14,x3,x2,x8,x22</th>\n",
       "      <td>99.0</td>\n",
       "      <td>1.522559</td>\n",
       "      <td>0.451473</td>\n",
       "      <td>0.733333</td>\n",
       "      <td>1.2</td>\n",
       "      <td>1.433333</td>\n",
       "      <td>1.833333</td>\n",
       "      <td>2.7</td>\n",
       "    </tr>\n",
       "  </tbody>\n",
       "</table>\n",
       "</div>"
      ],
      "text/plain": [
       "                                        count      mean       std       min  \\\n",
       "x4,x13,x25,x24,x27,x7,x14,x3,x2,x8,x22   99.0  1.522559  0.451473  0.733333   \n",
       "\n",
       "                                        25%       50%       75%  max  \n",
       "x4,x13,x25,x24,x27,x7,x14,x3,x2,x8,x22  1.2  1.433333  1.833333  2.7  "
      ]
     },
     "execution_count": 25,
     "metadata": {},
     "output_type": "execute_result"
    }
   ],
   "source": [
    "mse_total.describe().T"
   ]
  },
  {
   "cell_type": "code",
   "execution_count": 17,
   "metadata": {},
   "outputs": [],
   "source": [
    "def training_model(variablesSelected,X_trained,y_train,X_test,y_test):\n",
    "    X_trained_aux = X_trained[variablesSelected].copy()\n",
    "    X_test_aux = X_test[variablesSelected].copy()\n",
    "    ## Regresion para cada cantidad de variables\n",
    "    model_to_return = {}\n",
    "    model_to_return['variableSelected'] = variablesSelected\n",
    "    \n",
    "    pipeline = Pipeline(steps = [('standarscaled',StandardScaler()),\n",
    "                                 ('xgboost',xgb.XGBRegressor(objective ='reg:squarederror'))])\n",
    "\n",
    "\n",
    "    # Train the model using the training sets\n",
    "    pipeline.fit(X_trained_aux,  y_train['yC'].values)\n",
    "\n",
    "    # Make predictions using the testing set\n",
    "    y_pred = pipeline.predict(X_test_aux)\n",
    "\n",
    "    y_pred = pd.DataFrame(y_pred, index=y_test.index, columns=[\"y_pred\"])\n",
    "    y_pred = np.round(y_pred)\n",
    "\n",
    "    total = y_pred.join(y_test)\n",
    "    total['y_igual_0'] = (total['yC'] == 0).astype(int)\n",
    "    total['y_pred_igual_0'] = (total['y_pred'] == 0).astype(int)\n",
    "    total['good_class'] = (total['y_igual_0']==total['y_pred_igual_0']).astype(int)\n",
    "    mse = mean_squared_error(y_test, y_pred)\n",
    "    accuray = accuracy_score(y_test, y_pred) #total['good_class'].sum()/len(total)\n",
    "    model_to_return['model'] = pipeline\n",
    "    model_to_return['mse_test'] = mse\n",
    "    model_to_return['accuray_test'] = accuray\n",
    "    return model_to_return"
   ]
  },
  {
   "cell_type": "markdown",
   "metadata": {},
   "source": [
    "## Modelo Final"
   ]
  },
  {
   "cell_type": "code",
   "execution_count": null,
   "metadata": {},
   "outputs": [],
   "source": [
    "variablesSelected = ['x4', 'x13', 'x25', 'x24', 'x27', 'x7', 'x14', 'x3', 'x2', 'x8', 'x22']"
   ]
  },
  {
   "cell_type": "code",
   "execution_count": null,
   "metadata": {},
   "outputs": [],
   "source": [
    "model_to_return = training_model(variablesSelected,X_train,y_train,X_test,y_test)"
   ]
  },
  {
   "cell_type": "code",
   "execution_count": null,
   "metadata": {},
   "outputs": [],
   "source": [
    "model_to_return"
   ]
  },
  {
   "cell_type": "code",
   "execution_count": null,
   "metadata": {},
   "outputs": [],
   "source": [
    "pickle.dump(model_to_return, open('modelCount.sav', 'wb'))"
   ]
  }
 ],
 "metadata": {
  "kernelspec": {
   "display_name": "Python 3",
   "language": "python",
   "name": "python3"
  },
  "language_info": {
   "codemirror_mode": {
    "name": "ipython",
    "version": 3
   },
   "file_extension": ".py",
   "mimetype": "text/x-python",
   "name": "python",
   "nbconvert_exporter": "python",
   "pygments_lexer": "ipython3",
   "version": "3.6.5"
  }
 },
 "nbformat": 4,
 "nbformat_minor": 2
}
