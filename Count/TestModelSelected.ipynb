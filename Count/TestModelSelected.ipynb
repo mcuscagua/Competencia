{
 "cells": [
  {
   "cell_type": "code",
   "execution_count": 73,
   "metadata": {},
   "outputs": [],
   "source": [
    "import pandas as pd\n",
    "import numpy as np\n",
    "from sklearn.model_selection import GridSearchCV,train_test_split\n",
    "from sklearn.preprocessing import StandardScaler\n",
    "from sklearn.linear_model import LinearRegression\n",
    "import matplotlib.pyplot as plt\n",
    "from sklearn.pipeline import Pipeline\n",
    "from sklearn.metrics import mean_squared_error, accuracy_score\n",
    "import xgboost as xgb\n",
    "import pickle"
   ]
  },
  {
   "cell_type": "code",
   "execution_count": 74,
   "metadata": {},
   "outputs": [],
   "source": [
    "path = 'count_train.csv'\n",
    "data = pd.read_csv(path, sep = ',', na_filter = False)\n",
    "\n",
    "X_train = data.drop(columns = ['yC']).copy()\n",
    "y_train = data[['yC']].copy()"
   ]
  },
  {
   "cell_type": "code",
   "execution_count": 75,
   "metadata": {},
   "outputs": [],
   "source": [
    "path = 'count_test.csv'\n",
    "test = pd.read_csv(path, sep = ',', na_filter = False)\n",
    "\n",
    "X_test = test.drop(columns = ['yC']).copy()\n",
    "y_test = test[['yC']].copy()"
   ]
  },
  {
   "cell_type": "code",
   "execution_count": 96,
   "metadata": {},
   "outputs": [],
   "source": [
    "def calculated_metrics(variablesSelected,X_trained_scaled,y_train,X_test_scaled,y_test):\n",
    "    X_trained_scaled_aux = X_trained_scaled[variablesSelected].copy()\n",
    "    X_test_scaled_aux = X_test_scaled[variablesSelected].copy()\n",
    "    regr = xgb.XGBRegressor(objective ='reg:squarederror')\n",
    "\n",
    "    # Train the model using the training sets\n",
    "    regr.fit(X_trained_scaled_aux,  y_train['yC'].values)\n",
    "\n",
    "    # Make predictions using the testing set\n",
    "    y_pred = regr.predict(X_test_scaled_aux)\n",
    "\n",
    "    y_pred = pd.DataFrame(y_pred, index=y_test.index, columns=[\"y_pred\"])\n",
    "    y_pred = np.round(y_pred)\n",
    "\n",
    "    total = y_pred.join(y_test)\n",
    "    total['y_igual_0'] = (total['yC'] == 0).astype(int)\n",
    "    total['y_pred_igual_0'] = (total['y_pred'] == 0).astype(int)\n",
    "    total['good_class'] = (total['y_igual_0']==total['y_pred_igual_0']).astype(int)\n",
    "    mse = mean_squared_error(y_test, y_pred)\n",
    "    accuray = accuracy_score(total['y_igual_0'], total['y_pred_igual_0']) \n",
    "    return mse,accuray"
   ]
  },
  {
   "cell_type": "code",
   "execution_count": 77,
   "metadata": {},
   "outputs": [],
   "source": [
    "modelToProof = [['x4', 'x13', 'x25', 'x24', 'x27', 'x7', 'x14', 'x3', 'x2', 'x8', 'x22']]"
   ]
  },
  {
   "cell_type": "code",
   "execution_count": 78,
   "metadata": {},
   "outputs": [],
   "source": [
    "standarscaler = StandardScaler()\n",
    "X_trained_scaled = standarscaler.fit_transform(X_train)\n",
    "X_trained_scaled = pd.DataFrame(X_trained_scaled, index=X_train.index, columns=X_train.columns.values)\n",
    "\n",
    "X_test_scaled = standarscaler.transform(X_test)\n",
    "\n",
    "X_test_scaled = pd.DataFrame(X_test_scaled, index=X_test.index, columns=X_test.columns.values)"
   ]
  },
  {
   "cell_type": "code",
   "execution_count": 95,
   "metadata": {},
   "outputs": [
    {
     "name": "stdout",
     "output_type": "stream",
     "text": [
      "0.6\n",
      "0.6\n"
     ]
    }
   ],
   "source": [
    "resultados = pd.DataFrame()\n",
    "for variablesSelected in modelToProof:\n",
    "    mse_aux,accuray_aux= calculated_metrics(variablesSelected,X_trained_scaled,y_train,X_test_scaled,y_test)\n",
    "    auxRes= pd.DataFrame({'Modelo': [variablesSelected], 'Median: Mean squared error': mse_aux, 'Median: Accuray': accuray_aux})\n",
    "    resultados = pd.concat([resultados,auxRes])"
   ]
  },
  {
   "cell_type": "code",
   "execution_count": 80,
   "metadata": {},
   "outputs": [
    {
     "data": {
      "text/html": [
       "<div>\n",
       "<style scoped>\n",
       "    .dataframe tbody tr th:only-of-type {\n",
       "        vertical-align: middle;\n",
       "    }\n",
       "\n",
       "    .dataframe tbody tr th {\n",
       "        vertical-align: top;\n",
       "    }\n",
       "\n",
       "    .dataframe thead th {\n",
       "        text-align: right;\n",
       "    }\n",
       "</style>\n",
       "<table border=\"1\" class=\"dataframe\">\n",
       "  <thead>\n",
       "    <tr style=\"text-align: right;\">\n",
       "      <th></th>\n",
       "      <th>Modelo</th>\n",
       "      <th>Median: Mean squared error</th>\n",
       "      <th>Median: Accuray</th>\n",
       "    </tr>\n",
       "  </thead>\n",
       "  <tbody>\n",
       "    <tr>\n",
       "      <th>0</th>\n",
       "      <td>[x4, x13, x25, x24, x27, x7, x14, x3, x2, x8, ...</td>\n",
       "      <td>1.066667</td>\n",
       "      <td>0.3</td>\n",
       "    </tr>\n",
       "  </tbody>\n",
       "</table>\n",
       "</div>"
      ],
      "text/plain": [
       "                                              Modelo  \\\n",
       "0  [x4, x13, x25, x24, x27, x7, x14, x3, x2, x8, ...   \n",
       "\n",
       "   Median: Mean squared error  Median: Accuray  \n",
       "0                    1.066667              0.3  "
      ]
     },
     "execution_count": 80,
     "metadata": {},
     "output_type": "execute_result"
    }
   ],
   "source": [
    "resultados.sort_values('Median: Mean squared error')"
   ]
  },
  {
   "cell_type": "code",
   "execution_count": 81,
   "metadata": {},
   "outputs": [],
   "source": [
    "def training_model(variablesSelected,X_trained,y_train,X_test,y_test):\n",
    "    X_trained_aux = X_trained[variablesSelected].copy()\n",
    "    X_test_aux = X_test[variablesSelected].copy()\n",
    "    ## Regresion para cada cantidad de variables\n",
    "    model_to_return = {}\n",
    "    model_to_return['variableSelected'] = variablesSelected\n",
    "    \n",
    "    pipeline = Pipeline(steps = [('standarscaled',StandardScaler()),\n",
    "                                 ('xgboost',xgb.XGBRegressor(objective ='reg:squarederror'))])\n",
    "\n",
    "\n",
    "    # Train the model using the training sets\n",
    "    pipeline.fit(X_trained_aux,  y_train['yC'].values)\n",
    "\n",
    "    # Make predictions using the testing set\n",
    "    y_pred = pipeline.predict(X_test_aux)\n",
    "\n",
    "    y_pred = pd.DataFrame(y_pred, index=y_test.index, columns=[\"y_pred\"])\n",
    "    y_pred = np.round(y_pred)\n",
    "\n",
    "    total = y_pred.join(y_test)\n",
    "    total['y_igual_0'] = (total['yC'] == 0).astype(int)\n",
    "    total['y_pred_igual_0'] = (total['y_pred'] == 0).astype(int)\n",
    "    total['good_class'] = (total['y_igual_0']==total['y_pred_igual_0']).astype(int)\n",
    "    mse = mean_squared_error(y_test, y_pred)\n",
    "    accuray = accuracy_score(y_test, y_pred) #total['good_class'].sum()/len(total)\n",
    "    model_to_return['model'] = pipeline\n",
    "    model_to_return['mse_test'] = mse\n",
    "    model_to_return['accuray_test'] = accuray\n",
    "    return model_to_return"
   ]
  },
  {
   "cell_type": "markdown",
   "metadata": {},
   "source": [
    "## Modelo Final"
   ]
  },
  {
   "cell_type": "code",
   "execution_count": 82,
   "metadata": {},
   "outputs": [],
   "source": [
    "variablesSelected = ['x4', 'x13', 'x25', 'x24', 'x27', 'x7', 'x14', 'x3', 'x2', 'x8', 'x22']"
   ]
  },
  {
   "cell_type": "code",
   "execution_count": 83,
   "metadata": {},
   "outputs": [],
   "source": [
    "model_to_return = training_model(variablesSelected,X_train,y_train,X_test,y_test)"
   ]
  },
  {
   "cell_type": "code",
   "execution_count": 84,
   "metadata": {},
   "outputs": [
    {
     "data": {
      "text/plain": [
       "{'variableSelected': ['x4',\n",
       "  'x13',\n",
       "  'x25',\n",
       "  'x24',\n",
       "  'x27',\n",
       "  'x7',\n",
       "  'x14',\n",
       "  'x3',\n",
       "  'x2',\n",
       "  'x8',\n",
       "  'x22'],\n",
       " 'model': Pipeline(memory=None,\n",
       "          steps=[('standarscaled',\n",
       "                  StandardScaler(copy=True, with_mean=True, with_std=True)),\n",
       "                 ('xgboost',\n",
       "                  XGBRegressor(base_score=0.5, booster='gbtree',\n",
       "                               colsample_bylevel=1, colsample_bynode=1,\n",
       "                               colsample_bytree=1, gamma=0,\n",
       "                               importance_type='gain', learning_rate=0.1,\n",
       "                               max_delta_step=0, max_depth=3, min_child_weight=1,\n",
       "                               missing=None, n_estimators=100, n_jobs=1,\n",
       "                               nthread=None, objective='reg:squarederror',\n",
       "                               random_state=0, reg_alpha=0, reg_lambda=1,\n",
       "                               scale_pos_weight=1, seed=None, silent=None,\n",
       "                               subsample=1, verbosity=1))],\n",
       "          verbose=False),\n",
       " 'mse_test': 1.0666666666666667,\n",
       " 'accuray_test': 0.3}"
      ]
     },
     "execution_count": 84,
     "metadata": {},
     "output_type": "execute_result"
    }
   ],
   "source": [
    "model_to_return"
   ]
  },
  {
   "cell_type": "code",
   "execution_count": 85,
   "metadata": {},
   "outputs": [],
   "source": [
    "pickle.dump(model_to_return, open('modelCount.sav', 'wb'))"
   ]
  }
 ],
 "metadata": {
  "kernelspec": {
   "display_name": "Python 3",
   "language": "python",
   "name": "python3"
  },
  "language_info": {
   "codemirror_mode": {
    "name": "ipython",
    "version": 3
   },
   "file_extension": ".py",
   "mimetype": "text/x-python",
   "name": "python",
   "nbconvert_exporter": "python",
   "pygments_lexer": "ipython3",
   "version": "3.7.3"
  }
 },
 "nbformat": 4,
 "nbformat_minor": 2
}
