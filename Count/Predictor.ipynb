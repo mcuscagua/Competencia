{
 "cells": [
  {
   "cell_type": "code",
   "execution_count": 47,
   "metadata": {},
   "outputs": [],
   "source": [
    "import pandas as pd\n",
    "import numpy as np\n",
    "import collections\n",
    "import seaborn as sns\n",
    "import matplotlib.pyplot as plt\n",
    "import itertools\n",
    "import operator\n",
    "\n",
    "from sklearn.model_selection import train_test_split\n",
    "from sklearn.metrics import accuracy_score, mean_squared_error\n",
    "\n",
    "from sklearn.tree import DecisionTreeRegressor\n",
    "from sklearn.ensemble import RandomForestRegressor\n",
    "\n",
    "from sklearn.feature_selection import SelectFromModel\n",
    "\n",
    "from sklearn.linear_model import RidgeCV, LassoCV, Ridge, Lasso, BayesianRidge\n",
    "from sklearn.linear_model import ElasticNet, Lars, LassoLars, Ridge, SGDRegressor\n",
    "\n",
    "from sklearn.linear_model import LinearRegression, RidgeCV, LassoCV, ElasticNetCV, LarsCV\n",
    "from sklearn.svm import SVC\n",
    "from sklearn.model_selection import GridSearchCV\n",
    "from sklearn.model_selection import train_test_split\n",
    "\n",
    "import patsy as pt\n",
    "import pymc3 as pm\n",
    "\n",
    "import time\n",
    "\n",
    "import warnings\n",
    "warnings.filterwarnings(\"ignore\")"
   ]
  },
  {
   "cell_type": "code",
   "execution_count": 14,
   "metadata": {},
   "outputs": [],
   "source": [
    "# Aux functions\n",
    "def to_stand(x):\n",
    "    return (x-np.mean(x))/np.std(x)\n",
    "\n",
    "def to_norm(x):\n",
    "    return (x-np.min(x))/(np.max(x)-np.min(x))\n",
    "\n",
    "# Parameters:\n",
    "\n",
    "Tech_Var = {\n",
    "    'estandarizar': ['x25', 'x22', 'x3', 'x32', 'x24'],\n",
    "    'normalizar': ['x25', 'x22', 'x32', 'x3', 'x24', 'x26', 'x4', 'x5', 'x27'],\n",
    "    'XGBOOST': ['x1', 'x8', 'x2', 'x21', 'x12', 'x10', 'x27', 'x23', 'x22', 'x11']\n",
    "}\n",
    "\n",
    "m_est = 'yC ~ x25 + x22 + x3 + x32 + x24'\n",
    "m_nor = 'yC ~ x25 + x22 + x32 + x3 + x24 + x26 + x4 + x5 + x27'\n",
    "m_XGB = 'yC ~ x1 + x8 + x2 + x21 + x12 + x10 + x27 + x23 + x22 + x11'\n",
    "\n",
    "Resultados = {\n",
    "    'estandarizar': [],\n",
    "    'normalizar': [],\n",
    "    'XGBOOST': []\n",
    "}"
   ]
  },
  {
   "cell_type": "code",
   "execution_count": 10,
   "metadata": {},
   "outputs": [],
   "source": [
    "Data = pd.read_csv('datacountstudents.csv')\n",
    "Data = Data.drop('id', axis = 1)\n",
    "\n",
    "Y = Data['yC']\n",
    "X = Data.drop('yC', axis = 1)"
   ]
  },
  {
   "cell_type": "code",
   "execution_count": null,
   "metadata": {},
   "outputs": [],
   "source": []
  },
  {
   "cell_type": "code",
   "execution_count": null,
   "metadata": {},
   "outputs": [],
   "source": [
    "for T,V in Tech_Var.items():\n",
    "    if T == 'estandarizar':\n",
    "        X = X.apply(to_stand)\n",
    "        X_es = X[V]\n",
    "        X_train, X_test, y_train, y_test = train_test_split(X_es,Y, test_size = 0.3, random_state = 0)\n",
    "        with pm.Model() as mdl_fish_alt:\n",
    "            pm.glm.GLM.from_formula(fml, df, family=pm.glm.families.Poisson())\n",
    "    if T == 'normalizar':\n",
    "        X = X.apply(to_norm)\n",
    "        \n",
    "    if T == 'XGBOOST':"
   ]
  },
  {
   "cell_type": "code",
   "execution_count": null,
   "metadata": {},
   "outputs": [],
   "source": []
  },
  {
   "cell_type": "code",
   "execution_count": null,
   "metadata": {},
   "outputs": [],
   "source": []
  },
  {
   "cell_type": "code",
   "execution_count": null,
   "metadata": {},
   "outputs": [],
   "source": []
  },
  {
   "cell_type": "code",
   "execution_count": null,
   "metadata": {},
   "outputs": [],
   "source": []
  },
  {
   "cell_type": "code",
   "execution_count": null,
   "metadata": {},
   "outputs": [],
   "source": []
  },
  {
   "cell_type": "code",
   "execution_count": 75,
   "metadata": {},
   "outputs": [
    {
     "name": "stdout",
     "output_type": "stream",
     "text": [
      "['x25', 'x22', 'x3', 'x32', 'x24']\n"
     ]
    },
    {
     "data": {
      "text/plain": [
       "1.3075555555555556"
      ]
     },
     "execution_count": 75,
     "metadata": {},
     "output_type": "execute_result"
    }
   ],
   "source": [
    "V = Tech_Var['estandarizar']\n",
    "print(V)\n",
    "X = X.apply(to_stand)\n",
    "X_es = X[V]\n",
    "X_train, X_test, y_train, y_test = train_test_split(X[V],Y, test_size = 0.3, random_state = 0)\n",
    "\n",
    "clasificador = RandomForestRegressor()\n",
    "clasificador.fit(X_train, y_train)\n",
    "y_pre = clasificador.predict(X_test)\n",
    "\n",
    "mean_squared_error(y_test, y_pre)"
   ]
  },
  {
   "cell_type": "code",
   "execution_count": 76,
   "metadata": {},
   "outputs": [
    {
     "name": "stdout",
     "output_type": "stream",
     "text": [
      "['x25', 'x22', 'x32', 'x3', 'x24', 'x26', 'x4', 'x5', 'x27']\n"
     ]
    },
    {
     "data": {
      "text/plain": [
       "1.4071111111111114"
      ]
     },
     "execution_count": 76,
     "metadata": {},
     "output_type": "execute_result"
    }
   ],
   "source": [
    "V = Tech_Var['normalizar']\n",
    "print(V)\n",
    "X = X.apply(to_stand)\n",
    "X_es = X[V]\n",
    "X_train, X_test, y_train, y_test = train_test_split(X[V],Y, test_size = 0.3, random_state = 0)\n",
    "\n",
    "clasificador = RandomForestRegressor()\n",
    "clasificador.fit(X_train, y_train)\n",
    "y_pre = clasificador.predict(X_test)\n",
    "\n",
    "mean_squared_error(y_test, y_pre)"
   ]
  },
  {
   "cell_type": "code",
   "execution_count": 77,
   "metadata": {},
   "outputs": [
    {
     "name": "stdout",
     "output_type": "stream",
     "text": [
      "['x1', 'x8', 'x2', 'x21', 'x12', 'x10', 'x27', 'x23', 'x22', 'x11']\n"
     ]
    },
    {
     "data": {
      "text/plain": [
       "2.0417777777777775"
      ]
     },
     "execution_count": 77,
     "metadata": {},
     "output_type": "execute_result"
    }
   ],
   "source": [
    "V = Tech_Var['XGBOOST']\n",
    "print(V)\n",
    "X = X.apply(to_stand)\n",
    "X_es = X[V]\n",
    "X_train, X_test, y_train, y_test = train_test_split(X[V],Y, test_size = 0.3, random_state = 0)\n",
    "\n",
    "clasificador = RandomForestRegressor()\n",
    "clasificador.fit(X_train, y_train)\n",
    "y_pre = clasificador.predict(X_test)\n",
    "\n",
    "mean_squared_error(y_test, y_pre)"
   ]
  },
  {
   "cell_type": "code",
   "execution_count": 70,
   "metadata": {},
   "outputs": [
    {
     "data": {
      "image/png": "[encoded data removed]",
      "text/plain": [
       "<Figure size 432x288 with 1 Axes>"
      ]
     },
     "metadata": {
      "needs_background": "light"
     },
     "output_type": "display_data"
    }
   ],
   "source": [
    "plt.figure()\n",
    "plt.scatter(Y, y_pre)\n",
    "plt.show()"
   ]
  },
  {
   "cell_type": "code",
   "execution_count": 43,
   "metadata": {},
   "outputs": [
    {
     "data": {
      "text/plain": [
       "['x25', 'x22', 'x32', 'x3', 'x24', 'x26', 'x4', 'x5', 'x27']"
      ]
     },
     "execution_count": 43,
     "metadata": {},
     "output_type": "execute_result"
    }
   ],
   "source": [
    "V"
   ]
  },
  {
   "cell_type": "code",
   "execution_count": 41,
   "metadata": {},
   "outputs": [],
   "source": [
    "T = 'normalizar'\n",
    "V = Tech_Var[T]"
   ]
  }
 ],
 "metadata": {
  "kernelspec": {
   "display_name": "Python 3",
   "language": "python",
   "name": "python3"
  },
  "language_info": {
   "codemirror_mode": {
    "name": "ipython",
    "version": 3
   },
   "file_extension": ".py",
   "mimetype": "text/x-python",
   "name": "python",
   "nbconvert_exporter": "python",
   "pygments_lexer": "ipython3",
   "version": "3.7.3"
  }
 },
 "nbformat": 4,
 "nbformat_minor": 2
}
