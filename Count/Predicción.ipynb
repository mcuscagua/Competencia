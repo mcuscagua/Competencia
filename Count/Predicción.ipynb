{
 "cells": [
  {
   "cell_type": "code",
   "execution_count": 1,
   "metadata": {},
   "outputs": [],
   "source": [
    "import pandas as pd\n",
    "import numpy as np\n",
    "from sklearn.linear_model import LogisticRegression\n",
    "from sklearn.preprocessing import StandardScaler\n",
    "from sklearn.metrics import roc_auc_score, mean_squared_error, accuracy_score\n",
    "import xgboost as xgb\n",
    "import time\n",
    "import random as rnd\n",
    "\n",
    "standarscaler = StandardScaler()\n",
    "\n",
    "import warnings\n",
    "warnings.filterwarnings(\"ignore\")"
   ]
  },
  {
   "cell_type": "code",
   "execution_count": 2,
   "metadata": {},
   "outputs": [],
   "source": [
    "TrainData = pd.read_csv('count_train.csv')\n",
    "X = TrainData.drop('yC', axis = 1)\n",
    "Y = TrainData['yC']\n",
    "\n",
    "Xs = standarscaler.fit_transform(X)\n",
    "Xs = pd.DataFrame(Xs, index=X.index, columns=X.columns.values)"
   ]
  },
  {
   "cell_type": "code",
   "execution_count": 3,
   "metadata": {},
   "outputs": [],
   "source": [
    "TestData = pd.read_csv('count_test.csv')\n",
    "Xt = TestData.drop('yC', axis = 1)\n",
    "Yt = TestData['yC']\n",
    "\n",
    "Xts = standarscaler.transform(Xt)\n",
    "Xts = pd.DataFrame(Xts, index=Xt.index, columns=Xt.columns.values)"
   ]
  },
  {
   "cell_type": "code",
   "execution_count": 4,
   "metadata": {},
   "outputs": [],
   "source": [
    "variables = []\n",
    "for i in range(1000000):\n",
    "    variables.append(rnd.sample(X.columns.values.tolist(), rnd.sample([x+1 for x in range(X.shape[1])],1)[0]))"
   ]
  },
  {
   "cell_type": "code",
   "execution_count": 5,
   "metadata": {
    "scrolled": true
   },
   "outputs": [
    {
     "name": "stdout",
     "output_type": "stream",
     "text": [
      "38837.91699504852\n"
     ]
    }
   ],
   "source": [
    "RMSE_List = []\n",
    "RMSE_List_round = []\n",
    "RMSE_List_floor = []\n",
    "RMSE_List_ceil = []\n",
    "start_time = time.time()\n",
    "for i in range(len(variables)):\n",
    "    xg_reg = xgb.XGBRegressor(objective ='reg:squarederror')\n",
    "    xg_reg.fit(Xs[variables[i]],Y)\n",
    "    preds = xg_reg.predict(Xts[variables[i]])\n",
    "    RMSE_List.append(np.sqrt(mean_squared_error(Yt, preds)))\n",
    "    RMSE_List_round.append(np.sqrt(mean_squared_error(Yt, np.round(preds))))\n",
    "    RMSE_List_floor.append(np.sqrt(mean_squared_error(Yt, np.floor(preds))))\n",
    "    RMSE_List_ceil.append(np.sqrt(mean_squared_error(Yt, np.ceil(preds))))\n",
    "elapsed_time = time.time() - start_time\n",
    "print(elapsed_time)"
   ]
  },
  {
   "cell_type": "code",
   "execution_count": 6,
   "metadata": {
    "scrolled": true
   },
   "outputs": [
    {
     "name": "stdout",
     "output_type": "stream",
     "text": [
      "1.054253958111228\n",
      "1.0327955589886444\n",
      "1.1690451944500122\n",
      "1.1105554165971787\n"
     ]
    }
   ],
   "source": [
    "print(min(RMSE_List))\n",
    "print(min(RMSE_List_round))\n",
    "print(min(RMSE_List_floor))\n",
    "print(min(RMSE_List_ceil))"
   ]
  },
  {
   "cell_type": "code",
   "execution_count": 47,
   "metadata": {},
   "outputs": [
    {
     "data": {
      "text/plain": [
       "['x4', 'x13', 'x25', 'x24', 'x27', 'x7', 'x14', 'x3', 'x2', 'x8', 'x22']"
      ]
     },
     "execution_count": 47,
     "metadata": {},
     "output_type": "execute_result"
    }
   ],
   "source": [
    "chosen = np.array(variables)[RMSE_List_round == min(RMSE_List_round)]\n",
    "chosen = chosen.tolist()[0]\n",
    "chosen"
   ]
  },
  {
   "cell_type": "code",
   "execution_count": 46,
   "metadata": {},
   "outputs": [
    {
     "data": {
      "text/plain": [
       "1.0327955589886444"
      ]
     },
     "execution_count": 46,
     "metadata": {},
     "output_type": "execute_result"
    }
   ],
   "source": [
    "xg_reg2 = xgb.XGBRegressor(objective ='reg:squarederror')\n",
    "xg_reg2.fit(Xs[chosen],Y)\n",
    "preds2 = xg_reg2.predict(Xts[chosen])\n",
    "np.sqrt(mean_squared_error(Yt, np.round(preds2)))"
   ]
  },
  {
   "cell_type": "code",
   "execution_count": 50,
   "metadata": {},
   "outputs": [
    {
     "data": {
      "text/plain": [
       "array([1., 2., 1., 1., 1., 1., 1., 1., 1., 1., 2., 0., 1., 0., 1., 2., 1.,\n",
       "       1., 3., 2., 2., 1., 1., 0., 1., 1., 4., 1., 1., 1.], dtype=float32)"
      ]
     },
     "execution_count": 50,
     "metadata": {},
     "output_type": "execute_result"
    }
   ],
   "source": [
    "np.round(preds2)"
   ]
  },
  {
   "cell_type": "code",
   "execution_count": 52,
   "metadata": {},
   "outputs": [
    {
     "data": {
      "text/plain": [
       "array([0, 2, 2, 2, 0, 1, 0, 0, 1, 0, 4, 0, 1, 1, 0, 1, 2, 2, 3, 2, 3, 0,\n",
       "       0, 0, 0, 2, 7, 0, 0, 1], dtype=int64)"
      ]
     },
     "execution_count": 52,
     "metadata": {},
     "output_type": "execute_result"
    }
   ],
   "source": [
    "Yt.values"
   ]
  }
 ],
 "metadata": {
  "kernelspec": {
   "display_name": "Python 3",
   "language": "python",
   "name": "python3"
  },
  "language_info": {
   "codemirror_mode": {
    "name": "ipython",
    "version": 3
   },
   "file_extension": ".py",
   "mimetype": "text/x-python",
   "name": "python",
   "nbconvert_exporter": "python",
   "pygments_lexer": "ipython3",
   "version": "3.7.3"
  }
 },
 "nbformat": 4,
 "nbformat_minor": 2
}
