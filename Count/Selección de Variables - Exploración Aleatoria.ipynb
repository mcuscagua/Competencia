{
 "cells": [
  {
   "cell_type": "code",
   "execution_count": 1,
   "metadata": {},
   "outputs": [],
   "source": [
    "import pandas as pd\n",
    "import numpy as np\n",
    "from sklearn.linear_model import LogisticRegression\n",
    "from sklearn.preprocessing import StandardScaler\n",
    "from sklearn.metrics import roc_auc_score, mean_squared_error, accuracy_score\n",
    "import xgboost as xgb\n",
    "import time\n",
    "import random as rnd\n",
    "\n",
    "standarscaler = StandardScaler()\n",
    "\n",
    "import warnings\n",
    "warnings.filterwarnings(\"ignore\")"
   ]
  },
  {
   "cell_type": "code",
   "execution_count": 2,
   "metadata": {},
   "outputs": [],
   "source": [
    "TrainData = pd.read_csv('count_train.csv')\n",
    "X = TrainData.drop('yC', axis = 1)\n",
    "Y = TrainData['yC']\n",
    "\n",
    "Xs = standarscaler.fit_transform(X)\n",
    "Xs = pd.DataFrame(Xs, index=X.index, columns=X.columns.values)"
   ]
  },
  {
   "cell_type": "code",
   "execution_count": 3,
   "metadata": {},
   "outputs": [],
   "source": [
    "TestData = pd.read_csv('count_test.csv')\n",
    "Xt = TestData.drop('yC', axis = 1)\n",
    "Yt = TestData['yC']\n",
    "\n",
    "Xts = standarscaler.transform(Xt)\n",
    "Xts = pd.DataFrame(Xts, index=Xt.index, columns=Xt.columns.values)"
   ]
  },
  {
   "cell_type": "code",
   "execution_count": 4,
   "metadata": {},
   "outputs": [],
   "source": [
    "variables = []\n",
    "for i in range(2000000):\n",
    "    variables.append(rnd.sample(X.columns.values.tolist(), rnd.sample([x+1 for x in range(X.shape[1])],1)[0]))"
   ]
  },
  {
   "cell_type": "code",
   "execution_count": 5,
   "metadata": {
    "scrolled": true
   },
   "outputs": [
    {
     "name": "stdout",
     "output_type": "stream",
     "text": [
      "38069.71945095062\n"
     ]
    }
   ],
   "source": [
    "RMSE_List = []\n",
    "RMSE_List_round = []\n",
    "RMSE_List_floor = []\n",
    "RMSE_List_ceil = []\n",
    "start_time = time.time()\n",
    "for i in range(len(variables)):\n",
    "    xg_reg = xgb.XGBRegressor(objective ='reg:squarederror')\n",
    "    xg_reg.fit(Xs[variables[i]],Y)\n",
    "    preds = xg_reg.predict(Xts[variables[i]])\n",
    "    RMSE_List.append(np.sqrt(mean_squared_error(Yt, preds)))\n",
    "    RMSE_List_round.append(np.sqrt(mean_squared_error(Yt, np.round(preds))))\n",
    "    RMSE_List_floor.append(np.sqrt(mean_squared_error(Yt, np.floor(preds))))\n",
    "    RMSE_List_ceil.append(np.sqrt(mean_squared_error(Yt, np.ceil(preds))))\n",
    "elapsed_time = time.time() - start_time\n",
    "print(elapsed_time)"
   ]
  },
  {
   "cell_type": "code",
   "execution_count": 6,
   "metadata": {
    "scrolled": true
   },
   "outputs": [
    {
     "name": "stdout",
     "output_type": "stream",
     "text": [
      "1.0424107649770924\n",
      "1.0165300454651272\n",
      "1.0954451150103321\n",
      "1.1105554165971787\n"
     ]
    }
   ],
   "source": [
    "print(min(RMSE_List))\n",
    "print(min(RMSE_List_round))\n",
    "print(min(RMSE_List_floor))\n",
    "print(min(RMSE_List_ceil))"
   ]
  },
  {
   "cell_type": "code",
   "execution_count": 13,
   "metadata": {},
   "outputs": [
    {
     "data": {
      "text/plain": [
       "[array([list(['x24', 'x29', 'x25', 'x7', 'x22', 'x4', 'x13', 'x18', 'x26', 'x9', 'x3', 'x30', 'x16', 'x19', 'x27', 'x8', 'x14']),\n",
       "        list(['x8', 'x27', 'x3', 'x17', 'x22', 'x13', 'x24', 'x2', 'x25', 'x7', 'x4', 'x14'])],\n",
       "       dtype=object),\n",
       " array([list(['x24', 'x29', 'x25', 'x7', 'x22', 'x4', 'x13', 'x18', 'x26', 'x9', 'x3', 'x30', 'x16', 'x19', 'x27', 'x8', 'x14']),\n",
       "        list(['x8', 'x27', 'x3', 'x17', 'x22', 'x13', 'x24', 'x2', 'x25', 'x7', 'x4', 'x14'])],\n",
       "       dtype=object),\n",
       " array([list(['x16', 'x18', 'x8', 'x3', 'x30', 'x24', 'x9', 'x25', 'x13', 'x19', 'x14', 'x28', 'x2', 'x22'])],\n",
       "       dtype=object),\n",
       " array([list(['x5', 'x14', 'x24', 'x27', 'x22', 'x26', 'x18', 'x9', 'x8', 'x25', 'x16', 'x13', 'x3']),\n",
       "        list(['x25', 'x13', 'x3', 'x7', 'x20', 'x22', 'x9', 'x14', 'x28', 'x24']),\n",
       "        list(['x15', 'x24', 'x20', 'x27', 'x6', 'x25', 'x3', 'x28', 'x17', 'x18', 'x9', 'x7', 'x5']),\n",
       "        list(['x2', 'x28', 'x4', 'x26', 'x13'])], dtype=object),\n",
       " array([list(['x5', 'x14', 'x24', 'x27', 'x22', 'x26', 'x18', 'x9', 'x8', 'x25', 'x16', 'x13', 'x3']),\n",
       "        list(['x25', 'x13', 'x3', 'x7', 'x20', 'x22', 'x9', 'x14', 'x28', 'x24']),\n",
       "        list(['x15', 'x24', 'x20', 'x27', 'x6', 'x25', 'x3', 'x28', 'x17', 'x18', 'x9', 'x7', 'x5']),\n",
       "        list(['x2', 'x28', 'x4', 'x26', 'x13'])], dtype=object),\n",
       " array([list(['x5', 'x14', 'x24', 'x27', 'x22', 'x26', 'x18', 'x9', 'x8', 'x25', 'x16', 'x13', 'x3']),\n",
       "        list(['x25', 'x13', 'x3', 'x7', 'x20', 'x22', 'x9', 'x14', 'x28', 'x24']),\n",
       "        list(['x15', 'x24', 'x20', 'x27', 'x6', 'x25', 'x3', 'x28', 'x17', 'x18', 'x9', 'x7', 'x5']),\n",
       "        list(['x2', 'x28', 'x4', 'x26', 'x13'])], dtype=object),\n",
       " array([list(['x5', 'x14', 'x24', 'x27', 'x22', 'x26', 'x18', 'x9', 'x8', 'x25', 'x16', 'x13', 'x3']),\n",
       "        list(['x25', 'x13', 'x3', 'x7', 'x20', 'x22', 'x9', 'x14', 'x28', 'x24']),\n",
       "        list(['x15', 'x24', 'x20', 'x27', 'x6', 'x25', 'x3', 'x28', 'x17', 'x18', 'x9', 'x7', 'x5']),\n",
       "        list(['x2', 'x28', 'x4', 'x26', 'x13'])], dtype=object),\n",
       " array([list(['x19', 'x15', 'x3', 'x17', 'x24', 'x9', 'x30', 'x25', 'x22', 'x4', 'x6', 'x28', 'x14', 'x13']),\n",
       "        list(['x26', 'x9', 'x18', 'x1', 'x20', 'x27', 'x30', 'x2', 'x7', 'x14', 'x4', 'x13', 'x28', 'x5', 'x22']),\n",
       "        list(['x3', 'x24', 'x13', 'x17', 'x25', 'x8', 'x20', 'x14', 'x30', 'x6'])],\n",
       "       dtype=object),\n",
       " array([list(['x19', 'x15', 'x3', 'x17', 'x24', 'x9', 'x30', 'x25', 'x22', 'x4', 'x6', 'x28', 'x14', 'x13']),\n",
       "        list(['x26', 'x9', 'x18', 'x1', 'x20', 'x27', 'x30', 'x2', 'x7', 'x14', 'x4', 'x13', 'x28', 'x5', 'x22']),\n",
       "        list(['x3', 'x24', 'x13', 'x17', 'x25', 'x8', 'x20', 'x14', 'x30', 'x6'])],\n",
       "       dtype=object),\n",
       " array([list(['x19', 'x15', 'x3', 'x17', 'x24', 'x9', 'x30', 'x25', 'x22', 'x4', 'x6', 'x28', 'x14', 'x13']),\n",
       "        list(['x26', 'x9', 'x18', 'x1', 'x20', 'x27', 'x30', 'x2', 'x7', 'x14', 'x4', 'x13', 'x28', 'x5', 'x22']),\n",
       "        list(['x3', 'x24', 'x13', 'x17', 'x25', 'x8', 'x20', 'x14', 'x30', 'x6'])],\n",
       "       dtype=object),\n",
       " array([list(['x8', 'x25', 'x19', 'x2', 'x7', 'x30', 'x27', 'x17', 'x26', 'x24', 'x3', 'x5']),\n",
       "        list(['x2', 'x6', 'x26', 'x13', 'x8', 'x25', 'x27', 'x7', 'x11', 'x14', 'x24', 'x15', 'x19', 'x9', 'x3', 'x30']),\n",
       "        list(['x28', 'x4', 'x30', 'x5', 'x15', 'x26', 'x20', 'x27']),\n",
       "        list(['x24', 'x28', 'x9', 'x5', 'x14', 'x2', 'x22', 'x25']),\n",
       "        list(['x13', 'x14', 'x24', 'x22', 'x28', 'x26', 'x17', 'x15', 'x18', 'x9', 'x7', 'x30', 'x4', 'x25', 'x3', 'x2', 'x6', 'x20', 'x19', 'x1']),\n",
       "        list(['x14', 'x19', 'x2', 'x25', 'x16', 'x15', 'x20', 'x26', 'x18', 'x24', 'x11', 'x9', 'x8', 'x7', 'x3', 'x29', 'x17', 'x27', 'x30', 'x22'])],\n",
       "       dtype=object),\n",
       " array([list(['x8', 'x25', 'x19', 'x2', 'x7', 'x30', 'x27', 'x17', 'x26', 'x24', 'x3', 'x5']),\n",
       "        list(['x2', 'x6', 'x26', 'x13', 'x8', 'x25', 'x27', 'x7', 'x11', 'x14', 'x24', 'x15', 'x19', 'x9', 'x3', 'x30']),\n",
       "        list(['x28', 'x4', 'x30', 'x5', 'x15', 'x26', 'x20', 'x27']),\n",
       "        list(['x24', 'x28', 'x9', 'x5', 'x14', 'x2', 'x22', 'x25']),\n",
       "        list(['x13', 'x14', 'x24', 'x22', 'x28', 'x26', 'x17', 'x15', 'x18', 'x9', 'x7', 'x30', 'x4', 'x25', 'x3', 'x2', 'x6', 'x20', 'x19', 'x1']),\n",
       "        list(['x14', 'x19', 'x2', 'x25', 'x16', 'x15', 'x20', 'x26', 'x18', 'x24', 'x11', 'x9', 'x8', 'x7', 'x3', 'x29', 'x17', 'x27', 'x30', 'x22'])],\n",
       "       dtype=object),\n",
       " array([list(['x8', 'x25', 'x19', 'x2', 'x7', 'x30', 'x27', 'x17', 'x26', 'x24', 'x3', 'x5']),\n",
       "        list(['x2', 'x6', 'x26', 'x13', 'x8', 'x25', 'x27', 'x7', 'x11', 'x14', 'x24', 'x15', 'x19', 'x9', 'x3', 'x30']),\n",
       "        list(['x28', 'x4', 'x30', 'x5', 'x15', 'x26', 'x20', 'x27']),\n",
       "        list(['x24', 'x28', 'x9', 'x5', 'x14', 'x2', 'x22', 'x25']),\n",
       "        list(['x13', 'x14', 'x24', 'x22', 'x28', 'x26', 'x17', 'x15', 'x18', 'x9', 'x7', 'x30', 'x4', 'x25', 'x3', 'x2', 'x6', 'x20', 'x19', 'x1']),\n",
       "        list(['x14', 'x19', 'x2', 'x25', 'x16', 'x15', 'x20', 'x26', 'x18', 'x24', 'x11', 'x9', 'x8', 'x7', 'x3', 'x29', 'x17', 'x27', 'x30', 'x22'])],\n",
       "       dtype=object),\n",
       " array([list(['x8', 'x25', 'x19', 'x2', 'x7', 'x30', 'x27', 'x17', 'x26', 'x24', 'x3', 'x5']),\n",
       "        list(['x2', 'x6', 'x26', 'x13', 'x8', 'x25', 'x27', 'x7', 'x11', 'x14', 'x24', 'x15', 'x19', 'x9', 'x3', 'x30']),\n",
       "        list(['x28', 'x4', 'x30', 'x5', 'x15', 'x26', 'x20', 'x27']),\n",
       "        list(['x24', 'x28', 'x9', 'x5', 'x14', 'x2', 'x22', 'x25']),\n",
       "        list(['x13', 'x14', 'x24', 'x22', 'x28', 'x26', 'x17', 'x15', 'x18', 'x9', 'x7', 'x30', 'x4', 'x25', 'x3', 'x2', 'x6', 'x20', 'x19', 'x1']),\n",
       "        list(['x14', 'x19', 'x2', 'x25', 'x16', 'x15', 'x20', 'x26', 'x18', 'x24', 'x11', 'x9', 'x8', 'x7', 'x3', 'x29', 'x17', 'x27', 'x30', 'x22'])],\n",
       "       dtype=object),\n",
       " array([list(['x8', 'x25', 'x19', 'x2', 'x7', 'x30', 'x27', 'x17', 'x26', 'x24', 'x3', 'x5']),\n",
       "        list(['x2', 'x6', 'x26', 'x13', 'x8', 'x25', 'x27', 'x7', 'x11', 'x14', 'x24', 'x15', 'x19', 'x9', 'x3', 'x30']),\n",
       "        list(['x28', 'x4', 'x30', 'x5', 'x15', 'x26', 'x20', 'x27']),\n",
       "        list(['x24', 'x28', 'x9', 'x5', 'x14', 'x2', 'x22', 'x25']),\n",
       "        list(['x13', 'x14', 'x24', 'x22', 'x28', 'x26', 'x17', 'x15', 'x18', 'x9', 'x7', 'x30', 'x4', 'x25', 'x3', 'x2', 'x6', 'x20', 'x19', 'x1']),\n",
       "        list(['x14', 'x19', 'x2', 'x25', 'x16', 'x15', 'x20', 'x26', 'x18', 'x24', 'x11', 'x9', 'x8', 'x7', 'x3', 'x29', 'x17', 'x27', 'x30', 'x22'])],\n",
       "       dtype=object),\n",
       " array([list(['x8', 'x25', 'x19', 'x2', 'x7', 'x30', 'x27', 'x17', 'x26', 'x24', 'x3', 'x5']),\n",
       "        list(['x2', 'x6', 'x26', 'x13', 'x8', 'x25', 'x27', 'x7', 'x11', 'x14', 'x24', 'x15', 'x19', 'x9', 'x3', 'x30']),\n",
       "        list(['x28', 'x4', 'x30', 'x5', 'x15', 'x26', 'x20', 'x27']),\n",
       "        list(['x24', 'x28', 'x9', 'x5', 'x14', 'x2', 'x22', 'x25']),\n",
       "        list(['x13', 'x14', 'x24', 'x22', 'x28', 'x26', 'x17', 'x15', 'x18', 'x9', 'x7', 'x30', 'x4', 'x25', 'x3', 'x2', 'x6', 'x20', 'x19', 'x1']),\n",
       "        list(['x14', 'x19', 'x2', 'x25', 'x16', 'x15', 'x20', 'x26', 'x18', 'x24', 'x11', 'x9', 'x8', 'x7', 'x3', 'x29', 'x17', 'x27', 'x30', 'x22'])],\n",
       "       dtype=object),\n",
       " array([list(['x21', 'x18', 'x3', 'x5', 'x22', 'x14', 'x9', 'x29', 'x25', 'x20', 'x1', 'x26', 'x30', 'x15', 'x28', 'x6', 'x16', 'x4', 'x7']),\n",
       "        list(['x28', 'x3', 'x24', 'x7', 'x29']),\n",
       "        list(['x8', 'x9', 'x3', 'x28', 'x30', 'x15', 'x26', 'x16', 'x19', 'x29', 'x25']),\n",
       "        list(['x3', 'x14', 'x30', 'x24', 'x8', 'x25', 'x20', 'x4', 'x17']),\n",
       "        list(['x9', 'x27', 'x8', 'x15', 'x3', 'x4', 'x1', 'x14', 'x28', 'x20', 'x18', 'x24', 'x5', 'x2', 'x25']),\n",
       "        list(['x24', 'x2', 'x3', 'x6', 'x30', 'x16', 'x22', 'x25', 'x28', 'x5', 'x13']),\n",
       "        list(['x24', 'x19', 'x25', 'x8', 'x28', 'x5', 'x3', 'x2', 'x17', 'x14', 'x16']),\n",
       "        list(['x4', 'x20', 'x13', 'x26', 'x17', 'x29', 'x5', 'x14', 'x2']),\n",
       "        list(['x14', 'x17', 'x28', 'x9', 'x13', 'x6', 'x24', 'x29', 'x27', 'x18', 'x25', 'x3', 'x5', 'x15']),\n",
       "        list(['x2', 'x7', 'x26', 'x20', 'x4', 'x28', 'x19', 'x13']),\n",
       "        list(['x13', 'x3', 'x30', 'x8', 'x24', 'x4', 'x18', 'x17', 'x21', 'x25', 'x16', 'x6', 'x12', 'x14', 'x26', 'x27']),\n",
       "        list(['x19', 'x5', 'x18', 'x24', 'x7', 'x22', 'x28', 'x27', 'x13', 'x14', 'x26', 'x20', 'x25', 'x3', 'x2', 'x17']),\n",
       "        list(['x28', 'x15', 'x3', 'x25', 'x14', 'x9', 'x6', 'x24']),\n",
       "        list(['x26', 'x4', 'x19', 'x24', 'x18', 'x30', 'x16', 'x29', 'x2', 'x28', 'x13', 'x8', 'x7', 'x27', 'x3', 'x14', 'x5', 'x15', 'x17', 'x25', 'x6', 'x9', 'x22'])],\n",
       "       dtype=object),\n",
       " array([list(['x21', 'x18', 'x3', 'x5', 'x22', 'x14', 'x9', 'x29', 'x25', 'x20', 'x1', 'x26', 'x30', 'x15', 'x28', 'x6', 'x16', 'x4', 'x7']),\n",
       "        list(['x28', 'x3', 'x24', 'x7', 'x29']),\n",
       "        list(['x8', 'x9', 'x3', 'x28', 'x30', 'x15', 'x26', 'x16', 'x19', 'x29', 'x25']),\n",
       "        list(['x3', 'x14', 'x30', 'x24', 'x8', 'x25', 'x20', 'x4', 'x17']),\n",
       "        list(['x9', 'x27', 'x8', 'x15', 'x3', 'x4', 'x1', 'x14', 'x28', 'x20', 'x18', 'x24', 'x5', 'x2', 'x25']),\n",
       "        list(['x24', 'x2', 'x3', 'x6', 'x30', 'x16', 'x22', 'x25', 'x28', 'x5', 'x13']),\n",
       "        list(['x24', 'x19', 'x25', 'x8', 'x28', 'x5', 'x3', 'x2', 'x17', 'x14', 'x16']),\n",
       "        list(['x4', 'x20', 'x13', 'x26', 'x17', 'x29', 'x5', 'x14', 'x2']),\n",
       "        list(['x14', 'x17', 'x28', 'x9', 'x13', 'x6', 'x24', 'x29', 'x27', 'x18', 'x25', 'x3', 'x5', 'x15']),\n",
       "        list(['x2', 'x7', 'x26', 'x20', 'x4', 'x28', 'x19', 'x13']),\n",
       "        list(['x13', 'x3', 'x30', 'x8', 'x24', 'x4', 'x18', 'x17', 'x21', 'x25', 'x16', 'x6', 'x12', 'x14', 'x26', 'x27']),\n",
       "        list(['x19', 'x5', 'x18', 'x24', 'x7', 'x22', 'x28', 'x27', 'x13', 'x14', 'x26', 'x20', 'x25', 'x3', 'x2', 'x17']),\n",
       "        list(['x28', 'x15', 'x3', 'x25', 'x14', 'x9', 'x6', 'x24']),\n",
       "        list(['x26', 'x4', 'x19', 'x24', 'x18', 'x30', 'x16', 'x29', 'x2', 'x28', 'x13', 'x8', 'x7', 'x27', 'x3', 'x14', 'x5', 'x15', 'x17', 'x25', 'x6', 'x9', 'x22'])],\n",
       "       dtype=object),\n",
       " array([list(['x21', 'x18', 'x3', 'x5', 'x22', 'x14', 'x9', 'x29', 'x25', 'x20', 'x1', 'x26', 'x30', 'x15', 'x28', 'x6', 'x16', 'x4', 'x7']),\n",
       "        list(['x28', 'x3', 'x24', 'x7', 'x29']),\n",
       "        list(['x8', 'x9', 'x3', 'x28', 'x30', 'x15', 'x26', 'x16', 'x19', 'x29', 'x25']),\n",
       "        list(['x3', 'x14', 'x30', 'x24', 'x8', 'x25', 'x20', 'x4', 'x17']),\n",
       "        list(['x9', 'x27', 'x8', 'x15', 'x3', 'x4', 'x1', 'x14', 'x28', 'x20', 'x18', 'x24', 'x5', 'x2', 'x25']),\n",
       "        list(['x24', 'x2', 'x3', 'x6', 'x30', 'x16', 'x22', 'x25', 'x28', 'x5', 'x13']),\n",
       "        list(['x24', 'x19', 'x25', 'x8', 'x28', 'x5', 'x3', 'x2', 'x17', 'x14', 'x16']),\n",
       "        list(['x4', 'x20', 'x13', 'x26', 'x17', 'x29', 'x5', 'x14', 'x2']),\n",
       "        list(['x14', 'x17', 'x28', 'x9', 'x13', 'x6', 'x24', 'x29', 'x27', 'x18', 'x25', 'x3', 'x5', 'x15']),\n",
       "        list(['x2', 'x7', 'x26', 'x20', 'x4', 'x28', 'x19', 'x13']),\n",
       "        list(['x13', 'x3', 'x30', 'x8', 'x24', 'x4', 'x18', 'x17', 'x21', 'x25', 'x16', 'x6', 'x12', 'x14', 'x26', 'x27']),\n",
       "        list(['x19', 'x5', 'x18', 'x24', 'x7', 'x22', 'x28', 'x27', 'x13', 'x14', 'x26', 'x20', 'x25', 'x3', 'x2', 'x17']),\n",
       "        list(['x28', 'x15', 'x3', 'x25', 'x14', 'x9', 'x6', 'x24']),\n",
       "        list(['x26', 'x4', 'x19', 'x24', 'x18', 'x30', 'x16', 'x29', 'x2', 'x28', 'x13', 'x8', 'x7', 'x27', 'x3', 'x14', 'x5', 'x15', 'x17', 'x25', 'x6', 'x9', 'x22'])],\n",
       "       dtype=object),\n",
       " array([list(['x21', 'x18', 'x3', 'x5', 'x22', 'x14', 'x9', 'x29', 'x25', 'x20', 'x1', 'x26', 'x30', 'x15', 'x28', 'x6', 'x16', 'x4', 'x7']),\n",
       "        list(['x28', 'x3', 'x24', 'x7', 'x29']),\n",
       "        list(['x8', 'x9', 'x3', 'x28', 'x30', 'x15', 'x26', 'x16', 'x19', 'x29', 'x25']),\n",
       "        list(['x3', 'x14', 'x30', 'x24', 'x8', 'x25', 'x20', 'x4', 'x17']),\n",
       "        list(['x9', 'x27', 'x8', 'x15', 'x3', 'x4', 'x1', 'x14', 'x28', 'x20', 'x18', 'x24', 'x5', 'x2', 'x25']),\n",
       "        list(['x24', 'x2', 'x3', 'x6', 'x30', 'x16', 'x22', 'x25', 'x28', 'x5', 'x13']),\n",
       "        list(['x24', 'x19', 'x25', 'x8', 'x28', 'x5', 'x3', 'x2', 'x17', 'x14', 'x16']),\n",
       "        list(['x4', 'x20', 'x13', 'x26', 'x17', 'x29', 'x5', 'x14', 'x2']),\n",
       "        list(['x14', 'x17', 'x28', 'x9', 'x13', 'x6', 'x24', 'x29', 'x27', 'x18', 'x25', 'x3', 'x5', 'x15']),\n",
       "        list(['x2', 'x7', 'x26', 'x20', 'x4', 'x28', 'x19', 'x13']),\n",
       "        list(['x13', 'x3', 'x30', 'x8', 'x24', 'x4', 'x18', 'x17', 'x21', 'x25', 'x16', 'x6', 'x12', 'x14', 'x26', 'x27']),\n",
       "        list(['x19', 'x5', 'x18', 'x24', 'x7', 'x22', 'x28', 'x27', 'x13', 'x14', 'x26', 'x20', 'x25', 'x3', 'x2', 'x17']),\n",
       "        list(['x28', 'x15', 'x3', 'x25', 'x14', 'x9', 'x6', 'x24']),\n",
       "        list(['x26', 'x4', 'x19', 'x24', 'x18', 'x30', 'x16', 'x29', 'x2', 'x28', 'x13', 'x8', 'x7', 'x27', 'x3', 'x14', 'x5', 'x15', 'x17', 'x25', 'x6', 'x9', 'x22'])],\n",
       "       dtype=object)]"
      ]
     },
     "execution_count": 13,
     "metadata": {},
     "output_type": "execute_result"
    }
   ],
   "source": [
    "top = np.sort(RMSE_List_round)[0:20]\n",
    "chosen = []\n",
    "\n",
    "for t in top:\n",
    "    chosen.append(np.array(variables)[RMSE_List_round == t])\n",
    "\n",
    "chosen"
   ]
  },
  {
   "cell_type": "code",
   "execution_count": 47,
   "metadata": {},
   "outputs": [
    {
     "data": {
      "text/plain": [
       "['x4', 'x13', 'x25', 'x24', 'x27', 'x7', 'x14', 'x3', 'x2', 'x8', 'x22']"
      ]
     },
     "execution_count": 47,
     "metadata": {},
     "output_type": "execute_result"
    }
   ],
   "source": [
    "chosen = np.array(variables)[RMSE_List_round == min(RMSE_List_round)]\n",
    "chosen = chosen.tolist()[0]\n",
    "chosen"
   ]
  },
  {
   "cell_type": "code",
   "execution_count": 46,
   "metadata": {},
   "outputs": [
    {
     "data": {
      "text/plain": [
       "1.0327955589886444"
      ]
     },
     "execution_count": 46,
     "metadata": {},
     "output_type": "execute_result"
    }
   ],
   "source": [
    "xg_reg2 = xgb.XGBRegressor(objective ='reg:squarederror')\n",
    "xg_reg2.fit(Xs[chosen],Y)\n",
    "preds2 = xg_reg2.predict(Xts[chosen])\n",
    "np.sqrt(mean_squared_error(Yt, np.round(preds2)))"
   ]
  },
  {
   "cell_type": "code",
   "execution_count": 50,
   "metadata": {},
   "outputs": [
    {
     "data": {
      "text/plain": [
       "array([1., 2., 1., 1., 1., 1., 1., 1., 1., 1., 2., 0., 1., 0., 1., 2., 1.,\n",
       "       1., 3., 2., 2., 1., 1., 0., 1., 1., 4., 1., 1., 1.], dtype=float32)"
      ]
     },
     "execution_count": 50,
     "metadata": {},
     "output_type": "execute_result"
    }
   ],
   "source": [
    "np.round(preds2)"
   ]
  },
  {
   "cell_type": "code",
   "execution_count": 52,
   "metadata": {},
   "outputs": [
    {
     "data": {
      "text/plain": [
       "array([0, 2, 2, 2, 0, 1, 0, 0, 1, 0, 4, 0, 1, 1, 0, 1, 2, 2, 3, 2, 3, 0,\n",
       "       0, 0, 0, 2, 7, 0, 0, 1], dtype=int64)"
      ]
     },
     "execution_count": 52,
     "metadata": {},
     "output_type": "execute_result"
    }
   ],
   "source": [
    "Yt.values"
   ]
  }
 ],
 "metadata": {
  "kernelspec": {
   "display_name": "Python 3",
   "language": "python",
   "name": "python3"
  },
  "language_info": {
   "codemirror_mode": {
    "name": "ipython",
    "version": 3
   },
   "file_extension": ".py",
   "mimetype": "text/x-python",
   "name": "python",
   "nbconvert_exporter": "python",
   "pygments_lexer": "ipython3",
   "version": "3.7.3"
  }
 },
 "nbformat": 4,
 "nbformat_minor": 2
}
