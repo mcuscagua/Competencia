{
 "cells": [
  {
   "cell_type": "code",
   "execution_count": 1,
   "metadata": {},
   "outputs": [],
   "source": [
    "import os\n",
    "import time\n",
    "import numpy as np\n",
    "import pandas as pd\n",
    "import matplotlib.pyplot as plt\n",
    "import matplotlib.patheffects as PathEffects\n",
    "import seaborn as sns\n",
    "from sklearn.datasets import fetch_mldata\n",
    "from sklearn.decomposition import PCA\n",
    "from sklearn.manifold import TSNE\n",
    "%matplotlib inline\n",
    "import matplotlib.pyplot as plt\n",
    "from mpl_toolkits.mplot3d import Axes3D"
   ]
  },
  {
   "cell_type": "code",
   "execution_count": 2,
   "metadata": {},
   "outputs": [
    {
     "ename": "NameError",
     "evalue": "name 'vegetables' is not defined",
     "output_type": "error",
     "traceback": [
      "\u001b[1;31m---------------------------------------------------------------------------\u001b[0m",
      "\u001b[1;31mNameError\u001b[0m                                 Traceback (most recent call last)",
      "\u001b[1;32m<ipython-input-2-3d9d6c125a09>\u001b[0m in \u001b[0;36m<module>\u001b[1;34m\u001b[0m\n\u001b[0;32m     18\u001b[0m \u001b[1;31m# We want to show all ticks...\u001b[0m\u001b[1;33m\u001b[0m\u001b[1;33m\u001b[0m\u001b[1;33m\u001b[0m\u001b[0m\n\u001b[0;32m     19\u001b[0m \u001b[0max\u001b[0m\u001b[1;33m.\u001b[0m\u001b[0mset_xticks\u001b[0m\u001b[1;33m(\u001b[0m\u001b[0mnp\u001b[0m\u001b[1;33m.\u001b[0m\u001b[0marange\u001b[0m\u001b[1;33m(\u001b[0m\u001b[0mlen\u001b[0m\u001b[1;33m(\u001b[0m\u001b[0mfarmers\u001b[0m\u001b[1;33m)\u001b[0m\u001b[1;33m)\u001b[0m\u001b[1;33m)\u001b[0m\u001b[1;33m\u001b[0m\u001b[1;33m\u001b[0m\u001b[0m\n\u001b[1;32m---> 20\u001b[1;33m \u001b[0max\u001b[0m\u001b[1;33m.\u001b[0m\u001b[0mset_yticks\u001b[0m\u001b[1;33m(\u001b[0m\u001b[0mnp\u001b[0m\u001b[1;33m.\u001b[0m\u001b[0marange\u001b[0m\u001b[1;33m(\u001b[0m\u001b[0mlen\u001b[0m\u001b[1;33m(\u001b[0m\u001b[0mvegetables\u001b[0m\u001b[1;33m)\u001b[0m\u001b[1;33m)\u001b[0m\u001b[1;33m)\u001b[0m\u001b[1;33m\u001b[0m\u001b[1;33m\u001b[0m\u001b[0m\n\u001b[0m\u001b[0;32m     21\u001b[0m \u001b[1;31m# ... and label them with the respective list entries\u001b[0m\u001b[1;33m\u001b[0m\u001b[1;33m\u001b[0m\u001b[1;33m\u001b[0m\u001b[0m\n\u001b[0;32m     22\u001b[0m \u001b[0max\u001b[0m\u001b[1;33m.\u001b[0m\u001b[0mset_xticklabels\u001b[0m\u001b[1;33m(\u001b[0m\u001b[0mfarmers\u001b[0m\u001b[1;33m)\u001b[0m\u001b[1;33m\u001b[0m\u001b[1;33m\u001b[0m\u001b[0m\n",
      "\u001b[1;31mNameError\u001b[0m: name 'vegetables' is not defined"
     ]
    },
    {
     "data": {
      "image/png": "[encoded data removed]",
      "text/plain": [
       "<Figure size 432x288 with 1 Axes>"
      ]
     },
     "metadata": {
      "needs_background": "light"
     },
     "output_type": "display_data"
    }
   ],
   "source": [
    "plt.vegetables = [\"cucumber\", \"tomato\", \"lettuce\", \"asparagus\",\n",
    "              \"potato\", \"wheat\", \"barley\"]\n",
    "farmers = [\"Farmer Joe\", \"Upland Bros.\", \"Smith Gardening\",\n",
    "           \"Agrifun\", \"Organiculture\", \"BioGoods Ltd.\", \"Cornylee Corp.\"]\n",
    "\n",
    "harvest = np.array([[0.8, 2.4, 2.5, 3.9, 0.0, 4.0, 0.0],\n",
    "                    [2.4, 0.0, 4.0, 1.0, 2.7, 0.0, 0.0],\n",
    "                    [1.1, 2.4, 0.8, 4.3, 1.9, 4.4, 0.0],\n",
    "                    [0.6, 0.0, 0.3, 0.0, 3.1, 0.0, 0.0],\n",
    "                    [0.7, 1.7, 0.6, 2.6, 2.2, 6.2, 0.0],\n",
    "                    [1.3, 1.2, 0.0, 0.0, 0.0, 3.2, 5.1],\n",
    "                    [0.1, 2.0, 0.0, 1.4, 0.0, 1.9, 6.3]])\n",
    "\n",
    "\n",
    "fig, ax = plt.subplots()\n",
    "im = ax.imshow(harvest)\n",
    "\n",
    "# We want to show all ticks...\n",
    "ax.set_xticks(np.arange(len(farmers)))\n",
    "ax.set_yticks(np.arange(len(vegetables)))\n",
    "# ... and label them with the respective list entries\n",
    "ax.set_xticklabels(farmers)\n",
    "ax.set_yticklabels(vegetables)\n",
    "\n",
    "# Rotate the tick labels and set their alignment.\n",
    "plt.setp(ax.get_xticklabels(), rotation=45, ha=\"right\",\n",
    "         rotation_mode=\"anchor\")\n",
    "\n",
    "# Loop over data dimensions and create text annotations.\n",
    "for i in range(len(vegetables)):\n",
    "    for j in range(len(farmers)):\n",
    "        text = ax.text(j, i, harvest[i, j],\n",
    "                       ha=\"center\", va=\"center\", color=\"w\")\n",
    "\n",
    "ax.set_title(\"Harvest of local farmers (in tons/year)\")\n",
    "fig.tight_layout()\n",
    "plt.show()"
   ]
  },
  {
   "cell_type": "code",
   "execution_count": 69,
   "metadata": {},
   "outputs": [],
   "source": [
    "import time\n",
    "time_start = time.time()\n",
    "\n",
    "sns.set_style('darkgrid')\n",
    "sns.set_palette('muted')\n",
    "sns.set_context(\"notebook\", font_scale=1.5,\n",
    "                rc={\"lines.linewidth\": 2.5})\n",
    "RS = 123"
   ]
  },
  {
   "cell_type": "markdown",
   "metadata": {},
   "source": [
    "# 1. Lectura de la base de datos"
   ]
  },
  {
   "cell_type": "code",
   "execution_count": 70,
   "metadata": {},
   "outputs": [],
   "source": [
    "#path = '/Users/diana/Library/Mobile Documents/com~apple~CloudDocs/Maestria/Aprendizaje Automático/HR_attrition_orig_proc.csv'\n",
    "path = 'databinarystudents.csv'\n",
    "data = pd.read_csv(path, sep = ',', na_filter = False)\n",
    "data = data.iloc[:, 1:]"
   ]
  },
  {
   "cell_type": "code",
   "execution_count": 71,
   "metadata": {},
   "outputs": [
    {
     "data": {
      "text/plain": [
       "(150, 33)"
      ]
     },
     "execution_count": 71,
     "metadata": {},
     "output_type": "execute_result"
    }
   ],
   "source": [
    "data.shape"
   ]
  },
  {
   "cell_type": "code",
   "execution_count": 72,
   "metadata": {},
   "outputs": [
    {
     "data": {
      "text/plain": [
       "yL       int64\n",
       "x1     float64\n",
       "x2     float64\n",
       "x3       int64\n",
       "x4       int64\n",
       "x5       int64\n",
       "x6       int64\n",
       "x7       int64\n",
       "x8     float64\n",
       "x9       int64\n",
       "x10    float64\n",
       "x11    float64\n",
       "x12    float64\n",
       "x13      int64\n",
       "x14      int64\n",
       "x15      int64\n",
       "x16      int64\n",
       "x17      int64\n",
       "x18      int64\n",
       "x19      int64\n",
       "x20      int64\n",
       "x21    float64\n",
       "x22    float64\n",
       "x23    float64\n",
       "x24    float64\n",
       "x25      int64\n",
       "x26      int64\n",
       "x27    float64\n",
       "x28      int64\n",
       "x29      int64\n",
       "x30      int64\n",
       "x31    float64\n",
       "x32    float64\n",
       "dtype: object"
      ]
     },
     "execution_count": 72,
     "metadata": {},
     "output_type": "execute_result"
    }
   ],
   "source": [
    "# Columnas del dataframe\n",
    "data.dtypes"
   ]
  },
  {
   "cell_type": "code",
   "execution_count": 73,
   "metadata": {},
   "outputs": [
    {
     "data": {
      "text/html": [
       "<div>\n",
       "<style scoped>\n",
       "    .dataframe tbody tr th:only-of-type {\n",
       "        vertical-align: middle;\n",
       "    }\n",
       "\n",
       "    .dataframe tbody tr th {\n",
       "        vertical-align: top;\n",
       "    }\n",
       "\n",
       "    .dataframe thead th {\n",
       "        text-align: right;\n",
       "    }\n",
       "</style>\n",
       "<table border=\"1\" class=\"dataframe\">\n",
       "  <thead>\n",
       "    <tr style=\"text-align: right;\">\n",
       "      <th></th>\n",
       "      <th>yL</th>\n",
       "      <th>x1</th>\n",
       "      <th>x2</th>\n",
       "      <th>x3</th>\n",
       "      <th>x4</th>\n",
       "      <th>x5</th>\n",
       "      <th>x6</th>\n",
       "      <th>x7</th>\n",
       "      <th>x8</th>\n",
       "      <th>x9</th>\n",
       "      <th>...</th>\n",
       "      <th>x23</th>\n",
       "      <th>x24</th>\n",
       "      <th>x25</th>\n",
       "      <th>x26</th>\n",
       "      <th>x27</th>\n",
       "      <th>x28</th>\n",
       "      <th>x29</th>\n",
       "      <th>x30</th>\n",
       "      <th>x31</th>\n",
       "      <th>x32</th>\n",
       "    </tr>\n",
       "  </thead>\n",
       "  <tbody>\n",
       "    <tr>\n",
       "      <th>0</th>\n",
       "      <td>1</td>\n",
       "      <td>49.856</td>\n",
       "      <td>118.8</td>\n",
       "      <td>1</td>\n",
       "      <td>0</td>\n",
       "      <td>0</td>\n",
       "      <td>0</td>\n",
       "      <td>0</td>\n",
       "      <td>16.32096</td>\n",
       "      <td>0</td>\n",
       "      <td>...</td>\n",
       "      <td>0.9709</td>\n",
       "      <td>0.0003</td>\n",
       "      <td>6</td>\n",
       "      <td>6</td>\n",
       "      <td>24.7138</td>\n",
       "      <td>0</td>\n",
       "      <td>0</td>\n",
       "      <td>7</td>\n",
       "      <td>0.056546</td>\n",
       "      <td>0.112860</td>\n",
       "    </tr>\n",
       "    <tr>\n",
       "      <th>1</th>\n",
       "      <td>1</td>\n",
       "      <td>71.836</td>\n",
       "      <td>34.8</td>\n",
       "      <td>0</td>\n",
       "      <td>0</td>\n",
       "      <td>0</td>\n",
       "      <td>0</td>\n",
       "      <td>1</td>\n",
       "      <td>15.00535</td>\n",
       "      <td>44</td>\n",
       "      <td>...</td>\n",
       "      <td>0.4200</td>\n",
       "      <td>0.0000</td>\n",
       "      <td>8</td>\n",
       "      <td>4</td>\n",
       "      <td>38.0658</td>\n",
       "      <td>0</td>\n",
       "      <td>0</td>\n",
       "      <td>7</td>\n",
       "      <td>0.655260</td>\n",
       "      <td>0.886908</td>\n",
       "    </tr>\n",
       "    <tr>\n",
       "      <th>2</th>\n",
       "      <td>1</td>\n",
       "      <td>66.725</td>\n",
       "      <td>41.8</td>\n",
       "      <td>0</td>\n",
       "      <td>1</td>\n",
       "      <td>0</td>\n",
       "      <td>0</td>\n",
       "      <td>0</td>\n",
       "      <td>17.07023</td>\n",
       "      <td>27</td>\n",
       "      <td>...</td>\n",
       "      <td>0.9650</td>\n",
       "      <td>0.0000</td>\n",
       "      <td>6</td>\n",
       "      <td>6</td>\n",
       "      <td>48.3807</td>\n",
       "      <td>0</td>\n",
       "      <td>1</td>\n",
       "      <td>4</td>\n",
       "      <td>0.067855</td>\n",
       "      <td>0.133944</td>\n",
       "    </tr>\n",
       "    <tr>\n",
       "      <th>3</th>\n",
       "      <td>0</td>\n",
       "      <td>41.696</td>\n",
       "      <td>132.0</td>\n",
       "      <td>0</td>\n",
       "      <td>0</td>\n",
       "      <td>1</td>\n",
       "      <td>0</td>\n",
       "      <td>0</td>\n",
       "      <td>16.31460</td>\n",
       "      <td>0</td>\n",
       "      <td>...</td>\n",
       "      <td>0.0091</td>\n",
       "      <td>0.0001</td>\n",
       "      <td>6</td>\n",
       "      <td>4</td>\n",
       "      <td>59.8410</td>\n",
       "      <td>0</td>\n",
       "      <td>0</td>\n",
       "      <td>7</td>\n",
       "      <td>0.133230</td>\n",
       "      <td>0.260102</td>\n",
       "    </tr>\n",
       "    <tr>\n",
       "      <th>4</th>\n",
       "      <td>1</td>\n",
       "      <td>71.351</td>\n",
       "      <td>24.2</td>\n",
       "      <td>1</td>\n",
       "      <td>0</td>\n",
       "      <td>0</td>\n",
       "      <td>0</td>\n",
       "      <td>0</td>\n",
       "      <td>11.10790</td>\n",
       "      <td>31</td>\n",
       "      <td>...</td>\n",
       "      <td>0.0051</td>\n",
       "      <td>0.0000</td>\n",
       "      <td>5</td>\n",
       "      <td>7</td>\n",
       "      <td>175.9250</td>\n",
       "      <td>0</td>\n",
       "      <td>0</td>\n",
       "      <td>3</td>\n",
       "      <td>0.318584</td>\n",
       "      <td>0.627729</td>\n",
       "    </tr>\n",
       "  </tbody>\n",
       "</table>\n",
       "<p>5 rows × 33 columns</p>\n",
       "</div>"
      ],
      "text/plain": [
       "   yL      x1     x2  x3  x4  x5  x6  x7        x8  x9  ...     x23     x24  \\\n",
       "0   1  49.856  118.8   1   0   0   0   0  16.32096   0  ...  0.9709  0.0003   \n",
       "1   1  71.836   34.8   0   0   0   0   1  15.00535  44  ...  0.4200  0.0000   \n",
       "2   1  66.725   41.8   0   1   0   0   0  17.07023  27  ...  0.9650  0.0000   \n",
       "3   0  41.696  132.0   0   0   1   0   0  16.31460   0  ...  0.0091  0.0001   \n",
       "4   1  71.351   24.2   1   0   0   0   0  11.10790  31  ...  0.0051  0.0000   \n",
       "\n",
       "   x25  x26       x27  x28  x29  x30       x31       x32  \n",
       "0    6    6   24.7138    0    0    7  0.056546  0.112860  \n",
       "1    8    4   38.0658    0    0    7  0.655260  0.886908  \n",
       "2    6    6   48.3807    0    1    4  0.067855  0.133944  \n",
       "3    6    4   59.8410    0    0    7  0.133230  0.260102  \n",
       "4    5    7  175.9250    0    0    3  0.318584  0.627729  \n",
       "\n",
       "[5 rows x 33 columns]"
      ]
     },
     "execution_count": 73,
     "metadata": {},
     "output_type": "execute_result"
    }
   ],
   "source": [
    "data.head()"
   ]
  },
  {
   "cell_type": "markdown",
   "metadata": {},
   "source": [
    "# 2. Análisis Exploratorio"
   ]
  },
  {
   "cell_type": "code",
   "execution_count": 74,
   "metadata": {},
   "outputs": [
    {
     "data": {
      "text/html": [
       "<div>\n",
       "<style scoped>\n",
       "    .dataframe tbody tr th:only-of-type {\n",
       "        vertical-align: middle;\n",
       "    }\n",
       "\n",
       "    .dataframe tbody tr th {\n",
       "        vertical-align: top;\n",
       "    }\n",
       "\n",
       "    .dataframe thead th {\n",
       "        text-align: right;\n",
       "    }\n",
       "</style>\n",
       "<table border=\"1\" class=\"dataframe\">\n",
       "  <thead>\n",
       "    <tr style=\"text-align: right;\">\n",
       "      <th></th>\n",
       "      <th>yL</th>\n",
       "      <th>x1</th>\n",
       "      <th>x2</th>\n",
       "      <th>x3</th>\n",
       "      <th>x4</th>\n",
       "      <th>x5</th>\n",
       "      <th>x6</th>\n",
       "      <th>x7</th>\n",
       "      <th>x8</th>\n",
       "      <th>x9</th>\n",
       "      <th>...</th>\n",
       "      <th>x23</th>\n",
       "      <th>x24</th>\n",
       "      <th>x25</th>\n",
       "      <th>x26</th>\n",
       "      <th>x27</th>\n",
       "      <th>x28</th>\n",
       "      <th>x29</th>\n",
       "      <th>x30</th>\n",
       "      <th>x31</th>\n",
       "      <th>x32</th>\n",
       "    </tr>\n",
       "  </thead>\n",
       "  <tbody>\n",
       "    <tr>\n",
       "      <th>count</th>\n",
       "      <td>150.000000</td>\n",
       "      <td>150.000000</td>\n",
       "      <td>150.000000</td>\n",
       "      <td>150.000000</td>\n",
       "      <td>150.000000</td>\n",
       "      <td>150.000000</td>\n",
       "      <td>150.00000</td>\n",
       "      <td>150.000000</td>\n",
       "      <td>150.000000</td>\n",
       "      <td>150.000000</td>\n",
       "      <td>...</td>\n",
       "      <td>150.000000</td>\n",
       "      <td>150.000000</td>\n",
       "      <td>150.000000</td>\n",
       "      <td>150.000000</td>\n",
       "      <td>150.000000</td>\n",
       "      <td>150.000000</td>\n",
       "      <td>150.000000</td>\n",
       "      <td>150.000000</td>\n",
       "      <td>150.000000</td>\n",
       "      <td>150.000000</td>\n",
       "    </tr>\n",
       "    <tr>\n",
       "      <th>mean</th>\n",
       "      <td>0.666667</td>\n",
       "      <td>64.315059</td>\n",
       "      <td>50.366667</td>\n",
       "      <td>0.300000</td>\n",
       "      <td>0.146667</td>\n",
       "      <td>0.040000</td>\n",
       "      <td>0.12000</td>\n",
       "      <td>0.100000</td>\n",
       "      <td>15.403789</td>\n",
       "      <td>27.593333</td>\n",
       "      <td>...</td>\n",
       "      <td>0.239536</td>\n",
       "      <td>0.032573</td>\n",
       "      <td>6.380000</td>\n",
       "      <td>5.586667</td>\n",
       "      <td>78.493669</td>\n",
       "      <td>0.133333</td>\n",
       "      <td>0.053333</td>\n",
       "      <td>3.926667</td>\n",
       "      <td>0.283136</td>\n",
       "      <td>0.491055</td>\n",
       "    </tr>\n",
       "    <tr>\n",
       "      <th>std</th>\n",
       "      <td>0.472984</td>\n",
       "      <td>10.050340</td>\n",
       "      <td>41.298169</td>\n",
       "      <td>0.459793</td>\n",
       "      <td>0.354958</td>\n",
       "      <td>0.196616</td>\n",
       "      <td>0.32605</td>\n",
       "      <td>0.301005</td>\n",
       "      <td>1.929863</td>\n",
       "      <td>15.434684</td>\n",
       "      <td>...</td>\n",
       "      <td>0.350769</td>\n",
       "      <td>0.134419</td>\n",
       "      <td>0.924462</td>\n",
       "      <td>0.963680</td>\n",
       "      <td>47.992359</td>\n",
       "      <td>0.341073</td>\n",
       "      <td>0.225450</td>\n",
       "      <td>2.186280</td>\n",
       "      <td>0.193801</td>\n",
       "      <td>0.299361</td>\n",
       "    </tr>\n",
       "    <tr>\n",
       "      <th>min</th>\n",
       "      <td>0.000000</td>\n",
       "      <td>34.217000</td>\n",
       "      <td>4.600000</td>\n",
       "      <td>0.000000</td>\n",
       "      <td>0.000000</td>\n",
       "      <td>0.000000</td>\n",
       "      <td>0.00000</td>\n",
       "      <td>0.000000</td>\n",
       "      <td>10.617270</td>\n",
       "      <td>0.000000</td>\n",
       "      <td>...</td>\n",
       "      <td>0.000000</td>\n",
       "      <td>0.000000</td>\n",
       "      <td>4.000000</td>\n",
       "      <td>3.000000</td>\n",
       "      <td>11.087400</td>\n",
       "      <td>0.000000</td>\n",
       "      <td>0.000000</td>\n",
       "      <td>1.000000</td>\n",
       "      <td>0.011540</td>\n",
       "      <td>0.023037</td>\n",
       "    </tr>\n",
       "    <tr>\n",
       "      <th>25%</th>\n",
       "      <td>0.000000</td>\n",
       "      <td>56.866750</td>\n",
       "      <td>14.725000</td>\n",
       "      <td>0.000000</td>\n",
       "      <td>0.000000</td>\n",
       "      <td>0.000000</td>\n",
       "      <td>0.00000</td>\n",
       "      <td>0.000000</td>\n",
       "      <td>14.507013</td>\n",
       "      <td>25.500000</td>\n",
       "      <td>...</td>\n",
       "      <td>0.001625</td>\n",
       "      <td>0.000000</td>\n",
       "      <td>6.000000</td>\n",
       "      <td>5.000000</td>\n",
       "      <td>44.936225</td>\n",
       "      <td>0.000000</td>\n",
       "      <td>0.000000</td>\n",
       "      <td>2.000000</td>\n",
       "      <td>0.100434</td>\n",
       "      <td>0.194432</td>\n",
       "    </tr>\n",
       "    <tr>\n",
       "      <th>50%</th>\n",
       "      <td>1.000000</td>\n",
       "      <td>67.754500</td>\n",
       "      <td>40.000000</td>\n",
       "      <td>0.000000</td>\n",
       "      <td>0.000000</td>\n",
       "      <td>0.000000</td>\n",
       "      <td>0.00000</td>\n",
       "      <td>0.000000</td>\n",
       "      <td>15.463720</td>\n",
       "      <td>31.000000</td>\n",
       "      <td>...</td>\n",
       "      <td>0.021850</td>\n",
       "      <td>0.000100</td>\n",
       "      <td>6.000000</td>\n",
       "      <td>6.000000</td>\n",
       "      <td>66.404000</td>\n",
       "      <td>0.000000</td>\n",
       "      <td>0.000000</td>\n",
       "      <td>4.000000</td>\n",
       "      <td>0.247636</td>\n",
       "      <td>0.461095</td>\n",
       "    </tr>\n",
       "    <tr>\n",
       "      <th>75%</th>\n",
       "      <td>1.000000</td>\n",
       "      <td>71.519725</td>\n",
       "      <td>81.400000</td>\n",
       "      <td>1.000000</td>\n",
       "      <td>0.000000</td>\n",
       "      <td>0.000000</td>\n",
       "      <td>0.00000</td>\n",
       "      <td>0.000000</td>\n",
       "      <td>16.586320</td>\n",
       "      <td>39.750000</td>\n",
       "      <td>...</td>\n",
       "      <td>0.415925</td>\n",
       "      <td>0.001500</td>\n",
       "      <td>7.000000</td>\n",
       "      <td>6.000000</td>\n",
       "      <td>102.720000</td>\n",
       "      <td>0.000000</td>\n",
       "      <td>0.000000</td>\n",
       "      <td>6.000000</td>\n",
       "      <td>0.436986</td>\n",
       "      <td>0.797946</td>\n",
       "    </tr>\n",
       "    <tr>\n",
       "      <th>max</th>\n",
       "      <td>1.000000</td>\n",
       "      <td>78.836829</td>\n",
       "      <td>173.700000</td>\n",
       "      <td>1.000000</td>\n",
       "      <td>1.000000</td>\n",
       "      <td>1.000000</td>\n",
       "      <td>1.00000</td>\n",
       "      <td>1.000000</td>\n",
       "      <td>20.850060</td>\n",
       "      <td>45.000000</td>\n",
       "      <td>...</td>\n",
       "      <td>0.994200</td>\n",
       "      <td>0.846600</td>\n",
       "      <td>9.000000</td>\n",
       "      <td>7.000000</td>\n",
       "      <td>344.830000</td>\n",
       "      <td>1.000000</td>\n",
       "      <td>1.000000</td>\n",
       "      <td>7.000000</td>\n",
       "      <td>0.662330</td>\n",
       "      <td>0.996328</td>\n",
       "    </tr>\n",
       "  </tbody>\n",
       "</table>\n",
       "<p>8 rows × 33 columns</p>\n",
       "</div>"
      ],
      "text/plain": [
       "               yL          x1          x2          x3          x4          x5  \\\n",
       "count  150.000000  150.000000  150.000000  150.000000  150.000000  150.000000   \n",
       "mean     0.666667   64.315059   50.366667    0.300000    0.146667    0.040000   \n",
       "std      0.472984   10.050340   41.298169    0.459793    0.354958    0.196616   \n",
       "min      0.000000   34.217000    4.600000    0.000000    0.000000    0.000000   \n",
       "25%      0.000000   56.866750   14.725000    0.000000    0.000000    0.000000   \n",
       "50%      1.000000   67.754500   40.000000    0.000000    0.000000    0.000000   \n",
       "75%      1.000000   71.519725   81.400000    1.000000    0.000000    0.000000   \n",
       "max      1.000000   78.836829  173.700000    1.000000    1.000000    1.000000   \n",
       "\n",
       "              x6          x7          x8          x9  ...         x23  \\\n",
       "count  150.00000  150.000000  150.000000  150.000000  ...  150.000000   \n",
       "mean     0.12000    0.100000   15.403789   27.593333  ...    0.239536   \n",
       "std      0.32605    0.301005    1.929863   15.434684  ...    0.350769   \n",
       "min      0.00000    0.000000   10.617270    0.000000  ...    0.000000   \n",
       "25%      0.00000    0.000000   14.507013   25.500000  ...    0.001625   \n",
       "50%      0.00000    0.000000   15.463720   31.000000  ...    0.021850   \n",
       "75%      0.00000    0.000000   16.586320   39.750000  ...    0.415925   \n",
       "max      1.00000    1.000000   20.850060   45.000000  ...    0.994200   \n",
       "\n",
       "              x24         x25         x26         x27         x28         x29  \\\n",
       "count  150.000000  150.000000  150.000000  150.000000  150.000000  150.000000   \n",
       "mean     0.032573    6.380000    5.586667   78.493669    0.133333    0.053333   \n",
       "std      0.134419    0.924462    0.963680   47.992359    0.341073    0.225450   \n",
       "min      0.000000    4.000000    3.000000   11.087400    0.000000    0.000000   \n",
       "25%      0.000000    6.000000    5.000000   44.936225    0.000000    0.000000   \n",
       "50%      0.000100    6.000000    6.000000   66.404000    0.000000    0.000000   \n",
       "75%      0.001500    7.000000    6.000000  102.720000    0.000000    0.000000   \n",
       "max      0.846600    9.000000    7.000000  344.830000    1.000000    1.000000   \n",
       "\n",
       "              x30         x31         x32  \n",
       "count  150.000000  150.000000  150.000000  \n",
       "mean     3.926667    0.283136    0.491055  \n",
       "std      2.186280    0.193801    0.299361  \n",
       "min      1.000000    0.011540    0.023037  \n",
       "25%      2.000000    0.100434    0.194432  \n",
       "50%      4.000000    0.247636    0.461095  \n",
       "75%      6.000000    0.436986    0.797946  \n",
       "max      7.000000    0.662330    0.996328  \n",
       "\n",
       "[8 rows x 33 columns]"
      ]
     },
     "execution_count": 74,
     "metadata": {},
     "output_type": "execute_result"
    }
   ],
   "source": [
    "data.describe()"
   ]
  },
  {
   "cell_type": "code",
   "execution_count": 75,
   "metadata": {},
   "outputs": [
    {
     "data": {
      "text/plain": [
       "[]"
      ]
     },
     "execution_count": 75,
     "metadata": {},
     "output_type": "execute_result"
    }
   ],
   "source": [
    "# identificación de valores faltantes\n",
    "#pd.isnull(data).values.ravel().sum()\n",
    "[col for col in data.columns if data[col].isnull().sum() > 0]"
   ]
  },
  {
   "cell_type": "code",
   "execution_count": 76,
   "metadata": {},
   "outputs": [
    {
     "name": "stdout",
     "output_type": "stream",
     "text": [
      "x1: numerica\n",
      "x2: numerica\n",
      "x3 [1, 0]\n",
      "x4 [0, 1]\n",
      "x5 [0, 1]\n",
      "x6 [0, 1]\n",
      "x7 [0, 1]\n",
      "x8: numerica\n",
      "x9: numerica\n",
      "x10: numerica\n",
      "x11: numerica\n",
      "x12: numerica\n",
      "x13 [0, 1]\n",
      "x14 [1, 0]\n",
      "x15 [0, 1]\n",
      "x16 [1, 0]\n",
      "x17 [0, 1]\n",
      "x18 [0, 1]\n",
      "x19 [0, 1]\n",
      "x20 [0, 1]\n",
      "x21: numerica\n",
      "x22: numerica\n",
      "x23: numerica\n",
      "x24: numerica\n",
      "x25: numerica\n",
      "x26: numerica\n",
      "x27: numerica\n",
      "x28 [0, 1]\n",
      "x29 [0, 1]\n",
      "x30: numerica\n",
      "x31: numerica\n",
      "x32: numerica\n"
     ]
    }
   ],
   "source": [
    "# Identificando los niveles o valores de las variables categóticas\n",
    "for i in range(1,33,1):\n",
    "    data_level= data['x'+str(i)].unique().tolist()\n",
    "    if len(data_level) < 5:\n",
    "        print('x'+str(i), data_level)\n",
    "    else:\n",
    "        print('x'+str(i)+': numerica')"
   ]
  },
  {
   "cell_type": "markdown",
   "metadata": {},
   "source": [
    "### Análisis de la variable respuesta"
   ]
  },
  {
   "cell_type": "code",
   "execution_count": 77,
   "metadata": {},
   "outputs": [
    {
     "data": {
      "image/png": "[encoded data removed]",
      "text/plain": [
       "<Figure size 1440x1440 with 2 Axes>"
      ]
     },
     "metadata": {},
     "output_type": "display_data"
    }
   ],
   "source": [
    "# Gráfico para variable respuesta\n",
    "\n",
    "fig = plt.figure(figsize=(40,20))\n",
    "\n",
    "plt.subplot2grid((4,3),(0,0))\n",
    "plot = data['yL'].value_counts().plot(kind='pie', autopct='%.2f', \n",
    "                                            figsize=(20, 20),\n",
    "                                            title='Variable Respuesta')\n",
    "\n",
    "plt.subplot2grid((4,3),(0,1))\n",
    "plot = data['yL'].value_counts(sort = False).plot(kind='bar', title='Gráfico de barras')"
   ]
  },
  {
   "cell_type": "code",
   "execution_count": 78,
   "metadata": {},
   "outputs": [
    {
     "name": "stdout",
     "output_type": "stream",
     "text": [
      "1    100\n",
      "0     50\n",
      "Name: yL, dtype: int64\n"
     ]
    }
   ],
   "source": [
    " conteos = data['yL'].value_counts()\n",
    " print(conteos)"
   ]
  },
  {
   "cell_type": "markdown",
   "metadata": {},
   "source": [
    "### Análisis de variables numéricas"
   ]
  },
  {
   "cell_type": "code",
   "execution_count": 79,
   "metadata": {},
   "outputs": [],
   "source": [
    "numeric_variables =['yL','x1','x2','x8','x9','x10','x11','x12','x21','x22','x23','x24','x25','x26','x27','x30','x31','x32']\n",
    "subset = data[numeric_variables]"
   ]
  },
  {
   "cell_type": "code",
   "execution_count": 80,
   "metadata": {},
   "outputs": [
    {
     "data": {
      "text/plain": [
       "(150, 18)"
      ]
     },
     "execution_count": 80,
     "metadata": {},
     "output_type": "execute_result"
    }
   ],
   "source": [
    "subset.shape"
   ]
  },
  {
   "cell_type": "code",
   "execution_count": 81,
   "metadata": {},
   "outputs": [
    {
     "data": {
      "text/html": [
       "<div>\n",
       "<style scoped>\n",
       "    .dataframe tbody tr th:only-of-type {\n",
       "        vertical-align: middle;\n",
       "    }\n",
       "\n",
       "    .dataframe tbody tr th {\n",
       "        vertical-align: top;\n",
       "    }\n",
       "\n",
       "    .dataframe thead th {\n",
       "        text-align: right;\n",
       "    }\n",
       "</style>\n",
       "<table border=\"1\" class=\"dataframe\">\n",
       "  <thead>\n",
       "    <tr style=\"text-align: right;\">\n",
       "      <th></th>\n",
       "      <th>x1</th>\n",
       "      <th>x2</th>\n",
       "      <th>x8</th>\n",
       "      <th>x9</th>\n",
       "      <th>x10</th>\n",
       "      <th>x11</th>\n",
       "      <th>x12</th>\n",
       "      <th>x21</th>\n",
       "      <th>x22</th>\n",
       "      <th>x23</th>\n",
       "      <th>x24</th>\n",
       "      <th>x25</th>\n",
       "      <th>x26</th>\n",
       "      <th>x27</th>\n",
       "      <th>x30</th>\n",
       "      <th>x31</th>\n",
       "      <th>x32</th>\n",
       "    </tr>\n",
       "    <tr>\n",
       "      <th>yL</th>\n",
       "      <th></th>\n",
       "      <th></th>\n",
       "      <th></th>\n",
       "      <th></th>\n",
       "      <th></th>\n",
       "      <th></th>\n",
       "      <th></th>\n",
       "      <th></th>\n",
       "      <th></th>\n",
       "      <th></th>\n",
       "      <th></th>\n",
       "      <th></th>\n",
       "      <th></th>\n",
       "      <th></th>\n",
       "      <th></th>\n",
       "      <th></th>\n",
       "      <th></th>\n",
       "    </tr>\n",
       "  </thead>\n",
       "  <tbody>\n",
       "    <tr>\n",
       "      <th>0</th>\n",
       "      <td>58.946025</td>\n",
       "      <td>71.168</td>\n",
       "      <td>15.359452</td>\n",
       "      <td>25.60</td>\n",
       "      <td>71.568599</td>\n",
       "      <td>7.165334</td>\n",
       "      <td>9.528238</td>\n",
       "      <td>0.561194</td>\n",
       "      <td>0.000968</td>\n",
       "      <td>0.187466</td>\n",
       "      <td>0.061034</td>\n",
       "      <td>6.34</td>\n",
       "      <td>5.76</td>\n",
       "      <td>68.680112</td>\n",
       "      <td>4.48</td>\n",
       "      <td>0.315417</td>\n",
       "      <td>0.529517</td>\n",
       "    </tr>\n",
       "    <tr>\n",
       "      <th>1</th>\n",
       "      <td>66.999576</td>\n",
       "      <td>39.966</td>\n",
       "      <td>15.425958</td>\n",
       "      <td>28.59</td>\n",
       "      <td>173.550853</td>\n",
       "      <td>8.122997</td>\n",
       "      <td>6.897811</td>\n",
       "      <td>0.556439</td>\n",
       "      <td>0.008827</td>\n",
       "      <td>0.265571</td>\n",
       "      <td>0.018342</td>\n",
       "      <td>6.40</td>\n",
       "      <td>5.50</td>\n",
       "      <td>83.400447</td>\n",
       "      <td>3.65</td>\n",
       "      <td>0.266995</td>\n",
       "      <td>0.471824</td>\n",
       "    </tr>\n",
       "  </tbody>\n",
       "</table>\n",
       "</div>"
      ],
      "text/plain": [
       "           x1      x2         x8     x9         x10       x11       x12  \\\n",
       "yL                                                                        \n",
       "0   58.946025  71.168  15.359452  25.60   71.568599  7.165334  9.528238   \n",
       "1   66.999576  39.966  15.425958  28.59  173.550853  8.122997  6.897811   \n",
       "\n",
       "         x21       x22       x23       x24   x25   x26        x27   x30  \\\n",
       "yL                                                                        \n",
       "0   0.561194  0.000968  0.187466  0.061034  6.34  5.76  68.680112  4.48   \n",
       "1   0.556439  0.008827  0.265571  0.018342  6.40  5.50  83.400447  3.65   \n",
       "\n",
       "         x31       x32  \n",
       "yL                      \n",
       "0   0.315417  0.529517  \n",
       "1   0.266995  0.471824  "
      ]
     },
     "execution_count": 81,
     "metadata": {},
     "output_type": "execute_result"
    }
   ],
   "source": [
    "# Comparación de medias con respecto a la variable respuesta\n",
    "subset.groupby('yL').mean()"
   ]
  },
  {
   "cell_type": "code",
   "execution_count": 82,
   "metadata": {},
   "outputs": [
    {
     "data": {
      "image/png": "[encoded data removed]",
      "text/plain": [
       "<Figure size 1440x1080 with 20 Axes>"
      ]
     },
     "metadata": {},
     "output_type": "display_data"
    }
   ],
   "source": [
    "# Histograma de las variables numéricas\n",
    "histograma = subset.iloc[:, 1:].hist(grid=False, xlabelsize=10, figsize=(20,15))"
   ]
  },
  {
   "cell_type": "code",
   "execution_count": 83,
   "metadata": {},
   "outputs": [
    {
     "data": {
      "text/html": [
       "<style  type=\"text/css\" >\n",
       "    #T_66973e40_d5e2_11e9_aa9d_fa2819b5a6b3row0_col0 {\n",
       "            background-color:  #b40426;\n",
       "            color:  #f1f1f1;\n",
       "        }    #T_66973e40_d5e2_11e9_aa9d_fa2819b5a6b3row0_col1 {\n",
       "            background-color:  #3b4cc0;\n",
       "            color:  #f1f1f1;\n",
       "        }    #T_66973e40_d5e2_11e9_aa9d_fa2819b5a6b3row0_col2 {\n",
       "            background-color:  #aac7fd;\n",
       "            color:  #000000;\n",
       "        }    #T_66973e40_d5e2_11e9_aa9d_fa2819b5a6b3row0_col3 {\n",
       "            background-color:  #f2cbb7;\n",
       "            color:  #000000;\n",
       "        }    #T_66973e40_d5e2_11e9_aa9d_fa2819b5a6b3row0_col4 {\n",
       "            background-color:  #96b7ff;\n",
       "            color:  #000000;\n",
       "        }    #T_66973e40_d5e2_11e9_aa9d_fa2819b5a6b3row0_col5 {\n",
       "            background-color:  #d44e41;\n",
       "            color:  #000000;\n",
       "        }    #T_66973e40_d5e2_11e9_aa9d_fa2819b5a6b3row0_col6 {\n",
       "            background-color:  #445acc;\n",
       "            color:  #f1f1f1;\n",
       "        }    #T_66973e40_d5e2_11e9_aa9d_fa2819b5a6b3row0_col7 {\n",
       "            background-color:  #f2c9b4;\n",
       "            color:  #000000;\n",
       "        }    #T_66973e40_d5e2_11e9_aa9d_fa2819b5a6b3row0_col8 {\n",
       "            background-color:  #82a6fb;\n",
       "            color:  #000000;\n",
       "        }    #T_66973e40_d5e2_11e9_aa9d_fa2819b5a6b3row0_col9 {\n",
       "            background-color:  #9abbff;\n",
       "            color:  #000000;\n",
       "        }    #T_66973e40_d5e2_11e9_aa9d_fa2819b5a6b3row0_col10 {\n",
       "            background-color:  #84a7fc;\n",
       "            color:  #000000;\n",
       "        }    #T_66973e40_d5e2_11e9_aa9d_fa2819b5a6b3row0_col11 {\n",
       "            background-color:  #c6d6f1;\n",
       "            color:  #000000;\n",
       "        }    #T_66973e40_d5e2_11e9_aa9d_fa2819b5a6b3row0_col12 {\n",
       "            background-color:  #9fbfff;\n",
       "            color:  #000000;\n",
       "        }    #T_66973e40_d5e2_11e9_aa9d_fa2819b5a6b3row0_col13 {\n",
       "            background-color:  #eed0c0;\n",
       "            color:  #000000;\n",
       "        }    #T_66973e40_d5e2_11e9_aa9d_fa2819b5a6b3row0_col14 {\n",
       "            background-color:  #3c4ec2;\n",
       "            color:  #f1f1f1;\n",
       "        }    #T_66973e40_d5e2_11e9_aa9d_fa2819b5a6b3row0_col15 {\n",
       "            background-color:  #5572df;\n",
       "            color:  #000000;\n",
       "        }    #T_66973e40_d5e2_11e9_aa9d_fa2819b5a6b3row0_col16 {\n",
       "            background-color:  #5875e1;\n",
       "            color:  #000000;\n",
       "        }    #T_66973e40_d5e2_11e9_aa9d_fa2819b5a6b3row1_col0 {\n",
       "            background-color:  #3b4cc0;\n",
       "            color:  #f1f1f1;\n",
       "        }    #T_66973e40_d5e2_11e9_aa9d_fa2819b5a6b3row1_col1 {\n",
       "            background-color:  #b40426;\n",
       "            color:  #f1f1f1;\n",
       "        }    #T_66973e40_d5e2_11e9_aa9d_fa2819b5a6b3row1_col2 {\n",
       "            background-color:  #d2dbe8;\n",
       "            color:  #000000;\n",
       "        }    #T_66973e40_d5e2_11e9_aa9d_fa2819b5a6b3row1_col3 {\n",
       "            background-color:  #3b4cc0;\n",
       "            color:  #f1f1f1;\n",
       "        }    #T_66973e40_d5e2_11e9_aa9d_fa2819b5a6b3row1_col4 {\n",
       "            background-color:  #3b4cc0;\n",
       "            color:  #f1f1f1;\n",
       "        }    #T_66973e40_d5e2_11e9_aa9d_fa2819b5a6b3row1_col5 {\n",
       "            background-color:  #3b4cc0;\n",
       "            color:  #f1f1f1;\n",
       "        }    #T_66973e40_d5e2_11e9_aa9d_fa2819b5a6b3row1_col6 {\n",
       "            background-color:  #c3d5f4;\n",
       "            color:  #000000;\n",
       "        }    #T_66973e40_d5e2_11e9_aa9d_fa2819b5a6b3row1_col7 {\n",
       "            background-color:  #84a7fc;\n",
       "            color:  #000000;\n",
       "        }    #T_66973e40_d5e2_11e9_aa9d_fa2819b5a6b3row1_col8 {\n",
       "            background-color:  #485fd1;\n",
       "            color:  #f1f1f1;\n",
       "        }    #T_66973e40_d5e2_11e9_aa9d_fa2819b5a6b3row1_col9 {\n",
       "            background-color:  #f4c6af;\n",
       "            color:  #000000;\n",
       "        }    #T_66973e40_d5e2_11e9_aa9d_fa2819b5a6b3row1_col10 {\n",
       "            background-color:  #92b4fe;\n",
       "            color:  #000000;\n",
       "        }    #T_66973e40_d5e2_11e9_aa9d_fa2819b5a6b3row1_col11 {\n",
       "            background-color:  #b1cbfc;\n",
       "            color:  #000000;\n",
       "        }    #T_66973e40_d5e2_11e9_aa9d_fa2819b5a6b3row1_col12 {\n",
       "            background-color:  #cdd9ec;\n",
       "            color:  #000000;\n",
       "        }    #T_66973e40_d5e2_11e9_aa9d_fa2819b5a6b3row1_col13 {\n",
       "            background-color:  #6c8ff1;\n",
       "            color:  #000000;\n",
       "        }    #T_66973e40_d5e2_11e9_aa9d_fa2819b5a6b3row1_col14 {\n",
       "            background-color:  #f4987a;\n",
       "            color:  #000000;\n",
       "        }    #T_66973e40_d5e2_11e9_aa9d_fa2819b5a6b3row1_col15 {\n",
       "            background-color:  #c1d4f4;\n",
       "            color:  #000000;\n",
       "        }    #T_66973e40_d5e2_11e9_aa9d_fa2819b5a6b3row1_col16 {\n",
       "            background-color:  #adc9fd;\n",
       "            color:  #000000;\n",
       "        }    #T_66973e40_d5e2_11e9_aa9d_fa2819b5a6b3row2_col0 {\n",
       "            background-color:  #cfdaea;\n",
       "            color:  #000000;\n",
       "        }    #T_66973e40_d5e2_11e9_aa9d_fa2819b5a6b3row2_col1 {\n",
       "            background-color:  #ead4c8;\n",
       "            color:  #000000;\n",
       "        }    #T_66973e40_d5e2_11e9_aa9d_fa2819b5a6b3row2_col2 {\n",
       "            background-color:  #b40426;\n",
       "            color:  #f1f1f1;\n",
       "        }    #T_66973e40_d5e2_11e9_aa9d_fa2819b5a6b3row2_col3 {\n",
       "            background-color:  #6a8bef;\n",
       "            color:  #000000;\n",
       "        }    #T_66973e40_d5e2_11e9_aa9d_fa2819b5a6b3row2_col4 {\n",
       "            background-color:  #5470de;\n",
       "            color:  #000000;\n",
       "        }    #T_66973e40_d5e2_11e9_aa9d_fa2819b5a6b3row2_col5 {\n",
       "            background-color:  #b7cff9;\n",
       "            color:  #000000;\n",
       "        }    #T_66973e40_d5e2_11e9_aa9d_fa2819b5a6b3row2_col6 {\n",
       "            background-color:  #92b4fe;\n",
       "            color:  #000000;\n",
       "        }    #T_66973e40_d5e2_11e9_aa9d_fa2819b5a6b3row2_col7 {\n",
       "            background-color:  #a5c3fe;\n",
       "            color:  #000000;\n",
       "        }    #T_66973e40_d5e2_11e9_aa9d_fa2819b5a6b3row2_col8 {\n",
       "            background-color:  #6282ea;\n",
       "            color:  #000000;\n",
       "        }    #T_66973e40_d5e2_11e9_aa9d_fa2819b5a6b3row2_col9 {\n",
       "            background-color:  #dadce0;\n",
       "            color:  #000000;\n",
       "        }    #T_66973e40_d5e2_11e9_aa9d_fa2819b5a6b3row2_col10 {\n",
       "            background-color:  #a1c0ff;\n",
       "            color:  #000000;\n",
       "        }    #T_66973e40_d5e2_11e9_aa9d_fa2819b5a6b3row2_col11 {\n",
       "            background-color:  #d9dce1;\n",
       "            color:  #000000;\n",
       "        }    #T_66973e40_d5e2_11e9_aa9d_fa2819b5a6b3row2_col12 {\n",
       "            background-color:  #7a9df8;\n",
       "            color:  #000000;\n",
       "        }    #T_66973e40_d5e2_11e9_aa9d_fa2819b5a6b3row2_col13 {\n",
       "            background-color:  #3b4cc0;\n",
       "            color:  #f1f1f1;\n",
       "        }    #T_66973e40_d5e2_11e9_aa9d_fa2819b5a6b3row2_col14 {\n",
       "            background-color:  #d2dbe8;\n",
       "            color:  #000000;\n",
       "        }    #T_66973e40_d5e2_11e9_aa9d_fa2819b5a6b3row2_col15 {\n",
       "            background-color:  #a5c3fe;\n",
       "            color:  #000000;\n",
       "        }    #T_66973e40_d5e2_11e9_aa9d_fa2819b5a6b3row2_col16 {\n",
       "            background-color:  #98b9ff;\n",
       "            color:  #000000;\n",
       "        }    #T_66973e40_d5e2_11e9_aa9d_fa2819b5a6b3row3_col0 {\n",
       "            background-color:  #f7a98b;\n",
       "            color:  #000000;\n",
       "        }    #T_66973e40_d5e2_11e9_aa9d_fa2819b5a6b3row3_col1 {\n",
       "            background-color:  #94b6ff;\n",
       "            color:  #000000;\n",
       "        }    #T_66973e40_d5e2_11e9_aa9d_fa2819b5a6b3row3_col2 {\n",
       "            background-color:  #8db0fe;\n",
       "            color:  #000000;\n",
       "        }    #T_66973e40_d5e2_11e9_aa9d_fa2819b5a6b3row3_col3 {\n",
       "            background-color:  #b40426;\n",
       "            color:  #f1f1f1;\n",
       "        }    #T_66973e40_d5e2_11e9_aa9d_fa2819b5a6b3row3_col4 {\n",
       "            background-color:  #688aef;\n",
       "            color:  #000000;\n",
       "        }    #T_66973e40_d5e2_11e9_aa9d_fa2819b5a6b3row3_col5 {\n",
       "            background-color:  #f7aa8c;\n",
       "            color:  #000000;\n",
       "        }    #T_66973e40_d5e2_11e9_aa9d_fa2819b5a6b3row3_col6 {\n",
       "            background-color:  #4e68d8;\n",
       "            color:  #000000;\n",
       "        }    #T_66973e40_d5e2_11e9_aa9d_fa2819b5a6b3row3_col7 {\n",
       "            background-color:  #f4c6af;\n",
       "            color:  #000000;\n",
       "        }    #T_66973e40_d5e2_11e9_aa9d_fa2819b5a6b3row3_col8 {\n",
       "            background-color:  #3b4cc0;\n",
       "            color:  #f1f1f1;\n",
       "        }    #T_66973e40_d5e2_11e9_aa9d_fa2819b5a6b3row3_col9 {\n",
       "            background-color:  #93b5fe;\n",
       "            color:  #000000;\n",
       "        }    #T_66973e40_d5e2_11e9_aa9d_fa2819b5a6b3row3_col10 {\n",
       "            background-color:  #7a9df8;\n",
       "            color:  #000000;\n",
       "        }    #T_66973e40_d5e2_11e9_aa9d_fa2819b5a6b3row3_col11 {\n",
       "            background-color:  #bad0f8;\n",
       "            color:  #000000;\n",
       "        }    #T_66973e40_d5e2_11e9_aa9d_fa2819b5a6b3row3_col12 {\n",
       "            background-color:  #c5d6f2;\n",
       "            color:  #000000;\n",
       "        }    #T_66973e40_d5e2_11e9_aa9d_fa2819b5a6b3row3_col13 {\n",
       "            background-color:  #e1dad6;\n",
       "            color:  #000000;\n",
       "        }    #T_66973e40_d5e2_11e9_aa9d_fa2819b5a6b3row3_col14 {\n",
       "            background-color:  #6485ec;\n",
       "            color:  #000000;\n",
       "        }    #T_66973e40_d5e2_11e9_aa9d_fa2819b5a6b3row3_col15 {\n",
       "            background-color:  #7b9ff9;\n",
       "            color:  #000000;\n",
       "        }    #T_66973e40_d5e2_11e9_aa9d_fa2819b5a6b3row3_col16 {\n",
       "            background-color:  #7b9ff9;\n",
       "            color:  #000000;\n",
       "        }    #T_66973e40_d5e2_11e9_aa9d_fa2819b5a6b3row4_col0 {\n",
       "            background-color:  #edd2c3;\n",
       "            color:  #000000;\n",
       "        }    #T_66973e40_d5e2_11e9_aa9d_fa2819b5a6b3row4_col1 {\n",
       "            background-color:  #c1d4f4;\n",
       "            color:  #000000;\n",
       "        }    #T_66973e40_d5e2_11e9_aa9d_fa2819b5a6b3row4_col2 {\n",
       "            background-color:  #abc8fd;\n",
       "            color:  #000000;\n",
       "        }    #T_66973e40_d5e2_11e9_aa9d_fa2819b5a6b3row4_col3 {\n",
       "            background-color:  #9fbfff;\n",
       "            color:  #000000;\n",
       "        }    #T_66973e40_d5e2_11e9_aa9d_fa2819b5a6b3row4_col4 {\n",
       "            background-color:  #b40426;\n",
       "            color:  #f1f1f1;\n",
       "        }    #T_66973e40_d5e2_11e9_aa9d_fa2819b5a6b3row4_col5 {\n",
       "            background-color:  #e6d7cf;\n",
       "            color:  #000000;\n",
       "        }    #T_66973e40_d5e2_11e9_aa9d_fa2819b5a6b3row4_col6 {\n",
       "            background-color:  #5b7ae5;\n",
       "            color:  #000000;\n",
       "        }    #T_66973e40_d5e2_11e9_aa9d_fa2819b5a6b3row4_col7 {\n",
       "            background-color:  #b9d0f9;\n",
       "            color:  #000000;\n",
       "        }    #T_66973e40_d5e2_11e9_aa9d_fa2819b5a6b3row4_col8 {\n",
       "            background-color:  #6485ec;\n",
       "            color:  #000000;\n",
       "        }    #T_66973e40_d5e2_11e9_aa9d_fa2819b5a6b3row4_col9 {\n",
       "            background-color:  #cad8ef;\n",
       "            color:  #000000;\n",
       "        }    #T_66973e40_d5e2_11e9_aa9d_fa2819b5a6b3row4_col10 {\n",
       "            background-color:  #a1c0ff;\n",
       "            color:  #000000;\n",
       "        }    #T_66973e40_d5e2_11e9_aa9d_fa2819b5a6b3row4_col11 {\n",
       "            background-color:  #c0d4f5;\n",
       "            color:  #000000;\n",
       "        }    #T_66973e40_d5e2_11e9_aa9d_fa2819b5a6b3row4_col12 {\n",
       "            background-color:  #c4d5f3;\n",
       "            color:  #000000;\n",
       "        }    #T_66973e40_d5e2_11e9_aa9d_fa2819b5a6b3row4_col13 {\n",
       "            background-color:  #f7af91;\n",
       "            color:  #000000;\n",
       "        }    #T_66973e40_d5e2_11e9_aa9d_fa2819b5a6b3row4_col14 {\n",
       "            background-color:  #a9c6fd;\n",
       "            color:  #000000;\n",
       "        }    #T_66973e40_d5e2_11e9_aa9d_fa2819b5a6b3row4_col15 {\n",
       "            background-color:  #aac7fd;\n",
       "            color:  #000000;\n",
       "        }    #T_66973e40_d5e2_11e9_aa9d_fa2819b5a6b3row4_col16 {\n",
       "            background-color:  #93b5fe;\n",
       "            color:  #000000;\n",
       "        }    #T_66973e40_d5e2_11e9_aa9d_fa2819b5a6b3row5_col0 {\n",
       "            background-color:  #d1493f;\n",
       "            color:  #f1f1f1;\n",
       "        }    #T_66973e40_d5e2_11e9_aa9d_fa2819b5a6b3row5_col1 {\n",
       "            background-color:  #4c66d6;\n",
       "            color:  #000000;\n",
       "        }    #T_66973e40_d5e2_11e9_aa9d_fa2819b5a6b3row5_col2 {\n",
       "            background-color:  #98b9ff;\n",
       "            color:  #000000;\n",
       "        }    #T_66973e40_d5e2_11e9_aa9d_fa2819b5a6b3row5_col3 {\n",
       "            background-color:  #f4c6af;\n",
       "            color:  #000000;\n",
       "        }    #T_66973e40_d5e2_11e9_aa9d_fa2819b5a6b3row5_col4 {\n",
       "            background-color:  #94b6ff;\n",
       "            color:  #000000;\n",
       "        }    #T_66973e40_d5e2_11e9_aa9d_fa2819b5a6b3row5_col5 {\n",
       "            background-color:  #b40426;\n",
       "            color:  #f1f1f1;\n",
       "        }    #T_66973e40_d5e2_11e9_aa9d_fa2819b5a6b3row5_col6 {\n",
       "            background-color:  #6a8bef;\n",
       "            color:  #000000;\n",
       "        }    #T_66973e40_d5e2_11e9_aa9d_fa2819b5a6b3row5_col7 {\n",
       "            background-color:  #f5c2aa;\n",
       "            color:  #000000;\n",
       "        }    #T_66973e40_d5e2_11e9_aa9d_fa2819b5a6b3row5_col8 {\n",
       "            background-color:  #82a6fb;\n",
       "            color:  #000000;\n",
       "        }    #T_66973e40_d5e2_11e9_aa9d_fa2819b5a6b3row5_col9 {\n",
       "            background-color:  #98b9ff;\n",
       "            color:  #000000;\n",
       "        }    #T_66973e40_d5e2_11e9_aa9d_fa2819b5a6b3row5_col10 {\n",
       "            background-color:  #6f92f3;\n",
       "            color:  #000000;\n",
       "        }    #T_66973e40_d5e2_11e9_aa9d_fa2819b5a6b3row5_col11 {\n",
       "            background-color:  #ccd9ed;\n",
       "            color:  #000000;\n",
       "        }    #T_66973e40_d5e2_11e9_aa9d_fa2819b5a6b3row5_col12 {\n",
       "            background-color:  #b7cff9;\n",
       "            color:  #000000;\n",
       "        }    #T_66973e40_d5e2_11e9_aa9d_fa2819b5a6b3row5_col13 {\n",
       "            background-color:  #eed0c0;\n",
       "            color:  #000000;\n",
       "        }    #T_66973e40_d5e2_11e9_aa9d_fa2819b5a6b3row5_col14 {\n",
       "            background-color:  #3b4cc0;\n",
       "            color:  #f1f1f1;\n",
       "        }    #T_66973e40_d5e2_11e9_aa9d_fa2819b5a6b3row5_col15 {\n",
       "            background-color:  #5977e3;\n",
       "            color:  #000000;\n",
       "        }    #T_66973e40_d5e2_11e9_aa9d_fa2819b5a6b3row5_col16 {\n",
       "            background-color:  #5b7ae5;\n",
       "            color:  #000000;\n",
       "        }    #T_66973e40_d5e2_11e9_aa9d_fa2819b5a6b3row6_col0 {\n",
       "            background-color:  #b6cefa;\n",
       "            color:  #000000;\n",
       "        }    #T_66973e40_d5e2_11e9_aa9d_fa2819b5a6b3row6_col1 {\n",
       "            background-color:  #f3c8b2;\n",
       "            color:  #000000;\n",
       "        }    #T_66973e40_d5e2_11e9_aa9d_fa2819b5a6b3row6_col2 {\n",
       "            background-color:  #c5d6f2;\n",
       "            color:  #000000;\n",
       "        }    #T_66973e40_d5e2_11e9_aa9d_fa2819b5a6b3row6_col3 {\n",
       "            background-color:  #6e90f2;\n",
       "            color:  #000000;\n",
       "        }    #T_66973e40_d5e2_11e9_aa9d_fa2819b5a6b3row6_col4 {\n",
       "            background-color:  #4055c8;\n",
       "            color:  #f1f1f1;\n",
       "        }    #T_66973e40_d5e2_11e9_aa9d_fa2819b5a6b3row6_col5 {\n",
       "            background-color:  #c3d5f4;\n",
       "            color:  #000000;\n",
       "        }    #T_66973e40_d5e2_11e9_aa9d_fa2819b5a6b3row6_col6 {\n",
       "            background-color:  #b40426;\n",
       "            color:  #f1f1f1;\n",
       "        }    #T_66973e40_d5e2_11e9_aa9d_fa2819b5a6b3row6_col7 {\n",
       "            background-color:  #98b9ff;\n",
       "            color:  #000000;\n",
       "        }    #T_66973e40_d5e2_11e9_aa9d_fa2819b5a6b3row6_col8 {\n",
       "            background-color:  #506bda;\n",
       "            color:  #000000;\n",
       "        }    #T_66973e40_d5e2_11e9_aa9d_fa2819b5a6b3row6_col9 {\n",
       "            background-color:  #f3c8b2;\n",
       "            color:  #000000;\n",
       "        }    #T_66973e40_d5e2_11e9_aa9d_fa2819b5a6b3row6_col10 {\n",
       "            background-color:  #98b9ff;\n",
       "            color:  #000000;\n",
       "        }    #T_66973e40_d5e2_11e9_aa9d_fa2819b5a6b3row6_col11 {\n",
       "            background-color:  #abc8fd;\n",
       "            color:  #000000;\n",
       "        }    #T_66973e40_d5e2_11e9_aa9d_fa2819b5a6b3row6_col12 {\n",
       "            background-color:  #c0d4f5;\n",
       "            color:  #000000;\n",
       "        }    #T_66973e40_d5e2_11e9_aa9d_fa2819b5a6b3row6_col13 {\n",
       "            background-color:  #a9c6fd;\n",
       "            color:  #000000;\n",
       "        }    #T_66973e40_d5e2_11e9_aa9d_fa2819b5a6b3row6_col14 {\n",
       "            background-color:  #f5c1a9;\n",
       "            color:  #000000;\n",
       "        }    #T_66973e40_d5e2_11e9_aa9d_fa2819b5a6b3row6_col15 {\n",
       "            background-color:  #89acfd;\n",
       "            color:  #000000;\n",
       "        }    #T_66973e40_d5e2_11e9_aa9d_fa2819b5a6b3row6_col16 {\n",
       "            background-color:  #779af7;\n",
       "            color:  #000000;\n",
       "        }    #T_66973e40_d5e2_11e9_aa9d_fa2819b5a6b3row7_col0 {\n",
       "            background-color:  #f6bfa6;\n",
       "            color:  #000000;\n",
       "        }    #T_66973e40_d5e2_11e9_aa9d_fa2819b5a6b3row7_col1 {\n",
       "            background-color:  #9dbdff;\n",
       "            color:  #000000;\n",
       "        }    #T_66973e40_d5e2_11e9_aa9d_fa2819b5a6b3row7_col2 {\n",
       "            background-color:  #8caffe;\n",
       "            color:  #000000;\n",
       "        }    #T_66973e40_d5e2_11e9_aa9d_fa2819b5a6b3row7_col3 {\n",
       "            background-color:  #e3d9d3;\n",
       "            color:  #000000;\n",
       "        }    #T_66973e40_d5e2_11e9_aa9d_fa2819b5a6b3row7_col4 {\n",
       "            background-color:  #485fd1;\n",
       "            color:  #f1f1f1;\n",
       "        }    #T_66973e40_d5e2_11e9_aa9d_fa2819b5a6b3row7_col5 {\n",
       "            background-color:  #f6bfa6;\n",
       "            color:  #000000;\n",
       "        }    #T_66973e40_d5e2_11e9_aa9d_fa2819b5a6b3row7_col6 {\n",
       "            background-color:  #3b4cc0;\n",
       "            color:  #f1f1f1;\n",
       "        }    #T_66973e40_d5e2_11e9_aa9d_fa2819b5a6b3row7_col7 {\n",
       "            background-color:  #b40426;\n",
       "            color:  #f1f1f1;\n",
       "        }    #T_66973e40_d5e2_11e9_aa9d_fa2819b5a6b3row7_col8 {\n",
       "            background-color:  #4358cb;\n",
       "            color:  #f1f1f1;\n",
       "        }    #T_66973e40_d5e2_11e9_aa9d_fa2819b5a6b3row7_col9 {\n",
       "            background-color:  #3b4cc0;\n",
       "            color:  #f1f1f1;\n",
       "        }    #T_66973e40_d5e2_11e9_aa9d_fa2819b5a6b3row7_col10 {\n",
       "            background-color:  #3b4cc0;\n",
       "            color:  #f1f1f1;\n",
       "        }    #T_66973e40_d5e2_11e9_aa9d_fa2819b5a6b3row7_col11 {\n",
       "            background-color:  #a5c3fe;\n",
       "            color:  #000000;\n",
       "        }    #T_66973e40_d5e2_11e9_aa9d_fa2819b5a6b3row7_col12 {\n",
       "            background-color:  #d5dbe5;\n",
       "            color:  #000000;\n",
       "        }    #T_66973e40_d5e2_11e9_aa9d_fa2819b5a6b3row7_col13 {\n",
       "            background-color:  #cdd9ec;\n",
       "            color:  #000000;\n",
       "        }    #T_66973e40_d5e2_11e9_aa9d_fa2819b5a6b3row7_col14 {\n",
       "            background-color:  #455cce;\n",
       "            color:  #f1f1f1;\n",
       "        }    #T_66973e40_d5e2_11e9_aa9d_fa2819b5a6b3row7_col15 {\n",
       "            background-color:  #3b4cc0;\n",
       "            color:  #f1f1f1;\n",
       "        }    #T_66973e40_d5e2_11e9_aa9d_fa2819b5a6b3row7_col16 {\n",
       "            background-color:  #3b4cc0;\n",
       "            color:  #f1f1f1;\n",
       "        }    #T_66973e40_d5e2_11e9_aa9d_fa2819b5a6b3row8_col0 {\n",
       "            background-color:  #e7d7ce;\n",
       "            color:  #000000;\n",
       "        }    #T_66973e40_d5e2_11e9_aa9d_fa2819b5a6b3row8_col1 {\n",
       "            background-color:  #ccd9ed;\n",
       "            color:  #000000;\n",
       "        }    #T_66973e40_d5e2_11e9_aa9d_fa2819b5a6b3row8_col2 {\n",
       "            background-color:  #b9d0f9;\n",
       "            color:  #000000;\n",
       "        }    #T_66973e40_d5e2_11e9_aa9d_fa2819b5a6b3row8_col3 {\n",
       "            background-color:  #799cf8;\n",
       "            color:  #000000;\n",
       "        }    #T_66973e40_d5e2_11e9_aa9d_fa2819b5a6b3row8_col4 {\n",
       "            background-color:  #688aef;\n",
       "            color:  #000000;\n",
       "        }    #T_66973e40_d5e2_11e9_aa9d_fa2819b5a6b3row8_col5 {\n",
       "            background-color:  #e0dbd8;\n",
       "            color:  #000000;\n",
       "        }    #T_66973e40_d5e2_11e9_aa9d_fa2819b5a6b3row8_col6 {\n",
       "            background-color:  #6e90f2;\n",
       "            color:  #000000;\n",
       "        }    #T_66973e40_d5e2_11e9_aa9d_fa2819b5a6b3row8_col7 {\n",
       "            background-color:  #b7cff9;\n",
       "            color:  #000000;\n",
       "        }    #T_66973e40_d5e2_11e9_aa9d_fa2819b5a6b3row8_col8 {\n",
       "            background-color:  #b40426;\n",
       "            color:  #f1f1f1;\n",
       "        }    #T_66973e40_d5e2_11e9_aa9d_fa2819b5a6b3row8_col9 {\n",
       "            background-color:  #c6d6f1;\n",
       "            color:  #000000;\n",
       "        }    #T_66973e40_d5e2_11e9_aa9d_fa2819b5a6b3row8_col10 {\n",
       "            background-color:  #84a7fc;\n",
       "            color:  #000000;\n",
       "        }    #T_66973e40_d5e2_11e9_aa9d_fa2819b5a6b3row8_col11 {\n",
       "            background-color:  #b6cefa;\n",
       "            color:  #000000;\n",
       "        }    #T_66973e40_d5e2_11e9_aa9d_fa2819b5a6b3row8_col12 {\n",
       "            background-color:  #c3d5f4;\n",
       "            color:  #000000;\n",
       "        }    #T_66973e40_d5e2_11e9_aa9d_fa2819b5a6b3row8_col13 {\n",
       "            background-color:  #b7cff9;\n",
       "            color:  #000000;\n",
       "        }    #T_66973e40_d5e2_11e9_aa9d_fa2819b5a6b3row8_col14 {\n",
       "            background-color:  #a6c4fe;\n",
       "            color:  #000000;\n",
       "        }    #T_66973e40_d5e2_11e9_aa9d_fa2819b5a6b3row8_col15 {\n",
       "            background-color:  #93b5fe;\n",
       "            color:  #000000;\n",
       "        }    #T_66973e40_d5e2_11e9_aa9d_fa2819b5a6b3row8_col16 {\n",
       "            background-color:  #8db0fe;\n",
       "            color:  #000000;\n",
       "        }    #T_66973e40_d5e2_11e9_aa9d_fa2819b5a6b3row9_col0 {\n",
       "            background-color:  #afcafc;\n",
       "            color:  #000000;\n",
       "        }    #T_66973e40_d5e2_11e9_aa9d_fa2819b5a6b3row9_col1 {\n",
       "            background-color:  #f7bca1;\n",
       "            color:  #000000;\n",
       "        }    #T_66973e40_d5e2_11e9_aa9d_fa2819b5a6b3row9_col2 {\n",
       "            background-color:  #cbd8ee;\n",
       "            color:  #000000;\n",
       "        }    #T_66973e40_d5e2_11e9_aa9d_fa2819b5a6b3row9_col3 {\n",
       "            background-color:  #536edd;\n",
       "            color:  #000000;\n",
       "        }    #T_66973e40_d5e2_11e9_aa9d_fa2819b5a6b3row9_col4 {\n",
       "            background-color:  #6282ea;\n",
       "            color:  #000000;\n",
       "        }    #T_66973e40_d5e2_11e9_aa9d_fa2819b5a6b3row9_col5 {\n",
       "            background-color:  #9fbfff;\n",
       "            color:  #000000;\n",
       "        }    #T_66973e40_d5e2_11e9_aa9d_fa2819b5a6b3row9_col6 {\n",
       "            background-color:  #d2dbe8;\n",
       "            color:  #000000;\n",
       "        }    #T_66973e40_d5e2_11e9_aa9d_fa2819b5a6b3row9_col7 {\n",
       "            background-color:  #3b4cc0;\n",
       "            color:  #f1f1f1;\n",
       "        }    #T_66973e40_d5e2_11e9_aa9d_fa2819b5a6b3row9_col8 {\n",
       "            background-color:  #5a78e4;\n",
       "            color:  #000000;\n",
       "        }    #T_66973e40_d5e2_11e9_aa9d_fa2819b5a6b3row9_col9 {\n",
       "            background-color:  #b40426;\n",
       "            color:  #f1f1f1;\n",
       "        }    #T_66973e40_d5e2_11e9_aa9d_fa2819b5a6b3row9_col10 {\n",
       "            background-color:  #6a8bef;\n",
       "            color:  #000000;\n",
       "        }    #T_66973e40_d5e2_11e9_aa9d_fa2819b5a6b3row9_col11 {\n",
       "            background-color:  #d3dbe7;\n",
       "            color:  #000000;\n",
       "        }    #T_66973e40_d5e2_11e9_aa9d_fa2819b5a6b3row9_col12 {\n",
       "            background-color:  #b1cbfc;\n",
       "            color:  #000000;\n",
       "        }    #T_66973e40_d5e2_11e9_aa9d_fa2819b5a6b3row9_col13 {\n",
       "            background-color:  #adc9fd;\n",
       "            color:  #000000;\n",
       "        }    #T_66973e40_d5e2_11e9_aa9d_fa2819b5a6b3row9_col14 {\n",
       "            background-color:  #f7ac8e;\n",
       "            color:  #000000;\n",
       "        }    #T_66973e40_d5e2_11e9_aa9d_fa2819b5a6b3row9_col15 {\n",
       "            background-color:  #7a9df8;\n",
       "            color:  #000000;\n",
       "        }    #T_66973e40_d5e2_11e9_aa9d_fa2819b5a6b3row9_col16 {\n",
       "            background-color:  #6485ec;\n",
       "            color:  #000000;\n",
       "        }    #T_66973e40_d5e2_11e9_aa9d_fa2819b5a6b3row10_col0 {\n",
       "            background-color:  #d5dbe5;\n",
       "            color:  #000000;\n",
       "        }    #T_66973e40_d5e2_11e9_aa9d_fa2819b5a6b3row10_col1 {\n",
       "            background-color:  #dcdddd;\n",
       "            color:  #000000;\n",
       "        }    #T_66973e40_d5e2_11e9_aa9d_fa2819b5a6b3row10_col2 {\n",
       "            background-color:  #c9d7f0;\n",
       "            color:  #000000;\n",
       "        }    #T_66973e40_d5e2_11e9_aa9d_fa2819b5a6b3row10_col3 {\n",
       "            background-color:  #8caffe;\n",
       "            color:  #000000;\n",
       "        }    #T_66973e40_d5e2_11e9_aa9d_fa2819b5a6b3row10_col4 {\n",
       "            background-color:  #7da0f9;\n",
       "            color:  #000000;\n",
       "        }    #T_66973e40_d5e2_11e9_aa9d_fa2819b5a6b3row10_col5 {\n",
       "            background-color:  #bfd3f6;\n",
       "            color:  #000000;\n",
       "        }    #T_66973e40_d5e2_11e9_aa9d_fa2819b5a6b3row10_col6 {\n",
       "            background-color:  #8db0fe;\n",
       "            color:  #000000;\n",
       "        }    #T_66973e40_d5e2_11e9_aa9d_fa2819b5a6b3row10_col7 {\n",
       "            background-color:  #8db0fe;\n",
       "            color:  #000000;\n",
       "        }    #T_66973e40_d5e2_11e9_aa9d_fa2819b5a6b3row10_col8 {\n",
       "            background-color:  #5a78e4;\n",
       "            color:  #000000;\n",
       "        }    #T_66973e40_d5e2_11e9_aa9d_fa2819b5a6b3row10_col9 {\n",
       "            background-color:  #b5cdfa;\n",
       "            color:  #000000;\n",
       "        }    #T_66973e40_d5e2_11e9_aa9d_fa2819b5a6b3row10_col10 {\n",
       "            background-color:  #b40426;\n",
       "            color:  #f1f1f1;\n",
       "        }    #T_66973e40_d5e2_11e9_aa9d_fa2819b5a6b3row10_col11 {\n",
       "            background-color:  #adc9fd;\n",
       "            color:  #000000;\n",
       "        }    #T_66973e40_d5e2_11e9_aa9d_fa2819b5a6b3row10_col12 {\n",
       "            background-color:  #b3cdfb;\n",
       "            color:  #000000;\n",
       "        }    #T_66973e40_d5e2_11e9_aa9d_fa2819b5a6b3row10_col13 {\n",
       "            background-color:  #9fbfff;\n",
       "            color:  #000000;\n",
       "        }    #T_66973e40_d5e2_11e9_aa9d_fa2819b5a6b3row10_col14 {\n",
       "            background-color:  #c6d6f1;\n",
       "            color:  #000000;\n",
       "        }    #T_66973e40_d5e2_11e9_aa9d_fa2819b5a6b3row10_col15 {\n",
       "            background-color:  #bbd1f8;\n",
       "            color:  #000000;\n",
       "        }    #T_66973e40_d5e2_11e9_aa9d_fa2819b5a6b3row10_col16 {\n",
       "            background-color:  #b6cefa;\n",
       "            color:  #000000;\n",
       "        }    #T_66973e40_d5e2_11e9_aa9d_fa2819b5a6b3row11_col0 {\n",
       "            background-color:  #dfdbd9;\n",
       "            color:  #000000;\n",
       "        }    #T_66973e40_d5e2_11e9_aa9d_fa2819b5a6b3row11_col1 {\n",
       "            background-color:  #d1dae9;\n",
       "            color:  #000000;\n",
       "        }    #T_66973e40_d5e2_11e9_aa9d_fa2819b5a6b3row11_col2 {\n",
       "            background-color:  #d6dce4;\n",
       "            color:  #000000;\n",
       "        }    #T_66973e40_d5e2_11e9_aa9d_fa2819b5a6b3row11_col3 {\n",
       "            background-color:  #98b9ff;\n",
       "            color:  #000000;\n",
       "        }    #T_66973e40_d5e2_11e9_aa9d_fa2819b5a6b3row11_col4 {\n",
       "            background-color:  #6a8bef;\n",
       "            color:  #000000;\n",
       "        }    #T_66973e40_d5e2_11e9_aa9d_fa2819b5a6b3row11_col5 {\n",
       "            background-color:  #dcdddd;\n",
       "            color:  #000000;\n",
       "        }    #T_66973e40_d5e2_11e9_aa9d_fa2819b5a6b3row11_col6 {\n",
       "            background-color:  #688aef;\n",
       "            color:  #000000;\n",
       "        }    #T_66973e40_d5e2_11e9_aa9d_fa2819b5a6b3row11_col7 {\n",
       "            background-color:  #b6cefa;\n",
       "            color:  #000000;\n",
       "        }    #T_66973e40_d5e2_11e9_aa9d_fa2819b5a6b3row11_col8 {\n",
       "            background-color:  #5875e1;\n",
       "            color:  #000000;\n",
       "        }    #T_66973e40_d5e2_11e9_aa9d_fa2819b5a6b3row11_col9 {\n",
       "            background-color:  #dddcdc;\n",
       "            color:  #000000;\n",
       "        }    #T_66973e40_d5e2_11e9_aa9d_fa2819b5a6b3row11_col10 {\n",
       "            background-color:  #7699f6;\n",
       "            color:  #000000;\n",
       "        }    #T_66973e40_d5e2_11e9_aa9d_fa2819b5a6b3row11_col11 {\n",
       "            background-color:  #b40426;\n",
       "            color:  #f1f1f1;\n",
       "        }    #T_66973e40_d5e2_11e9_aa9d_fa2819b5a6b3row11_col12 {\n",
       "            background-color:  #3b4cc0;\n",
       "            color:  #f1f1f1;\n",
       "        }    #T_66973e40_d5e2_11e9_aa9d_fa2819b5a6b3row11_col13 {\n",
       "            background-color:  #a9c6fd;\n",
       "            color:  #000000;\n",
       "        }    #T_66973e40_d5e2_11e9_aa9d_fa2819b5a6b3row11_col14 {\n",
       "            background-color:  #c7d7f0;\n",
       "            color:  #000000;\n",
       "        }    #T_66973e40_d5e2_11e9_aa9d_fa2819b5a6b3row11_col15 {\n",
       "            background-color:  #c6d6f1;\n",
       "            color:  #000000;\n",
       "        }    #T_66973e40_d5e2_11e9_aa9d_fa2819b5a6b3row11_col16 {\n",
       "            background-color:  #bed2f6;\n",
       "            color:  #000000;\n",
       "        }    #T_66973e40_d5e2_11e9_aa9d_fa2819b5a6b3row12_col0 {\n",
       "            background-color:  #c4d5f3;\n",
       "            color:  #000000;\n",
       "        }    #T_66973e40_d5e2_11e9_aa9d_fa2819b5a6b3row12_col1 {\n",
       "            background-color:  #e5d8d1;\n",
       "            color:  #000000;\n",
       "        }    #T_66973e40_d5e2_11e9_aa9d_fa2819b5a6b3row12_col2 {\n",
       "            background-color:  #7396f5;\n",
       "            color:  #000000;\n",
       "        }    #T_66973e40_d5e2_11e9_aa9d_fa2819b5a6b3row12_col3 {\n",
       "            background-color:  #a6c4fe;\n",
       "            color:  #000000;\n",
       "        }    #T_66973e40_d5e2_11e9_aa9d_fa2819b5a6b3row12_col4 {\n",
       "            background-color:  #7093f3;\n",
       "            color:  #000000;\n",
       "        }    #T_66973e40_d5e2_11e9_aa9d_fa2819b5a6b3row12_col5 {\n",
       "            background-color:  #ccd9ed;\n",
       "            color:  #000000;\n",
       "        }    #T_66973e40_d5e2_11e9_aa9d_fa2819b5a6b3row12_col6 {\n",
       "            background-color:  #84a7fc;\n",
       "            color:  #000000;\n",
       "        }    #T_66973e40_d5e2_11e9_aa9d_fa2819b5a6b3row12_col7 {\n",
       "            background-color:  #dfdbd9;\n",
       "            color:  #000000;\n",
       "        }    #T_66973e40_d5e2_11e9_aa9d_fa2819b5a6b3row12_col8 {\n",
       "            background-color:  #6a8bef;\n",
       "            color:  #000000;\n",
       "        }    #T_66973e40_d5e2_11e9_aa9d_fa2819b5a6b3row12_col9 {\n",
       "            background-color:  #c0d4f5;\n",
       "            color:  #000000;\n",
       "        }    #T_66973e40_d5e2_11e9_aa9d_fa2819b5a6b3row12_col10 {\n",
       "            background-color:  #80a3fa;\n",
       "            color:  #000000;\n",
       "        }    #T_66973e40_d5e2_11e9_aa9d_fa2819b5a6b3row12_col11 {\n",
       "            background-color:  #3b4cc0;\n",
       "            color:  #f1f1f1;\n",
       "        }    #T_66973e40_d5e2_11e9_aa9d_fa2819b5a6b3row12_col12 {\n",
       "            background-color:  #b40426;\n",
       "            color:  #f1f1f1;\n",
       "        }    #T_66973e40_d5e2_11e9_aa9d_fa2819b5a6b3row12_col13 {\n",
       "            background-color:  #cfdaea;\n",
       "            color:  #000000;\n",
       "        }    #T_66973e40_d5e2_11e9_aa9d_fa2819b5a6b3row12_col14 {\n",
       "            background-color:  #9bbcff;\n",
       "            color:  #000000;\n",
       "        }    #T_66973e40_d5e2_11e9_aa9d_fa2819b5a6b3row12_col15 {\n",
       "            background-color:  #6687ed;\n",
       "            color:  #000000;\n",
       "        }    #T_66973e40_d5e2_11e9_aa9d_fa2819b5a6b3row12_col16 {\n",
       "            background-color:  #5b7ae5;\n",
       "            color:  #000000;\n",
       "        }    #T_66973e40_d5e2_11e9_aa9d_fa2819b5a6b3row13_col0 {\n",
       "            background-color:  #f6bda2;\n",
       "            color:  #000000;\n",
       "        }    #T_66973e40_d5e2_11e9_aa9d_fa2819b5a6b3row13_col1 {\n",
       "            background-color:  #a1c0ff;\n",
       "            color:  #000000;\n",
       "        }    #T_66973e40_d5e2_11e9_aa9d_fa2819b5a6b3row13_col2 {\n",
       "            background-color:  #3b4cc0;\n",
       "            color:  #f1f1f1;\n",
       "        }    #T_66973e40_d5e2_11e9_aa9d_fa2819b5a6b3row13_col3 {\n",
       "            background-color:  #cfdaea;\n",
       "            color:  #000000;\n",
       "        }    #T_66973e40_d5e2_11e9_aa9d_fa2819b5a6b3row13_col4 {\n",
       "            background-color:  #eed0c0;\n",
       "            color:  #000000;\n",
       "        }    #T_66973e40_d5e2_11e9_aa9d_fa2819b5a6b3row13_col5 {\n",
       "            background-color:  #f5c2aa;\n",
       "            color:  #000000;\n",
       "        }    #T_66973e40_d5e2_11e9_aa9d_fa2819b5a6b3row13_col6 {\n",
       "            background-color:  #6b8df0;\n",
       "            color:  #000000;\n",
       "        }    #T_66973e40_d5e2_11e9_aa9d_fa2819b5a6b3row13_col7 {\n",
       "            background-color:  #dbdcde;\n",
       "            color:  #000000;\n",
       "        }    #T_66973e40_d5e2_11e9_aa9d_fa2819b5a6b3row13_col8 {\n",
       "            background-color:  #6180e9;\n",
       "            color:  #000000;\n",
       "        }    #T_66973e40_d5e2_11e9_aa9d_fa2819b5a6b3row13_col9 {\n",
       "            background-color:  #c1d4f4;\n",
       "            color:  #000000;\n",
       "        }    #T_66973e40_d5e2_11e9_aa9d_fa2819b5a6b3row13_col10 {\n",
       "            background-color:  #6b8df0;\n",
       "            color:  #000000;\n",
       "        }    #T_66973e40_d5e2_11e9_aa9d_fa2819b5a6b3row13_col11 {\n",
       "            background-color:  #aec9fc;\n",
       "            color:  #000000;\n",
       "        }    #T_66973e40_d5e2_11e9_aa9d_fa2819b5a6b3row13_col12 {\n",
       "            background-color:  #d3dbe7;\n",
       "            color:  #000000;\n",
       "        }    #T_66973e40_d5e2_11e9_aa9d_fa2819b5a6b3row13_col13 {\n",
       "            background-color:  #b40426;\n",
       "            color:  #f1f1f1;\n",
       "        }    #T_66973e40_d5e2_11e9_aa9d_fa2819b5a6b3row13_col14 {\n",
       "            background-color:  #92b4fe;\n",
       "            color:  #000000;\n",
       "        }    #T_66973e40_d5e2_11e9_aa9d_fa2819b5a6b3row13_col15 {\n",
       "            background-color:  #89acfd;\n",
       "            color:  #000000;\n",
       "        }    #T_66973e40_d5e2_11e9_aa9d_fa2819b5a6b3row13_col16 {\n",
       "            background-color:  #7da0f9;\n",
       "            color:  #000000;\n",
       "        }    #T_66973e40_d5e2_11e9_aa9d_fa2819b5a6b3row14_col0 {\n",
       "            background-color:  #7396f5;\n",
       "            color:  #000000;\n",
       "        }    #T_66973e40_d5e2_11e9_aa9d_fa2819b5a6b3row14_col1 {\n",
       "            background-color:  #ee8669;\n",
       "            color:  #000000;\n",
       "        }    #T_66973e40_d5e2_11e9_aa9d_fa2819b5a6b3row14_col2 {\n",
       "            background-color:  #d2dbe8;\n",
       "            color:  #000000;\n",
       "        }    #T_66973e40_d5e2_11e9_aa9d_fa2819b5a6b3row14_col3 {\n",
       "            background-color:  #3f53c6;\n",
       "            color:  #f1f1f1;\n",
       "        }    #T_66973e40_d5e2_11e9_aa9d_fa2819b5a6b3row14_col4 {\n",
       "            background-color:  #506bda;\n",
       "            color:  #000000;\n",
       "        }    #T_66973e40_d5e2_11e9_aa9d_fa2819b5a6b3row14_col5 {\n",
       "            background-color:  #6180e9;\n",
       "            color:  #000000;\n",
       "        }    #T_66973e40_d5e2_11e9_aa9d_fa2819b5a6b3row14_col6 {\n",
       "            background-color:  #e7d7ce;\n",
       "            color:  #000000;\n",
       "        }    #T_66973e40_d5e2_11e9_aa9d_fa2819b5a6b3row14_col7 {\n",
       "            background-color:  #6282ea;\n",
       "            color:  #000000;\n",
       "        }    #T_66973e40_d5e2_11e9_aa9d_fa2819b5a6b3row14_col8 {\n",
       "            background-color:  #4a63d3;\n",
       "            color:  #f1f1f1;\n",
       "        }    #T_66973e40_d5e2_11e9_aa9d_fa2819b5a6b3row14_col9 {\n",
       "            background-color:  #f6a283;\n",
       "            color:  #000000;\n",
       "        }    #T_66973e40_d5e2_11e9_aa9d_fa2819b5a6b3row14_col10 {\n",
       "            background-color:  #9ebeff;\n",
       "            color:  #000000;\n",
       "        }    #T_66973e40_d5e2_11e9_aa9d_fa2819b5a6b3row14_col11 {\n",
       "            background-color:  #cbd8ee;\n",
       "            color:  #000000;\n",
       "        }    #T_66973e40_d5e2_11e9_aa9d_fa2819b5a6b3row14_col12 {\n",
       "            background-color:  #a1c0ff;\n",
       "            color:  #000000;\n",
       "        }    #T_66973e40_d5e2_11e9_aa9d_fa2819b5a6b3row14_col13 {\n",
       "            background-color:  #92b4fe;\n",
       "            color:  #000000;\n",
       "        }    #T_66973e40_d5e2_11e9_aa9d_fa2819b5a6b3row14_col14 {\n",
       "            background-color:  #b40426;\n",
       "            color:  #f1f1f1;\n",
       "        }    #T_66973e40_d5e2_11e9_aa9d_fa2819b5a6b3row14_col15 {\n",
       "            background-color:  #cad8ef;\n",
       "            color:  #000000;\n",
       "        }    #T_66973e40_d5e2_11e9_aa9d_fa2819b5a6b3row14_col16 {\n",
       "            background-color:  #b6cefa;\n",
       "            color:  #000000;\n",
       "        }    #T_66973e40_d5e2_11e9_aa9d_fa2819b5a6b3row15_col0 {\n",
       "            background-color:  #b9d0f9;\n",
       "            color:  #000000;\n",
       "        }    #T_66973e40_d5e2_11e9_aa9d_fa2819b5a6b3row15_col1 {\n",
       "            background-color:  #f1cdba;\n",
       "            color:  #000000;\n",
       "        }    #T_66973e40_d5e2_11e9_aa9d_fa2819b5a6b3row15_col2 {\n",
       "            background-color:  #cbd8ee;\n",
       "            color:  #000000;\n",
       "        }    #T_66973e40_d5e2_11e9_aa9d_fa2819b5a6b3row15_col3 {\n",
       "            background-color:  #8db0fe;\n",
       "            color:  #000000;\n",
       "        }    #T_66973e40_d5e2_11e9_aa9d_fa2819b5a6b3row15_col4 {\n",
       "            background-color:  #86a9fc;\n",
       "            color:  #000000;\n",
       "        }    #T_66973e40_d5e2_11e9_aa9d_fa2819b5a6b3row15_col5 {\n",
       "            background-color:  #aec9fc;\n",
       "            color:  #000000;\n",
       "        }    #T_66973e40_d5e2_11e9_aa9d_fa2819b5a6b3row15_col6 {\n",
       "            background-color:  #7b9ff9;\n",
       "            color:  #000000;\n",
       "        }    #T_66973e40_d5e2_11e9_aa9d_fa2819b5a6b3row15_col7 {\n",
       "            background-color:  #8caffe;\n",
       "            color:  #000000;\n",
       "        }    #T_66973e40_d5e2_11e9_aa9d_fa2819b5a6b3row15_col8 {\n",
       "            background-color:  #688aef;\n",
       "            color:  #000000;\n",
       "        }    #T_66973e40_d5e2_11e9_aa9d_fa2819b5a6b3row15_col9 {\n",
       "            background-color:  #bfd3f6;\n",
       "            color:  #000000;\n",
       "        }    #T_66973e40_d5e2_11e9_aa9d_fa2819b5a6b3row15_col10 {\n",
       "            background-color:  #bad0f8;\n",
       "            color:  #000000;\n",
       "        }    #T_66973e40_d5e2_11e9_aa9d_fa2819b5a6b3row15_col11 {\n",
       "            background-color:  #e4d9d2;\n",
       "            color:  #000000;\n",
       "        }    #T_66973e40_d5e2_11e9_aa9d_fa2819b5a6b3row15_col12 {\n",
       "            background-color:  #9fbfff;\n",
       "            color:  #000000;\n",
       "        }    #T_66973e40_d5e2_11e9_aa9d_fa2819b5a6b3row15_col13 {\n",
       "            background-color:  #b6cefa;\n",
       "            color:  #000000;\n",
       "        }    #T_66973e40_d5e2_11e9_aa9d_fa2819b5a6b3row15_col14 {\n",
       "            background-color:  #e4d9d2;\n",
       "            color:  #000000;\n",
       "        }    #T_66973e40_d5e2_11e9_aa9d_fa2819b5a6b3row15_col15 {\n",
       "            background-color:  #b40426;\n",
       "            color:  #f1f1f1;\n",
       "        }    #T_66973e40_d5e2_11e9_aa9d_fa2819b5a6b3row15_col16 {\n",
       "            background-color:  #bb1b2c;\n",
       "            color:  #f1f1f1;\n",
       "        }    #T_66973e40_d5e2_11e9_aa9d_fa2819b5a6b3row16_col0 {\n",
       "            background-color:  #c0d4f5;\n",
       "            color:  #000000;\n",
       "        }    #T_66973e40_d5e2_11e9_aa9d_fa2819b5a6b3row16_col1 {\n",
       "            background-color:  #ecd3c5;\n",
       "            color:  #000000;\n",
       "        }    #T_66973e40_d5e2_11e9_aa9d_fa2819b5a6b3row16_col2 {\n",
       "            background-color:  #c6d6f1;\n",
       "            color:  #000000;\n",
       "        }    #T_66973e40_d5e2_11e9_aa9d_fa2819b5a6b3row16_col3 {\n",
       "            background-color:  #94b6ff;\n",
       "            color:  #000000;\n",
       "        }    #T_66973e40_d5e2_11e9_aa9d_fa2819b5a6b3row16_col4 {\n",
       "            background-color:  #7699f6;\n",
       "            color:  #000000;\n",
       "        }    #T_66973e40_d5e2_11e9_aa9d_fa2819b5a6b3row16_col5 {\n",
       "            background-color:  #b6cefa;\n",
       "            color:  #000000;\n",
       "        }    #T_66973e40_d5e2_11e9_aa9d_fa2819b5a6b3row16_col6 {\n",
       "            background-color:  #7295f4;\n",
       "            color:  #000000;\n",
       "        }    #T_66973e40_d5e2_11e9_aa9d_fa2819b5a6b3row16_col7 {\n",
       "            background-color:  #94b6ff;\n",
       "            color:  #000000;\n",
       "        }    #T_66973e40_d5e2_11e9_aa9d_fa2819b5a6b3row16_col8 {\n",
       "            background-color:  #6c8ff1;\n",
       "            color:  #000000;\n",
       "        }    #T_66973e40_d5e2_11e9_aa9d_fa2819b5a6b3row16_col9 {\n",
       "            background-color:  #b6cefa;\n",
       "            color:  #000000;\n",
       "        }    #T_66973e40_d5e2_11e9_aa9d_fa2819b5a6b3row16_col10 {\n",
       "            background-color:  #bbd1f8;\n",
       "            color:  #000000;\n",
       "        }    #T_66973e40_d5e2_11e9_aa9d_fa2819b5a6b3row16_col11 {\n",
       "            background-color:  #e2dad5;\n",
       "            color:  #000000;\n",
       "        }    #T_66973e40_d5e2_11e9_aa9d_fa2819b5a6b3row16_col12 {\n",
       "            background-color:  #9dbdff;\n",
       "            color:  #000000;\n",
       "        }    #T_66973e40_d5e2_11e9_aa9d_fa2819b5a6b3row16_col13 {\n",
       "            background-color:  #b3cdfb;\n",
       "            color:  #000000;\n",
       "        }    #T_66973e40_d5e2_11e9_aa9d_fa2819b5a6b3row16_col14 {\n",
       "            background-color:  #dbdcde;\n",
       "            color:  #000000;\n",
       "        }    #T_66973e40_d5e2_11e9_aa9d_fa2819b5a6b3row16_col15 {\n",
       "            background-color:  #bb1b2c;\n",
       "            color:  #f1f1f1;\n",
       "        }    #T_66973e40_d5e2_11e9_aa9d_fa2819b5a6b3row16_col16 {\n",
       "            background-color:  #b40426;\n",
       "            color:  #f1f1f1;\n",
       "        }</style><table id=\"T_66973e40_d5e2_11e9_aa9d_fa2819b5a6b3\" ><thead>    <tr>        <th class=\"blank level0\" ></th>        <th class=\"col_heading level0 col0\" >x1</th>        <th class=\"col_heading level0 col1\" >x2</th>        <th class=\"col_heading level0 col2\" >x8</th>        <th class=\"col_heading level0 col3\" >x9</th>        <th class=\"col_heading level0 col4\" >x10</th>        <th class=\"col_heading level0 col5\" >x11</th>        <th class=\"col_heading level0 col6\" >x12</th>        <th class=\"col_heading level0 col7\" >x21</th>        <th class=\"col_heading level0 col8\" >x22</th>        <th class=\"col_heading level0 col9\" >x23</th>        <th class=\"col_heading level0 col10\" >x24</th>        <th class=\"col_heading level0 col11\" >x25</th>        <th class=\"col_heading level0 col12\" >x26</th>        <th class=\"col_heading level0 col13\" >x27</th>        <th class=\"col_heading level0 col14\" >x30</th>        <th class=\"col_heading level0 col15\" >x31</th>        <th class=\"col_heading level0 col16\" >x32</th>    </tr></thead><tbody>\n",
       "                <tr>\n",
       "                        <th id=\"T_66973e40_d5e2_11e9_aa9d_fa2819b5a6b3level0_row0\" class=\"row_heading level0 row0\" >x1</th>\n",
       "                        <td id=\"T_66973e40_d5e2_11e9_aa9d_fa2819b5a6b3row0_col0\" class=\"data row0 col0\" >1</td>\n",
       "                        <td id=\"T_66973e40_d5e2_11e9_aa9d_fa2819b5a6b3row0_col1\" class=\"data row0 col1\" >-0.940529</td>\n",
       "                        <td id=\"T_66973e40_d5e2_11e9_aa9d_fa2819b5a6b3row0_col2\" class=\"data row0 col2\" >-0.0639853</td>\n",
       "                        <td id=\"T_66973e40_d5e2_11e9_aa9d_fa2819b5a6b3row0_col3\" class=\"data row0 col3\" >0.436674</td>\n",
       "                        <td id=\"T_66973e40_d5e2_11e9_aa9d_fa2819b5a6b3row0_col4\" class=\"data row0 col4\" >0.161794</td>\n",
       "                        <td id=\"T_66973e40_d5e2_11e9_aa9d_fa2819b5a6b3row0_col5\" class=\"data row0 col5\" >0.833516</td>\n",
       "                        <td id=\"T_66973e40_d5e2_11e9_aa9d_fa2819b5a6b3row0_col6\" class=\"data row0 col6\" >-0.224884</td>\n",
       "                        <td id=\"T_66973e40_d5e2_11e9_aa9d_fa2819b5a6b3row0_col7\" class=\"data row0 col7\" >0.304594</td>\n",
       "                        <td id=\"T_66973e40_d5e2_11e9_aa9d_fa2819b5a6b3row0_col8\" class=\"data row0 col8\" >0.11103</td>\n",
       "                        <td id=\"T_66973e40_d5e2_11e9_aa9d_fa2819b5a6b3row0_col9\" class=\"data row0 col9\" >-0.263264</td>\n",
       "                        <td id=\"T_66973e40_d5e2_11e9_aa9d_fa2819b5a6b3row0_col10\" class=\"data row0 col10\" >-0.0269637</td>\n",
       "                        <td id=\"T_66973e40_d5e2_11e9_aa9d_fa2819b5a6b3row0_col11\" class=\"data row0 col11\" >0.050935</td>\n",
       "                        <td id=\"T_66973e40_d5e2_11e9_aa9d_fa2819b5a6b3row0_col12\" class=\"data row0 col12\" >-0.142148</td>\n",
       "                        <td id=\"T_66973e40_d5e2_11e9_aa9d_fa2819b5a6b3row0_col13\" class=\"data row0 col13\" >0.319646</td>\n",
       "                        <td id=\"T_66973e40_d5e2_11e9_aa9d_fa2819b5a6b3row0_col14\" class=\"data row0 col14\" >-0.594034</td>\n",
       "                        <td id=\"T_66973e40_d5e2_11e9_aa9d_fa2819b5a6b3row0_col15\" class=\"data row0 col15\" >-0.209468</td>\n",
       "                        <td id=\"T_66973e40_d5e2_11e9_aa9d_fa2819b5a6b3row0_col16\" class=\"data row0 col16\" >-0.166435</td>\n",
       "            </tr>\n",
       "            <tr>\n",
       "                        <th id=\"T_66973e40_d5e2_11e9_aa9d_fa2819b5a6b3level0_row1\" class=\"row_heading level0 row1\" >x2</th>\n",
       "                        <td id=\"T_66973e40_d5e2_11e9_aa9d_fa2819b5a6b3row1_col0\" class=\"data row1 col0\" >-0.940529</td>\n",
       "                        <td id=\"T_66973e40_d5e2_11e9_aa9d_fa2819b5a6b3row1_col1\" class=\"data row1 col1\" >1</td>\n",
       "                        <td id=\"T_66973e40_d5e2_11e9_aa9d_fa2819b5a6b3row1_col2\" class=\"data row1 col2\" >0.13623</td>\n",
       "                        <td id=\"T_66973e40_d5e2_11e9_aa9d_fa2819b5a6b3row1_col3\" class=\"data row1 col3\" >-0.412758</td>\n",
       "                        <td id=\"T_66973e40_d5e2_11e9_aa9d_fa2819b5a6b3row1_col4\" class=\"data row1 col4\" >-0.154685</td>\n",
       "                        <td id=\"T_66973e40_d5e2_11e9_aa9d_fa2819b5a6b3row1_col5\" class=\"data row1 col5\" >-0.824143</td>\n",
       "                        <td id=\"T_66973e40_d5e2_11e9_aa9d_fa2819b5a6b3row1_col6\" class=\"data row1 col6\" >0.248708</td>\n",
       "                        <td id=\"T_66973e40_d5e2_11e9_aa9d_fa2819b5a6b3row1_col7\" class=\"data row1 col7\" >-0.369373</td>\n",
       "                        <td id=\"T_66973e40_d5e2_11e9_aa9d_fa2819b5a6b3row1_col8\" class=\"data row1 col8\" >-0.0910592</td>\n",
       "                        <td id=\"T_66973e40_d5e2_11e9_aa9d_fa2819b5a6b3row1_col9\" class=\"data row1 col9\" >0.326424</td>\n",
       "                        <td id=\"T_66973e40_d5e2_11e9_aa9d_fa2819b5a6b3row1_col10\" class=\"data row1 col10\" >0.0255886</td>\n",
       "                        <td id=\"T_66973e40_d5e2_11e9_aa9d_fa2819b5a6b3row1_col11\" class=\"data row1 col11\" >-0.0574657</td>\n",
       "                        <td id=\"T_66973e40_d5e2_11e9_aa9d_fa2819b5a6b3row1_col12\" class=\"data row1 col12\" >0.0904113</td>\n",
       "                        <td id=\"T_66973e40_d5e2_11e9_aa9d_fa2819b5a6b3row1_col13\" class=\"data row1 col13\" >-0.348221</td>\n",
       "                        <td id=\"T_66973e40_d5e2_11e9_aa9d_fa2819b5a6b3row1_col14\" class=\"data row1 col14\" >0.599938</td>\n",
       "                        <td id=\"T_66973e40_d5e2_11e9_aa9d_fa2819b5a6b3row1_col15\" class=\"data row1 col15\" >0.207881</td>\n",
       "                        <td id=\"T_66973e40_d5e2_11e9_aa9d_fa2819b5a6b3row1_col16\" class=\"data row1 col16\" >0.153509</td>\n",
       "            </tr>\n",
       "            <tr>\n",
       "                        <th id=\"T_66973e40_d5e2_11e9_aa9d_fa2819b5a6b3level0_row2\" class=\"row_heading level0 row2\" >x8</th>\n",
       "                        <td id=\"T_66973e40_d5e2_11e9_aa9d_fa2819b5a6b3row2_col0\" class=\"data row2 col0\" >-0.0639853</td>\n",
       "                        <td id=\"T_66973e40_d5e2_11e9_aa9d_fa2819b5a6b3row2_col1\" class=\"data row2 col1\" >0.13623</td>\n",
       "                        <td id=\"T_66973e40_d5e2_11e9_aa9d_fa2819b5a6b3row2_col2\" class=\"data row2 col2\" >1</td>\n",
       "                        <td id=\"T_66973e40_d5e2_11e9_aa9d_fa2819b5a6b3row2_col3\" class=\"data row2 col3\" >-0.198583</td>\n",
       "                        <td id=\"T_66973e40_d5e2_11e9_aa9d_fa2819b5a6b3row2_col4\" class=\"data row2 col4\" >-0.0575767</td>\n",
       "                        <td id=\"T_66973e40_d5e2_11e9_aa9d_fa2819b5a6b3row2_col5\" class=\"data row2 col5\" >-0.146423</td>\n",
       "                        <td id=\"T_66973e40_d5e2_11e9_aa9d_fa2819b5a6b3row2_col6\" class=\"data row2 col6\" >0.0672187</td>\n",
       "                        <td id=\"T_66973e40_d5e2_11e9_aa9d_fa2819b5a6b3row2_col7\" class=\"data row2 col7\" >-0.204204</td>\n",
       "                        <td id=\"T_66973e40_d5e2_11e9_aa9d_fa2819b5a6b3row2_col8\" class=\"data row2 col8\" >0.00325075</td>\n",
       "                        <td id=\"T_66973e40_d5e2_11e9_aa9d_fa2819b5a6b3row2_col9\" class=\"data row2 col9\" >0.0997791</td>\n",
       "                        <td id=\"T_66973e40_d5e2_11e9_aa9d_fa2819b5a6b3row2_col10\" class=\"data row2 col10\" >0.0844912</td>\n",
       "                        <td id=\"T_66973e40_d5e2_11e9_aa9d_fa2819b5a6b3row2_col11\" class=\"data row2 col11\" >0.159364</td>\n",
       "                        <td id=\"T_66973e40_d5e2_11e9_aa9d_fa2819b5a6b3row2_col12\" class=\"data row2 col12\" >-0.314265</td>\n",
       "                        <td id=\"T_66973e40_d5e2_11e9_aa9d_fa2819b5a6b3row2_col13\" class=\"data row2 col13\" >-0.599597</td>\n",
       "                        <td id=\"T_66973e40_d5e2_11e9_aa9d_fa2819b5a6b3row2_col14\" class=\"data row2 col14\" >0.136237</td>\n",
       "                        <td id=\"T_66973e40_d5e2_11e9_aa9d_fa2819b5a6b3row2_col15\" class=\"data row2 col15\" >0.094854</td>\n",
       "                        <td id=\"T_66973e40_d5e2_11e9_aa9d_fa2819b5a6b3row2_col16\" class=\"data row2 col16\" >0.0742383</td>\n",
       "            </tr>\n",
       "            <tr>\n",
       "                        <th id=\"T_66973e40_d5e2_11e9_aa9d_fa2819b5a6b3level0_row3\" class=\"row_heading level0 row3\" >x9</th>\n",
       "                        <td id=\"T_66973e40_d5e2_11e9_aa9d_fa2819b5a6b3row3_col0\" class=\"data row3 col0\" >0.436674</td>\n",
       "                        <td id=\"T_66973e40_d5e2_11e9_aa9d_fa2819b5a6b3row3_col1\" class=\"data row3 col1\" >-0.412758</td>\n",
       "                        <td id=\"T_66973e40_d5e2_11e9_aa9d_fa2819b5a6b3row3_col2\" class=\"data row3 col2\" >-0.198583</td>\n",
       "                        <td id=\"T_66973e40_d5e2_11e9_aa9d_fa2819b5a6b3row3_col3\" class=\"data row3 col3\" >1</td>\n",
       "                        <td id=\"T_66973e40_d5e2_11e9_aa9d_fa2819b5a6b3row3_col4\" class=\"data row3 col4\" >0.0148019</td>\n",
       "                        <td id=\"T_66973e40_d5e2_11e9_aa9d_fa2819b5a6b3row3_col5\" class=\"data row3 col5\" >0.462422</td>\n",
       "                        <td id=\"T_66973e40_d5e2_11e9_aa9d_fa2819b5a6b3row3_col6\" class=\"data row3 col6\" >-0.186252</td>\n",
       "                        <td id=\"T_66973e40_d5e2_11e9_aa9d_fa2819b5a6b3row3_col7\" class=\"data row3 col7\" >0.329308</td>\n",
       "                        <td id=\"T_66973e40_d5e2_11e9_aa9d_fa2819b5a6b3row3_col8\" class=\"data row3 col8\" >-0.140557</td>\n",
       "                        <td id=\"T_66973e40_d5e2_11e9_aa9d_fa2819b5a6b3row3_col9\" class=\"data row3 col9\" >-0.297116</td>\n",
       "                        <td id=\"T_66973e40_d5e2_11e9_aa9d_fa2819b5a6b3row3_col10\" class=\"data row3 col10\" >-0.0632205</td>\n",
       "                        <td id=\"T_66973e40_d5e2_11e9_aa9d_fa2819b5a6b3row3_col11\" class=\"data row3 col11\" >-0.0112039</td>\n",
       "                        <td id=\"T_66973e40_d5e2_11e9_aa9d_fa2819b5a6b3row3_col12\" class=\"data row3 col12\" >0.044574</td>\n",
       "                        <td id=\"T_66973e40_d5e2_11e9_aa9d_fa2819b5a6b3row3_col13\" class=\"data row3 col13\" >0.225217</td>\n",
       "                        <td id=\"T_66973e40_d5e2_11e9_aa9d_fa2819b5a6b3row3_col14\" class=\"data row3 col14\" >-0.387728</td>\n",
       "                        <td id=\"T_66973e40_d5e2_11e9_aa9d_fa2819b5a6b3row3_col15\" class=\"data row3 col15\" >-0.0592348</td>\n",
       "                        <td id=\"T_66973e40_d5e2_11e9_aa9d_fa2819b5a6b3row3_col16\" class=\"data row3 col16\" >-0.0292974</td>\n",
       "            </tr>\n",
       "            <tr>\n",
       "                        <th id=\"T_66973e40_d5e2_11e9_aa9d_fa2819b5a6b3level0_row4\" class=\"row_heading level0 row4\" >x10</th>\n",
       "                        <td id=\"T_66973e40_d5e2_11e9_aa9d_fa2819b5a6b3row4_col0\" class=\"data row4 col0\" >0.161794</td>\n",
       "                        <td id=\"T_66973e40_d5e2_11e9_aa9d_fa2819b5a6b3row4_col1\" class=\"data row4 col1\" >-0.154685</td>\n",
       "                        <td id=\"T_66973e40_d5e2_11e9_aa9d_fa2819b5a6b3row4_col2\" class=\"data row4 col2\" >-0.0575767</td>\n",
       "                        <td id=\"T_66973e40_d5e2_11e9_aa9d_fa2819b5a6b3row4_col3\" class=\"data row4 col3\" >0.0148019</td>\n",
       "                        <td id=\"T_66973e40_d5e2_11e9_aa9d_fa2819b5a6b3row4_col4\" class=\"data row4 col4\" >1</td>\n",
       "                        <td id=\"T_66973e40_d5e2_11e9_aa9d_fa2819b5a6b3row4_col5\" class=\"data row4 col5\" >0.157847</td>\n",
       "                        <td id=\"T_66973e40_d5e2_11e9_aa9d_fa2819b5a6b3row4_col6\" class=\"data row4 col6\" >-0.12987</td>\n",
       "                        <td id=\"T_66973e40_d5e2_11e9_aa9d_fa2819b5a6b3row4_col7\" class=\"data row4 col7\" >-0.102534</td>\n",
       "                        <td id=\"T_66973e40_d5e2_11e9_aa9d_fa2819b5a6b3row4_col8\" class=\"data row4 col8\" >0.0131974</td>\n",
       "                        <td id=\"T_66973e40_d5e2_11e9_aa9d_fa2819b5a6b3row4_col9\" class=\"data row4 col9\" >-0.00785333</td>\n",
       "                        <td id=\"T_66973e40_d5e2_11e9_aa9d_fa2819b5a6b3row4_col10\" class=\"data row4 col10\" >0.0828206</td>\n",
       "                        <td id=\"T_66973e40_d5e2_11e9_aa9d_fa2819b5a6b3row4_col11\" class=\"data row4 col11\" >0.0201868</td>\n",
       "                        <td id=\"T_66973e40_d5e2_11e9_aa9d_fa2819b5a6b3row4_col12\" class=\"data row4 col12\" >0.0404821</td>\n",
       "                        <td id=\"T_66973e40_d5e2_11e9_aa9d_fa2819b5a6b3row4_col13\" class=\"data row4 col13\" >0.512062</td>\n",
       "                        <td id=\"T_66973e40_d5e2_11e9_aa9d_fa2819b5a6b3row4_col14\" class=\"data row4 col14\" >-0.0697728</td>\n",
       "                        <td id=\"T_66973e40_d5e2_11e9_aa9d_fa2819b5a6b3row4_col15\" class=\"data row4 col15\" >0.115019</td>\n",
       "                        <td id=\"T_66973e40_d5e2_11e9_aa9d_fa2819b5a6b3row4_col16\" class=\"data row4 col16\" >0.0580888</td>\n",
       "            </tr>\n",
       "            <tr>\n",
       "                        <th id=\"T_66973e40_d5e2_11e9_aa9d_fa2819b5a6b3level0_row5\" class=\"row_heading level0 row5\" >x11</th>\n",
       "                        <td id=\"T_66973e40_d5e2_11e9_aa9d_fa2819b5a6b3row5_col0\" class=\"data row5 col0\" >0.833516</td>\n",
       "                        <td id=\"T_66973e40_d5e2_11e9_aa9d_fa2819b5a6b3row5_col1\" class=\"data row5 col1\" >-0.824143</td>\n",
       "                        <td id=\"T_66973e40_d5e2_11e9_aa9d_fa2819b5a6b3row5_col2\" class=\"data row5 col2\" >-0.146423</td>\n",
       "                        <td id=\"T_66973e40_d5e2_11e9_aa9d_fa2819b5a6b3row5_col3\" class=\"data row5 col3\" >0.462422</td>\n",
       "                        <td id=\"T_66973e40_d5e2_11e9_aa9d_fa2819b5a6b3row5_col4\" class=\"data row5 col4\" >0.157847</td>\n",
       "                        <td id=\"T_66973e40_d5e2_11e9_aa9d_fa2819b5a6b3row5_col5\" class=\"data row5 col5\" >1</td>\n",
       "                        <td id=\"T_66973e40_d5e2_11e9_aa9d_fa2819b5a6b3row5_col6\" class=\"data row5 col6\" >-0.078915</td>\n",
       "                        <td id=\"T_66973e40_d5e2_11e9_aa9d_fa2819b5a6b3row5_col7\" class=\"data row5 col7\" >0.346249</td>\n",
       "                        <td id=\"T_66973e40_d5e2_11e9_aa9d_fa2819b5a6b3row5_col8\" class=\"data row5 col8\" >0.111869</td>\n",
       "                        <td id=\"T_66973e40_d5e2_11e9_aa9d_fa2819b5a6b3row5_col9\" class=\"data row5 col9\" >-0.270595</td>\n",
       "                        <td id=\"T_66973e40_d5e2_11e9_aa9d_fa2819b5a6b3row5_col10\" class=\"data row5 col10\" >-0.10241</td>\n",
       "                        <td id=\"T_66973e40_d5e2_11e9_aa9d_fa2819b5a6b3row5_col11\" class=\"data row5 col11\" >0.0847367</td>\n",
       "                        <td id=\"T_66973e40_d5e2_11e9_aa9d_fa2819b5a6b3row5_col12\" class=\"data row5 col12\" >-0.0253273</td>\n",
       "                        <td id=\"T_66973e40_d5e2_11e9_aa9d_fa2819b5a6b3row5_col13\" class=\"data row5 col13\" >0.323541</td>\n",
       "                        <td id=\"T_66973e40_d5e2_11e9_aa9d_fa2819b5a6b3row5_col14\" class=\"data row5 col14\" >-0.600961</td>\n",
       "                        <td id=\"T_66973e40_d5e2_11e9_aa9d_fa2819b5a6b3row5_col15\" class=\"data row5 col15\" >-0.195896</td>\n",
       "                        <td id=\"T_66973e40_d5e2_11e9_aa9d_fa2819b5a6b3row5_col16\" class=\"data row5 col16\" >-0.149337</td>\n",
       "            </tr>\n",
       "            <tr>\n",
       "                        <th id=\"T_66973e40_d5e2_11e9_aa9d_fa2819b5a6b3level0_row6\" class=\"row_heading level0 row6\" >x12</th>\n",
       "                        <td id=\"T_66973e40_d5e2_11e9_aa9d_fa2819b5a6b3row6_col0\" class=\"data row6 col0\" >-0.224884</td>\n",
       "                        <td id=\"T_66973e40_d5e2_11e9_aa9d_fa2819b5a6b3row6_col1\" class=\"data row6 col1\" >0.248708</td>\n",
       "                        <td id=\"T_66973e40_d5e2_11e9_aa9d_fa2819b5a6b3row6_col2\" class=\"data row6 col2\" >0.0672187</td>\n",
       "                        <td id=\"T_66973e40_d5e2_11e9_aa9d_fa2819b5a6b3row6_col3\" class=\"data row6 col3\" >-0.186252</td>\n",
       "                        <td id=\"T_66973e40_d5e2_11e9_aa9d_fa2819b5a6b3row6_col4\" class=\"data row6 col4\" >-0.12987</td>\n",
       "                        <td id=\"T_66973e40_d5e2_11e9_aa9d_fa2819b5a6b3row6_col5\" class=\"data row6 col5\" >-0.078915</td>\n",
       "                        <td id=\"T_66973e40_d5e2_11e9_aa9d_fa2819b5a6b3row6_col6\" class=\"data row6 col6\" >1</td>\n",
       "                        <td id=\"T_66973e40_d5e2_11e9_aa9d_fa2819b5a6b3row6_col7\" class=\"data row6 col7\" >-0.26792</td>\n",
       "                        <td id=\"T_66973e40_d5e2_11e9_aa9d_fa2819b5a6b3row6_col8\" class=\"data row6 col8\" >-0.0602636</td>\n",
       "                        <td id=\"T_66973e40_d5e2_11e9_aa9d_fa2819b5a6b3row6_col9\" class=\"data row6 col9\" >0.313366</td>\n",
       "                        <td id=\"T_66973e40_d5e2_11e9_aa9d_fa2819b5a6b3row6_col10\" class=\"data row6 col10\" >0.0509142</td>\n",
       "                        <td id=\"T_66973e40_d5e2_11e9_aa9d_fa2819b5a6b3row6_col11\" class=\"data row6 col11\" >-0.0814385</td>\n",
       "                        <td id=\"T_66973e40_d5e2_11e9_aa9d_fa2819b5a6b3row6_col12\" class=\"data row6 col12\" >0.0179869</td>\n",
       "                        <td id=\"T_66973e40_d5e2_11e9_aa9d_fa2819b5a6b3row6_col13\" class=\"data row6 col13\" >-0.0709764</td>\n",
       "                        <td id=\"T_66973e40_d5e2_11e9_aa9d_fa2819b5a6b3row6_col14\" class=\"data row6 col14\" >0.416474</td>\n",
       "                        <td id=\"T_66973e40_d5e2_11e9_aa9d_fa2819b5a6b3row6_col15\" class=\"data row6 col15\" >-0.0108247</td>\n",
       "                        <td id=\"T_66973e40_d5e2_11e9_aa9d_fa2819b5a6b3row6_col16\" class=\"data row6 col16\" >-0.0460869</td>\n",
       "            </tr>\n",
       "            <tr>\n",
       "                        <th id=\"T_66973e40_d5e2_11e9_aa9d_fa2819b5a6b3level0_row7\" class=\"row_heading level0 row7\" >x21</th>\n",
       "                        <td id=\"T_66973e40_d5e2_11e9_aa9d_fa2819b5a6b3row7_col0\" class=\"data row7 col0\" >0.304594</td>\n",
       "                        <td id=\"T_66973e40_d5e2_11e9_aa9d_fa2819b5a6b3row7_col1\" class=\"data row7 col1\" >-0.369373</td>\n",
       "                        <td id=\"T_66973e40_d5e2_11e9_aa9d_fa2819b5a6b3row7_col2\" class=\"data row7 col2\" >-0.204204</td>\n",
       "                        <td id=\"T_66973e40_d5e2_11e9_aa9d_fa2819b5a6b3row7_col3\" class=\"data row7 col3\" >0.329308</td>\n",
       "                        <td id=\"T_66973e40_d5e2_11e9_aa9d_fa2819b5a6b3row7_col4\" class=\"data row7 col4\" >-0.102534</td>\n",
       "                        <td id=\"T_66973e40_d5e2_11e9_aa9d_fa2819b5a6b3row7_col5\" class=\"data row7 col5\" >0.346249</td>\n",
       "                        <td id=\"T_66973e40_d5e2_11e9_aa9d_fa2819b5a6b3row7_col6\" class=\"data row7 col6\" >-0.26792</td>\n",
       "                        <td id=\"T_66973e40_d5e2_11e9_aa9d_fa2819b5a6b3row7_col7\" class=\"data row7 col7\" >1</td>\n",
       "                        <td id=\"T_66973e40_d5e2_11e9_aa9d_fa2819b5a6b3row7_col8\" class=\"data row7 col8\" >-0.107938</td>\n",
       "                        <td id=\"T_66973e40_d5e2_11e9_aa9d_fa2819b5a6b3row7_col9\" class=\"data row7 col9\" >-0.768219</td>\n",
       "                        <td id=\"T_66973e40_d5e2_11e9_aa9d_fa2819b5a6b3row7_col10\" class=\"data row7 col10\" >-0.32169</td>\n",
       "                        <td id=\"T_66973e40_d5e2_11e9_aa9d_fa2819b5a6b3row7_col11\" class=\"data row7 col11\" >-0.113904</td>\n",
       "                        <td id=\"T_66973e40_d5e2_11e9_aa9d_fa2819b5a6b3row7_col12\" class=\"data row7 col12\" >0.1331</td>\n",
       "                        <td id=\"T_66973e40_d5e2_11e9_aa9d_fa2819b5a6b3row7_col13\" class=\"data row7 col13\" >0.106542</td>\n",
       "                        <td id=\"T_66973e40_d5e2_11e9_aa9d_fa2819b5a6b3row7_col14\" class=\"data row7 col14\" >-0.540336</td>\n",
       "                        <td id=\"T_66973e40_d5e2_11e9_aa9d_fa2819b5a6b3row7_col15\" class=\"data row7 col15\" >-0.327951</td>\n",
       "                        <td id=\"T_66973e40_d5e2_11e9_aa9d_fa2819b5a6b3row7_col16\" class=\"data row7 col16\" >-0.288663</td>\n",
       "            </tr>\n",
       "            <tr>\n",
       "                        <th id=\"T_66973e40_d5e2_11e9_aa9d_fa2819b5a6b3level0_row8\" class=\"row_heading level0 row8\" >x22</th>\n",
       "                        <td id=\"T_66973e40_d5e2_11e9_aa9d_fa2819b5a6b3row8_col0\" class=\"data row8 col0\" >0.11103</td>\n",
       "                        <td id=\"T_66973e40_d5e2_11e9_aa9d_fa2819b5a6b3row8_col1\" class=\"data row8 col1\" >-0.0910592</td>\n",
       "                        <td id=\"T_66973e40_d5e2_11e9_aa9d_fa2819b5a6b3row8_col2\" class=\"data row8 col2\" >0.00325075</td>\n",
       "                        <td id=\"T_66973e40_d5e2_11e9_aa9d_fa2819b5a6b3row8_col3\" class=\"data row8 col3\" >-0.140557</td>\n",
       "                        <td id=\"T_66973e40_d5e2_11e9_aa9d_fa2819b5a6b3row8_col4\" class=\"data row8 col4\" >0.0131974</td>\n",
       "                        <td id=\"T_66973e40_d5e2_11e9_aa9d_fa2819b5a6b3row8_col5\" class=\"data row8 col5\" >0.111869</td>\n",
       "                        <td id=\"T_66973e40_d5e2_11e9_aa9d_fa2819b5a6b3row8_col6\" class=\"data row8 col6\" >-0.0602636</td>\n",
       "                        <td id=\"T_66973e40_d5e2_11e9_aa9d_fa2819b5a6b3row8_col7\" class=\"data row8 col7\" >-0.107938</td>\n",
       "                        <td id=\"T_66973e40_d5e2_11e9_aa9d_fa2819b5a6b3row8_col8\" class=\"data row8 col8\" >1</td>\n",
       "                        <td id=\"T_66973e40_d5e2_11e9_aa9d_fa2819b5a6b3row8_col9\" class=\"data row8 col9\" >-0.0227532</td>\n",
       "                        <td id=\"T_66973e40_d5e2_11e9_aa9d_fa2819b5a6b3row8_col10\" class=\"data row8 col10\" >-0.0231239</td>\n",
       "                        <td id=\"T_66973e40_d5e2_11e9_aa9d_fa2819b5a6b3row8_col11\" class=\"data row8 col11\" >-0.0331548</td>\n",
       "                        <td id=\"T_66973e40_d5e2_11e9_aa9d_fa2819b5a6b3row8_col12\" class=\"data row8 col12\" >0.030114</td>\n",
       "                        <td id=\"T_66973e40_d5e2_11e9_aa9d_fa2819b5a6b3row8_col13\" class=\"data row8 col13\" >-0.000301985</td>\n",
       "                        <td id=\"T_66973e40_d5e2_11e9_aa9d_fa2819b5a6b3row8_col14\" class=\"data row8 col14\" >-0.0825461</td>\n",
       "                        <td id=\"T_66973e40_d5e2_11e9_aa9d_fa2819b5a6b3row8_col15\" class=\"data row8 col15\" >0.0253265</td>\n",
       "                        <td id=\"T_66973e40_d5e2_11e9_aa9d_fa2819b5a6b3row8_col16\" class=\"data row8 col16\" >0.0377843</td>\n",
       "            </tr>\n",
       "            <tr>\n",
       "                        <th id=\"T_66973e40_d5e2_11e9_aa9d_fa2819b5a6b3level0_row9\" class=\"row_heading level0 row9\" >x23</th>\n",
       "                        <td id=\"T_66973e40_d5e2_11e9_aa9d_fa2819b5a6b3row9_col0\" class=\"data row9 col0\" >-0.263264</td>\n",
       "                        <td id=\"T_66973e40_d5e2_11e9_aa9d_fa2819b5a6b3row9_col1\" class=\"data row9 col1\" >0.326424</td>\n",
       "                        <td id=\"T_66973e40_d5e2_11e9_aa9d_fa2819b5a6b3row9_col2\" class=\"data row9 col2\" >0.0997791</td>\n",
       "                        <td id=\"T_66973e40_d5e2_11e9_aa9d_fa2819b5a6b3row9_col3\" class=\"data row9 col3\" >-0.297116</td>\n",
       "                        <td id=\"T_66973e40_d5e2_11e9_aa9d_fa2819b5a6b3row9_col4\" class=\"data row9 col4\" >-0.00785333</td>\n",
       "                        <td id=\"T_66973e40_d5e2_11e9_aa9d_fa2819b5a6b3row9_col5\" class=\"data row9 col5\" >-0.270595</td>\n",
       "                        <td id=\"T_66973e40_d5e2_11e9_aa9d_fa2819b5a6b3row9_col6\" class=\"data row9 col6\" >0.313366</td>\n",
       "                        <td id=\"T_66973e40_d5e2_11e9_aa9d_fa2819b5a6b3row9_col7\" class=\"data row9 col7\" >-0.768219</td>\n",
       "                        <td id=\"T_66973e40_d5e2_11e9_aa9d_fa2819b5a6b3row9_col8\" class=\"data row9 col8\" >-0.0227532</td>\n",
       "                        <td id=\"T_66973e40_d5e2_11e9_aa9d_fa2819b5a6b3row9_col9\" class=\"data row9 col9\" >1</td>\n",
       "                        <td id=\"T_66973e40_d5e2_11e9_aa9d_fa2819b5a6b3row9_col10\" class=\"data row9 col10\" >-0.123537</td>\n",
       "                        <td id=\"T_66973e40_d5e2_11e9_aa9d_fa2819b5a6b3row9_col11\" class=\"data row9 col11\" >0.120972</td>\n",
       "                        <td id=\"T_66973e40_d5e2_11e9_aa9d_fa2819b5a6b3row9_col12\" class=\"data row9 col12\" >-0.0576411</td>\n",
       "                        <td id=\"T_66973e40_d5e2_11e9_aa9d_fa2819b5a6b3row9_col13\" class=\"data row9 col13\" >-0.0500843</td>\n",
       "                        <td id=\"T_66973e40_d5e2_11e9_aa9d_fa2819b5a6b3row9_col14\" class=\"data row9 col14\" >0.51947</td>\n",
       "                        <td id=\"T_66973e40_d5e2_11e9_aa9d_fa2819b5a6b3row9_col15\" class=\"data row9 col15\" >-0.0670092</td>\n",
       "                        <td id=\"T_66973e40_d5e2_11e9_aa9d_fa2819b5a6b3row9_col16\" class=\"data row9 col16\" >-0.115757</td>\n",
       "            </tr>\n",
       "            <tr>\n",
       "                        <th id=\"T_66973e40_d5e2_11e9_aa9d_fa2819b5a6b3level0_row10\" class=\"row_heading level0 row10\" >x24</th>\n",
       "                        <td id=\"T_66973e40_d5e2_11e9_aa9d_fa2819b5a6b3row10_col0\" class=\"data row10 col0\" >-0.0269637</td>\n",
       "                        <td id=\"T_66973e40_d5e2_11e9_aa9d_fa2819b5a6b3row10_col1\" class=\"data row10 col1\" >0.0255886</td>\n",
       "                        <td id=\"T_66973e40_d5e2_11e9_aa9d_fa2819b5a6b3row10_col2\" class=\"data row10 col2\" >0.0844912</td>\n",
       "                        <td id=\"T_66973e40_d5e2_11e9_aa9d_fa2819b5a6b3row10_col3\" class=\"data row10 col3\" >-0.0632205</td>\n",
       "                        <td id=\"T_66973e40_d5e2_11e9_aa9d_fa2819b5a6b3row10_col4\" class=\"data row10 col4\" >0.0828206</td>\n",
       "                        <td id=\"T_66973e40_d5e2_11e9_aa9d_fa2819b5a6b3row10_col5\" class=\"data row10 col5\" >-0.10241</td>\n",
       "                        <td id=\"T_66973e40_d5e2_11e9_aa9d_fa2819b5a6b3row10_col6\" class=\"data row10 col6\" >0.0509142</td>\n",
       "                        <td id=\"T_66973e40_d5e2_11e9_aa9d_fa2819b5a6b3row10_col7\" class=\"data row10 col7\" >-0.32169</td>\n",
       "                        <td id=\"T_66973e40_d5e2_11e9_aa9d_fa2819b5a6b3row10_col8\" class=\"data row10 col8\" >-0.0231239</td>\n",
       "                        <td id=\"T_66973e40_d5e2_11e9_aa9d_fa2819b5a6b3row10_col9\" class=\"data row10 col9\" >-0.123537</td>\n",
       "                        <td id=\"T_66973e40_d5e2_11e9_aa9d_fa2819b5a6b3row10_col10\" class=\"data row10 col10\" >1</td>\n",
       "                        <td id=\"T_66973e40_d5e2_11e9_aa9d_fa2819b5a6b3row10_col11\" class=\"data row10 col11\" >-0.0773264</td>\n",
       "                        <td id=\"T_66973e40_d5e2_11e9_aa9d_fa2819b5a6b3row10_col12\" class=\"data row10 col12\" >-0.0422669</td>\n",
       "                        <td id=\"T_66973e40_d5e2_11e9_aa9d_fa2819b5a6b3row10_col13\" class=\"data row10 col13\" >-0.117682</td>\n",
       "                        <td id=\"T_66973e40_d5e2_11e9_aa9d_fa2819b5a6b3row10_col14\" class=\"data row10 col14\" >0.0723009</td>\n",
       "                        <td id=\"T_66973e40_d5e2_11e9_aa9d_fa2819b5a6b3row10_col15\" class=\"data row10 col15\" >0.182346</td>\n",
       "                        <td id=\"T_66973e40_d5e2_11e9_aa9d_fa2819b5a6b3row10_col16\" class=\"data row10 col16\" >0.18858</td>\n",
       "            </tr>\n",
       "            <tr>\n",
       "                        <th id=\"T_66973e40_d5e2_11e9_aa9d_fa2819b5a6b3level0_row11\" class=\"row_heading level0 row11\" >x25</th>\n",
       "                        <td id=\"T_66973e40_d5e2_11e9_aa9d_fa2819b5a6b3row11_col0\" class=\"data row11 col0\" >0.050935</td>\n",
       "                        <td id=\"T_66973e40_d5e2_11e9_aa9d_fa2819b5a6b3row11_col1\" class=\"data row11 col1\" >-0.0574657</td>\n",
       "                        <td id=\"T_66973e40_d5e2_11e9_aa9d_fa2819b5a6b3row11_col2\" class=\"data row11 col2\" >0.159364</td>\n",
       "                        <td id=\"T_66973e40_d5e2_11e9_aa9d_fa2819b5a6b3row11_col3\" class=\"data row11 col3\" >-0.0112039</td>\n",
       "                        <td id=\"T_66973e40_d5e2_11e9_aa9d_fa2819b5a6b3row11_col4\" class=\"data row11 col4\" >0.0201868</td>\n",
       "                        <td id=\"T_66973e40_d5e2_11e9_aa9d_fa2819b5a6b3row11_col5\" class=\"data row11 col5\" >0.0847367</td>\n",
       "                        <td id=\"T_66973e40_d5e2_11e9_aa9d_fa2819b5a6b3row11_col6\" class=\"data row11 col6\" >-0.0814385</td>\n",
       "                        <td id=\"T_66973e40_d5e2_11e9_aa9d_fa2819b5a6b3row11_col7\" class=\"data row11 col7\" >-0.113904</td>\n",
       "                        <td id=\"T_66973e40_d5e2_11e9_aa9d_fa2819b5a6b3row11_col8\" class=\"data row11 col8\" >-0.0331548</td>\n",
       "                        <td id=\"T_66973e40_d5e2_11e9_aa9d_fa2819b5a6b3row11_col9\" class=\"data row11 col9\" >0.120972</td>\n",
       "                        <td id=\"T_66973e40_d5e2_11e9_aa9d_fa2819b5a6b3row11_col10\" class=\"data row11 col10\" >-0.0773264</td>\n",
       "                        <td id=\"T_66973e40_d5e2_11e9_aa9d_fa2819b5a6b3row11_col11\" class=\"data row11 col11\" >1</td>\n",
       "                        <td id=\"T_66973e40_d5e2_11e9_aa9d_fa2819b5a6b3row11_col12\" class=\"data row11 col12\" >-0.636121</td>\n",
       "                        <td id=\"T_66973e40_d5e2_11e9_aa9d_fa2819b5a6b3row11_col13\" class=\"data row11 col13\" >-0.0731575</td>\n",
       "                        <td id=\"T_66973e40_d5e2_11e9_aa9d_fa2819b5a6b3row11_col14\" class=\"data row11 col14\" >0.0769719</td>\n",
       "                        <td id=\"T_66973e40_d5e2_11e9_aa9d_fa2819b5a6b3row11_col15\" class=\"data row11 col15\" >0.231631</td>\n",
       "                        <td id=\"T_66973e40_d5e2_11e9_aa9d_fa2819b5a6b3row11_col16\" class=\"data row11 col16\" >0.219185</td>\n",
       "            </tr>\n",
       "            <tr>\n",
       "                        <th id=\"T_66973e40_d5e2_11e9_aa9d_fa2819b5a6b3level0_row12\" class=\"row_heading level0 row12\" >x26</th>\n",
       "                        <td id=\"T_66973e40_d5e2_11e9_aa9d_fa2819b5a6b3row12_col0\" class=\"data row12 col0\" >-0.142148</td>\n",
       "                        <td id=\"T_66973e40_d5e2_11e9_aa9d_fa2819b5a6b3row12_col1\" class=\"data row12 col1\" >0.0904113</td>\n",
       "                        <td id=\"T_66973e40_d5e2_11e9_aa9d_fa2819b5a6b3row12_col2\" class=\"data row12 col2\" >-0.314265</td>\n",
       "                        <td id=\"T_66973e40_d5e2_11e9_aa9d_fa2819b5a6b3row12_col3\" class=\"data row12 col3\" >0.044574</td>\n",
       "                        <td id=\"T_66973e40_d5e2_11e9_aa9d_fa2819b5a6b3row12_col4\" class=\"data row12 col4\" >0.0404821</td>\n",
       "                        <td id=\"T_66973e40_d5e2_11e9_aa9d_fa2819b5a6b3row12_col5\" class=\"data row12 col5\" >-0.0253273</td>\n",
       "                        <td id=\"T_66973e40_d5e2_11e9_aa9d_fa2819b5a6b3row12_col6\" class=\"data row12 col6\" >0.0179869</td>\n",
       "                        <td id=\"T_66973e40_d5e2_11e9_aa9d_fa2819b5a6b3row12_col7\" class=\"data row12 col7\" >0.1331</td>\n",
       "                        <td id=\"T_66973e40_d5e2_11e9_aa9d_fa2819b5a6b3row12_col8\" class=\"data row12 col8\" >0.030114</td>\n",
       "                        <td id=\"T_66973e40_d5e2_11e9_aa9d_fa2819b5a6b3row12_col9\" class=\"data row12 col9\" >-0.0576411</td>\n",
       "                        <td id=\"T_66973e40_d5e2_11e9_aa9d_fa2819b5a6b3row12_col10\" class=\"data row12 col10\" >-0.0422669</td>\n",
       "                        <td id=\"T_66973e40_d5e2_11e9_aa9d_fa2819b5a6b3row12_col11\" class=\"data row12 col11\" >-0.636121</td>\n",
       "                        <td id=\"T_66973e40_d5e2_11e9_aa9d_fa2819b5a6b3row12_col12\" class=\"data row12 col12\" >1</td>\n",
       "                        <td id=\"T_66973e40_d5e2_11e9_aa9d_fa2819b5a6b3row12_col13\" class=\"data row12 col13\" >0.120207</td>\n",
       "                        <td id=\"T_66973e40_d5e2_11e9_aa9d_fa2819b5a6b3row12_col14\" class=\"data row12 col14\" >-0.135532</td>\n",
       "                        <td id=\"T_66973e40_d5e2_11e9_aa9d_fa2819b5a6b3row12_col15\" class=\"data row12 col15\" >-0.141947</td>\n",
       "                        <td id=\"T_66973e40_d5e2_11e9_aa9d_fa2819b5a6b3row12_col16\" class=\"data row12 col16\" >-0.152614</td>\n",
       "            </tr>\n",
       "            <tr>\n",
       "                        <th id=\"T_66973e40_d5e2_11e9_aa9d_fa2819b5a6b3level0_row13\" class=\"row_heading level0 row13\" >x27</th>\n",
       "                        <td id=\"T_66973e40_d5e2_11e9_aa9d_fa2819b5a6b3row13_col0\" class=\"data row13 col0\" >0.319646</td>\n",
       "                        <td id=\"T_66973e40_d5e2_11e9_aa9d_fa2819b5a6b3row13_col1\" class=\"data row13 col1\" >-0.348221</td>\n",
       "                        <td id=\"T_66973e40_d5e2_11e9_aa9d_fa2819b5a6b3row13_col2\" class=\"data row13 col2\" >-0.599597</td>\n",
       "                        <td id=\"T_66973e40_d5e2_11e9_aa9d_fa2819b5a6b3row13_col3\" class=\"data row13 col3\" >0.225217</td>\n",
       "                        <td id=\"T_66973e40_d5e2_11e9_aa9d_fa2819b5a6b3row13_col4\" class=\"data row13 col4\" >0.512062</td>\n",
       "                        <td id=\"T_66973e40_d5e2_11e9_aa9d_fa2819b5a6b3row13_col5\" class=\"data row13 col5\" >0.323541</td>\n",
       "                        <td id=\"T_66973e40_d5e2_11e9_aa9d_fa2819b5a6b3row13_col6\" class=\"data row13 col6\" >-0.0709764</td>\n",
       "                        <td id=\"T_66973e40_d5e2_11e9_aa9d_fa2819b5a6b3row13_col7\" class=\"data row13 col7\" >0.106542</td>\n",
       "                        <td id=\"T_66973e40_d5e2_11e9_aa9d_fa2819b5a6b3row13_col8\" class=\"data row13 col8\" >-0.000301985</td>\n",
       "                        <td id=\"T_66973e40_d5e2_11e9_aa9d_fa2819b5a6b3row13_col9\" class=\"data row13 col9\" >-0.0500843</td>\n",
       "                        <td id=\"T_66973e40_d5e2_11e9_aa9d_fa2819b5a6b3row13_col10\" class=\"data row13 col10\" >-0.117682</td>\n",
       "                        <td id=\"T_66973e40_d5e2_11e9_aa9d_fa2819b5a6b3row13_col11\" class=\"data row13 col11\" >-0.0731575</td>\n",
       "                        <td id=\"T_66973e40_d5e2_11e9_aa9d_fa2819b5a6b3row13_col12\" class=\"data row13 col12\" >0.120207</td>\n",
       "                        <td id=\"T_66973e40_d5e2_11e9_aa9d_fa2819b5a6b3row13_col13\" class=\"data row13 col13\" >1</td>\n",
       "                        <td id=\"T_66973e40_d5e2_11e9_aa9d_fa2819b5a6b3row13_col14\" class=\"data row13 col14\" >-0.18006</td>\n",
       "                        <td id=\"T_66973e40_d5e2_11e9_aa9d_fa2819b5a6b3row13_col15\" class=\"data row13 col15\" >-0.00967227</td>\n",
       "                        <td id=\"T_66973e40_d5e2_11e9_aa9d_fa2819b5a6b3row13_col16\" class=\"data row13 col16\" >-0.0235323</td>\n",
       "            </tr>\n",
       "            <tr>\n",
       "                        <th id=\"T_66973e40_d5e2_11e9_aa9d_fa2819b5a6b3level0_row14\" class=\"row_heading level0 row14\" >x30</th>\n",
       "                        <td id=\"T_66973e40_d5e2_11e9_aa9d_fa2819b5a6b3row14_col0\" class=\"data row14 col0\" >-0.594034</td>\n",
       "                        <td id=\"T_66973e40_d5e2_11e9_aa9d_fa2819b5a6b3row14_col1\" class=\"data row14 col1\" >0.599938</td>\n",
       "                        <td id=\"T_66973e40_d5e2_11e9_aa9d_fa2819b5a6b3row14_col2\" class=\"data row14 col2\" >0.136237</td>\n",
       "                        <td id=\"T_66973e40_d5e2_11e9_aa9d_fa2819b5a6b3row14_col3\" class=\"data row14 col3\" >-0.387728</td>\n",
       "                        <td id=\"T_66973e40_d5e2_11e9_aa9d_fa2819b5a6b3row14_col4\" class=\"data row14 col4\" >-0.0697728</td>\n",
       "                        <td id=\"T_66973e40_d5e2_11e9_aa9d_fa2819b5a6b3row14_col5\" class=\"data row14 col5\" >-0.600961</td>\n",
       "                        <td id=\"T_66973e40_d5e2_11e9_aa9d_fa2819b5a6b3row14_col6\" class=\"data row14 col6\" >0.416474</td>\n",
       "                        <td id=\"T_66973e40_d5e2_11e9_aa9d_fa2819b5a6b3row14_col7\" class=\"data row14 col7\" >-0.540336</td>\n",
       "                        <td id=\"T_66973e40_d5e2_11e9_aa9d_fa2819b5a6b3row14_col8\" class=\"data row14 col8\" >-0.0825461</td>\n",
       "                        <td id=\"T_66973e40_d5e2_11e9_aa9d_fa2819b5a6b3row14_col9\" class=\"data row14 col9\" >0.51947</td>\n",
       "                        <td id=\"T_66973e40_d5e2_11e9_aa9d_fa2819b5a6b3row14_col10\" class=\"data row14 col10\" >0.0723009</td>\n",
       "                        <td id=\"T_66973e40_d5e2_11e9_aa9d_fa2819b5a6b3row14_col11\" class=\"data row14 col11\" >0.0769719</td>\n",
       "                        <td id=\"T_66973e40_d5e2_11e9_aa9d_fa2819b5a6b3row14_col12\" class=\"data row14 col12\" >-0.135532</td>\n",
       "                        <td id=\"T_66973e40_d5e2_11e9_aa9d_fa2819b5a6b3row14_col13\" class=\"data row14 col13\" >-0.18006</td>\n",
       "                        <td id=\"T_66973e40_d5e2_11e9_aa9d_fa2819b5a6b3row14_col14\" class=\"data row14 col14\" >1</td>\n",
       "                        <td id=\"T_66973e40_d5e2_11e9_aa9d_fa2819b5a6b3row14_col15\" class=\"data row14 col15\" >0.247135</td>\n",
       "                        <td id=\"T_66973e40_d5e2_11e9_aa9d_fa2819b5a6b3row14_col16\" class=\"data row14 col16\" >0.189286</td>\n",
       "            </tr>\n",
       "            <tr>\n",
       "                        <th id=\"T_66973e40_d5e2_11e9_aa9d_fa2819b5a6b3level0_row15\" class=\"row_heading level0 row15\" >x31</th>\n",
       "                        <td id=\"T_66973e40_d5e2_11e9_aa9d_fa2819b5a6b3row15_col0\" class=\"data row15 col0\" >-0.209468</td>\n",
       "                        <td id=\"T_66973e40_d5e2_11e9_aa9d_fa2819b5a6b3row15_col1\" class=\"data row15 col1\" >0.207881</td>\n",
       "                        <td id=\"T_66973e40_d5e2_11e9_aa9d_fa2819b5a6b3row15_col2\" class=\"data row15 col2\" >0.094854</td>\n",
       "                        <td id=\"T_66973e40_d5e2_11e9_aa9d_fa2819b5a6b3row15_col3\" class=\"data row15 col3\" >-0.0592348</td>\n",
       "                        <td id=\"T_66973e40_d5e2_11e9_aa9d_fa2819b5a6b3row15_col4\" class=\"data row15 col4\" >0.115019</td>\n",
       "                        <td id=\"T_66973e40_d5e2_11e9_aa9d_fa2819b5a6b3row15_col5\" class=\"data row15 col5\" >-0.195896</td>\n",
       "                        <td id=\"T_66973e40_d5e2_11e9_aa9d_fa2819b5a6b3row15_col6\" class=\"data row15 col6\" >-0.0108247</td>\n",
       "                        <td id=\"T_66973e40_d5e2_11e9_aa9d_fa2819b5a6b3row15_col7\" class=\"data row15 col7\" >-0.327951</td>\n",
       "                        <td id=\"T_66973e40_d5e2_11e9_aa9d_fa2819b5a6b3row15_col8\" class=\"data row15 col8\" >0.0253265</td>\n",
       "                        <td id=\"T_66973e40_d5e2_11e9_aa9d_fa2819b5a6b3row15_col9\" class=\"data row15 col9\" >-0.0670092</td>\n",
       "                        <td id=\"T_66973e40_d5e2_11e9_aa9d_fa2819b5a6b3row15_col10\" class=\"data row15 col10\" >0.182346</td>\n",
       "                        <td id=\"T_66973e40_d5e2_11e9_aa9d_fa2819b5a6b3row15_col11\" class=\"data row15 col11\" >0.231631</td>\n",
       "                        <td id=\"T_66973e40_d5e2_11e9_aa9d_fa2819b5a6b3row15_col12\" class=\"data row15 col12\" >-0.141947</td>\n",
       "                        <td id=\"T_66973e40_d5e2_11e9_aa9d_fa2819b5a6b3row15_col13\" class=\"data row15 col13\" >-0.00967227</td>\n",
       "                        <td id=\"T_66973e40_d5e2_11e9_aa9d_fa2819b5a6b3row15_col14\" class=\"data row15 col14\" >0.247135</td>\n",
       "                        <td id=\"T_66973e40_d5e2_11e9_aa9d_fa2819b5a6b3row15_col15\" class=\"data row15 col15\" >1</td>\n",
       "                        <td id=\"T_66973e40_d5e2_11e9_aa9d_fa2819b5a6b3row15_col16\" class=\"data row15 col16\" >0.972958</td>\n",
       "            </tr>\n",
       "            <tr>\n",
       "                        <th id=\"T_66973e40_d5e2_11e9_aa9d_fa2819b5a6b3level0_row16\" class=\"row_heading level0 row16\" >x32</th>\n",
       "                        <td id=\"T_66973e40_d5e2_11e9_aa9d_fa2819b5a6b3row16_col0\" class=\"data row16 col0\" >-0.166435</td>\n",
       "                        <td id=\"T_66973e40_d5e2_11e9_aa9d_fa2819b5a6b3row16_col1\" class=\"data row16 col1\" >0.153509</td>\n",
       "                        <td id=\"T_66973e40_d5e2_11e9_aa9d_fa2819b5a6b3row16_col2\" class=\"data row16 col2\" >0.0742383</td>\n",
       "                        <td id=\"T_66973e40_d5e2_11e9_aa9d_fa2819b5a6b3row16_col3\" class=\"data row16 col3\" >-0.0292974</td>\n",
       "                        <td id=\"T_66973e40_d5e2_11e9_aa9d_fa2819b5a6b3row16_col4\" class=\"data row16 col4\" >0.0580888</td>\n",
       "                        <td id=\"T_66973e40_d5e2_11e9_aa9d_fa2819b5a6b3row16_col5\" class=\"data row16 col5\" >-0.149337</td>\n",
       "                        <td id=\"T_66973e40_d5e2_11e9_aa9d_fa2819b5a6b3row16_col6\" class=\"data row16 col6\" >-0.0460869</td>\n",
       "                        <td id=\"T_66973e40_d5e2_11e9_aa9d_fa2819b5a6b3row16_col7\" class=\"data row16 col7\" >-0.288663</td>\n",
       "                        <td id=\"T_66973e40_d5e2_11e9_aa9d_fa2819b5a6b3row16_col8\" class=\"data row16 col8\" >0.0377843</td>\n",
       "                        <td id=\"T_66973e40_d5e2_11e9_aa9d_fa2819b5a6b3row16_col9\" class=\"data row16 col9\" >-0.115757</td>\n",
       "                        <td id=\"T_66973e40_d5e2_11e9_aa9d_fa2819b5a6b3row16_col10\" class=\"data row16 col10\" >0.18858</td>\n",
       "                        <td id=\"T_66973e40_d5e2_11e9_aa9d_fa2819b5a6b3row16_col11\" class=\"data row16 col11\" >0.219185</td>\n",
       "                        <td id=\"T_66973e40_d5e2_11e9_aa9d_fa2819b5a6b3row16_col12\" class=\"data row16 col12\" >-0.152614</td>\n",
       "                        <td id=\"T_66973e40_d5e2_11e9_aa9d_fa2819b5a6b3row16_col13\" class=\"data row16 col13\" >-0.0235323</td>\n",
       "                        <td id=\"T_66973e40_d5e2_11e9_aa9d_fa2819b5a6b3row16_col14\" class=\"data row16 col14\" >0.189286</td>\n",
       "                        <td id=\"T_66973e40_d5e2_11e9_aa9d_fa2819b5a6b3row16_col15\" class=\"data row16 col15\" >0.972958</td>\n",
       "                        <td id=\"T_66973e40_d5e2_11e9_aa9d_fa2819b5a6b3row16_col16\" class=\"data row16 col16\" >1</td>\n",
       "            </tr>\n",
       "    </tbody></table>"
      ],
      "text/plain": [
       "<pandas.io.formats.style.Styler at 0x1b940284cc0>"
      ]
     },
     "execution_count": 83,
     "metadata": {},
     "output_type": "execute_result"
    }
   ],
   "source": [
    "#Matriz de correlación entre variables numéricas\n",
    "corr = subset.iloc[:, 1:].corr()\n",
    "corr.style.background_gradient(cmap='coolwarm')"
   ]
  },
  {
   "cell_type": "code",
   "execution_count": 84,
   "metadata": {},
   "outputs": [
    {
     "data": {
      "image/png": "[encoded data removed]",
      "text/plain": [
       "<Figure size 1800x1440 with 20 Axes>"
      ]
     },
     "metadata": {},
     "output_type": "display_data"
    }
   ],
   "source": [
    "# Boxplot de las variables numéricas\n",
    "all_total_columns = subset.columns.values.tolist()\n",
    "figure, axs = plt.subplots(5,4, sharey=False, sharex=True, figsize=(25,20))\n",
    "\n",
    "indice = 1\n",
    "for i in range(8):\n",
    "    for j in range(4):\n",
    "        try:\n",
    "            boxplot = subset.boxplot(column=[all_total_columns[indice]], return_type='axes', by=['yL'], ax=axs[i][j])\n",
    "            indice += 1\n",
    "        except IndexError:\n",
    "            pass"
   ]
  },
  {
   "cell_type": "markdown",
   "metadata": {},
   "source": [
    "### Detección de outliers"
   ]
  },
  {
   "cell_type": "code",
   "execution_count": 85,
   "metadata": {},
   "outputs": [],
   "source": [
    "def outlier_detect(df):\n",
    "    for i in df.describe().columns:\n",
    "        Q1=df.describe().at['25%',i]\n",
    "        Q3=df.describe().at['75%',i]\n",
    "        IQR=Q3 - Q1\n",
    "        LTV=Q1 - 1.5 * IQR\n",
    "        UTV=Q3 + 1.5 * IQR\n",
    "        x=np.array(df[i])\n",
    "        p=[]\n",
    "        for j in x:\n",
    "            if j < LTV or j>UTV:\n",
    "                p.append(df[i].median())\n",
    "            else:\n",
    "                p.append(j)\n",
    "        df[i]=p\n",
    "    return df"
   ]
  },
  {
   "cell_type": "code",
   "execution_count": 86,
   "metadata": {},
   "outputs": [],
   "source": [
    "#data_clean = outlier_detect(data)\n",
    "#data_clean.head()"
   ]
  },
  {
   "cell_type": "markdown",
   "metadata": {},
   "source": [
    "### Análisis de variables categóricas"
   ]
  },
  {
   "cell_type": "code",
   "execution_count": 87,
   "metadata": {},
   "outputs": [],
   "source": [
    "from statsmodels.graphics.mosaicplot import mosaic"
   ]
  },
  {
   "cell_type": "code",
   "execution_count": 88,
   "metadata": {},
   "outputs": [],
   "source": [
    "all_total_coloumns = data.columns.values.tolist()\n",
    "categoricas = [x for x in all_total_coloumns if x not in subset.iloc[:, 1:]]\n"
   ]
  },
  {
   "cell_type": "code",
   "execution_count": 89,
   "metadata": {},
   "outputs": [
    {
     "data": {
      "image/png": "[encoded data removed]",
      "text/plain": [
       "<Figure size 3240x2160 with 46 Axes>"
      ]
     },
     "metadata": {},
     "output_type": "display_data"
    }
   ],
   "source": [
    "# Mosaic Plot de las variables categóricas vs Attrition \n",
    "\n",
    "figure, axs = plt.subplots(4,4, sharey=False, sharex=False, figsize=(45,30))\n",
    "plt.rcParams.update({'font.size': 25})\n",
    "\n",
    "\n",
    "indice = 1\n",
    "for i in range(axs.shape[0]):\n",
    "    for j in range(axs.shape[1]):\n",
    "        try:\n",
    "            mosaic(data, [categoricas[indice],'yL'],ax=axs[i][j], title=categoricas[indice], axes_label=True)\n",
    "            \n",
    "            indice += 1\n",
    "        except IndexError:\n",
    "            pass"
   ]
  },
  {
   "cell_type": "code",
   "execution_count": 90,
   "metadata": {},
   "outputs": [
    {
     "data": {
      "text/plain": [
       "Index(['yL', 'x1', 'x2', 'x3', 'x4', 'x5', 'x6', 'x7', 'x8', 'x9', 'x10',\n",
       "       'x11', 'x12', 'x13', 'x14', 'x15', 'x16', 'x17', 'x18', 'x19', 'x20',\n",
       "       'x21', 'x22', 'x23', 'x24', 'x25', 'x26', 'x27', 'x28', 'x29', 'x30',\n",
       "       'x31', 'x32'],\n",
       "      dtype='object')"
      ]
     },
     "execution_count": 90,
     "metadata": {},
     "output_type": "execute_result"
    }
   ],
   "source": [
    "data.columns"
   ]
  },
  {
   "cell_type": "code",
   "execution_count": 91,
   "metadata": {},
   "outputs": [
    {
     "name": "stdout",
     "output_type": "stream",
     "text": [
      "_______________________________________________________\n",
      "Tabla de contingencia marginal\n",
      "_______________________________________________________\n",
      "yL      0      1\n",
      "yL              \n",
      "0   100.0    0.0\n",
      "1     0.0  100.0\n",
      "_______________________________________________________\n",
      "Tabla de contingencia marginal\n",
      "_______________________________________________________\n",
      "yL     0     1\n",
      "x3            \n",
      "0   64.0  73.0\n",
      "1   36.0  27.0\n",
      "_______________________________________________________\n",
      "Tabla de contingencia marginal\n",
      "_______________________________________________________\n",
      "yL     0     1\n",
      "x4            \n",
      "0   72.0  92.0\n",
      "1   28.0   8.0\n",
      "_______________________________________________________\n",
      "Tabla de contingencia marginal\n",
      "_______________________________________________________\n",
      "yL     0     1\n",
      "x5            \n",
      "0   94.0  97.0\n",
      "1    6.0   3.0\n",
      "_______________________________________________________\n",
      "Tabla de contingencia marginal\n",
      "_______________________________________________________\n",
      "yL     0     1\n",
      "x6            \n",
      "0   92.0  86.0\n",
      "1    8.0  14.0\n",
      "_______________________________________________________\n",
      "Tabla de contingencia marginal\n",
      "_______________________________________________________\n",
      "yL     0     1\n",
      "x7            \n",
      "0   94.0  88.0\n",
      "1    6.0  12.0\n",
      "_______________________________________________________\n",
      "Tabla de contingencia marginal\n",
      "_______________________________________________________\n",
      "yL      0     1\n",
      "x13            \n",
      "0    78.0  76.0\n",
      "1    22.0  24.0\n",
      "_______________________________________________________\n",
      "Tabla de contingencia marginal\n",
      "_______________________________________________________\n",
      "yL      0     1\n",
      "x14            \n",
      "0    82.0  79.0\n",
      "1    18.0  21.0\n",
      "_______________________________________________________\n",
      "Tabla de contingencia marginal\n",
      "_______________________________________________________\n",
      "yL      0     1\n",
      "x15            \n",
      "0    72.0  83.0\n",
      "1    28.0  17.0\n",
      "_______________________________________________________\n",
      "Tabla de contingencia marginal\n",
      "_______________________________________________________\n",
      "yL      0     1\n",
      "x16            \n",
      "0    86.0  77.0\n",
      "1    14.0  23.0\n",
      "_______________________________________________________\n",
      "Tabla de contingencia marginal\n",
      "_______________________________________________________\n",
      "yL      0     1\n",
      "x17            \n",
      "0    44.0  81.0\n",
      "1    56.0  19.0\n",
      "_______________________________________________________\n",
      "Tabla de contingencia marginal\n",
      "_______________________________________________________\n",
      "yL      0     1\n",
      "x18            \n",
      "0    84.0  93.0\n",
      "1    16.0   7.0\n",
      "_______________________________________________________\n",
      "Tabla de contingencia marginal\n",
      "_______________________________________________________\n",
      "yL      0     1\n",
      "x19            \n",
      "0    96.0  86.0\n",
      "1     4.0  14.0\n",
      "_______________________________________________________\n",
      "Tabla de contingencia marginal\n",
      "_______________________________________________________\n",
      "yL      0     1\n",
      "x20            \n",
      "0    94.0  97.0\n",
      "1     6.0   3.0\n",
      "_______________________________________________________\n",
      "Tabla de contingencia marginal\n",
      "_______________________________________________________\n",
      "yL      0     1\n",
      "x28            \n",
      "0    86.0  87.0\n",
      "1    14.0  13.0\n",
      "_______________________________________________________\n",
      "Tabla de contingencia marginal\n",
      "_______________________________________________________\n",
      "yL      0     1\n",
      "x29            \n",
      "0    98.0  93.0\n",
      "1     2.0   7.0\n"
     ]
    }
   ],
   "source": [
    "for row in categoricas: \n",
    "    table = pd.crosstab(index=data[row], columns=data['yL']).apply(lambda r: r/r.sum()*100, axis=0) \n",
    "    print(\"_______________________________________________________\")  \n",
    "    print(\"Tabla de contingencia marginal\")\n",
    "    print(\"_______________________________________________________\")\n",
    "    print(table)"
   ]
  },
  {
   "cell_type": "markdown",
   "metadata": {},
   "source": [
    "### Estandarizando las variables numéricas"
   ]
  },
  {
   "cell_type": "code",
   "execution_count": 92,
   "metadata": {},
   "outputs": [],
   "source": [
    "numericas = subset.iloc[:, 1:]"
   ]
  },
  {
   "cell_type": "code",
   "execution_count": 93,
   "metadata": {},
   "outputs": [
    {
     "data": {
      "text/html": [
       "<div>\n",
       "<style scoped>\n",
       "    .dataframe tbody tr th:only-of-type {\n",
       "        vertical-align: middle;\n",
       "    }\n",
       "\n",
       "    .dataframe tbody tr th {\n",
       "        vertical-align: top;\n",
       "    }\n",
       "\n",
       "    .dataframe thead th {\n",
       "        text-align: right;\n",
       "    }\n",
       "</style>\n",
       "<table border=\"1\" class=\"dataframe\">\n",
       "  <thead>\n",
       "    <tr style=\"text-align: right;\">\n",
       "      <th></th>\n",
       "      <th>x1</th>\n",
       "      <th>x2</th>\n",
       "      <th>x8</th>\n",
       "      <th>x9</th>\n",
       "      <th>x10</th>\n",
       "      <th>x11</th>\n",
       "      <th>x12</th>\n",
       "      <th>x21</th>\n",
       "      <th>x22</th>\n",
       "      <th>x23</th>\n",
       "      <th>x24</th>\n",
       "      <th>x25</th>\n",
       "      <th>x26</th>\n",
       "      <th>x27</th>\n",
       "      <th>x30</th>\n",
       "      <th>x31</th>\n",
       "      <th>x32</th>\n",
       "    </tr>\n",
       "  </thead>\n",
       "  <tbody>\n",
       "    <tr>\n",
       "      <th>0</th>\n",
       "      <td>-1.443483</td>\n",
       "      <td>1.662606</td>\n",
       "      <td>0.476844</td>\n",
       "      <td>-1.793738</td>\n",
       "      <td>-0.305009</td>\n",
       "      <td>-1.093773</td>\n",
       "      <td>0.142148</td>\n",
       "      <td>-1.476518</td>\n",
       "      <td>-0.096576</td>\n",
       "      <td>2.092018</td>\n",
       "      <td>-0.240894</td>\n",
       "      <td>-0.412427</td>\n",
       "      <td>0.430348</td>\n",
       "      <td>-1.124346</td>\n",
       "      <td>1.410446</td>\n",
       "      <td>-1.173105</td>\n",
       "      <td>-1.267575</td>\n",
       "    </tr>\n",
       "    <tr>\n",
       "      <th>1</th>\n",
       "      <td>0.750834</td>\n",
       "      <td>-0.378196</td>\n",
       "      <td>-0.207152</td>\n",
       "      <td>1.066535</td>\n",
       "      <td>-0.049516</td>\n",
       "      <td>-0.281241</td>\n",
       "      <td>0.232064</td>\n",
       "      <td>-0.683480</td>\n",
       "      <td>-0.095020</td>\n",
       "      <td>0.516205</td>\n",
       "      <td>-0.243133</td>\n",
       "      <td>1.758240</td>\n",
       "      <td>-1.651981</td>\n",
       "      <td>-0.845203</td>\n",
       "      <td>1.410446</td>\n",
       "      <td>1.926569</td>\n",
       "      <td>1.326759</td>\n",
       "    </tr>\n",
       "    <tr>\n",
       "      <th>2</th>\n",
       "      <td>0.240590</td>\n",
       "      <td>-0.208129</td>\n",
       "      <td>0.866395</td>\n",
       "      <td>-0.038570</td>\n",
       "      <td>-0.324912</td>\n",
       "      <td>0.033615</td>\n",
       "      <td>0.455721</td>\n",
       "      <td>-1.464073</td>\n",
       "      <td>-0.096576</td>\n",
       "      <td>2.075141</td>\n",
       "      <td>-0.243133</td>\n",
       "      <td>-0.412427</td>\n",
       "      <td>0.430348</td>\n",
       "      <td>-0.629555</td>\n",
       "      <td>0.033655</td>\n",
       "      <td>-1.114558</td>\n",
       "      <td>-1.196908</td>\n",
       "    </tr>\n",
       "    <tr>\n",
       "      <th>3</th>\n",
       "      <td>-2.258116</td>\n",
       "      <td>1.983304</td>\n",
       "      <td>0.473537</td>\n",
       "      <td>-1.793738</td>\n",
       "      <td>-0.327732</td>\n",
       "      <td>-0.172328</td>\n",
       "      <td>1.984470</td>\n",
       "      <td>0.982033</td>\n",
       "      <td>-0.096576</td>\n",
       "      <td>-0.659147</td>\n",
       "      <td>-0.242387</td>\n",
       "      <td>-0.412427</td>\n",
       "      <td>-1.651981</td>\n",
       "      <td>-0.389961</td>\n",
       "      <td>1.410446</td>\n",
       "      <td>-0.776095</td>\n",
       "      <td>-0.774072</td>\n",
       "    </tr>\n",
       "    <tr>\n",
       "      <th>4</th>\n",
       "      <td>0.702415</td>\n",
       "      <td>-0.635726</td>\n",
       "      <td>-2.233465</td>\n",
       "      <td>0.221454</td>\n",
       "      <td>0.030363</td>\n",
       "      <td>0.934933</td>\n",
       "      <td>-0.681071</td>\n",
       "      <td>0.648136</td>\n",
       "      <td>-0.096576</td>\n",
       "      <td>-0.670589</td>\n",
       "      <td>-0.243133</td>\n",
       "      <td>-1.497760</td>\n",
       "      <td>1.471513</td>\n",
       "      <td>2.036944</td>\n",
       "      <td>-0.425275</td>\n",
       "      <td>0.183521</td>\n",
       "      <td>0.458084</td>\n",
       "    </tr>\n",
       "  </tbody>\n",
       "</table>\n",
       "</div>"
      ],
      "text/plain": [
       "         x1        x2        x8        x9       x10       x11       x12  \\\n",
       "0 -1.443483  1.662606  0.476844 -1.793738 -0.305009 -1.093773  0.142148   \n",
       "1  0.750834 -0.378196 -0.207152  1.066535 -0.049516 -0.281241  0.232064   \n",
       "2  0.240590 -0.208129  0.866395 -0.038570 -0.324912  0.033615  0.455721   \n",
       "3 -2.258116  1.983304  0.473537 -1.793738 -0.327732 -0.172328  1.984470   \n",
       "4  0.702415 -0.635726 -2.233465  0.221454  0.030363  0.934933 -0.681071   \n",
       "\n",
       "        x21       x22       x23       x24       x25       x26       x27  \\\n",
       "0 -1.476518 -0.096576  2.092018 -0.240894 -0.412427  0.430348 -1.124346   \n",
       "1 -0.683480 -0.095020  0.516205 -0.243133  1.758240 -1.651981 -0.845203   \n",
       "2 -1.464073 -0.096576  2.075141 -0.243133 -0.412427  0.430348 -0.629555   \n",
       "3  0.982033 -0.096576 -0.659147 -0.242387 -0.412427 -1.651981 -0.389961   \n",
       "4  0.648136 -0.096576 -0.670589 -0.243133 -1.497760  1.471513  2.036944   \n",
       "\n",
       "        x30       x31       x32  \n",
       "0  1.410446 -1.173105 -1.267575  \n",
       "1  1.410446  1.926569  1.326759  \n",
       "2  0.033655 -1.114558 -1.196908  \n",
       "3  1.410446 -0.776095 -0.774072  \n",
       "4 -0.425275  0.183521  0.458084  "
      ]
     },
     "execution_count": 93,
     "metadata": {},
     "output_type": "execute_result"
    }
   ],
   "source": [
    "# Estandarizando las variables continuas\n",
    "# = ( x – media ) / desviación típica\n",
    "from scipy import stats\n",
    "import numpy as np\n",
    "num_st = stats.zscore(numericas)\n",
    "num_st = pd.DataFrame(num_st, columns=['x1','x2','x8','x9','x10','x11','x12','x21','x22','x23','x24','x25','x26','x27','x30','x31','x32'])\n",
    "num_st.head()"
   ]
  },
  {
   "cell_type": "code",
   "execution_count": 94,
   "metadata": {},
   "outputs": [
    {
     "data": {
      "text/html": [
       "<div>\n",
       "<style scoped>\n",
       "    .dataframe tbody tr th:only-of-type {\n",
       "        vertical-align: middle;\n",
       "    }\n",
       "\n",
       "    .dataframe tbody tr th {\n",
       "        vertical-align: top;\n",
       "    }\n",
       "\n",
       "    .dataframe thead th {\n",
       "        text-align: right;\n",
       "    }\n",
       "</style>\n",
       "<table border=\"1\" class=\"dataframe\">\n",
       "  <thead>\n",
       "    <tr style=\"text-align: right;\">\n",
       "      <th></th>\n",
       "      <th>yL</th>\n",
       "      <th>x3</th>\n",
       "      <th>x4</th>\n",
       "      <th>x5</th>\n",
       "      <th>x6</th>\n",
       "      <th>x7</th>\n",
       "      <th>x13</th>\n",
       "      <th>x14</th>\n",
       "      <th>x15</th>\n",
       "      <th>x16</th>\n",
       "      <th>...</th>\n",
       "      <th>x21</th>\n",
       "      <th>x22</th>\n",
       "      <th>x23</th>\n",
       "      <th>x24</th>\n",
       "      <th>x25</th>\n",
       "      <th>x26</th>\n",
       "      <th>x27</th>\n",
       "      <th>x30</th>\n",
       "      <th>x31</th>\n",
       "      <th>x32</th>\n",
       "    </tr>\n",
       "  </thead>\n",
       "  <tbody>\n",
       "    <tr>\n",
       "      <th>0</th>\n",
       "      <td>1</td>\n",
       "      <td>1</td>\n",
       "      <td>0</td>\n",
       "      <td>0</td>\n",
       "      <td>0</td>\n",
       "      <td>0</td>\n",
       "      <td>0</td>\n",
       "      <td>1</td>\n",
       "      <td>0</td>\n",
       "      <td>1</td>\n",
       "      <td>...</td>\n",
       "      <td>-1.476518</td>\n",
       "      <td>-0.096576</td>\n",
       "      <td>2.092018</td>\n",
       "      <td>-0.240894</td>\n",
       "      <td>-0.412427</td>\n",
       "      <td>0.430348</td>\n",
       "      <td>-1.124346</td>\n",
       "      <td>1.410446</td>\n",
       "      <td>-1.173105</td>\n",
       "      <td>-1.267575</td>\n",
       "    </tr>\n",
       "    <tr>\n",
       "      <th>1</th>\n",
       "      <td>1</td>\n",
       "      <td>0</td>\n",
       "      <td>0</td>\n",
       "      <td>0</td>\n",
       "      <td>0</td>\n",
       "      <td>1</td>\n",
       "      <td>0</td>\n",
       "      <td>0</td>\n",
       "      <td>0</td>\n",
       "      <td>0</td>\n",
       "      <td>...</td>\n",
       "      <td>-0.683480</td>\n",
       "      <td>-0.095020</td>\n",
       "      <td>0.516205</td>\n",
       "      <td>-0.243133</td>\n",
       "      <td>1.758240</td>\n",
       "      <td>-1.651981</td>\n",
       "      <td>-0.845203</td>\n",
       "      <td>1.410446</td>\n",
       "      <td>1.926569</td>\n",
       "      <td>1.326759</td>\n",
       "    </tr>\n",
       "    <tr>\n",
       "      <th>2</th>\n",
       "      <td>1</td>\n",
       "      <td>0</td>\n",
       "      <td>1</td>\n",
       "      <td>0</td>\n",
       "      <td>0</td>\n",
       "      <td>0</td>\n",
       "      <td>0</td>\n",
       "      <td>0</td>\n",
       "      <td>0</td>\n",
       "      <td>0</td>\n",
       "      <td>...</td>\n",
       "      <td>-1.464073</td>\n",
       "      <td>-0.096576</td>\n",
       "      <td>2.075141</td>\n",
       "      <td>-0.243133</td>\n",
       "      <td>-0.412427</td>\n",
       "      <td>0.430348</td>\n",
       "      <td>-0.629555</td>\n",
       "      <td>0.033655</td>\n",
       "      <td>-1.114558</td>\n",
       "      <td>-1.196908</td>\n",
       "    </tr>\n",
       "    <tr>\n",
       "      <th>3</th>\n",
       "      <td>0</td>\n",
       "      <td>0</td>\n",
       "      <td>0</td>\n",
       "      <td>1</td>\n",
       "      <td>0</td>\n",
       "      <td>0</td>\n",
       "      <td>0</td>\n",
       "      <td>0</td>\n",
       "      <td>0</td>\n",
       "      <td>0</td>\n",
       "      <td>...</td>\n",
       "      <td>0.982033</td>\n",
       "      <td>-0.096576</td>\n",
       "      <td>-0.659147</td>\n",
       "      <td>-0.242387</td>\n",
       "      <td>-0.412427</td>\n",
       "      <td>-1.651981</td>\n",
       "      <td>-0.389961</td>\n",
       "      <td>1.410446</td>\n",
       "      <td>-0.776095</td>\n",
       "      <td>-0.774072</td>\n",
       "    </tr>\n",
       "    <tr>\n",
       "      <th>4</th>\n",
       "      <td>1</td>\n",
       "      <td>1</td>\n",
       "      <td>0</td>\n",
       "      <td>0</td>\n",
       "      <td>0</td>\n",
       "      <td>0</td>\n",
       "      <td>1</td>\n",
       "      <td>0</td>\n",
       "      <td>1</td>\n",
       "      <td>0</td>\n",
       "      <td>...</td>\n",
       "      <td>0.648136</td>\n",
       "      <td>-0.096576</td>\n",
       "      <td>-0.670589</td>\n",
       "      <td>-0.243133</td>\n",
       "      <td>-1.497760</td>\n",
       "      <td>1.471513</td>\n",
       "      <td>2.036944</td>\n",
       "      <td>-0.425275</td>\n",
       "      <td>0.183521</td>\n",
       "      <td>0.458084</td>\n",
       "    </tr>\n",
       "  </tbody>\n",
       "</table>\n",
       "<p>5 rows × 33 columns</p>\n",
       "</div>"
      ],
      "text/plain": [
       "   yL  x3  x4  x5  x6  x7  x13  x14  x15  x16  ...       x21       x22  \\\n",
       "0   1   1   0   0   0   0    0    1    0    1  ... -1.476518 -0.096576   \n",
       "1   1   0   0   0   0   1    0    0    0    0  ... -0.683480 -0.095020   \n",
       "2   1   0   1   0   0   0    0    0    0    0  ... -1.464073 -0.096576   \n",
       "3   0   0   0   1   0   0    0    0    0    0  ...  0.982033 -0.096576   \n",
       "4   1   1   0   0   0   0    1    0    1    0  ...  0.648136 -0.096576   \n",
       "\n",
       "        x23       x24       x25       x26       x27       x30       x31  \\\n",
       "0  2.092018 -0.240894 -0.412427  0.430348 -1.124346  1.410446 -1.173105   \n",
       "1  0.516205 -0.243133  1.758240 -1.651981 -0.845203  1.410446  1.926569   \n",
       "2  2.075141 -0.243133 -0.412427  0.430348 -0.629555  0.033655 -1.114558   \n",
       "3 -0.659147 -0.242387 -0.412427 -1.651981 -0.389961  1.410446 -0.776095   \n",
       "4 -0.670589 -0.243133 -1.497760  1.471513  2.036944 -0.425275  0.183521   \n",
       "\n",
       "        x32  \n",
       "0 -1.267575  \n",
       "1  1.326759  \n",
       "2 -1.196908  \n",
       "3 -0.774072  \n",
       "4  0.458084  \n",
       "\n",
       "[5 rows x 33 columns]"
      ]
     },
     "execution_count": 94,
     "metadata": {},
     "output_type": "execute_result"
    }
   ],
   "source": [
    "# dataframe con variables estandarizadas y dicotomas\n",
    "categ_sub = ['yL','x3','x4','x5','x6','x7','x13','x14','x15','x16','x17','x18','x19','x20','x28','x29'] \n",
    "categ = data[categ_sub]\n",
    "type(categ)\n",
    "data_st = pd.concat([categ, num_st], axis=1)\n",
    "data_st.head()"
   ]
  },
  {
   "cell_type": "markdown",
   "metadata": {},
   "source": [
    "### Partición de la base usando una función de shuffle"
   ]
  },
  {
   "cell_type": "code",
   "execution_count": 95,
   "metadata": {},
   "outputs": [
    {
     "data": {
      "text/html": [
       "<div>\n",
       "<style scoped>\n",
       "    .dataframe tbody tr th:only-of-type {\n",
       "        vertical-align: middle;\n",
       "    }\n",
       "\n",
       "    .dataframe tbody tr th {\n",
       "        vertical-align: top;\n",
       "    }\n",
       "\n",
       "    .dataframe thead th {\n",
       "        text-align: right;\n",
       "    }\n",
       "</style>\n",
       "<table border=\"1\" class=\"dataframe\">\n",
       "  <thead>\n",
       "    <tr style=\"text-align: right;\">\n",
       "      <th></th>\n",
       "      <th>yL</th>\n",
       "      <th>x3</th>\n",
       "      <th>x4</th>\n",
       "      <th>x5</th>\n",
       "      <th>x6</th>\n",
       "      <th>x7</th>\n",
       "      <th>x13</th>\n",
       "      <th>x14</th>\n",
       "      <th>x15</th>\n",
       "      <th>x16</th>\n",
       "      <th>...</th>\n",
       "      <th>x21</th>\n",
       "      <th>x22</th>\n",
       "      <th>x23</th>\n",
       "      <th>x24</th>\n",
       "      <th>x25</th>\n",
       "      <th>x26</th>\n",
       "      <th>x27</th>\n",
       "      <th>x30</th>\n",
       "      <th>x31</th>\n",
       "      <th>x32</th>\n",
       "    </tr>\n",
       "  </thead>\n",
       "  <tbody>\n",
       "    <tr>\n",
       "      <th>80</th>\n",
       "      <td>1</td>\n",
       "      <td>1</td>\n",
       "      <td>0</td>\n",
       "      <td>0</td>\n",
       "      <td>0</td>\n",
       "      <td>0</td>\n",
       "      <td>1</td>\n",
       "      <td>0</td>\n",
       "      <td>1</td>\n",
       "      <td>0</td>\n",
       "      <td>...</td>\n",
       "      <td>0.388380</td>\n",
       "      <td>-0.093464</td>\n",
       "      <td>-0.681744</td>\n",
       "      <td>-0.242387</td>\n",
       "      <td>0.672907</td>\n",
       "      <td>0.430348</td>\n",
       "      <td>0.448371</td>\n",
       "      <td>-0.884206</td>\n",
       "      <td>0.693448</td>\n",
       "      <td>1.137446</td>\n",
       "    </tr>\n",
       "    <tr>\n",
       "      <th>57</th>\n",
       "      <td>1</td>\n",
       "      <td>0</td>\n",
       "      <td>0</td>\n",
       "      <td>0</td>\n",
       "      <td>0</td>\n",
       "      <td>0</td>\n",
       "      <td>0</td>\n",
       "      <td>0</td>\n",
       "      <td>0</td>\n",
       "      <td>0</td>\n",
       "      <td>...</td>\n",
       "      <td>0.604711</td>\n",
       "      <td>0.060563</td>\n",
       "      <td>-0.593929</td>\n",
       "      <td>-0.202826</td>\n",
       "      <td>0.672907</td>\n",
       "      <td>-0.610817</td>\n",
       "      <td>-0.724274</td>\n",
       "      <td>-1.343136</td>\n",
       "      <td>0.360686</td>\n",
       "      <td>0.448833</td>\n",
       "    </tr>\n",
       "    <tr>\n",
       "      <th>141</th>\n",
       "      <td>1</td>\n",
       "      <td>0</td>\n",
       "      <td>0</td>\n",
       "      <td>0</td>\n",
       "      <td>0</td>\n",
       "      <td>0</td>\n",
       "      <td>0</td>\n",
       "      <td>0</td>\n",
       "      <td>0</td>\n",
       "      <td>0</td>\n",
       "      <td>...</td>\n",
       "      <td>-1.475724</td>\n",
       "      <td>-0.096576</td>\n",
       "      <td>2.158666</td>\n",
       "      <td>-0.243133</td>\n",
       "      <td>-0.412427</td>\n",
       "      <td>0.430348</td>\n",
       "      <td>-0.647378</td>\n",
       "      <td>1.410446</td>\n",
       "      <td>-1.406114</td>\n",
       "      <td>-1.568629</td>\n",
       "    </tr>\n",
       "    <tr>\n",
       "      <th>45</th>\n",
       "      <td>1</td>\n",
       "      <td>0</td>\n",
       "      <td>1</td>\n",
       "      <td>0</td>\n",
       "      <td>0</td>\n",
       "      <td>0</td>\n",
       "      <td>0</td>\n",
       "      <td>0</td>\n",
       "      <td>0</td>\n",
       "      <td>0</td>\n",
       "      <td>...</td>\n",
       "      <td>-1.356304</td>\n",
       "      <td>-0.096576</td>\n",
       "      <td>1.995335</td>\n",
       "      <td>-0.243133</td>\n",
       "      <td>0.672907</td>\n",
       "      <td>0.430348</td>\n",
       "      <td>1.124314</td>\n",
       "      <td>0.951515</td>\n",
       "      <td>-0.847421</td>\n",
       "      <td>-0.874627</td>\n",
       "    </tr>\n",
       "    <tr>\n",
       "      <th>75</th>\n",
       "      <td>1</td>\n",
       "      <td>0</td>\n",
       "      <td>0</td>\n",
       "      <td>0</td>\n",
       "      <td>0</td>\n",
       "      <td>0</td>\n",
       "      <td>0</td>\n",
       "      <td>0</td>\n",
       "      <td>0</td>\n",
       "      <td>1</td>\n",
       "      <td>...</td>\n",
       "      <td>-1.468574</td>\n",
       "      <td>-0.091908</td>\n",
       "      <td>2.101457</td>\n",
       "      <td>-0.243133</td>\n",
       "      <td>0.672907</td>\n",
       "      <td>-0.610817</td>\n",
       "      <td>-0.853704</td>\n",
       "      <td>0.951515</td>\n",
       "      <td>-1.204749</td>\n",
       "      <td>-1.311010</td>\n",
       "    </tr>\n",
       "  </tbody>\n",
       "</table>\n",
       "<p>5 rows × 33 columns</p>\n",
       "</div>"
      ],
      "text/plain": [
       "     yL  x3  x4  x5  x6  x7  x13  x14  x15  x16  ...       x21       x22  \\\n",
       "80    1   1   0   0   0   0    1    0    1    0  ...  0.388380 -0.093464   \n",
       "57    1   0   0   0   0   0    0    0    0    0  ...  0.604711  0.060563   \n",
       "141   1   0   0   0   0   0    0    0    0    0  ... -1.475724 -0.096576   \n",
       "45    1   0   1   0   0   0    0    0    0    0  ... -1.356304 -0.096576   \n",
       "75    1   0   0   0   0   0    0    0    0    1  ... -1.468574 -0.091908   \n",
       "\n",
       "          x23       x24       x25       x26       x27       x30       x31  \\\n",
       "80  -0.681744 -0.242387  0.672907  0.430348  0.448371 -0.884206  0.693448   \n",
       "57  -0.593929 -0.202826  0.672907 -0.610817 -0.724274 -1.343136  0.360686   \n",
       "141  2.158666 -0.243133 -0.412427  0.430348 -0.647378  1.410446 -1.406114   \n",
       "45   1.995335 -0.243133  0.672907  0.430348  1.124314  0.951515 -0.847421   \n",
       "75   2.101457 -0.243133  0.672907 -0.610817 -0.853704  0.951515 -1.204749   \n",
       "\n",
       "          x32  \n",
       "80   1.137446  \n",
       "57   0.448833  \n",
       "141 -1.568629  \n",
       "45  -0.874627  \n",
       "75  -1.311010  \n",
       "\n",
       "[5 rows x 33 columns]"
      ]
     },
     "execution_count": 95,
     "metadata": {},
     "output_type": "execute_result"
    }
   ],
   "source": [
    "from sklearn.model_selection import train_test_split\n",
    "from sklearn.feature_selection import VarianceThreshold\n",
    "import sklearn\n",
    "data2 = sklearn.utils.shuffle(data_st)\n",
    "data2.head()"
   ]
  },
  {
   "cell_type": "markdown",
   "metadata": {},
   "source": [
    "### Trainig, and test (80% - 20% ) "
   ]
  },
  {
   "cell_type": "code",
   "execution_count": 96,
   "metadata": {},
   "outputs": [],
   "source": [
    "# separate dataset into train and test\n",
    "train, test = train_test_split(data2, test_size = 0.2)"
   ]
  },
  {
   "cell_type": "code",
   "execution_count": 97,
   "metadata": {},
   "outputs": [
    {
     "data": {
      "text/plain": [
       "(120, 33)"
      ]
     },
     "execution_count": 97,
     "metadata": {},
     "output_type": "execute_result"
    }
   ],
   "source": [
    "train.shape"
   ]
  },
  {
   "cell_type": "code",
   "execution_count": 98,
   "metadata": {},
   "outputs": [
    {
     "data": {
      "text/plain": [
       "(30, 33)"
      ]
     },
     "execution_count": 98,
     "metadata": {},
     "output_type": "execute_result"
    }
   ],
   "source": [
    "test.shape"
   ]
  },
  {
   "cell_type": "code",
   "execution_count": 99,
   "metadata": {},
   "outputs": [],
   "source": [
    "X_train = train.drop('yL',  axis = 1)\n",
    "y_train = train['yL']\n",
    "X_test = test.drop('yL',  axis = 1)\n",
    "y_test = test['yL']"
   ]
  },
  {
   "cell_type": "markdown",
   "metadata": {},
   "source": [
    "# 3. Feature selection"
   ]
  },
  {
   "cell_type": "markdown",
   "metadata": {},
   "source": [
    "### Removing constant feature"
   ]
  },
  {
   "cell_type": "code",
   "execution_count": 100,
   "metadata": {},
   "outputs": [
    {
     "data": {
      "text/plain": [
       "VarianceThreshold(threshold=0)"
      ]
     },
     "execution_count": 100,
     "metadata": {},
     "output_type": "execute_result"
    }
   ],
   "source": [
    "sel = VarianceThreshold(threshold=0)\n",
    "sel.fit(train)  # fit finds the features with zero variance"
   ]
  },
  {
   "cell_type": "code",
   "execution_count": 101,
   "metadata": {},
   "outputs": [
    {
     "data": {
      "text/plain": [
       "33"
      ]
     },
     "execution_count": 101,
     "metadata": {},
     "output_type": "execute_result"
    }
   ],
   "source": [
    "# get_support is a boolean vector that indicates which features are retained\n",
    "# if we sum over get_support, we get the number of features that are not constant\n",
    "sum(sel.get_support())"
   ]
  },
  {
   "cell_type": "markdown",
   "metadata": {},
   "source": [
    "### Removing quasi-constant features"
   ]
  },
  {
   "cell_type": "code",
   "execution_count": 102,
   "metadata": {},
   "outputs": [
    {
     "data": {
      "text/plain": [
       "VarianceThreshold(threshold=0.01)"
      ]
     },
     "execution_count": 102,
     "metadata": {},
     "output_type": "execute_result"
    }
   ],
   "source": [
    "sel = VarianceThreshold(\n",
    "    threshold=0.01)  # 0.1 indicates 99% of observations approximately\n",
    "\n",
    "sel.fit(train)  # fit finds the features with low variance"
   ]
  },
  {
   "cell_type": "code",
   "execution_count": 103,
   "metadata": {},
   "outputs": [
    {
     "data": {
      "text/plain": [
       "array([ True,  True,  True,  True,  True,  True,  True,  True,  True,\n",
       "        True,  True,  True,  True,  True,  True,  True,  True,  True,\n",
       "        True,  True,  True,  True,  True,  True,  True,  True,  True,\n",
       "        True,  True,  True,  True,  True,  True])"
      ]
     },
     "execution_count": 103,
     "metadata": {},
     "output_type": "execute_result"
    }
   ],
   "source": [
    "# get_support is a boolean vector that indicates which features \n",
    "# are retained. If we sum over get_support, we get the number\n",
    "# of features that are not quasi-constant\n",
    "sel.get_support()"
   ]
  },
  {
   "cell_type": "markdown",
   "metadata": {},
   "source": [
    "No se presenran variables con varianza constante"
   ]
  },
  {
   "cell_type": "markdown",
   "metadata": {},
   "source": [
    "### Mutual information for feature selection"
   ]
  },
  {
   "cell_type": "code",
   "execution_count": 104,
   "metadata": {},
   "outputs": [],
   "source": [
    "from sklearn.feature_selection import mutual_info_classif, mutual_info_regression\n",
    "from sklearn.feature_selection import SelectKBest, SelectPercentile"
   ]
  },
  {
   "cell_type": "code",
   "execution_count": 105,
   "metadata": {},
   "outputs": [
    {
     "data": {
      "text/plain": [
       "array([0.        , 0.        , 0.03825244, 0.        , 0.        ,\n",
       "       0.        , 0.        , 0.        , 0.        , 0.05611153,\n",
       "       0.01138772, 0.05899822, 0.02987837, 0.        , 0.01158055,\n",
       "       0.05719968, 0.06821849, 0.04430298, 0.07243063, 0.1449783 ,\n",
       "       0.07101825, 0.02565107, 0.00312689, 0.13534943, 0.        ,\n",
       "       0.03105162, 0.        , 0.03561661, 0.02160697, 0.04740554,\n",
       "       0.        , 0.01577586])"
      ]
     },
     "execution_count": 105,
     "metadata": {},
     "output_type": "execute_result"
    }
   ],
   "source": [
    "# calculate the mutual information between the variables and the target\n",
    "# this returns the mutual information value of each feature\n",
    "# the smaller the value the less information the feature has about the\n",
    "# target\n",
    "mi = mutual_info_classif(X_train.fillna(0), y_train)\n",
    "mi"
   ]
  },
  {
   "cell_type": "code",
   "execution_count": 106,
   "metadata": {},
   "outputs": [
    {
     "data": {
      "text/plain": [
       "x10    0.144978\n",
       "x22    0.135349\n",
       "x9     0.072431\n",
       "x11    0.071018\n",
       "x2     0.068218\n",
       "x19    0.058998\n",
       "x1     0.057200\n",
       "x17    0.056112\n",
       "x30    0.047406\n",
       "x8     0.044303\n",
       "x5     0.038252\n",
       "x26    0.035617\n",
       "x24    0.031052\n",
       "x20    0.029878\n",
       "x12    0.025651\n",
       "x27    0.021607\n",
       "x32    0.015776\n",
       "x29    0.011581\n",
       "x18    0.011388\n",
       "x21    0.003127\n",
       "x28    0.000000\n",
       "x31    0.000000\n",
       "x23    0.000000\n",
       "x16    0.000000\n",
       "x15    0.000000\n",
       "x14    0.000000\n",
       "x13    0.000000\n",
       "x7     0.000000\n",
       "x6     0.000000\n",
       "x25    0.000000\n",
       "x4     0.000000\n",
       "x3     0.000000\n",
       "dtype: float64"
      ]
     },
     "execution_count": 106,
     "metadata": {},
     "output_type": "execute_result"
    }
   ],
   "source": [
    "# let's add the variable names and order the features\n",
    "# according to the MI for clearer visualisation\n",
    "mi = pd.Series(mi)\n",
    "mi.index = X_train.columns\n",
    "mi.sort_values(ascending=False)"
   ]
  },
  {
   "cell_type": "code",
   "execution_count": 107,
   "metadata": {},
   "outputs": [
    {
     "data": {
      "text/plain": [
       "<matplotlib.axes._subplots.AxesSubplot at 0x1b93e155b70>"
      ]
     },
     "execution_count": 107,
     "metadata": {},
     "output_type": "execute_result"
    },
    {
     "data": {
      "image/png": "[encoded data removed]",
      "text/plain": [
       "<Figure size 1440x576 with 1 Axes>"
      ]
     },
     "metadata": {},
     "output_type": "display_data"
    }
   ],
   "source": [
    "# and now let's plot the ordered MI values per feature\n",
    "mi.sort_values(ascending=False).plot.bar(figsize=(20, 8))"
   ]
  },
  {
   "cell_type": "code",
   "execution_count": 108,
   "metadata": {},
   "outputs": [
    {
     "ename": "NameError",
     "evalue": "name 'sel_' is not defined",
     "output_type": "error",
     "traceback": [
      "\u001b[1;31m---------------------------------------------------------------------------\u001b[0m",
      "\u001b[1;31mNameError\u001b[0m                                 Traceback (most recent call last)",
      "\u001b[1;32m<ipython-input-108-52562e2f65d4>\u001b[0m in \u001b[0;36m<module>\u001b[1;34m\u001b[0m\n\u001b[1;32m----> 1\u001b[1;33m \u001b[0mlen\u001b[0m\u001b[1;33m(\u001b[0m\u001b[0msel_\u001b[0m\u001b[1;33m.\u001b[0m\u001b[0mget_support\u001b[0m\u001b[1;33m(\u001b[0m\u001b[1;33m)\u001b[0m\u001b[1;33m)\u001b[0m\u001b[1;33m\u001b[0m\u001b[1;33m\u001b[0m\u001b[0m\n\u001b[0m",
      "\u001b[1;31mNameError\u001b[0m: name 'sel_' is not defined"
     ]
    }
   ],
   "source": [
    "len(sel_.get_support())"
   ]
  },
  {
   "cell_type": "code",
   "execution_count": 109,
   "metadata": {},
   "outputs": [],
   "source": [
    "test = np.array([])"
   ]
  },
  {
   "cell_type": "code",
   "execution_count": 110,
   "metadata": {},
   "outputs": [],
   "source": [
    "# here I will select the top 50 percentile\n",
    "for i in range(1000):\n",
    "    sel_ = SelectPercentile(mutual_info_classif, percentile=50).fit(X_train.fillna(0), y_train)\n",
    "    test =  np.concatenate([test, X_train.columns[sel_.get_support()].values])"
   ]
  },
  {
   "cell_type": "code",
   "execution_count": null,
   "metadata": {
    "scrolled": true
   },
   "outputs": [],
   "source": [
    "# here I will select the top 50 percentile\n",
    "sel_ = SelectPercentile(mutual_info_regression, percentile=50).fit(X_train.fillna(0), y_train)\n",
    "X_train.columns[sel_.get_support()]"
   ]
  },
  {
   "cell_type": "markdown",
   "metadata": {},
   "source": [
    "### Univariate roc-auc or mse feature selection"
   ]
  },
  {
   "cell_type": "code",
   "execution_count": 158,
   "metadata": {},
   "outputs": [],
   "source": [
    "from sklearn.tree import DecisionTreeClassifier, DecisionTreeRegressor\n",
    "from sklearn.metrics import roc_auc_score, mean_squared_error"
   ]
  },
  {
   "cell_type": "code",
   "execution_count": 159,
   "metadata": {},
   "outputs": [],
   "source": [
    "feature = X_train.columns[0]"
   ]
  },
  {
   "cell_type": "code",
   "execution_count": 179,
   "metadata": {
    "scrolled": false
   },
   "outputs": [
    {
     "data": {
      "text/plain": [
       "x17    0.794643\n",
       "x30    0.714286\n",
       "x22    0.696429\n",
       "x4     0.687500\n",
       "x26    0.685268\n",
       "x27    0.656250\n",
       "x31    0.625000\n",
       "x11    0.593750\n",
       "x19    0.593750\n",
       "x32    0.589286\n",
       "x23    0.587054\n",
       "x6     0.558036\n",
       "x7     0.531250\n",
       "x8     0.522321\n",
       "x21    0.517857\n",
       "x13    0.517857\n",
       "x25    0.502232\n",
       "x5     0.500000\n",
       "x29    0.500000\n",
       "x12    0.495536\n",
       "x2     0.495536\n",
       "x16    0.495536\n",
       "x1     0.491071\n",
       "x3     0.486607\n",
       "x15    0.482143\n",
       "x18    0.477679\n",
       "x20    0.468750\n",
       "x10    0.459821\n",
       "x24    0.450893\n",
       "x28    0.428571\n",
       "x14    0.379464\n",
       "x9     0.366071\n",
       "dtype: float64"
      ]
     },
     "execution_count": 179,
     "metadata": {},
     "output_type": "execute_result"
    }
   ],
   "source": [
    "# loop to build a tree, make predictions and get the roc-auc\n",
    "# for each feature of the train set\n",
    "\n",
    "roc_values = []\n",
    "for feature in X_train.columns:\n",
    "    clf = DecisionTreeClassifier()\n",
    "    clf.fit(X_train[feature].fillna(0).to_frame(), y_train)\n",
    "    y_scored = clf.predict_proba(X_test[feature].fillna(0).to_frame())\n",
    "    roc_values.append(roc_auc_score(y_test, y_scored[:, 1]))\n",
    "roc_values = pd.Series(roc_values)\n",
    "roc_values.index = X_train.columns\n",
    "roc_values.sort_values(ascending=False)"
   ]
  },
  {
   "cell_type": "code",
   "execution_count": 182,
   "metadata": {},
   "outputs": [
    {
     "data": {
      "text/plain": [
       "x32    1.000000\n",
       "x21    1.000000\n",
       "x31    1.000000\n",
       "x8     1.000000\n",
       "x10    1.000000\n",
       "x11    1.000000\n",
       "x1     1.000000\n",
       "x27    1.000000\n",
       "x2     0.997354\n",
       "x12    0.993386\n",
       "x23    0.988757\n",
       "x24    0.784392\n",
       "x22    0.769180\n",
       "x9     0.702381\n",
       "x30    0.667659\n",
       "x17    0.648810\n",
       "x26    0.589782\n",
       "x15    0.575397\n",
       "x3     0.563492\n",
       "x25    0.563327\n",
       "x4     0.561508\n",
       "x18    0.559524\n",
       "x16    0.547619\n",
       "x19    0.537698\n",
       "x20    0.529762\n",
       "x29    0.527778\n",
       "x5     0.523810\n",
       "x7     0.523810\n",
       "x6     0.523810\n",
       "x14    0.515873\n",
       "x28    0.507937\n",
       "x13    0.507937\n",
       "dtype: float64"
      ]
     },
     "execution_count": 182,
     "metadata": {},
     "output_type": "execute_result"
    }
   ],
   "source": [
    "roc_values = []\n",
    "for feature in X_train.columns:\n",
    "    clf = DecisionTreeClassifier()\n",
    "    clf.fit(X_train[feature].to_frame(), y_train)\n",
    "    y_scored = clf.predict_proba(X_train[feature].to_frame())\n",
    "    roc_values.append(roc_auc_score(y_train, y_scored[:, 1]))\n",
    "\n",
    "roc_values = pd.Series(roc_values)\n",
    "roc_values.index = X_train.columns\n",
    "roc_values.sort_values(ascending=False)"
   ]
  },
  {
   "cell_type": "code",
   "execution_count": 41,
   "metadata": {},
   "outputs": [
    {
     "data": {
      "text/plain": [
       "<matplotlib.axes._subplots.AxesSubplot at 0x12bc5f7b8>"
      ]
     },
     "execution_count": 41,
     "metadata": {},
     "output_type": "execute_result"
    },
    {
     "data": {
      "image/png": "[encoded data removed]",
      "text/plain": [
       "<Figure size 1440x576 with 1 Axes>"
      ]
     },
     "metadata": {},
     "output_type": "display_data"
    }
   ],
   "source": [
    "# and now let's plot\n",
    "roc_values.sort_values(ascending=False).plot.bar(figsize=(20, 8))"
   ]
  },
  {
   "cell_type": "code",
   "execution_count": 42,
   "metadata": {},
   "outputs": [
    {
     "data": {
      "text/plain": [
       "24"
      ]
     },
     "execution_count": 42,
     "metadata": {},
     "output_type": "execute_result"
    }
   ],
   "source": [
    "# a roc auc value of 0.5 indicates random decision\n",
    "# let's check how many features show a roc-auc value\n",
    "# higher than random\n",
    "\n",
    "len(roc_values[roc_values > 0.5])"
   ]
  },
  {
   "cell_type": "markdown",
   "metadata": {},
   "source": [
    "### Fisher score for categorical variables"
   ]
  },
  {
   "cell_type": "code",
   "execution_count": 43,
   "metadata": {
    "collapsed": true
   },
   "outputs": [],
   "source": [
    "from sklearn.feature_selection import chi2"
   ]
  },
  {
   "cell_type": "code",
   "execution_count": 44,
   "metadata": {},
   "outputs": [
    {
     "data": {
      "text/html": [
       "<div>\n",
       "<style scoped>\n",
       "    .dataframe tbody tr th:only-of-type {\n",
       "        vertical-align: middle;\n",
       "    }\n",
       "\n",
       "    .dataframe tbody tr th {\n",
       "        vertical-align: top;\n",
       "    }\n",
       "\n",
       "    .dataframe thead th {\n",
       "        text-align: right;\n",
       "    }\n",
       "</style>\n",
       "<table border=\"1\" class=\"dataframe\">\n",
       "  <thead>\n",
       "    <tr style=\"text-align: right;\">\n",
       "      <th></th>\n",
       "      <th>yL</th>\n",
       "      <th>x3</th>\n",
       "      <th>x4</th>\n",
       "      <th>x5</th>\n",
       "      <th>x6</th>\n",
       "      <th>x7</th>\n",
       "      <th>x13</th>\n",
       "      <th>x14</th>\n",
       "      <th>x15</th>\n",
       "      <th>x16</th>\n",
       "      <th>x17</th>\n",
       "      <th>x18</th>\n",
       "      <th>x19</th>\n",
       "      <th>x20</th>\n",
       "      <th>x28</th>\n",
       "      <th>x29</th>\n",
       "    </tr>\n",
       "  </thead>\n",
       "  <tbody>\n",
       "    <tr>\n",
       "      <th>142</th>\n",
       "      <td>1</td>\n",
       "      <td>1</td>\n",
       "      <td>0</td>\n",
       "      <td>0</td>\n",
       "      <td>0</td>\n",
       "      <td>0</td>\n",
       "      <td>0</td>\n",
       "      <td>0</td>\n",
       "      <td>1</td>\n",
       "      <td>0</td>\n",
       "      <td>1</td>\n",
       "      <td>0</td>\n",
       "      <td>0</td>\n",
       "      <td>0</td>\n",
       "      <td>1</td>\n",
       "      <td>0</td>\n",
       "    </tr>\n",
       "    <tr>\n",
       "      <th>6</th>\n",
       "      <td>1</td>\n",
       "      <td>0</td>\n",
       "      <td>0</td>\n",
       "      <td>0</td>\n",
       "      <td>0</td>\n",
       "      <td>1</td>\n",
       "      <td>0</td>\n",
       "      <td>1</td>\n",
       "      <td>0</td>\n",
       "      <td>0</td>\n",
       "      <td>0</td>\n",
       "      <td>0</td>\n",
       "      <td>0</td>\n",
       "      <td>0</td>\n",
       "      <td>0</td>\n",
       "      <td>0</td>\n",
       "    </tr>\n",
       "    <tr>\n",
       "      <th>53</th>\n",
       "      <td>1</td>\n",
       "      <td>0</td>\n",
       "      <td>0</td>\n",
       "      <td>0</td>\n",
       "      <td>0</td>\n",
       "      <td>0</td>\n",
       "      <td>0</td>\n",
       "      <td>0</td>\n",
       "      <td>0</td>\n",
       "      <td>0</td>\n",
       "      <td>0</td>\n",
       "      <td>0</td>\n",
       "      <td>0</td>\n",
       "      <td>0</td>\n",
       "      <td>0</td>\n",
       "      <td>0</td>\n",
       "    </tr>\n",
       "    <tr>\n",
       "      <th>128</th>\n",
       "      <td>1</td>\n",
       "      <td>1</td>\n",
       "      <td>0</td>\n",
       "      <td>0</td>\n",
       "      <td>0</td>\n",
       "      <td>0</td>\n",
       "      <td>0</td>\n",
       "      <td>0</td>\n",
       "      <td>0</td>\n",
       "      <td>1</td>\n",
       "      <td>0</td>\n",
       "      <td>0</td>\n",
       "      <td>0</td>\n",
       "      <td>0</td>\n",
       "      <td>0</td>\n",
       "      <td>1</td>\n",
       "    </tr>\n",
       "    <tr>\n",
       "      <th>40</th>\n",
       "      <td>1</td>\n",
       "      <td>0</td>\n",
       "      <td>0</td>\n",
       "      <td>0</td>\n",
       "      <td>0</td>\n",
       "      <td>0</td>\n",
       "      <td>0</td>\n",
       "      <td>0</td>\n",
       "      <td>0</td>\n",
       "      <td>0</td>\n",
       "      <td>0</td>\n",
       "      <td>0</td>\n",
       "      <td>0</td>\n",
       "      <td>0</td>\n",
       "      <td>0</td>\n",
       "      <td>0</td>\n",
       "    </tr>\n",
       "  </tbody>\n",
       "</table>\n",
       "</div>"
      ],
      "text/plain": [
       "     yL  x3  x4  x5  x6  x7  x13  x14  x15  x16  x17  x18  x19  x20  x28  x29\n",
       "142   1   1   0   0   0   0    0    0    1    0    1    0    0    0    1    0\n",
       "6     1   0   0   0   0   1    0    1    0    0    0    0    0    0    0    0\n",
       "53    1   0   0   0   0   0    0    0    0    0    0    0    0    0    0    0\n",
       "128   1   1   0   0   0   0    0    0    0    1    0    0    0    0    0    1\n",
       "40    1   0   0   0   0   0    0    0    0    0    0    0    0    0    0    0"
      ]
     },
     "execution_count": 44,
     "metadata": {},
     "output_type": "execute_result"
    }
   ],
   "source": [
    "x_train_categ = train[categoricas]\n",
    "y_train_categ = train['yL']\n",
    "x_train_categ.head()"
   ]
  },
  {
   "cell_type": "code",
   "execution_count": 45,
   "metadata": {},
   "outputs": [
    {
     "data": {
      "text/plain": [
       "(array([3.90000000e+01, 2.05201256e-01, 6.71668249e+00, 5.58404558e-01,\n",
       "        1.37011137e-01, 2.84900285e-02, 8.27129859e-04, 1.01403398e-01,\n",
       "        4.21214114e-01, 2.74264008e+00, 1.01635620e+01, 3.65052232e+00,\n",
       "        1.87685977e+00, 8.37606838e-01, 1.13960114e-02, 1.45868946e+00]),\n",
       " array([4.23805543e-10, 6.50554896e-01, 9.55151365e-03, 4.54903785e-01,\n",
       "        7.11270614e-01, 8.65961907e-01, 9.77056110e-01, 7.50151958e-01,\n",
       "        5.16331846e-01, 9.77032281e-02, 1.43243599e-03, 5.60516307e-02,\n",
       "        1.70691485e-01, 3.60082115e-01, 9.14985647e-01, 2.27138757e-01]))"
      ]
     },
     "execution_count": 45,
     "metadata": {},
     "output_type": "execute_result"
    }
   ],
   "source": [
    "# calculate the chi2 p_value between each of the variables\n",
    "# and the target\n",
    "# it returns 2 arrays, one contains the F-Scores which are then \n",
    "# evaluated against the chi2 distribution to obtain the pvalue\n",
    "# the pvalues are in the second array, see below\n",
    "\n",
    "f_score = chi2(x_train_categ.fillna(0), y_train_categ)\n",
    "f_score"
   ]
  },
  {
   "cell_type": "code",
   "execution_count": 46,
   "metadata": {},
   "outputs": [
    {
     "data": {
      "text/plain": [
       "yL     4.238055e-10\n",
       "x17    1.432436e-03\n",
       "x4     9.551514e-03\n",
       "x18    5.605163e-02\n",
       "x16    9.770323e-02\n",
       "x19    1.706915e-01\n",
       "x29    2.271388e-01\n",
       "x20    3.600821e-01\n",
       "x5     4.549038e-01\n",
       "x15    5.163318e-01\n",
       "x3     6.505549e-01\n",
       "x6     7.112706e-01\n",
       "x14    7.501520e-01\n",
       "x7     8.659619e-01\n",
       "x28    9.149856e-01\n",
       "x13    9.770561e-01\n",
       "dtype: float64"
      ]
     },
     "execution_count": 46,
     "metadata": {},
     "output_type": "execute_result"
    }
   ],
   "source": [
    "# let's add the variable names and order it for clearer visualisation\n",
    "pvalues = pd.Series(f_score[1])\n",
    "pvalues.index = x_train_categ.columns\n",
    "pvalues.sort_values(ascending= True)"
   ]
  },
  {
   "cell_type": "markdown",
   "metadata": {},
   "source": [
    "### Step forward selection"
   ]
  },
  {
   "cell_type": "code",
   "execution_count": 47,
   "metadata": {
    "collapsed": true
   },
   "outputs": [],
   "source": [
    "from sklearn.ensemble import RandomForestRegressor, RandomForestClassifier\n",
    "from sklearn.metrics import roc_auc_score\n",
    "from mlxtend.feature_selection import SequentialFeatureSelector as SFS"
   ]
  },
  {
   "cell_type": "code",
   "execution_count": 48,
   "metadata": {},
   "outputs": [
    {
     "name": "stderr",
     "output_type": "stream",
     "text": [
      "[Parallel(n_jobs=-1)]: Using backend LokyBackend with 16 concurrent workers.\n",
      "[Parallel(n_jobs=-1)]: Done  18 out of  32 | elapsed:    3.3s remaining:    2.6s\n",
      "[Parallel(n_jobs=-1)]: Done  32 out of  32 | elapsed:    3.4s finished\n",
      "\n",
      "[2019-09-08 07:58:32] Features: 1/15 -- score: 0.6956276260504202[Parallel(n_jobs=-1)]: Using backend LokyBackend with 16 concurrent workers.\n",
      "[Parallel(n_jobs=-1)]: Done  16 out of  31 | elapsed:    1.1s remaining:    1.0s\n",
      "[Parallel(n_jobs=-1)]: Done  31 out of  31 | elapsed:    2.2s finished\n",
      "\n",
      "[2019-09-08 07:58:34] Features: 2/15 -- score: 0.7670955882352941[Parallel(n_jobs=-1)]: Using backend LokyBackend with 16 concurrent workers.\n",
      "[Parallel(n_jobs=-1)]: Done  15 out of  30 | elapsed:    1.1s remaining:    1.1s\n",
      "[Parallel(n_jobs=-1)]: Done  30 out of  30 | elapsed:    2.3s finished\n",
      "\n",
      "[2019-09-08 07:58:36] Features: 3/15 -- score: 0.7766938025210084[Parallel(n_jobs=-1)]: Using backend LokyBackend with 16 concurrent workers.\n",
      "[Parallel(n_jobs=-1)]: Done  13 out of  29 | elapsed:    1.3s remaining:    1.6s\n",
      "[Parallel(n_jobs=-1)]: Done  29 out of  29 | elapsed:    2.3s finished\n",
      "\n",
      "[2019-09-08 07:58:39] Features: 4/15 -- score: 0.8020877100840336[Parallel(n_jobs=-1)]: Using backend LokyBackend with 16 concurrent workers.\n",
      "[Parallel(n_jobs=-1)]: Done  12 out of  28 | elapsed:    1.2s remaining:    1.6s\n",
      "[Parallel(n_jobs=-1)]: Done  28 out of  28 | elapsed:    2.2s finished\n",
      "\n",
      "[2019-09-08 07:58:41] Features: 5/15 -- score: 0.7967568277310925[Parallel(n_jobs=-1)]: Using backend LokyBackend with 16 concurrent workers.\n",
      "[Parallel(n_jobs=-1)]: Done  10 out of  27 | elapsed:    1.2s remaining:    2.1s\n",
      "[Parallel(n_jobs=-1)]: Done  24 out of  27 | elapsed:    2.2s remaining:    0.3s\n",
      "[Parallel(n_jobs=-1)]: Done  27 out of  27 | elapsed:    2.2s finished\n",
      "\n",
      "[2019-09-08 07:58:43] Features: 6/15 -- score: 0.7957786239495798[Parallel(n_jobs=-1)]: Using backend LokyBackend with 16 concurrent workers.\n",
      "[Parallel(n_jobs=-1)]: Done   9 out of  26 | elapsed:    1.2s remaining:    2.3s\n",
      "[Parallel(n_jobs=-1)]: Done  23 out of  26 | elapsed:    2.1s remaining:    0.3s\n",
      "[Parallel(n_jobs=-1)]: Done  26 out of  26 | elapsed:    2.1s finished\n",
      "\n",
      "[2019-09-08 07:58:45] Features: 7/15 -- score: 0.8012867647058822[Parallel(n_jobs=-1)]: Using backend LokyBackend with 16 concurrent workers.\n",
      "[Parallel(n_jobs=-1)]: Done   7 out of  25 | elapsed:    1.2s remaining:    3.1s\n",
      "[Parallel(n_jobs=-1)]: Done  20 out of  25 | elapsed:    2.0s remaining:    0.5s\n",
      "[Parallel(n_jobs=-1)]: Done  25 out of  25 | elapsed:    2.0s finished\n",
      "\n",
      "[2019-09-08 07:58:47] Features: 8/15 -- score: 0.7791425945378151[Parallel(n_jobs=-1)]: Using backend LokyBackend with 16 concurrent workers.\n",
      "[Parallel(n_jobs=-1)]: Done   6 out of  24 | elapsed:    1.2s remaining:    3.6s\n",
      "[Parallel(n_jobs=-1)]: Done  19 out of  24 | elapsed:    1.9s remaining:    0.5s\n",
      "[Parallel(n_jobs=-1)]: Done  24 out of  24 | elapsed:    2.0s finished\n",
      "\n",
      "[2019-09-08 07:58:49] Features: 9/15 -- score: 0.7726234243697478[Parallel(n_jobs=-1)]: Using backend LokyBackend with 16 concurrent workers.\n",
      "[Parallel(n_jobs=-1)]: Done   4 out of  23 | elapsed:    1.2s remaining:    5.5s\n",
      "[Parallel(n_jobs=-1)]: Done  16 out of  23 | elapsed:    1.2s remaining:    0.5s\n",
      "[Parallel(n_jobs=-1)]: Done  23 out of  23 | elapsed:    1.9s finished\n",
      "\n",
      "[2019-09-08 07:58:51] Features: 10/15 -- score: 0.7623555672268907[Parallel(n_jobs=-1)]: Using backend LokyBackend with 16 concurrent workers.\n",
      "[Parallel(n_jobs=-1)]: Done   3 out of  22 | elapsed:    1.2s remaining:    7.5s\n",
      "[Parallel(n_jobs=-1)]: Done  15 out of  22 | elapsed:    1.3s remaining:    0.6s\n",
      "[Parallel(n_jobs=-1)]: Done  22 out of  22 | elapsed:    1.9s finished\n",
      "\n",
      "[2019-09-08 07:58:53] Features: 11/15 -- score: 0.7498030462184875[Parallel(n_jobs=-1)]: Using backend LokyBackend with 16 concurrent workers.\n",
      "[Parallel(n_jobs=-1)]: Done  12 out of  21 | elapsed:    1.2s remaining:    0.9s\n",
      "[Parallel(n_jobs=-1)]: Done  21 out of  21 | elapsed:    1.8s finished\n",
      "\n",
      "[2019-09-08 07:58:55] Features: 12/15 -- score: 0.763983718487395[Parallel(n_jobs=-1)]: Using backend LokyBackend with 16 concurrent workers.\n",
      "[Parallel(n_jobs=-1)]: Done  11 out of  20 | elapsed:    1.2s remaining:    1.0s\n",
      "[Parallel(n_jobs=-1)]: Done  20 out of  20 | elapsed:    1.8s finished\n",
      "\n",
      "[2019-09-08 07:58:57] Features: 13/15 -- score: 0.7486344537815126[Parallel(n_jobs=-1)]: Using backend LokyBackend with 16 concurrent workers.\n",
      "[Parallel(n_jobs=-1)]: Done   8 out of  19 | elapsed:    1.2s remaining:    1.6s\n",
      "[Parallel(n_jobs=-1)]: Done  19 out of  19 | elapsed:    1.8s finished\n",
      "\n",
      "[2019-09-08 07:58:58] Features: 14/15 -- score: 0.757687762605042[Parallel(n_jobs=-1)]: Using backend LokyBackend with 16 concurrent workers.\n",
      "[Parallel(n_jobs=-1)]: Done   7 out of  18 | elapsed:    1.1s remaining:    1.8s\n",
      "[Parallel(n_jobs=-1)]: Done  18 out of  18 | elapsed:    1.8s finished\n",
      "\n",
      "[2019-09-08 07:59:00] Features: 15/15 -- score: 0.7592896533613447[Parallel(n_jobs=-1)]: Using backend LokyBackend with 16 concurrent workers.\n",
      "[Parallel(n_jobs=-1)]: Done  18 out of  32 | elapsed:    2.3s remaining:    1.8s\n",
      "[Parallel(n_jobs=-1)]: Done  32 out of  32 | elapsed:    2.5s finished\n",
      "\n",
      "[2019-09-08 07:59:03] Features: 1/16 -- score: 0.7015165441176471[Parallel(n_jobs=-1)]: Using backend LokyBackend with 16 concurrent workers.\n",
      "[Parallel(n_jobs=-1)]: Done  16 out of  31 | elapsed:    1.4s remaining:    1.3s\n",
      "[Parallel(n_jobs=-1)]: Done  31 out of  31 | elapsed:    2.6s finished\n",
      "\n",
      "[2019-09-08 07:59:05] Features: 2/16 -- score: 0.7655330882352941[Parallel(n_jobs=-1)]: Using backend LokyBackend with 16 concurrent workers.\n",
      "[Parallel(n_jobs=-1)]: Done  15 out of  30 | elapsed:    1.3s remaining:    1.3s\n",
      "[Parallel(n_jobs=-1)]: Done  30 out of  30 | elapsed:    2.5s finished\n",
      "\n",
      "[2019-09-08 07:59:08] Features: 3/16 -- score: 0.7769170168067226[Parallel(n_jobs=-1)]: Using backend LokyBackend with 16 concurrent workers.\n",
      "[Parallel(n_jobs=-1)]: Done  13 out of  29 | elapsed:    1.3s remaining:    1.6s\n",
      "[Parallel(n_jobs=-1)]: Done  29 out of  29 | elapsed:    2.4s finished\n",
      "\n",
      "[2019-09-08 07:59:10] Features: 4/16 -- score: 0.7981814600840336[Parallel(n_jobs=-1)]: Using backend LokyBackend with 16 concurrent workers.\n",
      "[Parallel(n_jobs=-1)]: Done  12 out of  28 | elapsed:    1.3s remaining:    1.7s\n",
      "[Parallel(n_jobs=-1)]: Done  28 out of  28 | elapsed:    2.3s finished\n",
      "\n",
      "[2019-09-08 07:59:12] Features: 5/16 -- score: 0.7929490546218487[Parallel(n_jobs=-1)]: Using backend LokyBackend with 16 concurrent workers.\n",
      "[Parallel(n_jobs=-1)]: Done  10 out of  27 | elapsed:    1.3s remaining:    2.2s\n",
      "[Parallel(n_jobs=-1)]: Done  24 out of  27 | elapsed:    2.3s remaining:    0.3s\n",
      "[Parallel(n_jobs=-1)]: Done  27 out of  27 | elapsed:    2.4s finished\n",
      "\n",
      "[2019-09-08 07:59:15] Features: 6/16 -- score: 0.7847163865546218[Parallel(n_jobs=-1)]: Using backend LokyBackend with 16 concurrent workers.\n",
      "[Parallel(n_jobs=-1)]: Done   9 out of  26 | elapsed:    1.3s remaining:    2.5s\n",
      "[Parallel(n_jobs=-1)]: Done  23 out of  26 | elapsed:    2.2s remaining:    0.3s\n",
      "[Parallel(n_jobs=-1)]: Done  26 out of  26 | elapsed:    2.3s finished\n",
      "\n",
      "[2019-09-08 07:59:17] Features: 7/16 -- score: 0.7903952205882353[Parallel(n_jobs=-1)]: Using backend LokyBackend with 16 concurrent workers.\n",
      "[Parallel(n_jobs=-1)]: Done   7 out of  25 | elapsed:    1.3s remaining:    3.3s\n",
      "[Parallel(n_jobs=-1)]: Done  20 out of  25 | elapsed:    2.1s remaining:    0.5s\n",
      "[Parallel(n_jobs=-1)]: Done  25 out of  25 | elapsed:    2.2s finished\n",
      "\n",
      "[2019-09-08 07:59:19] Features: 8/16 -- score: 0.7940585609243697[Parallel(n_jobs=-1)]: Using backend LokyBackend with 16 concurrent workers.\n",
      "[Parallel(n_jobs=-1)]: Done   6 out of  24 | elapsed:    1.2s remaining:    3.7s\n",
      "[Parallel(n_jobs=-1)]: Done  19 out of  24 | elapsed:    2.0s remaining:    0.5s\n",
      "[Parallel(n_jobs=-1)]: Done  24 out of  24 | elapsed:    2.0s finished\n",
      "\n",
      "[2019-09-08 07:59:21] Features: 9/16 -- score: 0.7971704306722689[Parallel(n_jobs=-1)]: Using backend LokyBackend with 16 concurrent workers.\n",
      "[Parallel(n_jobs=-1)]: Done   4 out of  23 | elapsed:    1.2s remaining:    5.7s\n",
      "[Parallel(n_jobs=-1)]: Done  16 out of  23 | elapsed:    1.3s remaining:    0.6s\n",
      "[Parallel(n_jobs=-1)]: Done  23 out of  23 | elapsed:    2.0s finished\n",
      "\n",
      "[2019-09-08 07:59:23] Features: 10/16 -- score: 0.7944721638655462[Parallel(n_jobs=-1)]: Using backend LokyBackend with 16 concurrent workers.\n"
     ]
    },
    {
     "name": "stderr",
     "output_type": "stream",
     "text": [
      "[Parallel(n_jobs=-1)]: Done   3 out of  22 | elapsed:    1.2s remaining:    7.8s\n",
      "[Parallel(n_jobs=-1)]: Done  15 out of  22 | elapsed:    1.3s remaining:    0.6s\n",
      "[Parallel(n_jobs=-1)]: Done  22 out of  22 | elapsed:    2.0s finished\n",
      "\n",
      "[2019-09-08 07:59:25] Features: 11/16 -- score: 0.776313025210084[Parallel(n_jobs=-1)]: Using backend LokyBackend with 16 concurrent workers.\n",
      "[Parallel(n_jobs=-1)]: Done  12 out of  21 | elapsed:    1.3s remaining:    0.9s\n",
      "[Parallel(n_jobs=-1)]: Done  21 out of  21 | elapsed:    1.9s finished\n",
      "\n",
      "[2019-09-08 07:59:27] Features: 12/16 -- score: 0.7679884453781513[Parallel(n_jobs=-1)]: Using backend LokyBackend with 16 concurrent workers.\n",
      "[Parallel(n_jobs=-1)]: Done  11 out of  20 | elapsed:    1.3s remaining:    1.0s\n",
      "[Parallel(n_jobs=-1)]: Done  20 out of  20 | elapsed:    1.9s finished\n",
      "\n",
      "[2019-09-08 07:59:29] Features: 13/16 -- score: 0.7466977415966387[Parallel(n_jobs=-1)]: Using backend LokyBackend with 16 concurrent workers.\n",
      "[Parallel(n_jobs=-1)]: Done   8 out of  19 | elapsed:    1.2s remaining:    1.7s\n",
      "[Parallel(n_jobs=-1)]: Done  19 out of  19 | elapsed:    1.9s finished\n",
      "\n",
      "[2019-09-08 07:59:31] Features: 14/16 -- score: 0.7429030987394958[Parallel(n_jobs=-1)]: Using backend LokyBackend with 16 concurrent workers.\n",
      "[Parallel(n_jobs=-1)]: Done   7 out of  18 | elapsed:    1.2s remaining:    1.9s\n",
      "[Parallel(n_jobs=-1)]: Done  18 out of  18 | elapsed:    1.8s finished\n",
      "\n",
      "[2019-09-08 07:59:33] Features: 15/16 -- score: 0.7379267331932773[Parallel(n_jobs=-1)]: Using backend LokyBackend with 16 concurrent workers.\n",
      "[Parallel(n_jobs=-1)]: Done   4 out of  17 | elapsed:    1.2s remaining:    3.8s\n",
      "[Parallel(n_jobs=-1)]: Done  13 out of  17 | elapsed:    1.3s remaining:    0.4s\n",
      "[Parallel(n_jobs=-1)]: Done  17 out of  17 | elapsed:    1.8s finished\n",
      "\n",
      "[2019-09-08 07:59:35] Features: 16/16 -- score: 0.7295496323529411[Parallel(n_jobs=-1)]: Using backend LokyBackend with 16 concurrent workers.\n",
      "[Parallel(n_jobs=-1)]: Done  18 out of  32 | elapsed:    2.4s remaining:    1.9s\n",
      "[Parallel(n_jobs=-1)]: Done  32 out of  32 | elapsed:    2.6s finished\n",
      "\n",
      "[2019-09-08 07:59:37] Features: 1/17 -- score: 0.7055540966386553[Parallel(n_jobs=-1)]: Using backend LokyBackend with 16 concurrent workers.\n",
      "[Parallel(n_jobs=-1)]: Done  16 out of  31 | elapsed:    1.4s remaining:    1.3s\n",
      "[Parallel(n_jobs=-1)]: Done  31 out of  31 | elapsed:    2.7s finished\n",
      "\n",
      "[2019-09-08 07:59:40] Features: 2/17 -- score: 0.7474658613445379[Parallel(n_jobs=-1)]: Using backend LokyBackend with 16 concurrent workers.\n",
      "[Parallel(n_jobs=-1)]: Done  15 out of  30 | elapsed:    1.5s remaining:    1.5s\n",
      "[Parallel(n_jobs=-1)]: Done  30 out of  30 | elapsed:    2.8s finished\n",
      "\n",
      "[2019-09-08 07:59:43] Features: 3/17 -- score: 0.7769170168067226[Parallel(n_jobs=-1)]: Using backend LokyBackend with 16 concurrent workers.\n",
      "[Parallel(n_jobs=-1)]: Done  13 out of  29 | elapsed:    1.4s remaining:    1.7s\n",
      "[Parallel(n_jobs=-1)]: Done  29 out of  29 | elapsed:    2.6s finished\n",
      "\n",
      "[2019-09-08 07:59:45] Features: 4/17 -- score: 0.7958377100840336[Parallel(n_jobs=-1)]: Using backend LokyBackend with 16 concurrent workers.\n",
      "[Parallel(n_jobs=-1)]: Done  12 out of  28 | elapsed:    1.4s remaining:    1.8s\n",
      "[Parallel(n_jobs=-1)]: Done  28 out of  28 | elapsed:    2.5s finished\n",
      "\n",
      "[2019-09-08 07:59:48] Features: 5/17 -- score: 0.7959821428571429[Parallel(n_jobs=-1)]: Using backend LokyBackend with 16 concurrent workers.\n",
      "[Parallel(n_jobs=-1)]: Done  10 out of  27 | elapsed:    1.3s remaining:    2.2s\n",
      "[Parallel(n_jobs=-1)]: Done  24 out of  27 | elapsed:    2.3s remaining:    0.3s\n",
      "[Parallel(n_jobs=-1)]: Done  27 out of  27 | elapsed:    2.3s finished\n",
      "\n",
      "[2019-09-08 07:59:50] Features: 6/17 -- score: 0.7970128676470589[Parallel(n_jobs=-1)]: Using backend LokyBackend with 16 concurrent workers.\n",
      "[Parallel(n_jobs=-1)]: Done   9 out of  26 | elapsed:    1.4s remaining:    2.6s\n",
      "[Parallel(n_jobs=-1)]: Done  23 out of  26 | elapsed:    2.4s remaining:    0.3s\n",
      "[Parallel(n_jobs=-1)]: Done  26 out of  26 | elapsed:    2.4s finished\n",
      "\n",
      "[2019-09-08 07:59:53] Features: 7/17 -- score: 0.7899487920168068[Parallel(n_jobs=-1)]: Using backend LokyBackend with 16 concurrent workers.\n",
      "[Parallel(n_jobs=-1)]: Done   7 out of  25 | elapsed:    1.4s remaining:    3.5s\n",
      "[Parallel(n_jobs=-1)]: Done  20 out of  25 | elapsed:    2.3s remaining:    0.6s\n",
      "[Parallel(n_jobs=-1)]: Done  25 out of  25 | elapsed:    2.3s finished\n",
      "\n",
      "[2019-09-08 07:59:55] Features: 8/17 -- score: 0.7967765231092437[Parallel(n_jobs=-1)]: Using backend LokyBackend with 16 concurrent workers.\n",
      "[Parallel(n_jobs=-1)]: Done   6 out of  24 | elapsed:    1.3s remaining:    3.8s\n",
      "[Parallel(n_jobs=-1)]: Done  19 out of  24 | elapsed:    2.1s remaining:    0.5s\n",
      "[Parallel(n_jobs=-1)]: Done  24 out of  24 | elapsed:    2.1s finished\n",
      "\n",
      "[2019-09-08 07:59:57] Features: 9/17 -- score: 0.7865611869747899[Parallel(n_jobs=-1)]: Using backend LokyBackend with 16 concurrent workers.\n",
      "[Parallel(n_jobs=-1)]: Done   4 out of  23 | elapsed:    1.3s remaining:    6.1s\n",
      "[Parallel(n_jobs=-1)]: Done  16 out of  23 | elapsed:    1.4s remaining:    0.6s\n",
      "[Parallel(n_jobs=-1)]: Done  23 out of  23 | elapsed:    2.0s finished\n",
      "\n",
      "[2019-09-08 07:59:59] Features: 10/17 -- score: 0.7800485819327732[Parallel(n_jobs=-1)]: Using backend LokyBackend with 16 concurrent workers.\n",
      "[Parallel(n_jobs=-1)]: Done   3 out of  22 | elapsed:    1.3s remaining:    8.3s\n",
      "[Parallel(n_jobs=-1)]: Done  15 out of  22 | elapsed:    1.4s remaining:    0.6s\n",
      "[Parallel(n_jobs=-1)]: Done  22 out of  22 | elapsed:    2.1s finished\n",
      "\n",
      "[2019-09-08 08:00:01] Features: 11/17 -- score: 0.7754136029411764[Parallel(n_jobs=-1)]: Using backend LokyBackend with 16 concurrent workers.\n",
      "[Parallel(n_jobs=-1)]: Done  12 out of  21 | elapsed:    1.3s remaining:    1.0s\n",
      "[Parallel(n_jobs=-1)]: Done  21 out of  21 | elapsed:    2.0s finished\n",
      "\n",
      "[2019-09-08 08:00:03] Features: 12/17 -- score: 0.7638392857142857[Parallel(n_jobs=-1)]: Using backend LokyBackend with 16 concurrent workers.\n",
      "[Parallel(n_jobs=-1)]: Done  11 out of  20 | elapsed:    1.3s remaining:    1.1s\n",
      "[Parallel(n_jobs=-1)]: Done  20 out of  20 | elapsed:    2.0s finished\n",
      "\n",
      "[2019-09-08 08:00:05] Features: 13/17 -- score: 0.7444590336134453[Parallel(n_jobs=-1)]: Using backend LokyBackend with 16 concurrent workers.\n",
      "[Parallel(n_jobs=-1)]: Done   8 out of  19 | elapsed:    1.3s remaining:    1.7s\n",
      "[Parallel(n_jobs=-1)]: Done  19 out of  19 | elapsed:    1.9s finished\n",
      "\n",
      "[2019-09-08 08:00:07] Features: 14/17 -- score: 0.7346507352941176[Parallel(n_jobs=-1)]: Using backend LokyBackend with 16 concurrent workers.\n",
      "[Parallel(n_jobs=-1)]: Done   7 out of  18 | elapsed:    1.2s remaining:    1.9s\n",
      "[Parallel(n_jobs=-1)]: Done  18 out of  18 | elapsed:    1.9s finished\n",
      "\n",
      "[2019-09-08 08:00:09] Features: 15/17 -- score: 0.7561383928571429[Parallel(n_jobs=-1)]: Using backend LokyBackend with 16 concurrent workers.\n",
      "[Parallel(n_jobs=-1)]: Done   4 out of  17 | elapsed:    1.2s remaining:    4.0s\n",
      "[Parallel(n_jobs=-1)]: Done  13 out of  17 | elapsed:    1.3s remaining:    0.4s\n",
      "[Parallel(n_jobs=-1)]: Done  17 out of  17 | elapsed:    1.9s finished\n",
      "\n",
      "[2019-09-08 08:00:11] Features: 16/17 -- score: 0.7506959033613446[Parallel(n_jobs=-1)]: Using backend LokyBackend with 16 concurrent workers.\n",
      "[Parallel(n_jobs=-1)]: Done   3 out of  16 | elapsed:    1.3s remaining:    5.5s\n",
      "[Parallel(n_jobs=-1)]: Done  12 out of  16 | elapsed:    1.3s remaining:    0.4s\n",
      "[Parallel(n_jobs=-1)]: Done  16 out of  16 | elapsed:    1.3s finished\n",
      "\n",
      "[2019-09-08 08:00:12] Features: 17/17 -- score: 0.7386226365546218[Parallel(n_jobs=-1)]: Using backend LokyBackend with 16 concurrent workers.\n",
      "[Parallel(n_jobs=-1)]: Done  18 out of  32 | elapsed:    2.7s remaining:    2.1s\n",
      "[Parallel(n_jobs=-1)]: Done  32 out of  32 | elapsed:    2.8s finished\n",
      "\n",
      "[2019-09-08 08:00:15] Features: 1/18 -- score: 0.7025210084033613[Parallel(n_jobs=-1)]: Using backend LokyBackend with 16 concurrent workers.\n",
      "[Parallel(n_jobs=-1)]: Done  16 out of  31 | elapsed:    1.4s remaining:    1.3s\n",
      "[Parallel(n_jobs=-1)]: Done  31 out of  31 | elapsed:    2.7s finished\n",
      "\n",
      "[2019-09-08 08:00:18] Features: 2/18 -- score: 0.7454438025210084[Parallel(n_jobs=-1)]: Using backend LokyBackend with 16 concurrent workers.\n"
     ]
    },
    {
     "name": "stderr",
     "output_type": "stream",
     "text": [
      "[Parallel(n_jobs=-1)]: Done  15 out of  30 | elapsed:    1.4s remaining:    1.4s\n",
      "[Parallel(n_jobs=-1)]: Done  30 out of  30 | elapsed:    2.7s finished\n",
      "\n",
      "[2019-09-08 08:00:20] Features: 3/18 -- score: 0.7794642857142857[Parallel(n_jobs=-1)]: Using backend LokyBackend with 16 concurrent workers.\n",
      "[Parallel(n_jobs=-1)]: Done  13 out of  29 | elapsed:    1.3s remaining:    1.6s\n",
      "[Parallel(n_jobs=-1)]: Done  29 out of  29 | elapsed:    2.4s finished\n",
      "\n",
      "[2019-09-08 08:00:23] Features: 4/18 -- score: 0.7981420693277311[Parallel(n_jobs=-1)]: Using backend LokyBackend with 16 concurrent workers.\n",
      "[Parallel(n_jobs=-1)]: Done  12 out of  28 | elapsed:    1.3s remaining:    1.7s\n",
      "[Parallel(n_jobs=-1)]: Done  28 out of  28 | elapsed:    2.3s finished\n",
      "\n",
      "[2019-09-08 08:00:25] Features: 5/18 -- score: 0.8019170168067227[Parallel(n_jobs=-1)]: Using backend LokyBackend with 16 concurrent workers.\n",
      "[Parallel(n_jobs=-1)]: Done  10 out of  27 | elapsed:    1.3s remaining:    2.1s\n",
      "[Parallel(n_jobs=-1)]: Done  24 out of  27 | elapsed:    2.2s remaining:    0.3s\n",
      "[Parallel(n_jobs=-1)]: Done  27 out of  27 | elapsed:    2.2s finished\n",
      "\n",
      "[2019-09-08 08:00:27] Features: 6/18 -- score: 0.8037880777310924[Parallel(n_jobs=-1)]: Using backend LokyBackend with 16 concurrent workers.\n",
      "[Parallel(n_jobs=-1)]: Done   9 out of  26 | elapsed:    1.2s remaining:    2.3s\n",
      "[Parallel(n_jobs=-1)]: Done  23 out of  26 | elapsed:    2.2s remaining:    0.3s\n",
      "[Parallel(n_jobs=-1)]: Done  26 out of  26 | elapsed:    2.2s finished\n",
      "\n",
      "[2019-09-08 08:00:30] Features: 7/18 -- score: 0.7969866071428571[Parallel(n_jobs=-1)]: Using backend LokyBackend with 16 concurrent workers.\n",
      "[Parallel(n_jobs=-1)]: Done   7 out of  25 | elapsed:    1.2s remaining:    3.2s\n",
      "[Parallel(n_jobs=-1)]: Done  20 out of  25 | elapsed:    2.0s remaining:    0.5s\n",
      "[Parallel(n_jobs=-1)]: Done  25 out of  25 | elapsed:    2.1s finished\n",
      "\n",
      "[2019-09-08 08:00:32] Features: 8/18 -- score: 0.7971901260504202[Parallel(n_jobs=-1)]: Using backend LokyBackend with 16 concurrent workers.\n",
      "[Parallel(n_jobs=-1)]: Done   6 out of  24 | elapsed:    1.2s remaining:    3.6s\n",
      "[Parallel(n_jobs=-1)]: Done  19 out of  24 | elapsed:    2.0s remaining:    0.5s\n",
      "[Parallel(n_jobs=-1)]: Done  24 out of  24 | elapsed:    2.0s finished\n",
      "\n",
      "[2019-09-08 08:00:34] Features: 9/18 -- score: 0.7777245273109243[Parallel(n_jobs=-1)]: Using backend LokyBackend with 16 concurrent workers.\n",
      "[Parallel(n_jobs=-1)]: Done   4 out of  23 | elapsed:    1.2s remaining:    5.8s\n",
      "[Parallel(n_jobs=-1)]: Done  16 out of  23 | elapsed:    1.3s remaining:    0.6s\n",
      "[Parallel(n_jobs=-1)]: Done  23 out of  23 | elapsed:    2.0s finished\n",
      "\n",
      "[2019-09-08 08:00:36] Features: 10/18 -- score: 0.7759191176470589[Parallel(n_jobs=-1)]: Using backend LokyBackend with 16 concurrent workers.\n",
      "[Parallel(n_jobs=-1)]: Done   3 out of  22 | elapsed:    1.2s remaining:    7.6s\n",
      "[Parallel(n_jobs=-1)]: Done  15 out of  22 | elapsed:    1.3s remaining:    0.6s\n",
      "[Parallel(n_jobs=-1)]: Done  22 out of  22 | elapsed:    1.9s finished\n",
      "\n",
      "[2019-09-08 08:00:38] Features: 11/18 -- score: 0.7678965336134453[Parallel(n_jobs=-1)]: Using backend LokyBackend with 16 concurrent workers.\n",
      "[Parallel(n_jobs=-1)]: Done  12 out of  21 | elapsed:    1.2s remaining:    0.9s\n",
      "[Parallel(n_jobs=-1)]: Done  21 out of  21 | elapsed:    1.9s finished\n",
      "\n",
      "[2019-09-08 08:00:40] Features: 12/18 -- score: 0.7710609243697479[Parallel(n_jobs=-1)]: Using backend LokyBackend with 16 concurrent workers.\n",
      "[Parallel(n_jobs=-1)]: Done  11 out of  20 | elapsed:    1.2s remaining:    1.0s\n",
      "[Parallel(n_jobs=-1)]: Done  20 out of  20 | elapsed:    1.9s finished\n",
      "\n",
      "[2019-09-08 08:00:41] Features: 13/18 -- score: 0.7778623949579833[Parallel(n_jobs=-1)]: Using backend LokyBackend with 16 concurrent workers.\n",
      "[Parallel(n_jobs=-1)]: Done   8 out of  19 | elapsed:    1.2s remaining:    1.6s\n",
      "[Parallel(n_jobs=-1)]: Done  19 out of  19 | elapsed:    1.8s finished\n",
      "\n",
      "[2019-09-08 08:00:43] Features: 14/18 -- score: 0.7661370798319329[Parallel(n_jobs=-1)]: Using backend LokyBackend with 16 concurrent workers.\n",
      "[Parallel(n_jobs=-1)]: Done   7 out of  18 | elapsed:    1.2s remaining:    1.9s\n",
      "[Parallel(n_jobs=-1)]: Done  18 out of  18 | elapsed:    1.8s finished\n",
      "\n",
      "[2019-09-08 08:00:45] Features: 15/18 -- score: 0.7630908613445377[Parallel(n_jobs=-1)]: Using backend LokyBackend with 16 concurrent workers.\n",
      "[Parallel(n_jobs=-1)]: Done   4 out of  17 | elapsed:    1.1s remaining:    3.7s\n",
      "[Parallel(n_jobs=-1)]: Done  13 out of  17 | elapsed:    1.2s remaining:    0.4s\n",
      "[Parallel(n_jobs=-1)]: Done  17 out of  17 | elapsed:    1.8s finished\n",
      "\n",
      "[2019-09-08 08:00:47] Features: 16/18 -- score: 0.7513655462184874[Parallel(n_jobs=-1)]: Using backend LokyBackend with 16 concurrent workers.\n",
      "[Parallel(n_jobs=-1)]: Done   3 out of  16 | elapsed:    1.1s remaining:    4.8s\n",
      "[Parallel(n_jobs=-1)]: Done  12 out of  16 | elapsed:    1.2s remaining:    0.4s\n",
      "[Parallel(n_jobs=-1)]: Done  16 out of  16 | elapsed:    1.2s finished\n",
      "\n",
      "[2019-09-08 08:00:48] Features: 17/18 -- score: 0.7364233193277311[Parallel(n_jobs=-1)]: Using backend LokyBackend with 16 concurrent workers.\n",
      "[Parallel(n_jobs=-1)]: Done   8 out of  15 | elapsed:    1.2s remaining:    1.0s\n",
      "[Parallel(n_jobs=-1)]: Done  15 out of  15 | elapsed:    1.2s finished\n",
      "\n",
      "[2019-09-08 08:00:49] Features: 18/18 -- score: 0.7449185924369748[Parallel(n_jobs=-1)]: Using backend LokyBackend with 16 concurrent workers.\n",
      "[Parallel(n_jobs=-1)]: Done  18 out of  32 | elapsed:    2.5s remaining:    1.9s\n",
      "[Parallel(n_jobs=-1)]: Done  32 out of  32 | elapsed:    2.6s finished\n",
      "\n",
      "[2019-09-08 08:00:52] Features: 1/19 -- score: 0.7089088760504202[Parallel(n_jobs=-1)]: Using backend LokyBackend with 16 concurrent workers.\n",
      "[Parallel(n_jobs=-1)]: Done  16 out of  31 | elapsed:    1.3s remaining:    1.2s\n",
      "[Parallel(n_jobs=-1)]: Done  31 out of  31 | elapsed:    2.5s finished\n",
      "\n",
      "[2019-09-08 08:00:54] Features: 2/19 -- score: 0.7521533613445379[Parallel(n_jobs=-1)]: Using backend LokyBackend with 16 concurrent workers.\n",
      "[Parallel(n_jobs=-1)]: Done  15 out of  30 | elapsed:    1.3s remaining:    1.3s\n",
      "[Parallel(n_jobs=-1)]: Done  30 out of  30 | elapsed:    2.5s finished\n",
      "\n",
      "[2019-09-08 08:00:57] Features: 3/19 -- score: 0.7755777310924369[Parallel(n_jobs=-1)]: Using backend LokyBackend with 16 concurrent workers.\n",
      "[Parallel(n_jobs=-1)]: Done  13 out of  29 | elapsed:    1.3s remaining:    1.6s\n",
      "[Parallel(n_jobs=-1)]: Done  29 out of  29 | elapsed:    2.4s finished\n",
      "\n",
      "[2019-09-08 08:00:59] Features: 4/19 -- score: 0.8064403886554622[Parallel(n_jobs=-1)]: Using backend LokyBackend with 16 concurrent workers.\n",
      "[Parallel(n_jobs=-1)]: Done  12 out of  28 | elapsed:    1.3s remaining:    1.7s\n",
      "[Parallel(n_jobs=-1)]: Done  28 out of  28 | elapsed:    2.3s finished\n",
      "\n",
      "[2019-09-08 08:01:02] Features: 5/19 -- score: 0.7951943277310924[Parallel(n_jobs=-1)]: Using backend LokyBackend with 16 concurrent workers.\n",
      "[Parallel(n_jobs=-1)]: Done  10 out of  27 | elapsed:    1.2s remaining:    2.1s\n",
      "[Parallel(n_jobs=-1)]: Done  24 out of  27 | elapsed:    2.2s remaining:    0.3s\n",
      "[Parallel(n_jobs=-1)]: Done  27 out of  27 | elapsed:    2.2s finished\n",
      "\n",
      "[2019-09-08 08:01:04] Features: 6/19 -- score: 0.819124212184874[Parallel(n_jobs=-1)]: Using backend LokyBackend with 16 concurrent workers.\n",
      "[Parallel(n_jobs=-1)]: Done   9 out of  26 | elapsed:    1.2s remaining:    2.4s\n",
      "[Parallel(n_jobs=-1)]: Done  23 out of  26 | elapsed:    2.1s remaining:    0.3s\n",
      "[Parallel(n_jobs=-1)]: Done  26 out of  26 | elapsed:    2.2s finished\n",
      "\n",
      "[2019-09-08 08:01:06] Features: 7/19 -- score: 0.8125393907563024[Parallel(n_jobs=-1)]: Using backend LokyBackend with 16 concurrent workers.\n",
      "[Parallel(n_jobs=-1)]: Done   7 out of  25 | elapsed:    1.3s remaining:    3.3s\n",
      "[Parallel(n_jobs=-1)]: Done  20 out of  25 | elapsed:    2.1s remaining:    0.5s\n",
      "[Parallel(n_jobs=-1)]: Done  25 out of  25 | elapsed:    2.2s finished\n",
      "\n",
      "[2019-09-08 08:01:08] Features: 8/19 -- score: 0.8066439075630252[Parallel(n_jobs=-1)]: Using backend LokyBackend with 16 concurrent workers.\n",
      "[Parallel(n_jobs=-1)]: Done   6 out of  24 | elapsed:    1.2s remaining:    3.7s\n",
      "[Parallel(n_jobs=-1)]: Done  19 out of  24 | elapsed:    2.0s remaining:    0.5s\n",
      "[Parallel(n_jobs=-1)]: Done  24 out of  24 | elapsed:    2.0s finished\n",
      "\n",
      "[2019-09-08 08:01:10] Features: 9/19 -- score: 0.7917410714285714[Parallel(n_jobs=-1)]: Using backend LokyBackend with 16 concurrent workers.\n"
     ]
    },
    {
     "name": "stderr",
     "output_type": "stream",
     "text": [
      "[Parallel(n_jobs=-1)]: Done   4 out of  23 | elapsed:    1.3s remaining:    6.0s\n",
      "[Parallel(n_jobs=-1)]: Done  16 out of  23 | elapsed:    1.3s remaining:    0.6s\n",
      "[Parallel(n_jobs=-1)]: Done  23 out of  23 | elapsed:    2.0s finished\n",
      "\n",
      "[2019-09-08 08:01:12] Features: 10/19 -- score: 0.7870667016806723[Parallel(n_jobs=-1)]: Using backend LokyBackend with 16 concurrent workers.\n",
      "[Parallel(n_jobs=-1)]: Done   3 out of  22 | elapsed:    1.3s remaining:    7.9s\n",
      "[Parallel(n_jobs=-1)]: Done  15 out of  22 | elapsed:    1.3s remaining:    0.6s\n",
      "[Parallel(n_jobs=-1)]: Done  22 out of  22 | elapsed:    2.0s finished\n",
      "\n",
      "[2019-09-08 08:01:14] Features: 11/19 -- score: 0.7681919642857142[Parallel(n_jobs=-1)]: Using backend LokyBackend with 16 concurrent workers.\n",
      "[Parallel(n_jobs=-1)]: Done  12 out of  21 | elapsed:    1.4s remaining:    1.1s\n",
      "[Parallel(n_jobs=-1)]: Done  21 out of  21 | elapsed:    2.2s finished\n",
      "\n",
      "[2019-09-08 08:01:17] Features: 12/19 -- score: 0.7778098739495798[Parallel(n_jobs=-1)]: Using backend LokyBackend with 16 concurrent workers.\n",
      "[Parallel(n_jobs=-1)]: Done  11 out of  20 | elapsed:    1.5s remaining:    1.2s\n",
      "[Parallel(n_jobs=-1)]: Done  20 out of  20 | elapsed:    2.3s finished\n",
      "\n",
      "[2019-09-08 08:01:19] Features: 13/19 -- score: 0.7552455357142858[Parallel(n_jobs=-1)]: Using backend LokyBackend with 16 concurrent workers.\n",
      "[Parallel(n_jobs=-1)]: Done   8 out of  19 | elapsed:    0.0s remaining:    0.0s\n",
      "\n",
      "STOPPING EARLY DUE TO KEYBOARD INTERRUPT...[Parallel(n_jobs=-1)]: Using backend LokyBackend with 16 concurrent workers.\n",
      "[Parallel(n_jobs=-1)]: Done  18 out of  32 | elapsed:    4.4s remaining:    3.4s\n",
      "[Parallel(n_jobs=-1)]: Done  32 out of  32 | elapsed:    4.5s finished\n",
      "\n",
      "[2019-09-08 08:01:24] Features: 1/20 -- score: 0.7055540966386553[Parallel(n_jobs=-1)]: Using backend LokyBackend with 16 concurrent workers.\n",
      "[Parallel(n_jobs=-1)]: Done  16 out of  31 | elapsed:    1.5s remaining:    1.4s\n",
      "[Parallel(n_jobs=-1)]: Done  31 out of  31 | elapsed:    2.9s finished\n",
      "\n",
      "[2019-09-08 08:01:27] Features: 2/20 -- score: 0.756827731092437[Parallel(n_jobs=-1)]: Using backend LokyBackend with 16 concurrent workers.\n",
      "[Parallel(n_jobs=-1)]: Done  15 out of  30 | elapsed:    1.7s remaining:    1.7s\n",
      "[Parallel(n_jobs=-1)]: Done  30 out of  30 | elapsed:    2.8s finished\n",
      "\n",
      "[2019-09-08 08:01:30] Features: 3/20 -- score: 0.7785714285714286[Parallel(n_jobs=-1)]: Using backend LokyBackend with 16 concurrent workers.\n",
      "[Parallel(n_jobs=-1)]: Done  13 out of  29 | elapsed:    1.5s remaining:    1.8s\n",
      "[Parallel(n_jobs=-1)]: Done  29 out of  29 | elapsed:    2.8s finished\n",
      "\n",
      "[2019-09-08 08:01:33] Features: 4/20 -- score: 0.809342174369748[Parallel(n_jobs=-1)]: Using backend LokyBackend with 16 concurrent workers.\n",
      "[Parallel(n_jobs=-1)]: Done  12 out of  28 | elapsed:    1.4s remaining:    1.9s\n",
      "[Parallel(n_jobs=-1)]: Done  28 out of  28 | elapsed:    2.6s finished\n",
      "\n",
      "[2019-09-08 08:01:35] Features: 5/20 -- score: 0.7991596638655463[Parallel(n_jobs=-1)]: Using backend LokyBackend with 16 concurrent workers.\n",
      "[Parallel(n_jobs=-1)]: Done  10 out of  27 | elapsed:    1.4s remaining:    2.4s\n",
      "[Parallel(n_jobs=-1)]: Done  24 out of  27 | elapsed:    2.5s remaining:    0.3s\n",
      "[Parallel(n_jobs=-1)]: Done  27 out of  27 | elapsed:    2.6s finished\n",
      "\n",
      "[2019-09-08 08:01:38] Features: 6/20 -- score: 0.7818605567226891[Parallel(n_jobs=-1)]: Using backend LokyBackend with 16 concurrent workers.\n",
      "[Parallel(n_jobs=-1)]: Done   9 out of  26 | elapsed:    1.4s remaining:    2.7s\n",
      "[Parallel(n_jobs=-1)]: Done  23 out of  26 | elapsed:    2.4s remaining:    0.3s\n",
      "[Parallel(n_jobs=-1)]: Done  26 out of  26 | elapsed:    2.5s finished\n",
      "\n",
      "[2019-09-08 08:01:40] Features: 7/20 -- score: 0.779936974789916[Parallel(n_jobs=-1)]: Using backend LokyBackend with 16 concurrent workers.\n",
      "[Parallel(n_jobs=-1)]: Done   7 out of  25 | elapsed:    1.4s remaining:    3.5s\n",
      "[Parallel(n_jobs=-1)]: Done  20 out of  25 | elapsed:    2.2s remaining:    0.6s\n",
      "[Parallel(n_jobs=-1)]: Done  25 out of  25 | elapsed:    2.3s finished\n",
      "\n",
      "[2019-09-08 08:01:43] Features: 8/20 -- score: 0.7877363445378152[Parallel(n_jobs=-1)]: Using backend LokyBackend with 16 concurrent workers.\n",
      "[Parallel(n_jobs=-1)]: Done   6 out of  24 | elapsed:    1.4s remaining:    4.1s\n",
      "[Parallel(n_jobs=-1)]: Done  19 out of  24 | elapsed:    2.2s remaining:    0.6s\n",
      "[Parallel(n_jobs=-1)]: Done  24 out of  24 | elapsed:    2.2s finished\n",
      "\n",
      "[2019-09-08 08:01:45] Features: 9/20 -- score: 0.7753479516806723[Parallel(n_jobs=-1)]: Using backend LokyBackend with 16 concurrent workers.\n",
      "[Parallel(n_jobs=-1)]: Done   4 out of  23 | elapsed:    1.3s remaining:    6.2s\n",
      "[Parallel(n_jobs=-1)]: Done  16 out of  23 | elapsed:    1.4s remaining:    0.6s\n",
      "[Parallel(n_jobs=-1)]: Done  23 out of  23 | elapsed:    2.1s finished\n",
      "\n",
      "[2019-09-08 08:01:47] Features: 10/20 -- score: 0.7723870798319328[Parallel(n_jobs=-1)]: Using backend LokyBackend with 16 concurrent workers.\n",
      "[Parallel(n_jobs=-1)]: Done   3 out of  22 | elapsed:    1.3s remaining:    8.3s\n",
      "[Parallel(n_jobs=-1)]: Done  15 out of  22 | elapsed:    1.4s remaining:    0.6s\n",
      "[Parallel(n_jobs=-1)]: Done  22 out of  22 | elapsed:    2.1s finished\n",
      "\n",
      "[2019-09-08 08:01:49] Features: 11/20 -- score: 0.7600709033613446[Parallel(n_jobs=-1)]: Using backend LokyBackend with 16 concurrent workers.\n",
      "[Parallel(n_jobs=-1)]: Done  12 out of  21 | elapsed:    1.3s remaining:    1.0s\n",
      "[Parallel(n_jobs=-1)]: Done  21 out of  21 | elapsed:    2.0s finished\n",
      "\n",
      "[2019-09-08 08:01:51] Features: 12/20 -- score: 0.7644826680672269[Parallel(n_jobs=-1)]: Using backend LokyBackend with 16 concurrent workers.\n",
      "[Parallel(n_jobs=-1)]: Done  11 out of  20 | elapsed:    1.3s remaining:    1.0s\n",
      "[Parallel(n_jobs=-1)]: Done  20 out of  20 | elapsed:    2.0s finished\n",
      "\n",
      "[2019-09-08 08:01:53] Features: 13/20 -- score: 0.7448398109243697[Parallel(n_jobs=-1)]: Using backend LokyBackend with 16 concurrent workers.\n",
      "[Parallel(n_jobs=-1)]: Done   8 out of  19 | elapsed:    1.2s remaining:    1.7s\n",
      "[Parallel(n_jobs=-1)]: Done  19 out of  19 | elapsed:    1.9s finished\n",
      "\n",
      "[2019-09-08 08:01:55] Features: 14/20 -- score: 0.7615217962184875[Parallel(n_jobs=-1)]: Using backend LokyBackend with 16 concurrent workers.\n",
      "[Parallel(n_jobs=-1)]: Done   7 out of  18 | elapsed:    1.2s remaining:    1.9s\n",
      "[Parallel(n_jobs=-1)]: Done  18 out of  18 | elapsed:    1.9s finished\n",
      "\n",
      "[2019-09-08 08:01:57] Features: 15/20 -- score: 0.7616005777310925[Parallel(n_jobs=-1)]: Using backend LokyBackend with 16 concurrent workers.\n",
      "[Parallel(n_jobs=-1)]: Done   4 out of  17 | elapsed:    1.2s remaining:    3.8s\n",
      "[Parallel(n_jobs=-1)]: Done  13 out of  17 | elapsed:    1.3s remaining:    0.4s\n",
      "[Parallel(n_jobs=-1)]: Done  17 out of  17 | elapsed:    1.9s finished\n",
      "\n",
      "[2019-09-08 08:01:59] Features: 16/20 -- score: 0.7612723214285715[Parallel(n_jobs=-1)]: Using backend LokyBackend with 16 concurrent workers.\n",
      "[Parallel(n_jobs=-1)]: Done   3 out of  16 | elapsed:    1.2s remaining:    5.4s\n",
      "[Parallel(n_jobs=-1)]: Done  12 out of  16 | elapsed:    1.3s remaining:    0.4s\n",
      "[Parallel(n_jobs=-1)]: Done  16 out of  16 | elapsed:    1.3s finished\n",
      "\n",
      "[2019-09-08 08:02:00] Features: 17/20 -- score: 0.7419183298319328[Parallel(n_jobs=-1)]: Using backend LokyBackend with 16 concurrent workers.\n",
      "[Parallel(n_jobs=-1)]: Done   8 out of  15 | elapsed:    1.2s remaining:    1.0s\n",
      "[Parallel(n_jobs=-1)]: Done  15 out of  15 | elapsed:    1.2s finished\n",
      "\n",
      "[2019-09-08 08:02:01] Features: 18/20 -- score: 0.7416491596638656[Parallel(n_jobs=-1)]: Using backend LokyBackend with 16 concurrent workers.\n",
      "[Parallel(n_jobs=-1)]: Done   7 out of  14 | elapsed:    1.2s remaining:    1.2s\n",
      "[Parallel(n_jobs=-1)]: Done  14 out of  14 | elapsed:    1.2s finished\n",
      "\n",
      "[2019-09-08 08:02:03] Features: 19/20 -- score: 0.7232208508403362[Parallel(n_jobs=-1)]: Using backend LokyBackend with 16 concurrent workers.\n",
      "[Parallel(n_jobs=-1)]: Done   3 out of  13 | elapsed:    1.1s remaining:    3.7s\n",
      "[Parallel(n_jobs=-1)]: Done  10 out of  13 | elapsed:    1.1s remaining:    0.3s\n",
      "[Parallel(n_jobs=-1)]: Done  13 out of  13 | elapsed:    1.2s finished\n",
      "\n",
      "[2019-09-08 08:02:04] Features: 20/20 -- score: 0.7286502100840335[Parallel(n_jobs=-1)]: Using backend LokyBackend with 16 concurrent workers.\n",
      "[Parallel(n_jobs=-1)]: Done  18 out of  32 | elapsed:    2.6s remaining:    2.0s\n",
      "[Parallel(n_jobs=-1)]: Done  32 out of  32 | elapsed:    2.7s finished\n",
      "\n",
      "[2019-09-08 08:02:07] Features: 1/21 -- score: 0.7016478466386553[Parallel(n_jobs=-1)]: Using backend LokyBackend with 16 concurrent workers.\n"
     ]
    },
    {
     "name": "stderr",
     "output_type": "stream",
     "text": [
      "[Parallel(n_jobs=-1)]: Done  16 out of  31 | elapsed:    1.3s remaining:    1.3s\n",
      "[Parallel(n_jobs=-1)]: Done  31 out of  31 | elapsed:    2.6s finished\n",
      "\n",
      "[2019-09-08 08:02:09] Features: 2/21 -- score: 0.759952731092437[Parallel(n_jobs=-1)]: Using backend LokyBackend with 16 concurrent workers.\n",
      "[Parallel(n_jobs=-1)]: Done  15 out of  30 | elapsed:    1.4s remaining:    1.4s\n",
      "[Parallel(n_jobs=-1)]: Done  30 out of  30 | elapsed:    2.6s finished\n",
      "\n",
      "[2019-09-08 08:02:12] Features: 3/21 -- score: 0.7785714285714286[Parallel(n_jobs=-1)]: Using backend LokyBackend with 16 concurrent workers.\n",
      "[Parallel(n_jobs=-1)]: Done  13 out of  29 | elapsed:    1.3s remaining:    1.6s\n",
      "[Parallel(n_jobs=-1)]: Done  29 out of  29 | elapsed:    2.5s finished\n",
      "\n",
      "[2019-09-08 08:02:14] Features: 4/21 -- score: 0.7980107668067227[Parallel(n_jobs=-1)]: Using backend LokyBackend with 16 concurrent workers.\n",
      "[Parallel(n_jobs=-1)]: Done  12 out of  28 | elapsed:    1.4s remaining:    1.8s\n",
      "[Parallel(n_jobs=-1)]: Done  28 out of  28 | elapsed:    2.5s finished\n",
      "\n",
      "[2019-09-08 08:02:17] Features: 5/21 -- score: 0.794327731092437[Parallel(n_jobs=-1)]: Using backend LokyBackend with 16 concurrent workers.\n",
      "[Parallel(n_jobs=-1)]: Done  10 out of  27 | elapsed:    1.3s remaining:    2.2s\n",
      "[Parallel(n_jobs=-1)]: Done  24 out of  27 | elapsed:    2.4s remaining:    0.3s\n",
      "[Parallel(n_jobs=-1)]: Done  27 out of  27 | elapsed:    2.4s finished\n",
      "\n",
      "[2019-09-08 08:02:19] Features: 6/21 -- score: 0.8026785714285716[Parallel(n_jobs=-1)]: Using backend LokyBackend with 16 concurrent workers.\n",
      "[Parallel(n_jobs=-1)]: Done   9 out of  26 | elapsed:    1.3s remaining:    2.5s\n",
      "[Parallel(n_jobs=-1)]: Done  23 out of  26 | elapsed:    2.3s remaining:    0.3s\n",
      "[Parallel(n_jobs=-1)]: Done  26 out of  26 | elapsed:    2.3s finished\n",
      "\n",
      "[2019-09-08 08:02:22] Features: 7/21 -- score: 0.7916228991596639[Parallel(n_jobs=-1)]: Using backend LokyBackend with 16 concurrent workers.\n",
      "[Parallel(n_jobs=-1)]: Done   7 out of  25 | elapsed:    1.3s remaining:    3.4s\n",
      "[Parallel(n_jobs=-1)]: Done  20 out of  25 | elapsed:    2.3s remaining:    0.6s\n",
      "[Parallel(n_jobs=-1)]: Done  25 out of  25 | elapsed:    2.3s finished\n",
      "\n",
      "[2019-09-08 08:02:24] Features: 8/21 -- score: 0.7857996323529411[Parallel(n_jobs=-1)]: Using backend LokyBackend with 16 concurrent workers.\n",
      "[Parallel(n_jobs=-1)]: Done   6 out of  24 | elapsed:    1.4s remaining:    4.1s\n",
      "[Parallel(n_jobs=-1)]: Done  19 out of  24 | elapsed:    2.2s remaining:    0.6s\n",
      "[Parallel(n_jobs=-1)]: Done  24 out of  24 | elapsed:    2.3s finished\n",
      "\n",
      "[2019-09-08 08:02:26] Features: 9/21 -- score: 0.770594800420168[Parallel(n_jobs=-1)]: Using backend LokyBackend with 16 concurrent workers.\n",
      "[Parallel(n_jobs=-1)]: Done   4 out of  23 | elapsed:    1.3s remaining:    6.3s\n",
      "[Parallel(n_jobs=-1)]: Done  16 out of  23 | elapsed:    1.4s remaining:    0.6s\n",
      "[Parallel(n_jobs=-1)]: Done  23 out of  23 | elapsed:    2.2s finished\n",
      "\n",
      "[2019-09-08 08:02:28] Features: 10/21 -- score: 0.7813419117647059[Parallel(n_jobs=-1)]: Using backend LokyBackend with 16 concurrent workers.\n",
      "[Parallel(n_jobs=-1)]: Done   3 out of  22 | elapsed:    1.3s remaining:    8.5s\n",
      "[Parallel(n_jobs=-1)]: Done  15 out of  22 | elapsed:    1.4s remaining:    0.7s\n",
      "[Parallel(n_jobs=-1)]: Done  22 out of  22 | elapsed:    2.2s finished\n",
      "\n",
      "[2019-09-08 08:02:30] Features: 11/21 -- score: 0.7771796218487395[Parallel(n_jobs=-1)]: Using backend LokyBackend with 16 concurrent workers.\n",
      "[Parallel(n_jobs=-1)]: Done  12 out of  21 | elapsed:    1.4s remaining:    1.1s\n",
      "[Parallel(n_jobs=-1)]: Done  21 out of  21 | elapsed:    2.2s finished\n",
      "\n",
      "[2019-09-08 08:02:33] Features: 12/21 -- score: 0.763655462184874[Parallel(n_jobs=-1)]: Using backend LokyBackend with 16 concurrent workers.\n",
      "[Parallel(n_jobs=-1)]: Done  11 out of  20 | elapsed:    1.4s remaining:    1.1s\n",
      "[Parallel(n_jobs=-1)]: Done  20 out of  20 | elapsed:    2.1s finished\n",
      "\n",
      "[2019-09-08 08:02:35] Features: 13/21 -- score: 0.7484506302521008[Parallel(n_jobs=-1)]: Using backend LokyBackend with 16 concurrent workers.\n",
      "[Parallel(n_jobs=-1)]: Done   8 out of  19 | elapsed:    1.3s remaining:    1.8s\n",
      "[Parallel(n_jobs=-1)]: Done  19 out of  19 | elapsed:    2.1s finished\n",
      "\n",
      "[2019-09-08 08:02:37] Features: 14/21 -- score: 0.7196165966386554[Parallel(n_jobs=-1)]: Using backend LokyBackend with 16 concurrent workers.\n",
      "[Parallel(n_jobs=-1)]: Done   7 out of  18 | elapsed:    1.2s remaining:    1.9s\n",
      "[Parallel(n_jobs=-1)]: Done  18 out of  18 | elapsed:    1.9s finished\n",
      "\n",
      "[2019-09-08 08:02:39] Features: 15/21 -- score: 0.7464810924369749[Parallel(n_jobs=-1)]: Using backend LokyBackend with 16 concurrent workers.\n",
      "[Parallel(n_jobs=-1)]: Done   4 out of  17 | elapsed:    1.2s remaining:    3.8s\n",
      "[Parallel(n_jobs=-1)]: Done  13 out of  17 | elapsed:    1.2s remaining:    0.4s\n",
      "[Parallel(n_jobs=-1)]: Done  17 out of  17 | elapsed:    1.9s finished\n",
      "\n",
      "[2019-09-08 08:02:41] Features: 16/21 -- score: 0.7456407563025211[Parallel(n_jobs=-1)]: Using backend LokyBackend with 16 concurrent workers.\n",
      "[Parallel(n_jobs=-1)]: Done   3 out of  16 | elapsed:    1.2s remaining:    5.1s\n",
      "[Parallel(n_jobs=-1)]: Done  12 out of  16 | elapsed:    1.2s remaining:    0.4s\n",
      "[Parallel(n_jobs=-1)]: Done  16 out of  16 | elapsed:    1.3s finished\n",
      "\n",
      "[2019-09-08 08:02:42] Features: 17/21 -- score: 0.7325892857142857[Parallel(n_jobs=-1)]: Using backend LokyBackend with 16 concurrent workers.\n",
      "[Parallel(n_jobs=-1)]: Done   8 out of  15 | elapsed:    1.2s remaining:    1.0s\n",
      "[Parallel(n_jobs=-1)]: Done  15 out of  15 | elapsed:    1.2s finished\n",
      "\n",
      "[2019-09-08 08:02:43] Features: 18/21 -- score: 0.7269564075630253[Parallel(n_jobs=-1)]: Using backend LokyBackend with 16 concurrent workers.\n",
      "[Parallel(n_jobs=-1)]: Done   7 out of  14 | elapsed:    1.2s remaining:    1.2s\n",
      "[Parallel(n_jobs=-1)]: Done  14 out of  14 | elapsed:    1.2s finished\n",
      "\n",
      "[2019-09-08 08:02:44] Features: 19/21 -- score: 0.7126050420168067[Parallel(n_jobs=-1)]: Using backend LokyBackend with 16 concurrent workers.\n",
      "[Parallel(n_jobs=-1)]: Done   3 out of  13 | elapsed:    1.1s remaining:    3.5s\n",
      "[Parallel(n_jobs=-1)]: Done  10 out of  13 | elapsed:    1.1s remaining:    0.3s\n",
      "[Parallel(n_jobs=-1)]: Done  13 out of  13 | elapsed:    1.2s finished\n",
      "\n",
      "[2019-09-08 08:02:45] Features: 20/21 -- score: 0.6993631827731093[Parallel(n_jobs=-1)]: Using backend LokyBackend with 16 concurrent workers.\n",
      "[Parallel(n_jobs=-1)]: Done   2 out of  12 | elapsed:    1.0s remaining:    5.1s\n",
      "[Parallel(n_jobs=-1)]: Done   9 out of  12 | elapsed:    1.1s remaining:    0.4s\n",
      "[Parallel(n_jobs=-1)]: Done  12 out of  12 | elapsed:    1.1s finished\n",
      "\n",
      "[2019-09-08 08:02:47] Features: 21/21 -- score: 0.7038340336134453[Parallel(n_jobs=-1)]: Using backend LokyBackend with 16 concurrent workers.\n",
      "[Parallel(n_jobs=-1)]: Done  18 out of  32 | elapsed:    2.5s remaining:    2.0s\n",
      "[Parallel(n_jobs=-1)]: Done  32 out of  32 | elapsed:    2.6s finished\n",
      "\n",
      "[2019-09-08 08:02:49] Features: 1/22 -- score: 0.7003151260504202[Parallel(n_jobs=-1)]: Using backend LokyBackend with 16 concurrent workers.\n",
      "[Parallel(n_jobs=-1)]: Done  16 out of  31 | elapsed:    1.4s remaining:    1.3s\n",
      "[Parallel(n_jobs=-1)]: Done  31 out of  31 | elapsed:    2.6s finished\n",
      "\n",
      "[2019-09-08 08:02:52] Features: 2/22 -- score: 0.757608981092437[Parallel(n_jobs=-1)]: Using backend LokyBackend with 16 concurrent workers.\n",
      "[Parallel(n_jobs=-1)]: Done  15 out of  30 | elapsed:    1.4s remaining:    1.4s\n",
      "[Parallel(n_jobs=-1)]: Done  30 out of  30 | elapsed:    2.7s finished\n",
      "\n",
      "[2019-09-08 08:02:54] Features: 3/22 -- score: 0.7729910714285715[Parallel(n_jobs=-1)]: Using backend LokyBackend with 16 concurrent workers.\n",
      "[Parallel(n_jobs=-1)]: Done  13 out of  29 | elapsed:    1.4s remaining:    1.8s\n",
      "[Parallel(n_jobs=-1)]: Done  29 out of  29 | elapsed:    2.7s finished\n",
      "\n",
      "[2019-09-08 08:02:57] Features: 4/22 -- score: 0.8026982668067226[Parallel(n_jobs=-1)]: Using backend LokyBackend with 16 concurrent workers.\n",
      "[Parallel(n_jobs=-1)]: Done  12 out of  28 | elapsed:    1.4s remaining:    1.9s\n",
      "[Parallel(n_jobs=-1)]: Done  28 out of  28 | elapsed:    2.6s finished\n",
      "\n",
      "[2019-09-08 08:03:00] Features: 5/22 -- score: 0.8154017857142858[Parallel(n_jobs=-1)]: Using backend LokyBackend with 16 concurrent workers.\n",
      "[Parallel(n_jobs=-1)]: Done  10 out of  27 | elapsed:    1.4s remaining:    2.4s\n"
     ]
    },
    {
     "name": "stderr",
     "output_type": "stream",
     "text": [
      "[Parallel(n_jobs=-1)]: Done  24 out of  27 | elapsed:    2.5s remaining:    0.3s\n",
      "[Parallel(n_jobs=-1)]: Done  27 out of  27 | elapsed:    2.5s finished\n",
      "\n",
      "[2019-09-08 08:03:02] Features: 6/22 -- score: 0.8049107142857143[Parallel(n_jobs=-1)]: Using backend LokyBackend with 16 concurrent workers.\n",
      "[Parallel(n_jobs=-1)]: Done   9 out of  26 | elapsed:    1.4s remaining:    2.6s\n",
      "[Parallel(n_jobs=-1)]: Done  23 out of  26 | elapsed:    2.3s remaining:    0.3s\n",
      "[Parallel(n_jobs=-1)]: Done  26 out of  26 | elapsed:    2.4s finished\n",
      "\n",
      "[2019-09-08 08:03:05] Features: 7/22 -- score: 0.7940519957983193[Parallel(n_jobs=-1)]: Using backend LokyBackend with 16 concurrent workers.\n",
      "[Parallel(n_jobs=-1)]: Done   7 out of  25 | elapsed:    1.4s remaining:    3.5s\n",
      "[Parallel(n_jobs=-1)]: Done  20 out of  25 | elapsed:    2.2s remaining:    0.6s\n",
      "[Parallel(n_jobs=-1)]: Done  25 out of  25 | elapsed:    2.3s finished\n",
      "\n",
      "[2019-09-08 08:03:07] Features: 8/22 -- score: 0.7900078781512605[Parallel(n_jobs=-1)]: Using backend LokyBackend with 16 concurrent workers.\n",
      "[Parallel(n_jobs=-1)]: Done   6 out of  24 | elapsed:    1.3s remaining:    3.9s\n",
      "[Parallel(n_jobs=-1)]: Done  19 out of  24 | elapsed:    2.1s remaining:    0.6s\n",
      "[Parallel(n_jobs=-1)]: Done  24 out of  24 | elapsed:    2.1s finished\n",
      "\n",
      "[2019-09-08 08:03:09] Features: 9/22 -- score: 0.7758140756302521[Parallel(n_jobs=-1)]: Using backend LokyBackend with 16 concurrent workers.\n",
      "[Parallel(n_jobs=-1)]: Done   4 out of  23 | elapsed:    1.3s remaining:    6.2s\n",
      "[Parallel(n_jobs=-1)]: Done  16 out of  23 | elapsed:    1.4s remaining:    0.6s\n",
      "[Parallel(n_jobs=-1)]: Done  23 out of  23 | elapsed:    2.1s finished\n",
      "\n",
      "[2019-09-08 08:03:11] Features: 10/22 -- score: 0.7820443802521009[Parallel(n_jobs=-1)]: Using backend LokyBackend with 16 concurrent workers.\n",
      "[Parallel(n_jobs=-1)]: Done   3 out of  22 | elapsed:    1.2s remaining:    7.9s\n",
      "[Parallel(n_jobs=-1)]: Done  15 out of  22 | elapsed:    1.3s remaining:    0.6s\n",
      "[Parallel(n_jobs=-1)]: Done  22 out of  22 | elapsed:    2.0s finished\n",
      "\n",
      "[2019-09-08 08:03:13] Features: 11/22 -- score: 0.7733784138655462[Parallel(n_jobs=-1)]: Using backend LokyBackend with 16 concurrent workers.\n",
      "[Parallel(n_jobs=-1)]: Done  12 out of  21 | elapsed:    1.3s remaining:    1.0s\n",
      "[Parallel(n_jobs=-1)]: Done  21 out of  21 | elapsed:    2.0s finished\n",
      "\n",
      "[2019-09-08 08:03:15] Features: 12/22 -- score: 0.776155462184874[Parallel(n_jobs=-1)]: Using backend LokyBackend with 16 concurrent workers.\n",
      "[Parallel(n_jobs=-1)]: Done  11 out of  20 | elapsed:    1.3s remaining:    1.0s\n",
      "[Parallel(n_jobs=-1)]: Done  20 out of  20 | elapsed:    1.9s finished\n",
      "\n",
      "[2019-09-08 08:03:17] Features: 13/22 -- score: 0.7417476365546218[Parallel(n_jobs=-1)]: Using backend LokyBackend with 16 concurrent workers.\n",
      "[Parallel(n_jobs=-1)]: Done   8 out of  19 | elapsed:    1.2s remaining:    1.7s\n",
      "[Parallel(n_jobs=-1)]: Done  19 out of  19 | elapsed:    1.9s finished\n",
      "\n",
      "[2019-09-08 08:03:19] Features: 14/22 -- score: 0.767561712184874[Parallel(n_jobs=-1)]: Using backend LokyBackend with 16 concurrent workers.\n",
      "[Parallel(n_jobs=-1)]: Done   7 out of  18 | elapsed:    1.2s remaining:    1.9s\n",
      "[Parallel(n_jobs=-1)]: Done  18 out of  18 | elapsed:    1.9s finished\n",
      "\n",
      "[2019-09-08 08:03:21] Features: 15/22 -- score: 0.75390625[Parallel(n_jobs=-1)]: Using backend LokyBackend with 16 concurrent workers.\n",
      "[Parallel(n_jobs=-1)]: Done   4 out of  17 | elapsed:    1.2s remaining:    3.8s\n",
      "[Parallel(n_jobs=-1)]: Done  13 out of  17 | elapsed:    1.3s remaining:    0.4s\n",
      "[Parallel(n_jobs=-1)]: Done  17 out of  17 | elapsed:    1.9s finished\n",
      "\n",
      "[2019-09-08 08:03:23] Features: 16/22 -- score: 0.7488839285714286[Parallel(n_jobs=-1)]: Using backend LokyBackend with 16 concurrent workers.\n",
      "[Parallel(n_jobs=-1)]: Done   3 out of  16 | elapsed:    1.2s remaining:    5.4s\n",
      "[Parallel(n_jobs=-1)]: Done  12 out of  16 | elapsed:    1.3s remaining:    0.4s\n",
      "[Parallel(n_jobs=-1)]: Done  16 out of  16 | elapsed:    1.3s finished\n",
      "\n",
      "[2019-09-08 08:03:24] Features: 17/22 -- score: 0.7233258928571429[Parallel(n_jobs=-1)]: Using backend LokyBackend with 16 concurrent workers.\n",
      "[Parallel(n_jobs=-1)]: Done   8 out of  15 | elapsed:    1.2s remaining:    1.1s\n",
      "[Parallel(n_jobs=-1)]: Done  15 out of  15 | elapsed:    1.3s finished\n",
      "\n",
      "[2019-09-08 08:03:25] Features: 18/22 -- score: 0.7451352415966387[Parallel(n_jobs=-1)]: Using backend LokyBackend with 16 concurrent workers.\n",
      "[Parallel(n_jobs=-1)]: Done   7 out of  14 | elapsed:    1.2s remaining:    1.2s\n",
      "[Parallel(n_jobs=-1)]: Done  14 out of  14 | elapsed:    1.2s finished\n",
      "\n",
      "[2019-09-08 08:03:27] Features: 19/22 -- score: 0.7419511554621849[Parallel(n_jobs=-1)]: Using backend LokyBackend with 16 concurrent workers.\n",
      "[Parallel(n_jobs=-1)]: Done   3 out of  13 | elapsed:    1.1s remaining:    3.8s\n",
      "[Parallel(n_jobs=-1)]: Done  10 out of  13 | elapsed:    1.2s remaining:    0.4s\n",
      "[Parallel(n_jobs=-1)]: Done  13 out of  13 | elapsed:    1.2s finished\n",
      "\n",
      "[2019-09-08 08:03:28] Features: 20/22 -- score: 0.7174566701680671[Parallel(n_jobs=-1)]: Using backend LokyBackend with 16 concurrent workers.\n",
      "[Parallel(n_jobs=-1)]: Done   2 out of  12 | elapsed:    1.0s remaining:    5.0s\n",
      "[Parallel(n_jobs=-1)]: Done   9 out of  12 | elapsed:    1.1s remaining:    0.4s\n",
      "[Parallel(n_jobs=-1)]: Done  12 out of  12 | elapsed:    1.1s finished\n",
      "\n",
      "[2019-09-08 08:03:29] Features: 21/22 -- score: 0.7005055147058823[Parallel(n_jobs=-1)]: Using backend LokyBackend with 16 concurrent workers.\n",
      "[Parallel(n_jobs=-1)]: Done   4 out of  11 | elapsed:    1.0s remaining:    1.7s\n",
      "[Parallel(n_jobs=-1)]: Done  11 out of  11 | elapsed:    1.1s finished\n",
      "\n",
      "[2019-09-08 08:03:30] Features: 22/22 -- score: 0.7090401785714285"
     ]
    }
   ],
   "source": [
    "# step forward feature selection\n",
    "# I indicate that I want to select 10 features from\n",
    "# the total, and that I want to select those features\n",
    "# based on the optimal roc_auc\n",
    "\n",
    "features = [15, 16,17,18, 19, 20, 21, 22]\n",
    "selected_features= []\n",
    "for i in features:\n",
    "    \n",
    "    sfs1 = SFS(RandomForestClassifier(n_estimators = 200), \n",
    "           n_jobs=-1,\n",
    "           k_features=i, \n",
    "           forward=True, \n",
    "           floating=False, \n",
    "           verbose=2,\n",
    "           scoring='roc_auc',\n",
    "           cv=5)\n",
    "\n",
    "    sfs1 = sfs1.fit(np.array(X_train.fillna(0)), y_train)\n",
    "    \n",
    "    selected_feat= X_train.columns[list(sfs1.k_feature_idx_)]\n",
    "    selected_features.append(selected_feat)"
   ]
  },
  {
   "cell_type": "code",
   "execution_count": 49,
   "metadata": {},
   "outputs": [
    {
     "data": {
      "text/plain": [
       "Index(['x3', 'x4', 'x5', 'x6', 'x15', 'x16', 'x18', 'x19', 'x28', 'x29', 'x12',\n",
       "       'x22', 'x26'],\n",
       "      dtype='object')"
      ]
     },
     "execution_count": 49,
     "metadata": {},
     "output_type": "execute_result"
    }
   ],
   "source": [
    "selected_features[4]"
   ]
  },
  {
   "cell_type": "code",
   "execution_count": 52,
   "metadata": {
    "collapsed": true
   },
   "outputs": [],
   "source": [
    "def run_randomForests(X_train, X_test, y_train, y_test):\n",
    "    rf = RandomForestClassifier(n_estimators=200, random_state=39, max_depth=4, n_jobs=8)\n",
    "    rf.fit(X_train, y_train)\n",
    "    print('__________________________')\n",
    "    print('Train set')\n",
    "    pred = rf.predict_proba(X_train)\n",
    "    print('Random Forests roc-auc: {}'.format(roc_auc_score(y_train, pred[:,1])))\n",
    "\n",
    "    print('Test set')\n",
    "    pred = rf.predict_proba(X_test)\n",
    "    print('Random Forests roc-auc: {}'.format(roc_auc_score(y_test, pred[:,1])))\n",
    "    "
   ]
  },
  {
   "cell_type": "code",
   "execution_count": 184,
   "metadata": {
    "scrolled": true
   },
   "outputs": [
    {
     "name": "stdout",
     "output_type": "stream",
     "text": [
      "__________________________\n",
      "Train set\n",
      "Random Forests roc-auc: 0.9841507177033493\n",
      "Test set\n",
      "Random Forests roc-auc: 0.7569444444444444\n",
      "__________________________\n",
      "Train set\n",
      "Random Forests roc-auc: 0.9832535885167464\n",
      "Test set\n",
      "Random Forests roc-auc: 0.8263888888888888\n",
      "__________________________\n",
      "Train set\n",
      "Random Forests roc-auc: 0.9476674641148326\n",
      "Test set\n",
      "Random Forests roc-auc: 0.7291666666666666\n",
      "__________________________\n",
      "Train set\n",
      "Random Forests roc-auc: 0.9611244019138756\n",
      "Test set\n",
      "Random Forests roc-auc: 0.7638888888888888\n",
      "__________________________\n",
      "Train set\n",
      "Random Forests roc-auc: 0.9820574162679425\n",
      "Test set\n",
      "Random Forests roc-auc: 0.8402777777777777\n",
      "__________________________\n",
      "Train set\n",
      "Random Forests roc-auc: 0.9835526315789473\n",
      "Test set\n",
      "Random Forests roc-auc: 0.763888888888889\n",
      "__________________________\n",
      "Train set\n",
      "Random Forests roc-auc: 0.978468899521531\n",
      "Test set\n",
      "Random Forests roc-auc: 0.7708333333333334\n",
      "__________________________\n",
      "Train set\n",
      "Random Forests roc-auc: 0.9850478468899522\n",
      "Test set\n",
      "Random Forests roc-auc: 0.7569444444444444\n"
     ]
    }
   ],
   "source": [
    "# evaluate performance of algorithm built\n",
    "# using selected features\n",
    "\n",
    "for selected_feat in selected_features:\n",
    "    run_randomForests(X_train[selected_feat].fillna(0),\n",
    "                  X_test[selected_feat].fillna(0),\n",
    "                  y_train, y_test)"
   ]
  },
  {
   "cell_type": "markdown",
   "metadata": {},
   "source": [
    "### Step backward feature selection"
   ]
  },
  {
   "cell_type": "code",
   "execution_count": 187,
   "metadata": {},
   "outputs": [
    {
     "name": "stderr",
     "output_type": "stream",
     "text": [
      "[Parallel(n_jobs=-1)]: Using backend LokyBackend with 16 concurrent workers.\n",
      "[Parallel(n_jobs=-1)]: Done  18 out of  32 | elapsed:    2.5s remaining:    2.0s\n",
      "[Parallel(n_jobs=-1)]: Done  32 out of  32 | elapsed:    2.6s finished\n",
      "\n",
      "[2019-09-07 18:34:17] Features: 31/15 -- score: 0.7044907407407408[Parallel(n_jobs=-1)]: Using backend LokyBackend with 16 concurrent workers.\n",
      "[Parallel(n_jobs=-1)]: Done  16 out of  31 | elapsed:    0.6s remaining:    0.6s\n",
      "[Parallel(n_jobs=-1)]: Done  31 out of  31 | elapsed:    1.2s finished\n",
      "\n",
      "[2019-09-07 18:34:18] Features: 30/15 -- score: 0.7048148148148149[Parallel(n_jobs=-1)]: Using backend LokyBackend with 16 concurrent workers.\n",
      "[Parallel(n_jobs=-1)]: Done  15 out of  30 | elapsed:    0.6s remaining:    0.6s\n",
      "[Parallel(n_jobs=-1)]: Done  30 out of  30 | elapsed:    1.2s finished\n",
      "\n",
      "[2019-09-07 18:34:19] Features: 29/15 -- score: 0.7099537037037037[Parallel(n_jobs=-1)]: Using backend LokyBackend with 16 concurrent workers.\n",
      "[Parallel(n_jobs=-1)]: Done  13 out of  29 | elapsed:    0.6s remaining:    0.8s\n",
      "[Parallel(n_jobs=-1)]: Done  29 out of  29 | elapsed:    1.1s finished\n",
      "\n",
      "[2019-09-07 18:34:20] Features: 28/15 -- score: 0.7123611111111111[Parallel(n_jobs=-1)]: Using backend LokyBackend with 16 concurrent workers.\n",
      "[Parallel(n_jobs=-1)]: Done  12 out of  28 | elapsed:    0.6s remaining:    0.8s\n",
      "[Parallel(n_jobs=-1)]: Done  28 out of  28 | elapsed:    1.2s finished\n",
      "\n",
      "[2019-09-07 18:34:22] Features: 27/15 -- score: 0.6952777777777778[Parallel(n_jobs=-1)]: Using backend LokyBackend with 16 concurrent workers.\n",
      "[Parallel(n_jobs=-1)]: Done  10 out of  27 | elapsed:    0.7s remaining:    1.2s\n",
      "[Parallel(n_jobs=-1)]: Done  24 out of  27 | elapsed:    1.2s remaining:    0.2s\n",
      "[Parallel(n_jobs=-1)]: Done  27 out of  27 | elapsed:    1.3s finished\n",
      "\n",
      "[2019-09-07 18:34:23] Features: 26/15 -- score: 0.7139351851851853[Parallel(n_jobs=-1)]: Using backend LokyBackend with 16 concurrent workers.\n",
      "[Parallel(n_jobs=-1)]: Done   9 out of  26 | elapsed:    0.6s remaining:    1.2s\n",
      "[Parallel(n_jobs=-1)]: Done  23 out of  26 | elapsed:    1.1s remaining:    0.1s\n",
      "[Parallel(n_jobs=-1)]: Done  26 out of  26 | elapsed:    1.1s finished\n",
      "\n",
      "[2019-09-07 18:34:24] Features: 25/15 -- score: 0.7256481481481483[Parallel(n_jobs=-1)]: Using backend LokyBackend with 16 concurrent workers.\n",
      "[Parallel(n_jobs=-1)]: Done   7 out of  25 | elapsed:    0.6s remaining:    1.6s\n",
      "[Parallel(n_jobs=-1)]: Done  20 out of  25 | elapsed:    1.0s remaining:    0.3s\n",
      "[Parallel(n_jobs=-1)]: Done  25 out of  25 | elapsed:    1.0s finished\n",
      "\n",
      "[2019-09-07 18:34:25] Features: 24/15 -- score: 0.742638888888889[Parallel(n_jobs=-1)]: Using backend LokyBackend with 16 concurrent workers.\n",
      "[Parallel(n_jobs=-1)]: Done   6 out of  24 | elapsed:    0.6s remaining:    1.8s\n",
      "[Parallel(n_jobs=-1)]: Done  19 out of  24 | elapsed:    1.0s remaining:    0.3s\n",
      "[Parallel(n_jobs=-1)]: Done  24 out of  24 | elapsed:    1.0s finished\n",
      "\n",
      "[2019-09-07 18:34:26] Features: 23/15 -- score: 0.7275925925925926[Parallel(n_jobs=-1)]: Using backend LokyBackend with 16 concurrent workers.\n",
      "[Parallel(n_jobs=-1)]: Done   4 out of  23 | elapsed:    0.6s remaining:    2.8s\n",
      "[Parallel(n_jobs=-1)]: Done  16 out of  23 | elapsed:    0.6s remaining:    0.3s\n",
      "[Parallel(n_jobs=-1)]: Done  23 out of  23 | elapsed:    1.0s finished\n",
      "\n",
      "[2019-09-07 18:34:27] Features: 22/15 -- score: 0.7293981481481481[Parallel(n_jobs=-1)]: Using backend LokyBackend with 16 concurrent workers.\n",
      "[Parallel(n_jobs=-1)]: Done   3 out of  22 | elapsed:    0.6s remaining:    3.7s\n",
      "[Parallel(n_jobs=-1)]: Done  15 out of  22 | elapsed:    0.6s remaining:    0.3s\n",
      "[Parallel(n_jobs=-1)]: Done  22 out of  22 | elapsed:    1.0s finished\n",
      "\n",
      "[2019-09-07 18:34:28] Features: 21/15 -- score: 0.7270833333333332[Parallel(n_jobs=-1)]: Using backend LokyBackend with 16 concurrent workers.\n",
      "[Parallel(n_jobs=-1)]: Done  12 out of  21 | elapsed:    0.6s remaining:    0.5s\n",
      "[Parallel(n_jobs=-1)]: Done  21 out of  21 | elapsed:    1.0s finished\n",
      "\n",
      "[2019-09-07 18:34:29] Features: 20/15 -- score: 0.7186574074074075[Parallel(n_jobs=-1)]: Using backend LokyBackend with 16 concurrent workers.\n",
      "[Parallel(n_jobs=-1)]: Done  11 out of  20 | elapsed:    0.6s remaining:    0.5s\n",
      "[Parallel(n_jobs=-1)]: Done  20 out of  20 | elapsed:    0.9s finished\n",
      "\n",
      "[2019-09-07 18:34:30] Features: 19/15 -- score: 0.7243518518518519[Parallel(n_jobs=-1)]: Using backend LokyBackend with 16 concurrent workers.\n",
      "[Parallel(n_jobs=-1)]: Done   8 out of  19 | elapsed:    0.6s remaining:    0.8s\n",
      "[Parallel(n_jobs=-1)]: Done  19 out of  19 | elapsed:    0.9s finished\n",
      "\n",
      "[2019-09-07 18:34:31] Features: 18/15 -- score: 0.725925925925926[Parallel(n_jobs=-1)]: Using backend LokyBackend with 16 concurrent workers.\n",
      "[Parallel(n_jobs=-1)]: Done   7 out of  18 | elapsed:    0.6s remaining:    0.9s\n",
      "[Parallel(n_jobs=-1)]: Done  18 out of  18 | elapsed:    0.9s finished\n",
      "\n",
      "[2019-09-07 18:34:32] Features: 17/15 -- score: 0.7297222222222222[Parallel(n_jobs=-1)]: Using backend LokyBackend with 16 concurrent workers.\n",
      "[Parallel(n_jobs=-1)]: Done   4 out of  17 | elapsed:    0.6s remaining:    1.8s\n",
      "[Parallel(n_jobs=-1)]: Done  13 out of  17 | elapsed:    0.6s remaining:    0.2s\n",
      "[Parallel(n_jobs=-1)]: Done  17 out of  17 | elapsed:    0.9s finished\n",
      "\n",
      "[2019-09-07 18:34:33] Features: 16/15 -- score: 0.7261111111111112[Parallel(n_jobs=-1)]: Using backend LokyBackend with 16 concurrent workers.\n",
      "[Parallel(n_jobs=-1)]: Done   3 out of  16 | elapsed:    0.5s remaining:    2.3s\n",
      "[Parallel(n_jobs=-1)]: Done  12 out of  16 | elapsed:    0.6s remaining:    0.2s\n",
      "[Parallel(n_jobs=-1)]: Done  16 out of  16 | elapsed:    0.6s finished\n",
      "\n",
      "[2019-09-07 18:34:33] Features: 15/15 -- score: 0.7355555555555556[Parallel(n_jobs=-1)]: Using backend LokyBackend with 16 concurrent workers.\n",
      "[Parallel(n_jobs=-1)]: Done  18 out of  32 | elapsed:    1.1s remaining:    0.9s\n",
      "[Parallel(n_jobs=-1)]: Done  32 out of  32 | elapsed:    1.3s finished\n",
      "\n",
      "[2019-09-07 18:34:35] Features: 31/16 -- score: 0.7081944444444446[Parallel(n_jobs=-1)]: Using backend LokyBackend with 16 concurrent workers.\n",
      "[Parallel(n_jobs=-1)]: Done  16 out of  31 | elapsed:    0.7s remaining:    0.6s\n",
      "[Parallel(n_jobs=-1)]: Done  31 out of  31 | elapsed:    1.3s finished\n",
      "\n",
      "[2019-09-07 18:34:36] Features: 30/16 -- score: 0.7344907407407407[Parallel(n_jobs=-1)]: Using backend LokyBackend with 16 concurrent workers.\n",
      "[Parallel(n_jobs=-1)]: Done  15 out of  30 | elapsed:    0.7s remaining:    0.7s\n",
      "[Parallel(n_jobs=-1)]: Done  30 out of  30 | elapsed:    1.3s finished\n",
      "\n",
      "[2019-09-07 18:34:37] Features: 29/16 -- score: 0.7056481481481481[Parallel(n_jobs=-1)]: Using backend LokyBackend with 16 concurrent workers.\n",
      "[Parallel(n_jobs=-1)]: Done  13 out of  29 | elapsed:    0.7s remaining:    0.8s\n",
      "[Parallel(n_jobs=-1)]: Done  29 out of  29 | elapsed:    1.3s finished\n",
      "\n",
      "[2019-09-07 18:34:39] Features: 28/16 -- score: 0.7202314814814815[Parallel(n_jobs=-1)]: Using backend LokyBackend with 16 concurrent workers.\n",
      "[Parallel(n_jobs=-1)]: Done  12 out of  28 | elapsed:    0.7s remaining:    0.9s\n",
      "[Parallel(n_jobs=-1)]: Done  28 out of  28 | elapsed:    1.2s finished\n",
      "\n",
      "[2019-09-07 18:34:40] Features: 27/16 -- score: 0.695138888888889[Parallel(n_jobs=-1)]: Using backend LokyBackend with 16 concurrent workers.\n",
      "[Parallel(n_jobs=-1)]: Done  10 out of  27 | elapsed:    0.7s remaining:    1.1s\n",
      "[Parallel(n_jobs=-1)]: Done  24 out of  27 | elapsed:    1.2s remaining:    0.1s\n",
      "[Parallel(n_jobs=-1)]: Done  27 out of  27 | elapsed:    1.2s finished\n",
      "\n",
      "[2019-09-07 18:34:41] Features: 26/16 -- score: 0.7068518518518518[Parallel(n_jobs=-1)]: Using backend LokyBackend with 16 concurrent workers.\n",
      "[Parallel(n_jobs=-1)]: Done   9 out of  26 | elapsed:    0.7s remaining:    1.3s\n",
      "[Parallel(n_jobs=-1)]: Done  23 out of  26 | elapsed:    1.1s remaining:    0.1s\n",
      "[Parallel(n_jobs=-1)]: Done  26 out of  26 | elapsed:    1.2s finished\n",
      "\n",
      "[2019-09-07 18:34:42] Features: 25/16 -- score: 0.7215740740740741[Parallel(n_jobs=-1)]: Using backend LokyBackend with 16 concurrent workers.\n",
      "[Parallel(n_jobs=-1)]: Done   7 out of  25 | elapsed:    0.7s remaining:    1.7s\n",
      "[Parallel(n_jobs=-1)]: Done  20 out of  25 | elapsed:    1.1s remaining:    0.3s\n",
      "[Parallel(n_jobs=-1)]: Done  25 out of  25 | elapsed:    1.1s finished\n",
      "\n",
      "[2019-09-07 18:34:43] Features: 24/16 -- score: 0.7183333333333334[Parallel(n_jobs=-1)]: Using backend LokyBackend with 16 concurrent workers.\n"
     ]
    },
    {
     "name": "stderr",
     "output_type": "stream",
     "text": [
      "[Parallel(n_jobs=-1)]: Done   6 out of  24 | elapsed:    0.6s remaining:    1.9s\n",
      "[Parallel(n_jobs=-1)]: Done  19 out of  24 | elapsed:    1.0s remaining:    0.3s\n",
      "[Parallel(n_jobs=-1)]: Done  24 out of  24 | elapsed:    1.0s finished\n",
      "\n",
      "[2019-09-07 18:34:44] Features: 23/16 -- score: 0.7150462962962962[Parallel(n_jobs=-1)]: Using backend LokyBackend with 16 concurrent workers.\n",
      "[Parallel(n_jobs=-1)]: Done   4 out of  23 | elapsed:    0.6s remaining:    3.0s\n",
      "[Parallel(n_jobs=-1)]: Done  16 out of  23 | elapsed:    0.7s remaining:    0.3s\n",
      "[Parallel(n_jobs=-1)]: Done  23 out of  23 | elapsed:    1.0s finished\n",
      "\n",
      "[2019-09-07 18:34:45] Features: 22/16 -- score: 0.732962962962963[Parallel(n_jobs=-1)]: Using backend LokyBackend with 16 concurrent workers.\n",
      "[Parallel(n_jobs=-1)]: Done   3 out of  22 | elapsed:    0.6s remaining:    3.9s\n",
      "[Parallel(n_jobs=-1)]: Done  15 out of  22 | elapsed:    0.7s remaining:    0.3s\n",
      "[Parallel(n_jobs=-1)]: Done  22 out of  22 | elapsed:    1.0s finished\n",
      "\n",
      "[2019-09-07 18:34:46] Features: 21/16 -- score: 0.7531944444444445[Parallel(n_jobs=-1)]: Using backend LokyBackend with 16 concurrent workers.\n",
      "[Parallel(n_jobs=-1)]: Done  12 out of  21 | elapsed:    0.6s remaining:    0.5s\n",
      "[Parallel(n_jobs=-1)]: Done  21 out of  21 | elapsed:    1.0s finished\n",
      "\n",
      "[2019-09-07 18:34:47] Features: 20/16 -- score: 0.7286574074074074[Parallel(n_jobs=-1)]: Using backend LokyBackend with 16 concurrent workers.\n",
      "[Parallel(n_jobs=-1)]: Done  11 out of  20 | elapsed:    0.6s remaining:    0.5s\n",
      "[Parallel(n_jobs=-1)]: Done  20 out of  20 | elapsed:    0.9s finished\n",
      "\n",
      "[2019-09-07 18:34:48] Features: 19/16 -- score: 0.7418518518518519[Parallel(n_jobs=-1)]: Using backend LokyBackend with 16 concurrent workers.\n",
      "[Parallel(n_jobs=-1)]: Done   8 out of  19 | elapsed:    0.6s remaining:    0.8s\n",
      "[Parallel(n_jobs=-1)]: Done  19 out of  19 | elapsed:    0.9s finished\n",
      "\n",
      "[2019-09-07 18:34:49] Features: 18/16 -- score: 0.7371759259259261[Parallel(n_jobs=-1)]: Using backend LokyBackend with 16 concurrent workers.\n",
      "[Parallel(n_jobs=-1)]: Done   7 out of  18 | elapsed:    0.6s remaining:    0.9s\n",
      "[Parallel(n_jobs=-1)]: Done  18 out of  18 | elapsed:    0.9s finished\n",
      "\n",
      "[2019-09-07 18:34:50] Features: 17/16 -- score: 0.7637962962962963[Parallel(n_jobs=-1)]: Using backend LokyBackend with 16 concurrent workers.\n",
      "[Parallel(n_jobs=-1)]: Done   4 out of  17 | elapsed:    0.6s remaining:    1.9s\n",
      "[Parallel(n_jobs=-1)]: Done  13 out of  17 | elapsed:    0.7s remaining:    0.2s\n",
      "[Parallel(n_jobs=-1)]: Done  17 out of  17 | elapsed:    0.9s finished\n",
      "\n",
      "[2019-09-07 18:34:51] Features: 16/16 -- score: 0.7752777777777778[Parallel(n_jobs=-1)]: Using backend LokyBackend with 16 concurrent workers.\n",
      "[Parallel(n_jobs=-1)]: Done  18 out of  32 | elapsed:    1.2s remaining:    0.9s\n",
      "[Parallel(n_jobs=-1)]: Done  32 out of  32 | elapsed:    1.3s finished\n",
      "\n",
      "[2019-09-07 18:34:53] Features: 31/17 -- score: 0.6984722222222223[Parallel(n_jobs=-1)]: Using backend LokyBackend with 16 concurrent workers.\n",
      "[Parallel(n_jobs=-1)]: Done  16 out of  31 | elapsed:    0.7s remaining:    0.6s\n",
      "[Parallel(n_jobs=-1)]: Done  31 out of  31 | elapsed:    1.3s finished\n",
      "\n",
      "[2019-09-07 18:34:54] Features: 30/17 -- score: 0.6931944444444444[Parallel(n_jobs=-1)]: Using backend LokyBackend with 16 concurrent workers.\n",
      "[Parallel(n_jobs=-1)]: Done  15 out of  30 | elapsed:    0.7s remaining:    0.7s\n",
      "[Parallel(n_jobs=-1)]: Done  30 out of  30 | elapsed:    1.3s finished\n",
      "\n",
      "[2019-09-07 18:34:55] Features: 29/17 -- score: 0.6940277777777778[Parallel(n_jobs=-1)]: Using backend LokyBackend with 16 concurrent workers.\n",
      "[Parallel(n_jobs=-1)]: Done  13 out of  29 | elapsed:    0.7s remaining:    0.8s\n",
      "[Parallel(n_jobs=-1)]: Done  29 out of  29 | elapsed:    1.3s finished\n",
      "\n",
      "[2019-09-07 18:34:57] Features: 28/17 -- score: 0.6990277777777777[Parallel(n_jobs=-1)]: Using backend LokyBackend with 16 concurrent workers.\n",
      "[Parallel(n_jobs=-1)]: Done  12 out of  28 | elapsed:    0.7s remaining:    0.9s\n",
      "[Parallel(n_jobs=-1)]: Done  28 out of  28 | elapsed:    1.3s finished\n",
      "\n",
      "[2019-09-07 18:34:58] Features: 27/17 -- score: 0.6977777777777778[Parallel(n_jobs=-1)]: Using backend LokyBackend with 16 concurrent workers.\n",
      "[Parallel(n_jobs=-1)]: Done  10 out of  27 | elapsed:    0.7s remaining:    1.1s\n",
      "[Parallel(n_jobs=-1)]: Done  24 out of  27 | elapsed:    1.2s remaining:    0.1s\n",
      "[Parallel(n_jobs=-1)]: Done  27 out of  27 | elapsed:    1.2s finished\n",
      "\n",
      "[2019-09-07 18:34:59] Features: 26/17 -- score: 0.6897222222222222[Parallel(n_jobs=-1)]: Using backend LokyBackend with 16 concurrent workers.\n",
      "[Parallel(n_jobs=-1)]: Done   9 out of  26 | elapsed:    0.7s remaining:    1.3s\n",
      "[Parallel(n_jobs=-1)]: Done  23 out of  26 | elapsed:    1.1s remaining:    0.1s\n",
      "[Parallel(n_jobs=-1)]: Done  26 out of  26 | elapsed:    1.2s finished\n",
      "\n",
      "[2019-09-07 18:35:00] Features: 25/17 -- score: 0.7092592592592593[Parallel(n_jobs=-1)]: Using backend LokyBackend with 16 concurrent workers.\n",
      "[Parallel(n_jobs=-1)]: Done   7 out of  25 | elapsed:    0.6s remaining:    1.6s\n",
      "[Parallel(n_jobs=-1)]: Done  20 out of  25 | elapsed:    1.1s remaining:    0.3s\n",
      "[Parallel(n_jobs=-1)]: Done  25 out of  25 | elapsed:    1.1s finished\n",
      "\n",
      "[2019-09-07 18:35:01] Features: 24/17 -- score: 0.7132870370370371[Parallel(n_jobs=-1)]: Using backend LokyBackend with 16 concurrent workers.\n",
      "[Parallel(n_jobs=-1)]: Done   6 out of  24 | elapsed:    0.6s remaining:    1.9s\n",
      "[Parallel(n_jobs=-1)]: Done  19 out of  24 | elapsed:    1.1s remaining:    0.3s\n",
      "[Parallel(n_jobs=-1)]: Done  24 out of  24 | elapsed:    1.1s finished\n",
      "\n",
      "[2019-09-07 18:35:02] Features: 23/17 -- score: 0.7086574074074075[Parallel(n_jobs=-1)]: Using backend LokyBackend with 16 concurrent workers.\n",
      "[Parallel(n_jobs=-1)]: Done   4 out of  23 | elapsed:    0.6s remaining:    3.1s\n",
      "[Parallel(n_jobs=-1)]: Done  16 out of  23 | elapsed:    0.8s remaining:    0.3s\n",
      "[Parallel(n_jobs=-1)]: Done  23 out of  23 | elapsed:    1.1s finished\n",
      "\n",
      "[2019-09-07 18:35:03] Features: 22/17 -- score: 0.7255092592592592[Parallel(n_jobs=-1)]: Using backend LokyBackend with 16 concurrent workers.\n",
      "[Parallel(n_jobs=-1)]: Done   3 out of  22 | elapsed:    0.6s remaining:    4.0s\n",
      "[Parallel(n_jobs=-1)]: Done  15 out of  22 | elapsed:    0.7s remaining:    0.3s\n",
      "[Parallel(n_jobs=-1)]: Done  22 out of  22 | elapsed:    1.0s finished\n",
      "\n",
      "[2019-09-07 18:35:04] Features: 21/17 -- score: 0.7131944444444445[Parallel(n_jobs=-1)]: Using backend LokyBackend with 16 concurrent workers.\n",
      "[Parallel(n_jobs=-1)]: Done  12 out of  21 | elapsed:    0.7s remaining:    0.5s\n",
      "[Parallel(n_jobs=-1)]: Done  21 out of  21 | elapsed:    1.0s finished\n",
      "\n",
      "[2019-09-07 18:35:06] Features: 20/17 -- score: 0.7110185185185185[Parallel(n_jobs=-1)]: Using backend LokyBackend with 16 concurrent workers.\n",
      "[Parallel(n_jobs=-1)]: Done  11 out of  20 | elapsed:    0.7s remaining:    0.5s\n",
      "[Parallel(n_jobs=-1)]: Done  20 out of  20 | elapsed:    1.0s finished\n",
      "\n",
      "[2019-09-07 18:35:07] Features: 19/17 -- score: 0.7055092592592593[Parallel(n_jobs=-1)]: Using backend LokyBackend with 16 concurrent workers.\n",
      "[Parallel(n_jobs=-1)]: Done   8 out of  19 | elapsed:    0.6s remaining:    0.9s\n",
      "[Parallel(n_jobs=-1)]: Done  19 out of  19 | elapsed:    1.0s finished\n",
      "\n",
      "[2019-09-07 18:35:07] Features: 18/17 -- score: 0.7098148148148148[Parallel(n_jobs=-1)]: Using backend LokyBackend with 16 concurrent workers.\n",
      "[Parallel(n_jobs=-1)]: Done   7 out of  18 | elapsed:    0.6s remaining:    1.0s\n",
      "[Parallel(n_jobs=-1)]: Done  18 out of  18 | elapsed:    1.0s finished\n",
      "\n",
      "[2019-09-07 18:35:08] Features: 17/17 -- score: 0.7107407407407408[Parallel(n_jobs=-1)]: Using backend LokyBackend with 16 concurrent workers.\n",
      "[Parallel(n_jobs=-1)]: Done  18 out of  32 | elapsed:    1.2s remaining:    0.9s\n",
      "[Parallel(n_jobs=-1)]: Done  32 out of  32 | elapsed:    1.3s finished\n",
      "\n",
      "[2019-09-07 18:35:10] Features: 31/18 -- score: 0.6916666666666667[Parallel(n_jobs=-1)]: Using backend LokyBackend with 16 concurrent workers.\n",
      "[Parallel(n_jobs=-1)]: Done  16 out of  31 | elapsed:    0.7s remaining:    0.6s\n",
      "[Parallel(n_jobs=-1)]: Done  31 out of  31 | elapsed:    1.3s finished\n",
      "\n",
      "[2019-09-07 18:35:11] Features: 30/18 -- score: 0.6943518518518518[Parallel(n_jobs=-1)]: Using backend LokyBackend with 16 concurrent workers.\n"
     ]
    },
    {
     "name": "stderr",
     "output_type": "stream",
     "text": [
      "[Parallel(n_jobs=-1)]: Done  15 out of  30 | elapsed:    0.7s remaining:    0.7s\n",
      "[Parallel(n_jobs=-1)]: Done  30 out of  30 | elapsed:    1.3s finished\n",
      "\n",
      "[2019-09-07 18:35:13] Features: 29/18 -- score: 0.71[Parallel(n_jobs=-1)]: Using backend LokyBackend with 16 concurrent workers.\n",
      "[Parallel(n_jobs=-1)]: Done  13 out of  29 | elapsed:    0.7s remaining:    0.9s\n",
      "[Parallel(n_jobs=-1)]: Done  29 out of  29 | elapsed:    1.3s finished\n",
      "\n",
      "[2019-09-07 18:35:14] Features: 28/18 -- score: 0.7191203703703705[Parallel(n_jobs=-1)]: Using backend LokyBackend with 16 concurrent workers.\n",
      "[Parallel(n_jobs=-1)]: Done  12 out of  28 | elapsed:    0.7s remaining:    0.9s\n",
      "[Parallel(n_jobs=-1)]: Done  28 out of  28 | elapsed:    1.3s finished\n",
      "\n",
      "[2019-09-07 18:35:15] Features: 27/18 -- score: 0.7016203703703704[Parallel(n_jobs=-1)]: Using backend LokyBackend with 16 concurrent workers.\n",
      "[Parallel(n_jobs=-1)]: Done  10 out of  27 | elapsed:    0.7s remaining:    1.2s\n",
      "[Parallel(n_jobs=-1)]: Done  24 out of  27 | elapsed:    1.2s remaining:    0.2s\n",
      "[Parallel(n_jobs=-1)]: Done  27 out of  27 | elapsed:    1.2s finished\n",
      "\n",
      "[2019-09-07 18:35:17] Features: 26/18 -- score: 0.7203240740740741[Parallel(n_jobs=-1)]: Using backend LokyBackend with 16 concurrent workers.\n",
      "[Parallel(n_jobs=-1)]: Done   9 out of  26 | elapsed:    0.7s remaining:    1.3s\n",
      "[Parallel(n_jobs=-1)]: Done  23 out of  26 | elapsed:    1.2s remaining:    0.2s\n",
      "[Parallel(n_jobs=-1)]: Done  26 out of  26 | elapsed:    1.2s finished\n",
      "\n",
      "[2019-09-07 18:35:18] Features: 25/18 -- score: 0.7077777777777777[Parallel(n_jobs=-1)]: Using backend LokyBackend with 16 concurrent workers.\n",
      "[Parallel(n_jobs=-1)]: Done   7 out of  25 | elapsed:    0.7s remaining:    1.7s\n",
      "[Parallel(n_jobs=-1)]: Done  20 out of  25 | elapsed:    1.1s remaining:    0.3s\n",
      "[Parallel(n_jobs=-1)]: Done  25 out of  25 | elapsed:    1.2s finished\n",
      "\n",
      "[2019-09-07 18:35:19] Features: 24/18 -- score: 0.7317592592592592[Parallel(n_jobs=-1)]: Using backend LokyBackend with 16 concurrent workers.\n",
      "[Parallel(n_jobs=-1)]: Done   6 out of  24 | elapsed:    0.7s remaining:    2.0s\n",
      "[Parallel(n_jobs=-1)]: Done  19 out of  24 | elapsed:    1.1s remaining:    0.3s\n",
      "[Parallel(n_jobs=-1)]: Done  24 out of  24 | elapsed:    1.1s finished\n",
      "\n",
      "[2019-09-07 18:35:20] Features: 23/18 -- score: 0.7205555555555556[Parallel(n_jobs=-1)]: Using backend LokyBackend with 16 concurrent workers.\n",
      "[Parallel(n_jobs=-1)]: Done   4 out of  23 | elapsed:    0.6s remaining:    3.1s\n",
      "[Parallel(n_jobs=-1)]: Done  16 out of  23 | elapsed:    0.7s remaining:    0.3s\n",
      "[Parallel(n_jobs=-1)]: Done  23 out of  23 | elapsed:    1.1s finished\n",
      "\n",
      "[2019-09-07 18:35:21] Features: 22/18 -- score: 0.7148611111111112[Parallel(n_jobs=-1)]: Using backend LokyBackend with 16 concurrent workers.\n",
      "[Parallel(n_jobs=-1)]: Done   3 out of  22 | elapsed:    0.6s remaining:    4.0s\n",
      "[Parallel(n_jobs=-1)]: Done  15 out of  22 | elapsed:    0.7s remaining:    0.3s\n",
      "[Parallel(n_jobs=-1)]: Done  22 out of  22 | elapsed:    1.1s finished\n",
      "\n",
      "[2019-09-07 18:35:22] Features: 21/18 -- score: 0.7231018518518518[Parallel(n_jobs=-1)]: Using backend LokyBackend with 16 concurrent workers.\n",
      "[Parallel(n_jobs=-1)]: Done  12 out of  21 | elapsed:    0.7s remaining:    0.5s\n",
      "[Parallel(n_jobs=-1)]: Done  21 out of  21 | elapsed:    1.0s finished\n",
      "\n",
      "[2019-09-07 18:35:23] Features: 20/18 -- score: 0.7191203703703704[Parallel(n_jobs=-1)]: Using backend LokyBackend with 16 concurrent workers.\n",
      "[Parallel(n_jobs=-1)]: Done  11 out of  20 | elapsed:    0.7s remaining:    0.6s\n",
      "[Parallel(n_jobs=-1)]: Done  20 out of  20 | elapsed:    1.0s finished\n",
      "\n",
      "[2019-09-07 18:35:24] Features: 19/18 -- score: 0.7104166666666667[Parallel(n_jobs=-1)]: Using backend LokyBackend with 16 concurrent workers.\n",
      "[Parallel(n_jobs=-1)]: Done   8 out of  19 | elapsed:    0.7s remaining:    0.9s\n",
      "[Parallel(n_jobs=-1)]: Done  19 out of  19 | elapsed:    1.0s finished\n",
      "\n",
      "[2019-09-07 18:35:25] Features: 18/18 -- score: 0.7206018518518518[Parallel(n_jobs=-1)]: Using backend LokyBackend with 16 concurrent workers.\n",
      "[Parallel(n_jobs=-1)]: Done  18 out of  32 | elapsed:    1.2s remaining:    0.9s\n",
      "[Parallel(n_jobs=-1)]: Done  32 out of  32 | elapsed:    1.3s finished\n",
      "\n",
      "[2019-09-07 18:35:27] Features: 31/19 -- score: 0.6895833333333333[Parallel(n_jobs=-1)]: Using backend LokyBackend with 16 concurrent workers.\n",
      "[Parallel(n_jobs=-1)]: Done  16 out of  31 | elapsed:    0.7s remaining:    0.7s\n",
      "[Parallel(n_jobs=-1)]: Done  31 out of  31 | elapsed:    1.4s finished\n",
      "\n",
      "[2019-09-07 18:35:28] Features: 30/19 -- score: 0.7019444444444444[Parallel(n_jobs=-1)]: Using backend LokyBackend with 16 concurrent workers.\n",
      "[Parallel(n_jobs=-1)]: Done  15 out of  30 | elapsed:    0.7s remaining:    0.7s\n",
      "[Parallel(n_jobs=-1)]: Done  30 out of  30 | elapsed:    1.4s finished\n",
      "\n",
      "[2019-09-07 18:35:30] Features: 29/19 -- score: 0.7105555555555556[Parallel(n_jobs=-1)]: Using backend LokyBackend with 16 concurrent workers.\n",
      "[Parallel(n_jobs=-1)]: Done  13 out of  29 | elapsed:    0.7s remaining:    0.9s\n",
      "[Parallel(n_jobs=-1)]: Done  29 out of  29 | elapsed:    1.3s finished\n",
      "\n",
      "[2019-09-07 18:35:31] Features: 28/19 -- score: 0.6966203703703704[Parallel(n_jobs=-1)]: Using backend LokyBackend with 16 concurrent workers.\n",
      "[Parallel(n_jobs=-1)]: Done  12 out of  28 | elapsed:    0.7s remaining:    1.0s\n",
      "[Parallel(n_jobs=-1)]: Done  28 out of  28 | elapsed:    1.3s finished\n",
      "\n",
      "[2019-09-07 18:35:32] Features: 27/19 -- score: 0.7078240740740741[Parallel(n_jobs=-1)]: Using backend LokyBackend with 16 concurrent workers.\n",
      "[Parallel(n_jobs=-1)]: Done  10 out of  27 | elapsed:    0.7s remaining:    1.2s\n",
      "[Parallel(n_jobs=-1)]: Done  24 out of  27 | elapsed:    1.2s remaining:    0.2s\n",
      "[Parallel(n_jobs=-1)]: Done  27 out of  27 | elapsed:    1.3s finished\n",
      "\n",
      "[2019-09-07 18:35:34] Features: 26/19 -- score: 0.7152314814814814[Parallel(n_jobs=-1)]: Using backend LokyBackend with 16 concurrent workers.\n",
      "[Parallel(n_jobs=-1)]: Done   9 out of  26 | elapsed:    0.7s remaining:    1.3s\n",
      "[Parallel(n_jobs=-1)]: Done  23 out of  26 | elapsed:    1.2s remaining:    0.2s\n",
      "[Parallel(n_jobs=-1)]: Done  26 out of  26 | elapsed:    1.2s finished\n",
      "\n",
      "[2019-09-07 18:35:35] Features: 25/19 -- score: 0.7233333333333334[Parallel(n_jobs=-1)]: Using backend LokyBackend with 16 concurrent workers.\n",
      "[Parallel(n_jobs=-1)]: Done   7 out of  25 | elapsed:    0.7s remaining:    1.7s\n",
      "[Parallel(n_jobs=-1)]: Done  20 out of  25 | elapsed:    1.1s remaining:    0.3s\n",
      "[Parallel(n_jobs=-1)]: Done  25 out of  25 | elapsed:    1.1s finished\n",
      "\n",
      "[2019-09-07 18:35:36] Features: 24/19 -- score: 0.7368518518518519[Parallel(n_jobs=-1)]: Using backend LokyBackend with 16 concurrent workers.\n",
      "[Parallel(n_jobs=-1)]: Done   6 out of  24 | elapsed:    0.7s remaining:    2.0s\n",
      "[Parallel(n_jobs=-1)]: Done  19 out of  24 | elapsed:    1.1s remaining:    0.3s\n",
      "[Parallel(n_jobs=-1)]: Done  24 out of  24 | elapsed:    1.1s finished\n",
      "\n",
      "[2019-09-07 18:35:37] Features: 23/19 -- score: 0.7300462962962964[Parallel(n_jobs=-1)]: Using backend LokyBackend with 16 concurrent workers.\n",
      "[Parallel(n_jobs=-1)]: Done   4 out of  23 | elapsed:    0.6s remaining:    3.0s\n",
      "[Parallel(n_jobs=-1)]: Done  16 out of  23 | elapsed:    0.7s remaining:    0.3s\n",
      "[Parallel(n_jobs=-1)]: Done  23 out of  23 | elapsed:    1.1s finished\n",
      "\n",
      "[2019-09-07 18:35:38] Features: 22/19 -- score: 0.7313425925925925[Parallel(n_jobs=-1)]: Using backend LokyBackend with 16 concurrent workers.\n",
      "[Parallel(n_jobs=-1)]: Done   3 out of  22 | elapsed:    0.6s remaining:    4.0s\n",
      "[Parallel(n_jobs=-1)]: Done  15 out of  22 | elapsed:    0.7s remaining:    0.3s\n",
      "[Parallel(n_jobs=-1)]: Done  22 out of  22 | elapsed:    1.1s finished\n",
      "\n",
      "[2019-09-07 18:35:39] Features: 21/19 -- score: 0.7366203703703704[Parallel(n_jobs=-1)]: Using backend LokyBackend with 16 concurrent workers.\n",
      "[Parallel(n_jobs=-1)]: Done  12 out of  21 | elapsed:    0.7s remaining:    0.5s\n",
      "[Parallel(n_jobs=-1)]: Done  21 out of  21 | elapsed:    1.0s finished\n",
      "\n",
      "[2019-09-07 18:35:40] Features: 20/19 -- score: 0.7229629629629629[Parallel(n_jobs=-1)]: Using backend LokyBackend with 16 concurrent workers.\n",
      "[Parallel(n_jobs=-1)]: Done  11 out of  20 | elapsed:    0.7s remaining:    0.5s\n",
      "[Parallel(n_jobs=-1)]: Done  20 out of  20 | elapsed:    1.0s finished\n",
      "\n"
     ]
    },
    {
     "name": "stderr",
     "output_type": "stream",
     "text": [
      "[2019-09-07 18:35:41] Features: 19/19 -- score: 0.7357407407407408[Parallel(n_jobs=-1)]: Using backend LokyBackend with 16 concurrent workers.\n",
      "[Parallel(n_jobs=-1)]: Done  18 out of  32 | elapsed:    1.2s remaining:    0.9s\n",
      "[Parallel(n_jobs=-1)]: Done  32 out of  32 | elapsed:    1.3s finished\n",
      "\n",
      "[2019-09-07 18:35:43] Features: 31/20 -- score: 0.7071296296296297[Parallel(n_jobs=-1)]: Using backend LokyBackend with 16 concurrent workers.\n",
      "[Parallel(n_jobs=-1)]: Done  16 out of  31 | elapsed:    0.7s remaining:    0.7s\n",
      "[Parallel(n_jobs=-1)]: Done  31 out of  31 | elapsed:    1.4s finished\n",
      "\n",
      "[2019-09-07 18:35:44] Features: 30/20 -- score: 0.6993055555555555[Parallel(n_jobs=-1)]: Using backend LokyBackend with 16 concurrent workers.\n",
      "[Parallel(n_jobs=-1)]: Done  15 out of  30 | elapsed:    0.7s remaining:    0.7s\n",
      "[Parallel(n_jobs=-1)]: Done  30 out of  30 | elapsed:    1.4s finished\n",
      "\n",
      "[2019-09-07 18:35:46] Features: 29/20 -- score: 0.7124074074074075[Parallel(n_jobs=-1)]: Using backend LokyBackend with 16 concurrent workers.\n",
      "[Parallel(n_jobs=-1)]: Done  13 out of  29 | elapsed:    0.7s remaining:    0.9s\n",
      "[Parallel(n_jobs=-1)]: Done  29 out of  29 | elapsed:    1.3s finished\n",
      "\n",
      "[2019-09-07 18:35:47] Features: 28/20 -- score: 0.6975[Parallel(n_jobs=-1)]: Using backend LokyBackend with 16 concurrent workers.\n",
      "[Parallel(n_jobs=-1)]: Done  12 out of  28 | elapsed:    0.7s remaining:    0.9s\n",
      "[Parallel(n_jobs=-1)]: Done  28 out of  28 | elapsed:    1.3s finished\n",
      "\n",
      "[2019-09-07 18:35:48] Features: 27/20 -- score: 0.7106944444444444[Parallel(n_jobs=-1)]: Using backend LokyBackend with 16 concurrent workers.\n",
      "[Parallel(n_jobs=-1)]: Done  10 out of  27 | elapsed:    0.7s remaining:    1.2s\n",
      "[Parallel(n_jobs=-1)]: Done  24 out of  27 | elapsed:    1.2s remaining:    0.2s\n",
      "[Parallel(n_jobs=-1)]: Done  27 out of  27 | elapsed:    1.3s finished\n",
      "\n",
      "[2019-09-07 18:35:50] Features: 26/20 -- score: 0.7272685185185186[Parallel(n_jobs=-1)]: Using backend LokyBackend with 16 concurrent workers.\n",
      "[Parallel(n_jobs=-1)]: Done   9 out of  26 | elapsed:    0.7s remaining:    1.3s\n",
      "[Parallel(n_jobs=-1)]: Done  23 out of  26 | elapsed:    1.2s remaining:    0.2s\n",
      "[Parallel(n_jobs=-1)]: Done  26 out of  26 | elapsed:    1.2s finished\n",
      "\n",
      "[2019-09-07 18:35:51] Features: 25/20 -- score: 0.7204166666666667[Parallel(n_jobs=-1)]: Using backend LokyBackend with 16 concurrent workers.\n",
      "[Parallel(n_jobs=-1)]: Done   7 out of  25 | elapsed:    0.7s remaining:    1.7s\n",
      "[Parallel(n_jobs=-1)]: Done  20 out of  25 | elapsed:    1.1s remaining:    0.3s\n",
      "[Parallel(n_jobs=-1)]: Done  25 out of  25 | elapsed:    1.1s finished\n",
      "\n",
      "[2019-09-07 18:35:52] Features: 24/20 -- score: 0.7264814814814815[Parallel(n_jobs=-1)]: Using backend LokyBackend with 16 concurrent workers.\n",
      "[Parallel(n_jobs=-1)]: Done   6 out of  24 | elapsed:    0.7s remaining:    2.0s\n",
      "[Parallel(n_jobs=-1)]: Done  19 out of  24 | elapsed:    1.1s remaining:    0.3s\n",
      "[Parallel(n_jobs=-1)]: Done  24 out of  24 | elapsed:    1.1s finished\n",
      "\n",
      "[2019-09-07 18:35:53] Features: 23/20 -- score: 0.705787037037037[Parallel(n_jobs=-1)]: Using backend LokyBackend with 16 concurrent workers.\n",
      "[Parallel(n_jobs=-1)]: Done   4 out of  23 | elapsed:    0.7s remaining:    3.1s\n",
      "[Parallel(n_jobs=-1)]: Done  16 out of  23 | elapsed:    0.7s remaining:    0.3s\n",
      "[Parallel(n_jobs=-1)]: Done  23 out of  23 | elapsed:    1.1s finished\n",
      "\n",
      "[2019-09-07 18:35:54] Features: 22/20 -- score: 0.7096296296296296[Parallel(n_jobs=-1)]: Using backend LokyBackend with 16 concurrent workers.\n",
      "[Parallel(n_jobs=-1)]: Done   3 out of  22 | elapsed:    0.6s remaining:    4.1s\n",
      "[Parallel(n_jobs=-1)]: Done  15 out of  22 | elapsed:    0.7s remaining:    0.3s\n",
      "[Parallel(n_jobs=-1)]: Done  22 out of  22 | elapsed:    1.1s finished\n",
      "\n",
      "[2019-09-07 18:35:55] Features: 21/20 -- score: 0.7069444444444445[Parallel(n_jobs=-1)]: Using backend LokyBackend with 16 concurrent workers.\n",
      "[Parallel(n_jobs=-1)]: Done  12 out of  21 | elapsed:    0.7s remaining:    0.5s\n",
      "[Parallel(n_jobs=-1)]: Done  21 out of  21 | elapsed:    1.0s finished\n",
      "\n",
      "[2019-09-07 18:35:56] Features: 20/20 -- score: 0.7400925925925925[Parallel(n_jobs=-1)]: Using backend LokyBackend with 16 concurrent workers.\n",
      "[Parallel(n_jobs=-1)]: Done  18 out of  32 | elapsed:    1.2s remaining:    0.9s\n",
      "[Parallel(n_jobs=-1)]: Done  32 out of  32 | elapsed:    1.3s finished\n",
      "\n",
      "[2019-09-07 18:35:58] Features: 31/21 -- score: 0.7074537037037036[Parallel(n_jobs=-1)]: Using backend LokyBackend with 16 concurrent workers.\n",
      "[Parallel(n_jobs=-1)]: Done  16 out of  31 | elapsed:    0.7s remaining:    0.7s\n",
      "[Parallel(n_jobs=-1)]: Done  31 out of  31 | elapsed:    1.4s finished\n",
      "\n",
      "[2019-09-07 18:35:59] Features: 30/21 -- score: 0.6952777777777778[Parallel(n_jobs=-1)]: Using backend LokyBackend with 16 concurrent workers.\n",
      "[Parallel(n_jobs=-1)]: Done  15 out of  30 | elapsed:    0.7s remaining:    0.7s\n",
      "[Parallel(n_jobs=-1)]: Done  30 out of  30 | elapsed:    1.3s finished\n",
      "\n",
      "[2019-09-07 18:36:01] Features: 29/21 -- score: 0.7068055555555555[Parallel(n_jobs=-1)]: Using backend LokyBackend with 16 concurrent workers.\n",
      "[Parallel(n_jobs=-1)]: Done  13 out of  29 | elapsed:    0.7s remaining:    0.9s\n",
      "[Parallel(n_jobs=-1)]: Done  29 out of  29 | elapsed:    1.3s finished\n",
      "\n",
      "[2019-09-07 18:36:02] Features: 28/21 -- score: 0.7087037037037037[Parallel(n_jobs=-1)]: Using backend LokyBackend with 16 concurrent workers.\n",
      "[Parallel(n_jobs=-1)]: Done  12 out of  28 | elapsed:    0.7s remaining:    0.9s\n",
      "[Parallel(n_jobs=-1)]: Done  28 out of  28 | elapsed:    1.3s finished\n",
      "\n",
      "[2019-09-07 18:36:03] Features: 27/21 -- score: 0.7051388888888889[Parallel(n_jobs=-1)]: Using backend LokyBackend with 16 concurrent workers.\n",
      "[Parallel(n_jobs=-1)]: Done  10 out of  27 | elapsed:    0.7s remaining:    1.2s\n",
      "[Parallel(n_jobs=-1)]: Done  24 out of  27 | elapsed:    1.2s remaining:    0.1s\n",
      "[Parallel(n_jobs=-1)]: Done  27 out of  27 | elapsed:    1.2s finished\n",
      "\n",
      "[2019-09-07 18:36:04] Features: 26/21 -- score: 0.7026851851851852[Parallel(n_jobs=-1)]: Using backend LokyBackend with 16 concurrent workers.\n",
      "[Parallel(n_jobs=-1)]: Done   9 out of  26 | elapsed:    0.7s remaining:    1.3s\n",
      "[Parallel(n_jobs=-1)]: Done  23 out of  26 | elapsed:    1.2s remaining:    0.2s\n",
      "[Parallel(n_jobs=-1)]: Done  26 out of  26 | elapsed:    1.2s finished\n",
      "\n",
      "[2019-09-07 18:36:06] Features: 25/21 -- score: 0.7042592592592593[Parallel(n_jobs=-1)]: Using backend LokyBackend with 16 concurrent workers.\n",
      "[Parallel(n_jobs=-1)]: Done   7 out of  25 | elapsed:    0.7s remaining:    1.7s\n",
      "[Parallel(n_jobs=-1)]: Done  20 out of  25 | elapsed:    1.1s remaining:    0.3s\n",
      "[Parallel(n_jobs=-1)]: Done  25 out of  25 | elapsed:    1.1s finished\n",
      "\n",
      "[2019-09-07 18:36:07] Features: 24/21 -- score: 0.7235185185185184[Parallel(n_jobs=-1)]: Using backend LokyBackend with 16 concurrent workers.\n",
      "[Parallel(n_jobs=-1)]: Done   6 out of  24 | elapsed:    0.7s remaining:    2.0s\n",
      "[Parallel(n_jobs=-1)]: Done  19 out of  24 | elapsed:    1.0s remaining:    0.3s\n",
      "[Parallel(n_jobs=-1)]: Done  24 out of  24 | elapsed:    1.1s finished\n",
      "\n",
      "[2019-09-07 18:36:08] Features: 23/21 -- score: 0.7309722222222221[Parallel(n_jobs=-1)]: Using backend LokyBackend with 16 concurrent workers.\n",
      "[Parallel(n_jobs=-1)]: Done   4 out of  23 | elapsed:    0.6s remaining:    3.0s\n",
      "[Parallel(n_jobs=-1)]: Done  16 out of  23 | elapsed:    0.7s remaining:    0.3s\n",
      "[Parallel(n_jobs=-1)]: Done  23 out of  23 | elapsed:    1.0s finished\n",
      "\n",
      "[2019-09-07 18:36:09] Features: 22/21 -- score: 0.7275925925925926[Parallel(n_jobs=-1)]: Using backend LokyBackend with 16 concurrent workers.\n",
      "[Parallel(n_jobs=-1)]: Done   3 out of  22 | elapsed:    0.6s remaining:    4.0s\n",
      "[Parallel(n_jobs=-1)]: Done  15 out of  22 | elapsed:    0.7s remaining:    0.3s\n",
      "[Parallel(n_jobs=-1)]: Done  22 out of  22 | elapsed:    1.0s finished\n",
      "\n",
      "[2019-09-07 18:36:10] Features: 21/21 -- score: 0.7400462962962964[Parallel(n_jobs=-1)]: Using backend LokyBackend with 16 concurrent workers.\n",
      "[Parallel(n_jobs=-1)]: Done  18 out of  32 | elapsed:    1.2s remaining:    0.9s\n",
      "[Parallel(n_jobs=-1)]: Done  32 out of  32 | elapsed:    1.3s finished\n",
      "\n",
      "[2019-09-07 18:36:12] Features: 31/22 -- score: 0.6950462962962963[Parallel(n_jobs=-1)]: Using backend LokyBackend with 16 concurrent workers.\n"
     ]
    },
    {
     "name": "stderr",
     "output_type": "stream",
     "text": [
      "[Parallel(n_jobs=-1)]: Done  16 out of  31 | elapsed:    0.7s remaining:    0.7s\n",
      "[Parallel(n_jobs=-1)]: Done  31 out of  31 | elapsed:    1.4s finished\n",
      "\n",
      "[2019-09-07 18:36:13] Features: 30/22 -- score: 0.7094444444444445[Parallel(n_jobs=-1)]: Using backend LokyBackend with 16 concurrent workers.\n",
      "[Parallel(n_jobs=-1)]: Done  15 out of  30 | elapsed:    0.7s remaining:    0.7s\n",
      "[Parallel(n_jobs=-1)]: Done  30 out of  30 | elapsed:    1.3s finished\n",
      "\n",
      "[2019-09-07 18:36:14] Features: 29/22 -- score: 0.7142129629629631[Parallel(n_jobs=-1)]: Using backend LokyBackend with 16 concurrent workers.\n",
      "[Parallel(n_jobs=-1)]: Done  13 out of  29 | elapsed:    0.7s remaining:    0.9s\n",
      "[Parallel(n_jobs=-1)]: Done  29 out of  29 | elapsed:    1.4s finished\n",
      "\n",
      "[2019-09-07 18:36:16] Features: 28/22 -- score: 0.7157870370370369[Parallel(n_jobs=-1)]: Using backend LokyBackend with 16 concurrent workers.\n",
      "[Parallel(n_jobs=-1)]: Done  12 out of  28 | elapsed:    0.8s remaining:    1.1s\n",
      "[Parallel(n_jobs=-1)]: Done  28 out of  28 | elapsed:    1.4s finished\n",
      "\n",
      "[2019-09-07 18:36:17] Features: 27/22 -- score: 0.720925925925926[Parallel(n_jobs=-1)]: Using backend LokyBackend with 16 concurrent workers.\n",
      "[Parallel(n_jobs=-1)]: Done  10 out of  27 | elapsed:    0.8s remaining:    1.4s\n",
      "[Parallel(n_jobs=-1)]: Done  24 out of  27 | elapsed:    1.4s remaining:    0.2s\n",
      "[Parallel(n_jobs=-1)]: Done  27 out of  27 | elapsed:    1.4s finished\n",
      "\n",
      "[2019-09-07 18:36:18] Features: 26/22 -- score: 0.7198148148148148[Parallel(n_jobs=-1)]: Using backend LokyBackend with 16 concurrent workers.\n",
      "[Parallel(n_jobs=-1)]: Done   9 out of  26 | elapsed:    0.9s remaining:    1.6s\n",
      "[Parallel(n_jobs=-1)]: Done  23 out of  26 | elapsed:    1.5s remaining:    0.2s\n",
      "[Parallel(n_jobs=-1)]: Done  26 out of  26 | elapsed:    1.5s finished\n",
      "\n",
      "[2019-09-07 18:36:20] Features: 25/22 -- score: 0.7466203703703703[Parallel(n_jobs=-1)]: Using backend LokyBackend with 16 concurrent workers.\n",
      "[Parallel(n_jobs=-1)]: Done   7 out of  25 | elapsed:    0.8s remaining:    2.1s\n",
      "[Parallel(n_jobs=-1)]: Done  20 out of  25 | elapsed:    1.4s remaining:    0.4s\n",
      "[Parallel(n_jobs=-1)]: Done  25 out of  25 | elapsed:    1.5s finished\n",
      "\n",
      "[2019-09-07 18:36:21] Features: 24/22 -- score: 0.7253240740740741[Parallel(n_jobs=-1)]: Using backend LokyBackend with 16 concurrent workers.\n",
      "[Parallel(n_jobs=-1)]: Done   6 out of  24 | elapsed:    0.8s remaining:    2.4s\n",
      "[Parallel(n_jobs=-1)]: Done  19 out of  24 | elapsed:    1.5s remaining:    0.4s\n",
      "[Parallel(n_jobs=-1)]: Done  24 out of  24 | elapsed:    1.5s finished\n",
      "\n",
      "[2019-09-07 18:36:23] Features: 23/22 -- score: 0.7277314814814815[Parallel(n_jobs=-1)]: Using backend LokyBackend with 16 concurrent workers.\n",
      "[Parallel(n_jobs=-1)]: Done   4 out of  23 | elapsed:    0.9s remaining:    4.3s\n",
      "[Parallel(n_jobs=-1)]: Done  16 out of  23 | elapsed:    1.0s remaining:    0.4s\n",
      "[Parallel(n_jobs=-1)]: Done  23 out of  23 | elapsed:    1.5s finished\n",
      "\n",
      "[2019-09-07 18:36:25] Features: 22/22 -- score: 0.7343981481481482"
     ]
    },
    {
     "data": {
      "text/plain": [
       "(0, 1, 2, 3, 4, 5, 6, 7, 9, 10, 13, 14, 17, 20, 21, 23, 24, 25, 26, 27, 28, 29)"
      ]
     },
     "execution_count": 187,
     "metadata": {},
     "output_type": "execute_result"
    }
   ],
   "source": [
    "# step backward feature selection\n",
    "# I indicate that I want to select 15 features from\n",
    "# the total, and that I want to select those features\n",
    "# based on the optimal roc_auc\n",
    "\n",
    "features = [15, 16,17,18, 19, 20, 21, 22]\n",
    "selected_features2= []\n",
    "for i in features:\n",
    "    \n",
    "    sfs1 = SFS(RandomForestClassifier(n_estimators = 100), \n",
    "           n_jobs=-1,\n",
    "           k_features=i, \n",
    "           forward=False, \n",
    "           floating=False, \n",
    "           verbose=2,\n",
    "           scoring='roc_auc',\n",
    "           cv=5)\n",
    "\n",
    "    sfs1 = sfs1.fit(np.array(X_train.fillna(0)), y_train)\n",
    "\n",
    "    selected_feat2= X_train.columns[list(sfs1.k_feature_idx_)]\n",
    "    selected_features2.append(selected_feat2)\n",
    "sfs1.k_feature_idx_"
   ]
  },
  {
   "cell_type": "code",
   "execution_count": 190,
   "metadata": {},
   "outputs": [
    {
     "data": {
      "text/plain": [
       "Index(['x3', 'x4', 'x5', 'x6', 'x7', 'x13', 'x14', 'x15', 'x17', 'x18', 'x28',\n",
       "       'x29', 'x8', 'x11', 'x12', 'x22', 'x23', 'x24', 'x25', 'x26', 'x27',\n",
       "       'x30'],\n",
       "      dtype='object')"
      ]
     },
     "execution_count": 190,
     "metadata": {},
     "output_type": "execute_result"
    }
   ],
   "source": [
    "selected_features2[7]"
   ]
  },
  {
   "cell_type": "code",
   "execution_count": 189,
   "metadata": {
    "scrolled": true
   },
   "outputs": [
    {
     "name": "stdout",
     "output_type": "stream",
     "text": [
      "__________________________\n",
      "Train set\n",
      "Random Forests roc-auc: 0.9895334928229664\n",
      "Test set\n",
      "Random Forests roc-auc: 0.7916666666666667\n",
      "__________________________\n",
      "Train set\n",
      "Random Forests roc-auc: 0.9754784688995215\n",
      "Test set\n",
      "Random Forests roc-auc: 0.798611111111111\n",
      "__________________________\n",
      "Train set\n",
      "Random Forests roc-auc: 0.9904306220095693\n",
      "Test set\n",
      "Random Forests roc-auc: 0.7847222222222222\n",
      "__________________________\n",
      "Train set\n",
      "Random Forests roc-auc: 0.9874401913875598\n",
      "Test set\n",
      "Random Forests roc-auc: 0.7777777777777778\n",
      "__________________________\n",
      "Train set\n",
      "Random Forests roc-auc: 0.9802631578947368\n",
      "Test set\n",
      "Random Forests roc-auc: 0.75\n",
      "__________________________\n",
      "Train set\n",
      "Random Forests roc-auc: 0.9898325358851674\n",
      "Test set\n",
      "Random Forests roc-auc: 0.7916666666666667\n",
      "__________________________\n",
      "Train set\n",
      "Random Forests roc-auc: 0.9700956937799043\n",
      "Test set\n",
      "Random Forests roc-auc: 0.7569444444444444\n",
      "__________________________\n",
      "Train set\n",
      "Random Forests roc-auc: 0.9766746411483254\n",
      "Test set\n",
      "Random Forests roc-auc: 0.8194444444444444\n"
     ]
    }
   ],
   "source": [
    "# evaluate performance of algorithm built\n",
    "# using selected features\n",
    "\n",
    "for selected_feat2 in selected_features2:\n",
    "    run_randomForests(X_train[selected_feat2].fillna(0),\n",
    "                  X_test[selected_feat2].fillna(0),\n",
    "                  y_train, y_test)"
   ]
  },
  {
   "cell_type": "markdown",
   "metadata": {},
   "source": [
    "### Lasso regularisation"
   ]
  },
  {
   "cell_type": "code",
   "execution_count": 267,
   "metadata": {
    "collapsed": true
   },
   "outputs": [],
   "source": [
    "from sklearn.linear_model import Lasso, LogisticRegression\n",
    "from sklearn.feature_selection import SelectFromModel\n",
    "from sklearn.preprocessing import StandardScaler\n",
    "from sklearn.linear_model import ElasticNet"
   ]
  },
  {
   "cell_type": "code",
   "execution_count": 268,
   "metadata": {},
   "outputs": [
    {
     "name": "stderr",
     "output_type": "stream",
     "text": [
      "/miniconda3/lib/python3.7/site-packages/sklearn/linear_model/logistic.py:432: FutureWarning: Default solver will be changed to 'lbfgs' in 0.22. Specify a solver to silence this warning.\n",
      "  FutureWarning)\n"
     ]
    }
   ],
   "source": [
    "# here I will do the model fitting and feature selection\n",
    "# altogether in one line of code\n",
    "\n",
    "# first I specify the Logistic Regression model, and I\n",
    "# make sure I select the Lasso (l1) penalty.\n",
    "\n",
    "# Then I use the selectFromModel object from sklearn, which\n",
    "# will select in theory the features which coefficients are non-zero\n",
    "\n",
    "sel_ = SelectFromModel(LogisticRegression(C=1.5, penalty='l1'))\n",
    "RL = sel_.fit(X_train.fillna(0), y_train)\n"
   ]
  },
  {
   "cell_type": "code",
   "execution_count": 269,
   "metadata": {},
   "outputs": [
    {
     "data": {
      "text/plain": [
       "array([ True,  True, False,  True, False, False,  True, False, False,\n",
       "        True,  True,  True,  True,  True, False,  True,  True, False,\n",
       "        True,  True,  True,  True,  True, False,  True,  True,  True,\n",
       "       False,  True,  True, False,  True])"
      ]
     },
     "execution_count": 269,
     "metadata": {},
     "output_type": "execute_result"
    }
   ],
   "source": [
    "# this command let's me visualise those features that were kept\n",
    "sel_.get_support()"
   ]
  },
  {
   "cell_type": "code",
   "execution_count": 270,
   "metadata": {},
   "outputs": [
    {
     "name": "stdout",
     "output_type": "stream",
     "text": [
      "total features: 32\n",
      "selected features: 22\n",
      "features with coefficients shrank to zero: 10\n"
     ]
    }
   ],
   "source": [
    "# Now I make a list with the selected features\n",
    "selected_feat = X_train.columns[(sel_.get_support())]\n",
    "\n",
    "print('total features: {}'.format((X_train.shape[1])))\n",
    "print('selected features: {}'.format(len(selected_feat)))\n",
    "print('features with coefficients shrank to zero: {}'.format(\n",
    "    np.sum(sel_.estimator_.coef_ == 0)))\n"
   ]
  },
  {
   "cell_type": "code",
   "execution_count": 271,
   "metadata": {},
   "outputs": [
    {
     "data": {
      "text/plain": [
       "Index(['x3', 'x4', 'x6', 'x14', 'x17', 'x18', 'x19', 'x20', 'x28', 'x1', 'x2',\n",
       "       'x9', 'x10', 'x11', 'x12', 'x21', 'x23', 'x24', 'x25', 'x27', 'x30',\n",
       "       'x32'],\n",
       "      dtype='object')"
      ]
     },
     "execution_count": 271,
     "metadata": {},
     "output_type": "execute_result"
    }
   ],
   "source": [
    "selected_feat"
   ]
  },
  {
   "cell_type": "markdown",
   "metadata": {},
   "source": [
    "### Elasticnet regularisation"
   ]
  },
  {
   "cell_type": "code",
   "execution_count": 274,
   "metadata": {},
   "outputs": [
    {
     "name": "stderr",
     "output_type": "stream",
     "text": [
      "/miniconda3/lib/python3.7/site-packages/sklearn/linear_model/logistic.py:432: FutureWarning: Default solver will be changed to 'lbfgs' in 0.22. Specify a solver to silence this warning.\n",
      "  FutureWarning)\n"
     ]
    }
   ],
   "source": [
    "sel_ = SelectFromModel(LogisticRegression(C=1.0, penalty='l1'))\n",
    "regr = ElasticNet(random_state=0)\n",
    "regr = sel_.fit(X_train.fillna(0), y_train)"
   ]
  },
  {
   "cell_type": "code",
   "execution_count": 275,
   "metadata": {},
   "outputs": [
    {
     "data": {
      "text/plain": [
       "array([ True,  True, False,  True, False, False,  True, False, False,\n",
       "        True,  True,  True, False, False, False,  True,  True, False,\n",
       "        True,  True,  True,  True,  True, False,  True,  True,  True,\n",
       "       False,  True,  True, False,  True])"
      ]
     },
     "execution_count": 275,
     "metadata": {},
     "output_type": "execute_result"
    }
   ],
   "source": [
    "# this command let's me visualise those features that were kept\n",
    "sel_.get_support()"
   ]
  },
  {
   "cell_type": "code",
   "execution_count": 276,
   "metadata": {},
   "outputs": [
    {
     "name": "stdout",
     "output_type": "stream",
     "text": [
      "total features: 32\n",
      "selected features: 20\n",
      "features with coefficients shrank to zero: 12\n"
     ]
    }
   ],
   "source": [
    "# Now I make a list with the selected features\n",
    "selected_feat = X_train.columns[(sel_.get_support())]\n",
    "\n",
    "print('total features: {}'.format((X_train.shape[1])))\n",
    "print('selected features: {}'.format(len(selected_feat)))\n",
    "print('features with coefficients shrank to zero: {}'.format(\n",
    "    np.sum(sel_.estimator_.coef_ == 0)))"
   ]
  },
  {
   "cell_type": "code",
   "execution_count": 277,
   "metadata": {},
   "outputs": [
    {
     "data": {
      "text/plain": [
       "Index(['x3', 'x4', 'x6', 'x14', 'x17', 'x18', 'x19', 'x1', 'x2', 'x9', 'x10',\n",
       "       'x11', 'x12', 'x21', 'x23', 'x24', 'x25', 'x27', 'x30', 'x32'],\n",
       "      dtype='object')"
      ]
     },
     "execution_count": 277,
     "metadata": {},
     "output_type": "execute_result"
    }
   ],
   "source": [
    "selected_feat"
   ]
  },
  {
   "cell_type": "markdown",
   "metadata": {},
   "source": [
    "### Exhaustive feature selection"
   ]
  },
  {
   "cell_type": "code",
   "execution_count": 53,
   "metadata": {
    "collapsed": true
   },
   "outputs": [],
   "source": [
    "from mlxtend.feature_selection import ExhaustiveFeatureSelector as EFS"
   ]
  },
  {
   "cell_type": "code",
   "execution_count": 74,
   "metadata": {},
   "outputs": [
    {
     "name": "stderr",
     "output_type": "stream",
     "text": [
      "Features: 3000/32646IOPub message rate exceeded.\n",
      "The notebook server will temporarily stop sending output\n",
      "to the client in order to avoid crashing it.\n",
      "To change this limit, set the config variable\n",
      "`--NotebookApp.iopub_msg_rate_limit`.\n",
      "\n",
      "Current values:\n",
      "NotebookApp.iopub_msg_rate_limit=1000.0 (msgs/sec)\n",
      "NotebookApp.rate_limit_window=3.0 (secs)\n",
      "\n",
      "Features: 8388/32646IOPub message rate exceeded.\n",
      "The notebook server will temporarily stop sending output\n",
      "to the client in order to avoid crashing it.\n",
      "To change this limit, set the config variable\n",
      "`--NotebookApp.iopub_msg_rate_limit`.\n",
      "\n",
      "Current values:\n",
      "NotebookApp.iopub_msg_rate_limit=1000.0 (msgs/sec)\n",
      "NotebookApp.rate_limit_window=3.0 (secs)\n",
      "\n",
      "Features: 16088/32646IOPub message rate exceeded.\n",
      "The notebook server will temporarily stop sending output\n",
      "to the client in order to avoid crashing it.\n",
      "To change this limit, set the config variable\n",
      "`--NotebookApp.iopub_msg_rate_limit`.\n",
      "\n",
      "Current values:\n",
      "NotebookApp.iopub_msg_rate_limit=1000.0 (msgs/sec)\n",
      "NotebookApp.rate_limit_window=3.0 (secs)\n",
      "\n",
      "Features: 23817/32646IOPub message rate exceeded.\n",
      "The notebook server will temporarily stop sending output\n",
      "to the client in order to avoid crashing it.\n",
      "To change this limit, set the config variable\n",
      "`--NotebookApp.iopub_msg_rate_limit`.\n",
      "\n",
      "Current values:\n",
      "NotebookApp.iopub_msg_rate_limit=1000.0 (msgs/sec)\n",
      "NotebookApp.rate_limit_window=3.0 (secs)\n",
      "\n",
      "Features: 31627/32646IOPub message rate exceeded.\n",
      "The notebook server will temporarily stop sending output\n",
      "to the client in order to avoid crashing it.\n",
      "To change this limit, set the config variable\n",
      "`--NotebookApp.iopub_msg_rate_limit`.\n",
      "\n",
      "Current values:\n",
      "NotebookApp.iopub_msg_rate_limit=1000.0 (msgs/sec)\n",
      "NotebookApp.rate_limit_window=3.0 (secs)\n",
      "\n"
     ]
    }
   ],
   "source": [
    "# exhaustive feature selection\n",
    "# I indicate that I want to select 10 features from\n",
    "# the total, and that I want to select those features\n",
    "# based on the optimal roc_auc\n",
    "\n",
    "# in order to shorter search time for the demonstration\n",
    "# i will ask the algorithm to try all possible 1,2,3 and 4\n",
    "# feature combinations from a dataset of 12 features\n",
    "\n",
    "# if you have access to a multicore or distributed computer\n",
    "# system you can try more greedy searches\n",
    "\n",
    "efs1 = EFS(RandomForestClassifier(random_state=0), \n",
    "           n_jobs=8,\n",
    "           min_features=1,\n",
    "           max_features=12, \n",
    "           scoring='roc_auc',\n",
    "           print_progress=True,\n",
    "           cv=2)\n",
    "\n",
    "efs1 = efs1.fit(np.array(X_train[X_train.columns[0:15]].fillna(0)), y_train)"
   ]
  },
  {
   "cell_type": "code",
   "execution_count": 71,
   "metadata": {},
   "outputs": [
    {
     "data": {
      "text/plain": [
       "Index(['x5', 'x13', 'x14', 'x17', 'x18', 'x19', 'x20', 'x29'], dtype='object')"
      ]
     },
     "execution_count": 71,
     "metadata": {},
     "output_type": "execute_result"
    }
   ],
   "source": [
    "selected_feat3= X_train.columns[list(efs1.best_idx_)]\n",
    "selected_feat3"
   ]
  },
  {
   "cell_type": "code",
   "execution_count": 72,
   "metadata": {},
   "outputs": [
    {
     "name": "stdout",
     "output_type": "stream",
     "text": [
      "__________________________\n",
      "Train set\n",
      "Random Forests roc-auc: 0.8230452674897119\n",
      "Test set\n",
      "Random Forests roc-auc: 0.763157894736842\n"
     ]
    }
   ],
   "source": [
    "# evaluate performance of classifier using selected features\n",
    "run_randomForests(X_train[selected_feat3].fillna(0),\n",
    "                  X_test[selected_feat3].fillna(0),\n",
    "                  y_train, y_test)"
   ]
  },
  {
   "cell_type": "code",
   "execution_count": 7,
   "metadata": {},
   "outputs": [
    {
     "data": {
      "text/plain": [
       "30"
      ]
     },
     "execution_count": 7,
     "metadata": {},
     "output_type": "execute_result"
    }
   ],
   "source": [
    "16+2+1+1+1+1+1+1+1+1+1+1+1+1"
   ]
  },
  {
   "cell_type": "markdown",
   "metadata": {},
   "source": [
    "### Random Forest importance"
   ]
  },
  {
   "cell_type": "code",
   "execution_count": 278,
   "metadata": {
    "collapsed": true
   },
   "outputs": [],
   "source": [
    "from sklearn.ensemble import RandomForestClassifier"
   ]
  },
  {
   "cell_type": "code",
   "execution_count": 279,
   "metadata": {},
   "outputs": [
    {
     "data": {
      "text/plain": [
       "SelectFromModel(estimator=RandomForestClassifier(bootstrap=True,\n",
       "                                                 class_weight=None,\n",
       "                                                 criterion='gini',\n",
       "                                                 max_depth=None,\n",
       "                                                 max_features='auto',\n",
       "                                                 max_leaf_nodes=None,\n",
       "                                                 min_impurity_decrease=0.0,\n",
       "                                                 min_impurity_split=None,\n",
       "                                                 min_samples_leaf=1,\n",
       "                                                 min_samples_split=5,\n",
       "                                                 min_weight_fraction_leaf=0.0,\n",
       "                                                 n_estimators=200, n_jobs=None,\n",
       "                                                 oob_score=False,\n",
       "                                                 random_state=None, verbose=0,\n",
       "                                                 warm_start=False),\n",
       "                max_features=None, norm_order=1, prefit=False, threshold=None)"
      ]
     },
     "execution_count": 279,
     "metadata": {},
     "output_type": "execute_result"
    }
   ],
   "source": [
    "# here I will do the model fitting and feature selection\n",
    "# altogether in one line of code\n",
    "\n",
    "# first I specify the Random Forest instance, indicating\n",
    "# the number of trees\n",
    "\n",
    "# Then I use the selectFromModel object from sklearn\n",
    "# to automatically select the features\n",
    "\n",
    "# SelectFrom model will select those features which importance\n",
    "# is greater than the mean importance of all the features\n",
    "# by default, but you can alter this threshold if you want to\n",
    "\n",
    "sel_ = SelectFromModel(RandomForestClassifier(n_estimators=200, min_samples_split=5))\n",
    "sel_.fit(X_train.fillna(0), y_train)"
   ]
  },
  {
   "cell_type": "code",
   "execution_count": 280,
   "metadata": {},
   "outputs": [
    {
     "data": {
      "text/plain": [
       "array([False, False, False, False, False, False, False, False, False,\n",
       "        True, False, False, False, False, False,  True,  True,  True,\n",
       "       False,  True,  True,  True,  True,  True,  True,  True, False,\n",
       "       False,  True, False,  True,  True])"
      ]
     },
     "execution_count": 280,
     "metadata": {},
     "output_type": "execute_result"
    }
   ],
   "source": [
    "# this command let's me visualise those features that were selected.\n",
    "# sklearn will select those features which importance values\n",
    "# are greater than the mean of all the coefficients.\n",
    "sel_.get_support()"
   ]
  },
  {
   "cell_type": "code",
   "execution_count": 282,
   "metadata": {},
   "outputs": [
    {
     "data": {
      "text/plain": [
       "Index(['x17', 'x1', 'x2', 'x8', 'x10', 'x11', 'x12', 'x21', 'x22', 'x23',\n",
       "       'x24', 'x27', 'x31', 'x32'],\n",
       "      dtype='object')"
      ]
     },
     "execution_count": 282,
     "metadata": {},
     "output_type": "execute_result"
    }
   ],
   "source": [
    "# let's make a list and count the selected features\n",
    "selected_feat = X_train.columns[(sel_.get_support())]\n",
    "selected_feat"
   ]
  },
  {
   "cell_type": "code",
   "execution_count": 283,
   "metadata": {},
   "outputs": [
    {
     "data": {
      "text/plain": [
       "<matplotlib.axes._subplots.AxesSubplot at 0x12f0d1d68>"
      ]
     },
     "execution_count": 283,
     "metadata": {},
     "output_type": "execute_result"
    },
    {
     "data": {
      "image/png": "[encoded data removed]",
      "text/plain": [
       "<Figure size 432x288 with 1 Axes>"
      ]
     },
     "metadata": {
      "needs_background": "light"
     },
     "output_type": "display_data"
    }
   ],
   "source": [
    "# and now let's plot the distribution of importances\n",
    "pd.Series(sel_.estimator_.feature_importances_.ravel()).hist()"
   ]
  },
  {
   "cell_type": "code",
   "execution_count": 284,
   "metadata": {},
   "outputs": [
    {
     "name": "stdout",
     "output_type": "stream",
     "text": [
      "total features: 32\n",
      "selected features: 14\n",
      "features with coefficients greater than the mean coefficient: 14\n"
     ]
    }
   ],
   "source": [
    "# and now, let's compare the  amount of selected features\n",
    "# with the amount of features which importance is above the\n",
    "# mean importance, to make sure we understand the output of\n",
    "# sklearn\n",
    "\n",
    "print('total features: {}'.format((X_train.shape[1])))\n",
    "print('selected features: {}'.format(len(selected_feat)))\n",
    "print('features with coefficients greater than the mean coefficient: {}'.format(\n",
    "    np.sum(sel_.estimator_.feature_importances_ > sel_.estimator_.feature_importances_.mean())))"
   ]
  },
  {
   "cell_type": "code",
   "execution_count": 285,
   "metadata": {},
   "outputs": [
    {
     "name": "stdout",
     "output_type": "stream",
     "text": [
      "__________________________\n",
      "Train set\n",
      "Random Forests roc-auc: 0.9922248803827751\n",
      "Test set\n",
      "Random Forests roc-auc: 0.7847222222222222\n"
     ]
    }
   ],
   "source": [
    "# evaluate performance of algorithm built\n",
    "# using selected features\n",
    "\n",
    "run_randomForests(X_train[selected_feat].fillna(0),\n",
    "                  X_test[selected_feat].fillna(0),\n",
    "                  y_train, y_test)"
   ]
  },
  {
   "cell_type": "markdown",
   "metadata": {},
   "source": [
    "### Recursive feature selection using random forests importance"
   ]
  },
  {
   "cell_type": "code",
   "execution_count": 51,
   "metadata": {
    "collapsed": true
   },
   "outputs": [],
   "source": [
    "from sklearn.ensemble import RandomForestClassifier\n",
    "from sklearn.feature_selection import RFE\n",
    "from sklearn.metrics import roc_auc_score\n",
    "from sklearn.feature_selection import RFECV"
   ]
  },
  {
   "cell_type": "code",
   "execution_count": 299,
   "metadata": {},
   "outputs": [
    {
     "data": {
      "text/plain": [
       "RFE(estimator=RandomForestClassifier(bootstrap=True, class_weight=None,\n",
       "                                     criterion='gini', max_depth=None,\n",
       "                                     max_features='auto', max_leaf_nodes=None,\n",
       "                                     min_impurity_decrease=0.0,\n",
       "                                     min_impurity_split=None,\n",
       "                                     min_samples_leaf=1, min_samples_split=2,\n",
       "                                     min_weight_fraction_leaf=0.0,\n",
       "                                     n_estimators=200, n_jobs=None,\n",
       "                                     oob_score=False, random_state=None,\n",
       "                                     verbose=0, warm_start=False),\n",
       "    n_features_to_select=20, step=1, verbose=0)"
      ]
     },
     "execution_count": 299,
     "metadata": {},
     "output_type": "execute_result"
    }
   ],
   "source": [
    "# here I will do the model fitting and feature selection\n",
    "# altogether in one line of code\n",
    "\n",
    "# first I specify the Random Forest instance, indicating\n",
    "# the number of trees\n",
    "\n",
    "# Then I use the selectFromModel object from sklearn\n",
    "# to automatically select the features\n",
    "\n",
    "# RFE will remove one feature at each iteration, the\n",
    "# least  important.\n",
    "# then it will build another random forest and repeat\n",
    "# till a criteria is met.\n",
    "\n",
    "# in sklearn the criteria to stop is an arbitrary number\n",
    "# of features to select, that you need to decide before hand\n",
    "# not the best solution, but a solution\n",
    "\n",
    "#sel_ = RFE(RandomForestClassifier(n_estimators=200), n_features_to_select=20)\n",
    "sel = RFECV(estimator=LogisticRegression(solver='liblinear'), cv=5, scoring='accuracy')\n",
    "sel_.fit(X_train.fillna(0), y_train)"
   ]
  },
  {
   "cell_type": "code",
   "execution_count": 300,
   "metadata": {},
   "outputs": [
    {
     "data": {
      "text/plain": [
       "array([False,  True, False, False, False, False, False, False, False,\n",
       "        True,  True, False, False, False, False,  True,  True,  True,\n",
       "        True,  True,  True,  True,  True,  True,  True,  True,  True,\n",
       "        True,  True,  True,  True,  True])"
      ]
     },
     "execution_count": 300,
     "metadata": {},
     "output_type": "execute_result"
    }
   ],
   "source": [
    "# this command let's me visualise those features that were selected.\n",
    "sel_.get_support()"
   ]
  },
  {
   "cell_type": "code",
   "execution_count": 301,
   "metadata": {},
   "outputs": [
    {
     "data": {
      "text/plain": [
       "20"
      ]
     },
     "execution_count": 301,
     "metadata": {},
     "output_type": "execute_result"
    }
   ],
   "source": [
    "# let's add the variable names and order it for clearer visualisation\n",
    "selected_feat = X_train.columns[(sel_.get_support())]\n",
    "len(selected_feat)"
   ]
  },
  {
   "cell_type": "code",
   "execution_count": 302,
   "metadata": {},
   "outputs": [
    {
     "data": {
      "text/plain": [
       "Index(['x4', 'x17', 'x18', 'x1', 'x2', 'x8', 'x9', 'x10', 'x11', 'x12', 'x21',\n",
       "       'x22', 'x23', 'x24', 'x25', 'x26', 'x27', 'x30', 'x31', 'x32'],\n",
       "      dtype='object')"
      ]
     },
     "execution_count": 302,
     "metadata": {},
     "output_type": "execute_result"
    }
   ],
   "source": [
    "# let's display the list of features\n",
    "selected_feat"
   ]
  },
  {
   "cell_type": "code",
   "execution_count": 303,
   "metadata": {
    "collapsed": true
   },
   "outputs": [],
   "source": [
    "# these are the features selected in the previous\n",
    "# lecture when we used SelectFromModel from sklearn\n",
    "previous_lecture_selected_features = ['x4', 'x17', 'x18', 'x1', 'x2', 'x8', 'x9', 'x10', 'x11', 'x12', 'x21',\n",
    "       'x22', 'x23', 'x24', 'x25', 'x26', 'x27', 'x30', 'x31', 'x32']"
   ]
  },
  {
   "cell_type": "code",
   "execution_count": 304,
   "metadata": {},
   "outputs": [
    {
     "name": "stdout",
     "output_type": "stream",
     "text": [
      "__________________________\n",
      "Train set\n",
      "Random Forests roc-auc: 0.9952153110047848\n",
      "Test set\n",
      "Random Forests roc-auc: 0.7708333333333334\n"
     ]
    }
   ],
   "source": [
    "# evaluate performance of algorithm built\n",
    "# using selected features\n",
    "\n",
    "run_randomForests(X_train[selected_feat].fillna(0),\n",
    "                  X_test[selected_feat].fillna(0),\n",
    "                  y_train, y_test)"
   ]
  },
  {
   "cell_type": "code",
   "execution_count": 305,
   "metadata": {},
   "outputs": [
    {
     "name": "stdout",
     "output_type": "stream",
     "text": [
      "__________________________\n",
      "Train set\n",
      "Random Forests roc-auc: 0.9952153110047848\n",
      "Test set\n",
      "Random Forests roc-auc: 0.7708333333333334\n"
     ]
    }
   ],
   "source": [
    "# features selected altogether\n",
    "run_randomForests(X_train[previous_lecture_selected_features].fillna(0),\n",
    "                  X_test[previous_lecture_selected_features].fillna(0),\n",
    "                  y_train, y_test)"
   ]
  },
  {
   "cell_type": "markdown",
   "metadata": {},
   "source": [
    "### Gradient Boosted trees importance"
   ]
  },
  {
   "cell_type": "code",
   "execution_count": 306,
   "metadata": {
    "collapsed": true
   },
   "outputs": [],
   "source": [
    "from sklearn.ensemble import GradientBoostingClassifier\n",
    "from sklearn.feature_selection import SelectFromModel, RFE\n",
    "from sklearn.metrics import roc_auc_score"
   ]
  },
  {
   "cell_type": "code",
   "execution_count": 308,
   "metadata": {},
   "outputs": [
    {
     "data": {
      "text/plain": [
       "SelectFromModel(estimator=GradientBoostingClassifier(criterion='friedman_mse',\n",
       "                                                     init=None,\n",
       "                                                     learning_rate=0.1,\n",
       "                                                     loss='deviance',\n",
       "                                                     max_depth=3,\n",
       "                                                     max_features=None,\n",
       "                                                     max_leaf_nodes=None,\n",
       "                                                     min_impurity_decrease=0.0,\n",
       "                                                     min_impurity_split=None,\n",
       "                                                     min_samples_leaf=1,\n",
       "                                                     min_samples_split=2,\n",
       "                                                     min_weight_fraction_leaf=0.0,\n",
       "                                                     n_estimators=100,\n",
       "                                                     n_iter_no_change=None,\n",
       "                                                     presort='auto',\n",
       "                                                     random_state=None,\n",
       "                                                     subsample=1.0, tol=0.0001,\n",
       "                                                     validation_fraction=0.1,\n",
       "                                                     verbose=0,\n",
       "                                                     warm_start=False),\n",
       "                max_features=None, norm_order=1, prefit=False, threshold=None)"
      ]
     },
     "execution_count": 308,
     "metadata": {},
     "output_type": "execute_result"
    }
   ],
   "source": [
    "# first I will select features all together in one go\n",
    "# by contemplating their importance after fitting only\n",
    "# 1 gradient boosted tree\n",
    "\n",
    "sel_ = SelectFromModel(GradientBoostingClassifier())\n",
    "sel_.fit(X_train.fillna(0), y_train)"
   ]
  },
  {
   "cell_type": "code",
   "execution_count": 309,
   "metadata": {},
   "outputs": [
    {
     "data": {
      "text/plain": [
       "9"
      ]
     },
     "execution_count": 309,
     "metadata": {},
     "output_type": "execute_result"
    }
   ],
   "source": [
    "# let's add the variable names and order it for clearer visualisation\n",
    "selected_feat = X_train.columns[(sel_.get_support())]\n",
    "len(selected_feat)"
   ]
  },
  {
   "cell_type": "code",
   "execution_count": 310,
   "metadata": {},
   "outputs": [
    {
     "data": {
      "text/plain": [
       "9"
      ]
     },
     "execution_count": 310,
     "metadata": {},
     "output_type": "execute_result"
    }
   ],
   "source": [
    "# let's add the variable names and order it for clearer visualisation\n",
    "selected_feat = X_train.columns[(sel_.get_support())]\n",
    "len(selected_feat)"
   ]
  },
  {
   "cell_type": "code",
   "execution_count": 311,
   "metadata": {},
   "outputs": [
    {
     "data": {
      "text/plain": [
       "RFE(estimator=GradientBoostingClassifier(criterion='friedman_mse', init=None,\n",
       "                                         learning_rate=0.1, loss='deviance',\n",
       "                                         max_depth=3, max_features=None,\n",
       "                                         max_leaf_nodes=None,\n",
       "                                         min_impurity_decrease=0.0,\n",
       "                                         min_impurity_split=None,\n",
       "                                         min_samples_leaf=1,\n",
       "                                         min_samples_split=2,\n",
       "                                         min_weight_fraction_leaf=0.0,\n",
       "                                         n_estimators=100,\n",
       "                                         n_iter_no_change=None, presort='auto',\n",
       "                                         random_state=None, subsample=1.0,\n",
       "                                         tol=0.0001, validation_fraction=0.1,\n",
       "                                         verbose=0, warm_start=False),\n",
       "    n_features_to_select=9, step=1, verbose=0)"
      ]
     },
     "execution_count": 311,
     "metadata": {},
     "output_type": "execute_result"
    }
   ],
   "source": [
    "# next I will select features recursively for comparison\n",
    "sel_ = RFE(GradientBoostingClassifier(), n_features_to_select=len(selected_feat))\n",
    "sel_.fit(X_train.fillna(0), y_train)"
   ]
  },
  {
   "cell_type": "code",
   "execution_count": 312,
   "metadata": {},
   "outputs": [
    {
     "data": {
      "text/plain": [
       "9"
      ]
     },
     "execution_count": 312,
     "metadata": {},
     "output_type": "execute_result"
    }
   ],
   "source": [
    "# let's add the variable names and order it for clearer visualisation\n",
    "selected_feat_rfe = X_train.columns[(sel_.get_support())]\n",
    "len(selected_feat_rfe)"
   ]
  },
  {
   "cell_type": "code",
   "execution_count": 314,
   "metadata": {},
   "outputs": [
    {
     "data": {
      "text/plain": [
       "Index(['x1', 'x2', 'x8', 'x10', 'x11', 'x12', 'x22', 'x23', 'x27'], dtype='object')"
      ]
     },
     "execution_count": 314,
     "metadata": {},
     "output_type": "execute_result"
    }
   ],
   "source": [
    "selected_feat_rfe"
   ]
  },
  {
   "cell_type": "code",
   "execution_count": 315,
   "metadata": {
    "collapsed": true
   },
   "outputs": [],
   "source": [
    "# create a function to build gradient boosted trees\n",
    "# and compare performance in train and test set\n",
    "\n",
    "\n",
    "def run_gradientboosting(X_train, X_test, y_train, y_test):\n",
    "    gb = GradientBoostingClassifier(\n",
    "        n_estimators=200, random_state=39, max_depth=4)\n",
    "    gb.fit(X_train, y_train)\n",
    "    \n",
    "    print('Train set')\n",
    "    pred = gb.predict_proba(X_train)\n",
    "    print('Random Forests roc-auc: {}'.format(\n",
    "        roc_auc_score(y_train, pred[:, 1])))\n",
    "    print('Test set')\n",
    "    pred = gb.predict_proba(X_test)\n",
    "    print('Random Forests roc-auc: {}'.format(\n",
    "        roc_auc_score(y_test, pred[:, 1])))\n"
   ]
  },
  {
   "cell_type": "code",
   "execution_count": 316,
   "metadata": {},
   "outputs": [
    {
     "name": "stdout",
     "output_type": "stream",
     "text": [
      "Train set\n",
      "Random Forests roc-auc: 1.0\n",
      "Test set\n",
      "Random Forests roc-auc: 0.8472222222222222\n"
     ]
    }
   ],
   "source": [
    "# features selected recursively\n",
    "run_gradientboosting(X_train[selected_feat_rfe].fillna(0),\n",
    "                  X_test[selected_feat_rfe].fillna(0),\n",
    "                  #X_validate[selected_feat_rfe].fillna(0),   \n",
    "                  y_train, y_test)# features selected altogether"
   ]
  },
  {
   "cell_type": "code",
   "execution_count": 317,
   "metadata": {},
   "outputs": [
    {
     "name": "stdout",
     "output_type": "stream",
     "text": [
      "Train set\n",
      "Random Forests roc-auc: 1.0\n",
      "Test set\n",
      "Random Forests roc-auc: 0.8472222222222222\n"
     ]
    }
   ],
   "source": [
    "# features selected altogether\n",
    "run_gradientboosting(X_train[selected_feat].fillna(0),\n",
    "                  X_test[selected_feat].fillna(0),\n",
    "                  y_train, y_test)"
   ]
  },
  {
   "cell_type": "markdown",
   "metadata": {},
   "source": [
    "### Spyke and slab"
   ]
  },
  {
   "cell_type": "code",
   "execution_count": 320,
   "metadata": {
    "collapsed": true
   },
   "outputs": [],
   "source": [
    "import pymc3 as pm\n",
    "import numpy as np\n",
    "import pandas as pd\n",
    "import theano.tensor as tt\n",
    "from scipy.special import expit\n",
    "invlogit = lambda x: 1/(1 + tt.exp(-x))"
   ]
  },
  {
   "cell_type": "code",
   "execution_count": 324,
   "metadata": {
    "collapsed": true
   },
   "outputs": [],
   "source": [
    "df = train\n",
    "y = np.asarray(y_train)\n",
    "X = np.array(X_train)\n",
    "df2 = test\n",
    "df2.head()\n",
    "X2 = np.array(X_test)"
   ]
  },
  {
   "cell_type": "code",
   "execution_count": 337,
   "metadata": {},
   "outputs": [
    {
     "data": {
      "text/plain": [
       "120"
      ]
     },
     "execution_count": 337,
     "metadata": {},
     "output_type": "execute_result"
    }
   ],
   "source": [
    "len(X)"
   ]
  },
  {
   "cell_type": "code",
   "execution_count": 329,
   "metadata": {
    "collapsed": true
   },
   "outputs": [],
   "source": [
    "# Model especification\n",
    "def get_model(y, X):\n",
    "    model = pm.Model()\n",
    "    with model:\n",
    "        xi = pm.Bernoulli('xi', .05, shape=X.shape[1]) #inclusion probability for each variable\n",
    "        alpha = pm.Normal('alpha', mu = 0, sd = 5) # Intercept\n",
    "        beta = pm.Normal('beta', mu = 0, sd = .75 , shape=X.shape[1]) #Prior for the non-zero coefficients\n",
    "        p = pm.math.dot(X, xi * beta) #Deterministic function to map the stochastics to the output\n",
    "        y_obs = pm.Bernoulli('y_obs', invlogit(p + alpha),  observed=y)  #Data likelihood\n",
    "    return model"
   ]
  },
  {
   "cell_type": "code",
   "execution_count": 330,
   "metadata": {
    "collapsed": true
   },
   "outputs": [],
   "source": [
    "model1 = get_model(y, X)"
   ]
  },
  {
   "cell_type": "code",
   "execution_count": 331,
   "metadata": {},
   "outputs": [
    {
     "name": "stderr",
     "output_type": "stream",
     "text": [
      "Sequential sampling (1 chains in 1 job)\n",
      "CompoundStep\n",
      ">BinaryGibbsMetropolis: [xi]\n",
      ">NUTS: [beta, alpha]\n",
      "100%|██████████| 2500/2500 [00:07<00:00, 337.38it/s]\n",
      "Only one chain was sampled, this makes it impossible to run some convergence checks\n"
     ]
    }
   ],
   "source": [
    "# sampling\n",
    "with model1:\n",
    "    trace = pm.sample(2000, random_seed = 4816, cores = 1, progressbar = True, chains = 1)"
   ]
  },
  {
   "cell_type": "code",
   "execution_count": 338,
   "metadata": {
    "collapsed": true
   },
   "outputs": [],
   "source": [
    "# Results\n",
    "results = pd.DataFrame({'var': np.arange(32), \n",
    "                        'inclusion_probability':np.apply_along_axis(np.mean, 0, trace['xi']),\n",
    "                       'beta':np.apply_along_axis(np.mean, 0, trace['beta']),\n",
    "                       'beta_given_inclusion': np.apply_along_axis(np.sum, 0, trace['xi']*trace['beta'])\n",
    "                            /np.apply_along_axis(np.sum, 0, trace['xi'])\n",
    "                       })"
   ]
  },
  {
   "cell_type": "code",
   "execution_count": 343,
   "metadata": {
    "scrolled": true
   },
   "outputs": [
    {
     "data": {
      "text/html": [
       "<div>\n",
       "<style scoped>\n",
       "    .dataframe tbody tr th:only-of-type {\n",
       "        vertical-align: middle;\n",
       "    }\n",
       "\n",
       "    .dataframe tbody tr th {\n",
       "        vertical-align: top;\n",
       "    }\n",
       "\n",
       "    .dataframe thead th {\n",
       "        text-align: right;\n",
       "    }\n",
       "</style>\n",
       "<table border=\"1\" class=\"dataframe\">\n",
       "  <thead>\n",
       "    <tr style=\"text-align: right;\">\n",
       "      <th></th>\n",
       "      <th>var</th>\n",
       "      <th>inclusion_probability</th>\n",
       "      <th>beta</th>\n",
       "      <th>beta_given_inclusion</th>\n",
       "    </tr>\n",
       "  </thead>\n",
       "  <tbody>\n",
       "    <tr>\n",
       "      <th>15</th>\n",
       "      <td>15</td>\n",
       "      <td>0.5955</td>\n",
       "      <td>0.454379</td>\n",
       "      <td>0.754341</td>\n",
       "    </tr>\n",
       "    <tr>\n",
       "      <th>16</th>\n",
       "      <td>16</td>\n",
       "      <td>0.2485</td>\n",
       "      <td>-0.165824</td>\n",
       "      <td>-0.665182</td>\n",
       "    </tr>\n",
       "    <tr>\n",
       "      <th>24</th>\n",
       "      <td>24</td>\n",
       "      <td>0.1940</td>\n",
       "      <td>0.110457</td>\n",
       "      <td>0.564902</td>\n",
       "    </tr>\n",
       "    <tr>\n",
       "      <th>9</th>\n",
       "      <td>9</td>\n",
       "      <td>0.1895</td>\n",
       "      <td>-0.205551</td>\n",
       "      <td>-1.008153</td>\n",
       "    </tr>\n",
       "    <tr>\n",
       "      <th>10</th>\n",
       "      <td>10</td>\n",
       "      <td>0.1860</td>\n",
       "      <td>-0.179767</td>\n",
       "      <td>-0.975041</td>\n",
       "    </tr>\n",
       "    <tr>\n",
       "      <th>25</th>\n",
       "      <td>25</td>\n",
       "      <td>0.1055</td>\n",
       "      <td>-0.064009</td>\n",
       "      <td>-0.499702</td>\n",
       "    </tr>\n",
       "    <tr>\n",
       "      <th>19</th>\n",
       "      <td>19</td>\n",
       "      <td>0.1020</td>\n",
       "      <td>0.087815</td>\n",
       "      <td>0.794795</td>\n",
       "    </tr>\n",
       "    <tr>\n",
       "      <th>6</th>\n",
       "      <td>6</td>\n",
       "      <td>0.0850</td>\n",
       "      <td>0.054605</td>\n",
       "      <td>0.658457</td>\n",
       "    </tr>\n",
       "    <tr>\n",
       "      <th>0</th>\n",
       "      <td>0</td>\n",
       "      <td>0.0840</td>\n",
       "      <td>-0.047960</td>\n",
       "      <td>-0.588273</td>\n",
       "    </tr>\n",
       "    <tr>\n",
       "      <th>1</th>\n",
       "      <td>1</td>\n",
       "      <td>0.0835</td>\n",
       "      <td>-0.055143</td>\n",
       "      <td>-0.692690</td>\n",
       "    </tr>\n",
       "    <tr>\n",
       "      <th>11</th>\n",
       "      <td>11</td>\n",
       "      <td>0.0765</td>\n",
       "      <td>0.081502</td>\n",
       "      <td>0.754691</td>\n",
       "    </tr>\n",
       "    <tr>\n",
       "      <th>7</th>\n",
       "      <td>7</td>\n",
       "      <td>0.0745</td>\n",
       "      <td>-0.043691</td>\n",
       "      <td>-0.588073</td>\n",
       "    </tr>\n",
       "    <tr>\n",
       "      <th>12</th>\n",
       "      <td>12</td>\n",
       "      <td>0.0600</td>\n",
       "      <td>-0.035795</td>\n",
       "      <td>-0.485957</td>\n",
       "    </tr>\n",
       "    <tr>\n",
       "      <th>22</th>\n",
       "      <td>22</td>\n",
       "      <td>0.0530</td>\n",
       "      <td>-0.027567</td>\n",
       "      <td>-0.390008</td>\n",
       "    </tr>\n",
       "    <tr>\n",
       "      <th>20</th>\n",
       "      <td>20</td>\n",
       "      <td>0.0520</td>\n",
       "      <td>-0.001622</td>\n",
       "      <td>0.320142</td>\n",
       "    </tr>\n",
       "    <tr>\n",
       "      <th>4</th>\n",
       "      <td>4</td>\n",
       "      <td>0.0490</td>\n",
       "      <td>-0.008789</td>\n",
       "      <td>0.172286</td>\n",
       "    </tr>\n",
       "    <tr>\n",
       "      <th>3</th>\n",
       "      <td>3</td>\n",
       "      <td>0.0485</td>\n",
       "      <td>0.026448</td>\n",
       "      <td>0.370738</td>\n",
       "    </tr>\n",
       "    <tr>\n",
       "      <th>14</th>\n",
       "      <td>14</td>\n",
       "      <td>0.0455</td>\n",
       "      <td>0.024276</td>\n",
       "      <td>0.113766</td>\n",
       "    </tr>\n",
       "    <tr>\n",
       "      <th>2</th>\n",
       "      <td>2</td>\n",
       "      <td>0.0415</td>\n",
       "      <td>-0.017648</td>\n",
       "      <td>-0.254616</td>\n",
       "    </tr>\n",
       "    <tr>\n",
       "      <th>8</th>\n",
       "      <td>8</td>\n",
       "      <td>0.0355</td>\n",
       "      <td>0.006046</td>\n",
       "      <td>0.316559</td>\n",
       "    </tr>\n",
       "    <tr>\n",
       "      <th>5</th>\n",
       "      <td>5</td>\n",
       "      <td>0.0325</td>\n",
       "      <td>-0.028160</td>\n",
       "      <td>-0.373560</td>\n",
       "    </tr>\n",
       "    <tr>\n",
       "      <th>23</th>\n",
       "      <td>23</td>\n",
       "      <td>0.0315</td>\n",
       "      <td>0.019465</td>\n",
       "      <td>0.499845</td>\n",
       "    </tr>\n",
       "    <tr>\n",
       "      <th>13</th>\n",
       "      <td>13</td>\n",
       "      <td>0.0315</td>\n",
       "      <td>0.007003</td>\n",
       "      <td>-0.069798</td>\n",
       "    </tr>\n",
       "    <tr>\n",
       "      <th>28</th>\n",
       "      <td>28</td>\n",
       "      <td>0.0235</td>\n",
       "      <td>-0.007413</td>\n",
       "      <td>0.200934</td>\n",
       "    </tr>\n",
       "    <tr>\n",
       "      <th>21</th>\n",
       "      <td>21</td>\n",
       "      <td>0.0215</td>\n",
       "      <td>-0.003867</td>\n",
       "      <td>-0.195145</td>\n",
       "    </tr>\n",
       "    <tr>\n",
       "      <th>31</th>\n",
       "      <td>31</td>\n",
       "      <td>0.0200</td>\n",
       "      <td>0.006051</td>\n",
       "      <td>0.074280</td>\n",
       "    </tr>\n",
       "    <tr>\n",
       "      <th>26</th>\n",
       "      <td>26</td>\n",
       "      <td>0.0180</td>\n",
       "      <td>0.000439</td>\n",
       "      <td>-0.024426</td>\n",
       "    </tr>\n",
       "    <tr>\n",
       "      <th>29</th>\n",
       "      <td>29</td>\n",
       "      <td>0.0180</td>\n",
       "      <td>-0.018003</td>\n",
       "      <td>-0.034089</td>\n",
       "    </tr>\n",
       "    <tr>\n",
       "      <th>30</th>\n",
       "      <td>30</td>\n",
       "      <td>0.0180</td>\n",
       "      <td>-0.004868</td>\n",
       "      <td>0.099511</td>\n",
       "    </tr>\n",
       "    <tr>\n",
       "      <th>17</th>\n",
       "      <td>17</td>\n",
       "      <td>0.0165</td>\n",
       "      <td>0.032113</td>\n",
       "      <td>0.062072</td>\n",
       "    </tr>\n",
       "    <tr>\n",
       "      <th>27</th>\n",
       "      <td>27</td>\n",
       "      <td>0.0150</td>\n",
       "      <td>-0.007007</td>\n",
       "      <td>-0.174908</td>\n",
       "    </tr>\n",
       "    <tr>\n",
       "      <th>18</th>\n",
       "      <td>18</td>\n",
       "      <td>0.0140</td>\n",
       "      <td>-0.000900</td>\n",
       "      <td>0.085836</td>\n",
       "    </tr>\n",
       "  </tbody>\n",
       "</table>\n",
       "</div>"
      ],
      "text/plain": [
       "    var  inclusion_probability      beta  beta_given_inclusion\n",
       "15   15                 0.5955  0.454379              0.754341\n",
       "16   16                 0.2485 -0.165824             -0.665182\n",
       "24   24                 0.1940  0.110457              0.564902\n",
       "9     9                 0.1895 -0.205551             -1.008153\n",
       "10   10                 0.1860 -0.179767             -0.975041\n",
       "25   25                 0.1055 -0.064009             -0.499702\n",
       "19   19                 0.1020  0.087815              0.794795\n",
       "6     6                 0.0850  0.054605              0.658457\n",
       "0     0                 0.0840 -0.047960             -0.588273\n",
       "1     1                 0.0835 -0.055143             -0.692690\n",
       "11   11                 0.0765  0.081502              0.754691\n",
       "7     7                 0.0745 -0.043691             -0.588073\n",
       "12   12                 0.0600 -0.035795             -0.485957\n",
       "22   22                 0.0530 -0.027567             -0.390008\n",
       "20   20                 0.0520 -0.001622              0.320142\n",
       "4     4                 0.0490 -0.008789              0.172286\n",
       "3     3                 0.0485  0.026448              0.370738\n",
       "14   14                 0.0455  0.024276              0.113766\n",
       "2     2                 0.0415 -0.017648             -0.254616\n",
       "8     8                 0.0355  0.006046              0.316559\n",
       "5     5                 0.0325 -0.028160             -0.373560\n",
       "23   23                 0.0315  0.019465              0.499845\n",
       "13   13                 0.0315  0.007003             -0.069798\n",
       "28   28                 0.0235 -0.007413              0.200934\n",
       "21   21                 0.0215 -0.003867             -0.195145\n",
       "31   31                 0.0200  0.006051              0.074280\n",
       "26   26                 0.0180  0.000439             -0.024426\n",
       "29   29                 0.0180 -0.018003             -0.034089\n",
       "30   30                 0.0180 -0.004868              0.099511\n",
       "17   17                 0.0165  0.032113              0.062072\n",
       "27   27                 0.0150 -0.007007             -0.174908\n",
       "18   18                 0.0140 -0.000900              0.085836"
      ]
     },
     "execution_count": 343,
     "metadata": {},
     "output_type": "execute_result"
    }
   ],
   "source": [
    "results.sort_values('inclusion_probability', ascending = False).head(32)"
   ]
  },
  {
   "cell_type": "code",
   "execution_count": 340,
   "metadata": {},
   "outputs": [
    {
     "data": {
      "text/plain": [
       "array([0.79279165, 0.79583981, 0.84269469, 0.66008924, 0.76708303,\n",
       "       0.68293083, 0.81593738, 0.4865723 , 0.7761399 , 0.82236023,\n",
       "       0.78765117, 0.6787185 , 0.75934587, 0.76957574, 0.43168364,\n",
       "       0.40429662, 0.80642506, 0.59263693, 0.6111671 , 0.66792312,\n",
       "       0.74900107, 0.72552237, 0.46625655, 0.7002046 , 0.74739293,\n",
       "       0.63826274, 0.67026418, 0.80467859, 0.81300147, 0.73802422])"
      ]
     },
     "execution_count": 340,
     "metadata": {},
     "output_type": "execute_result"
    }
   ],
   "source": [
    "#Scoring test.  Score new data from a single posterior sample\n",
    "test_beta = trace['beta'][0]\n",
    "test_inc = trace['xi'][0]\n",
    "test_score = expit(trace['alpha'][0] + np.dot(X2, test_inc * test_beta))  \n",
    "test_score"
   ]
  },
  {
   "cell_type": "code",
   "execution_count": 341,
   "metadata": {
    "collapsed": true
   },
   "outputs": [],
   "source": [
    "estimate = trace['beta'] * trace['xi'] \n",
    "y_hat = np.apply_along_axis(np.mean, 1, expit(trace['alpha'] + np.dot(X2, np.transpose(estimate) )) )"
   ]
  },
  {
   "cell_type": "code",
   "execution_count": 342,
   "metadata": {},
   "outputs": [
    {
     "data": {
      "text/plain": [
       "(0.6929868181284302, 0.083421875)"
      ]
     },
     "execution_count": 342,
     "metadata": {},
     "output_type": "execute_result"
    }
   ],
   "source": [
    "#Sanity checks\n",
    "np.mean(y_hat), np.sum(results.inclusion_probability/32)"
   ]
  },
  {
   "cell_type": "code",
   "execution_count": null,
   "metadata": {},
   "outputs": [],
   "source": []
  },
  {
   "cell_type": "code",
   "execution_count": null,
   "metadata": {},
   "outputs": [],
   "source": []
  },
  {
   "cell_type": "code",
   "execution_count": null,
   "metadata": {},
   "outputs": [],
   "source": []
  },
  {
   "cell_type": "code",
   "execution_count": null,
   "metadata": {},
   "outputs": [],
   "source": []
  },
  {
   "cell_type": "code",
   "execution_count": null,
   "metadata": {},
   "outputs": [],
   "source": []
  },
  {
   "cell_type": "code",
   "execution_count": null,
   "metadata": {},
   "outputs": [],
   "source": []
  },
  {
   "cell_type": "code",
   "execution_count": null,
   "metadata": {},
   "outputs": [],
   "source": []
  },
  {
   "cell_type": "markdown",
   "metadata": {},
   "source": [
    "# 4. Modelos Predictivos"
   ]
  },
  {
   "cell_type": "markdown",
   "metadata": {},
   "source": [
    "## Funciones modelos usados"
   ]
  },
  {
   "cell_type": "markdown",
   "metadata": {},
   "source": [
    "## Regresión logística"
   ]
  },
  {
   "cell_type": "code",
   "execution_count": 202,
   "metadata": {
    "collapsed": true
   },
   "outputs": [],
   "source": [
    "from sklearn import linear_model\n",
    "import statsmodels.api as sm\n",
    "from sklearn.linear_model import LogisticRegression\n",
    "from sklearn.feature_selection import RFE\n",
    "from sklearn.metrics import roc_auc_score\n",
    "from sklearn.model_selection import cross_validate\n",
    "from sklearn.model_selection import KFold\n",
    "from sklearn.model_selection import cross_val_score\n",
    "from sklearn.metrics import confusion_matrix\n",
    "    \n",
    "from sklearn import model_selection\n",
    "from sklearn.metrics import classification_report\n",
    "from sklearn.metrics import confusion_matrix\n",
    "from sklearn.metrics import accuracy_score\n",
    "from sklearn.metrics import roc_curve, auc"
   ]
  },
  {
   "cell_type": "code",
   "execution_count": 203,
   "metadata": {
    "collapsed": true
   },
   "outputs": [],
   "source": [
    "def run_reglog(X_train, X_test, y_train, y_test):\n",
    "    lista_auc_train = []\n",
    "    lista_auc_test = []\n",
    "    lista_lr = []\n",
    "    lista = [1.0, 1.1, 2.2, 1.3, 1.4, 3.5]\n",
    "    for i in lista:\n",
    "        lr = linear_model.LogisticRegression(solver='liblinear', C = i)\n",
    "        lr.fit(X_train,y_train)\n",
    "        pred_train = lr.predict_proba(X_train)\n",
    "        auc_train = format(roc_auc_score(y_train, pred_train[:,1]))\n",
    "        #auc_train = format(roc_auc_score(y_train_lg, pred_train[:,1]))\n",
    "        lista_auc_train.append(auc_train)\n",
    "        \n",
    "        pred_test = lr.predict_proba(X_test)\n",
    "        auc_test = format(roc_auc_score(y_test, pred_test[:,1]))\n",
    "        lista_auc_test.append(auc_test)\n",
    "    \n",
    "        lista_lr.append(lr)\n",
    "        list_auc = list(map(float,lista_auc_test))\n",
    "        \n",
    "    max_index_auc = list_auc.index(max(list_auc))\n",
    "    best_model = lista_lr[max_index_auc]\n",
    "    \n",
    "    print('Best c')\n",
    "    print('c: '+ str(lista[max_index_auc]))\n",
    "    \n",
    "    print('Train set auc')\n",
    "    print(lista_auc_train)\n",
    "        \n",
    "    print('Test set auc')\n",
    "    print(lista_auc_test)\n",
    "    \n",
    "    print('---------------------------------------------------------')\n",
    "    print('Test set')\n",
    "    predictions = best_model.predict(X_test)\n",
    "    print(classification_report(y_test, predictions))\n",
    "      \n",
    "    dict_lg = {}\n",
    "    pred = best_model.predict_proba(X_test)\n",
    "    auc = max(list_auc)\n",
    "    print('lg roc-auc: {}'.format(auc))\n",
    "    \n",
    "    fpr, tpr, _ = roc_curve(y_test, pred[:,1]) \n",
    "    \n",
    "    dict_lg['Modelo'] = best_model\n",
    "    dict_lg['fpr'] = fpr\n",
    "    dict_lg['tpr'] = tpr\n",
    "    dict_lg['auc'] = auc\n",
    "    \n",
    "    \n",
    "    return dict_lg "
   ]
  },
  {
   "cell_type": "markdown",
   "metadata": {},
   "source": [
    "## Arbol de decisión"
   ]
  },
  {
   "cell_type": "code",
   "execution_count": 204,
   "metadata": {
    "collapsed": true
   },
   "outputs": [],
   "source": [
    "from sklearn.tree import DecisionTreeClassifier\n",
    "from sklearn.metrics import roc_auc_score\n",
    "from sklearn.metrics import roc_curve, auc"
   ]
  },
  {
   "cell_type": "code",
   "execution_count": 205,
   "metadata": {
    "collapsed": true
   },
   "outputs": [],
   "source": [
    "def run_DecisionTree(X_train, X_test, y_train, y_test):\n",
    "    tree = DecisionTreeClassifier(criterion = 'entropy', max_depth=5, min_samples_split = 30, random_state = 99)\n",
    "    tree.fit(X_train.fillna(0), y_train)\n",
    "    print('Train set')\n",
    "    pred = tree.predict_proba(X_train)\n",
    "    print('Decisions tree roc-auc: {}'.format(roc_auc_score(y_train, pred[:,1])))\n",
    "    \n",
    "    print('Test set')\n",
    "    pred = tree.predict_proba(X_test)\n",
    "    print('Decisions tree roc-auc: {}'.format(roc_auc_score(y_test, pred[:,1])))\n",
    "    \n",
    "    \n",
    "    dict_tree = {}\n",
    "    auc = roc_auc_score(y_test, pred[:,1])\n",
    "    print('Decisions tree roc-auc: {}'.format(auc))\n",
    "    \n",
    "    \n",
    "    fpr, tpr, _ = roc_curve(y_test, pred[:,1])\n",
    "\n",
    "    print('---------------------------------------------------------')\n",
    "    print('Test set')\n",
    "    predictions = tree.predict(X_test)\n",
    "    print(classification_report(y_test, predictions))\n",
    "    \n",
    "    \n",
    "    dict_tree['Modelo'] = tree\n",
    "    dict_tree['fpr']=fpr\n",
    "    dict_tree['tpr']=tpr\n",
    "    dict_tree['auc']=auc\n",
    "    \n",
    "    return dict_tree\n"
   ]
  },
  {
   "cell_type": "markdown",
   "metadata": {},
   "source": [
    "## Random Forest"
   ]
  },
  {
   "cell_type": "code",
   "execution_count": 206,
   "metadata": {
    "collapsed": true
   },
   "outputs": [],
   "source": [
    "def run_randomForests(X_train, X_test, y_train, y_test):\n",
    "    rf = RandomForestClassifier(n_estimators=200, random_state=39, max_depth=4, criterion = 'gini')\n",
    "    rf.fit(X_train, y_train)\n",
    "    \n",
    "    print('Train set')\n",
    "    pred = rf.predict_proba(X_train)\n",
    "    print('Random Forests roc-auc: {}'.format(roc_auc_score(y_train, pred[:,1])))\n",
    "    \n",
    "    print('Test set')\n",
    "    pred = rf.predict_proba(X_test)\n",
    "    print('Random Forests roc-auc: {}'.format(roc_auc_score(y_test, pred[:,1])))\n",
    "    \n",
    "    dict_rf = {}\n",
    "    pred = rf.predict_proba(X_test)\n",
    "    auc = roc_auc_score(y_test, pred[:,1])\n",
    "    print('rf roc-auc: {}'.format(auc))\n",
    "    \n",
    "    fpr, tpr, _ = roc_curve(y_test, pred[:,1])\n",
    "    \n",
    "    print('---------------------------------------------------------')\n",
    "    print('Test set')\n",
    "    predictions = rf.predict(X_test)\n",
    "    print(classification_report(y_test, predictions))\n",
    "    \n",
    "    \n",
    "    dict_rf['Modelo'] = rf\n",
    "    dict_rf['fpr']=fpr\n",
    "    dict_rf['tpr']=tpr\n",
    "    dict_rf['auc']=auc\n",
    "    \n",
    "    return dict_rf"
   ]
  },
  {
   "cell_type": "markdown",
   "metadata": {},
   "source": [
    "## Máquina de soporte vectorial"
   ]
  },
  {
   "cell_type": "code",
   "execution_count": 207,
   "metadata": {
    "collapsed": true
   },
   "outputs": [],
   "source": [
    "from sklearn import svm\n",
    "from sklearn.svm import LinearSVC\n",
    "import matplotlib.pyplot as plt\n",
    "%matplotlib inline"
   ]
  },
  {
   "cell_type": "code",
   "execution_count": 208,
   "metadata": {
    "collapsed": true
   },
   "outputs": [],
   "source": [
    "def run_svm(X_train, X_test, y_train, y_test):\n",
    "    #kernels = ['rbf', 'sigmoid','linear']\n",
    "    #for kernel in kernels:\n",
    "        msv = svm.SVC(kernel='linear', C=1, decision_function_shape='ovr',probability=True, gamma='auto')\n",
    "        msv.fit(X_train, y_train)\n",
    "        \n",
    "        #print('kernel: '+ str(kernel))\n",
    "        \n",
    "        print('Train set')\n",
    "        pred = msv.predict_proba(X_train)\n",
    "        print('msv roc-auc: {}'.format(roc_auc_score(y_train, pred[:,1])))\n",
    "        print('Test set')\n",
    "        pred = msv.predict_proba(X_test)\n",
    "        print('msv roc-auc: {}'.format(roc_auc_score(y_test, pred[:,1])))\n",
    "        \n",
    "        dict_svm = {}\n",
    "        auc = roc_auc_score(y_test, pred[:,1])\n",
    "        print('rf roc-auc: {}'.format(auc))\n",
    "    \n",
    "        fpr, tpr, _ = roc_curve(y_test, pred[:,1])\n",
    "        \n",
    "        print('msv roc-auc: {}'.format(roc_auc_score(y_test, pred[:,1])))\n",
    "        \n",
    "        \n",
    "        print('---------------------------------------------------------')\n",
    "        print('Test set')\n",
    "        predictions = msv.predict(X_test)\n",
    "        print(classification_report(y_test, predictions))\n",
    "    \n",
    "        print('---------------------------------------------------------')\n",
    "        \n",
    "        dict_svm['Modelo'] = msv\n",
    "        dict_svm['fpr']=fpr\n",
    "        dict_svm['tpr']=tpr\n",
    "        dict_svm['auc']=auc\n",
    "    \n",
    "        return dict_svm"
   ]
  },
  {
   "cell_type": "markdown",
   "metadata": {},
   "source": [
    "## K Nearest Neighbors"
   ]
  },
  {
   "cell_type": "code",
   "execution_count": 209,
   "metadata": {
    "collapsed": true
   },
   "outputs": [],
   "source": [
    "import numpy as np\n",
    "from sklearn import preprocessing, neighbors\n",
    "import pandas as pd"
   ]
  },
  {
   "cell_type": "code",
   "execution_count": 210,
   "metadata": {
    "collapsed": true
   },
   "outputs": [],
   "source": [
    "def knn(X_train, X_test, y_train, y_test):\n",
    "    clf = neighbors.KNeighborsClassifier(n_neighbors=10,leaf_size=30)\n",
    "    clf.fit(X_train, y_train)\n",
    "    \n",
    "    print('Train set')\n",
    "    pred = clf.predict_proba(X_train)\n",
    "    print('Random Forests roc-auc: {}'.format(roc_auc_score(y_train, pred[:,1])))\n",
    "    \n",
    "    print('Test set')\n",
    "    pred = clf.predict_proba(X_test)\n",
    "    print('Random Forests roc-auc: {}'.format(roc_auc_score(y_test, pred[:,1])))\n",
    "    \n",
    "    dict_clf = {}\n",
    "    pred = clf.predict_proba(X_test)\n",
    "    auc = roc_auc_score(y_test, pred[:,1])\n",
    "    print('clf roc-auc: {}'.format(auc))\n",
    "    \n",
    "    fpr, tpr, _ = roc_curve(y_test, pred[:,1])\n",
    "    \n",
    "    print('---------------------------------------------------------')\n",
    "    print('Test set')\n",
    "    predictions = clf.predict(X_test)\n",
    "    print(classification_report(y_test, predictions))\n",
    "    \n",
    "    \n",
    "    dict_clf['Modelo'] = clf\n",
    "    dict_clf['fpr']=fpr\n",
    "    dict_clf['tpr']=tpr\n",
    "    dict_clf['auc']=auc\n",
    "    \n",
    "    return dict_clf"
   ]
  },
  {
   "cell_type": "markdown",
   "metadata": {},
   "source": [
    "### Gráfica curvas ROC"
   ]
  },
  {
   "cell_type": "code",
   "execution_count": 211,
   "metadata": {},
   "outputs": [
    {
     "data": {
      "text/plain": [
       "<Figure size 432x288 with 0 Axes>"
      ]
     },
     "metadata": {},
     "output_type": "display_data"
    }
   ],
   "source": [
    "plt.figure()\n",
    "lw = 2\n",
    "\n",
    "def ROC_graphics(models,colors,labels): \n",
    "\n",
    "    for model, color, label in zip(models, colors, labels):\n",
    "    \n",
    "        plt.plot(model['fpr'], model['tpr'], color=color,\n",
    "             lw=lw, label= label + ' (area = %0.2f)' % model['auc'])\n",
    "             \n",
    "    \n",
    "        plt.plot([0, 1], [0, 1], color='black', lw=lw, linestyle='--')\n",
    "        plt.xlim([0.0, 1.0])\n",
    "        plt.ylim([0.0, 1.05])\n",
    "        plt.xlabel('False Positive Rate')\n",
    "        plt.ylabel('True Positive Rate')\n",
    "        plt.title('Comparación curvas ROC ' + title)\n",
    "        plt.legend(loc=\"lower right\")\n",
    "    \n",
    "    \n",
    "    plt.show()\n",
    "    \n",
    "#ROC_graphics(models, colors, labels)"
   ]
  },
  {
   "cell_type": "markdown",
   "metadata": {},
   "source": [
    "# Datasets con selección de variables"
   ]
  },
  {
   "cell_type": "code",
   "execution_count": 265,
   "metadata": {
    "collapsed": true
   },
   "outputs": [],
   "source": [
    "# variables seleccionadas según diferentes criterios\n",
    "# variables con probabilidad de selección mayor al 0.5\n",
    "bd1= data[['yL','x1','x2','x3','x4','x10','x11','x12','x14','x17','x18','x21','x22','x23','x24','x25','x27','x30','x32']]\n",
    "# variables con probabilidad de selección mayor al 0.6\n",
    "bd2= data[['yL','x1','x2','x3','x4','x10','x11','x12','x17','x21','x23','x25','x27']]\n",
    "# variables con probabilidad de selección mayor al 0.65\n",
    "bd3= data[['yL','x1','x2','x3','x4','x10','x11','x12','x17','x21','x23','x25','x27']]\n",
    "# variables con probabilidad de selección mayor al 0.7\n",
    "bd4= data[['yL','x1','x2','x4','x10','x11','x12','x17','x23']]\n",
    "# variables con probabilidad de selección mayor al 0.8\n",
    "bd5= data[['yL','x1','x10','x12','x17','x23']]"
   ]
  },
  {
   "cell_type": "markdown",
   "metadata": {},
   "source": [
    "## Modelos BD1"
   ]
  },
  {
   "cell_type": "code",
   "execution_count": 266,
   "metadata": {
    "collapsed": true
   },
   "outputs": [],
   "source": [
    "bd1_train = bd1.iloc[list(train.index)]\n",
    "bd1_test = bd1.iloc[list(test.index)]"
   ]
  },
  {
   "cell_type": "code",
   "execution_count": 267,
   "metadata": {
    "collapsed": true
   },
   "outputs": [],
   "source": [
    "X_train_bd1 = bd1_train.drop('yL',  axis = 1)\n",
    "X_test_bd1 = bd1_test.drop('yL',  axis = 1)\n",
    "\n",
    "y_train_bd1 = bd1_train['yL']\n",
    "y_test_bd1 = bd1_test['yL']\n"
   ]
  },
  {
   "cell_type": "markdown",
   "metadata": {},
   "source": [
    "### Regresión Logística bd1"
   ]
  },
  {
   "cell_type": "code",
   "execution_count": 268,
   "metadata": {},
   "outputs": [
    {
     "name": "stdout",
     "output_type": "stream",
     "text": [
      "Best c\n",
      "c: 3.5\n",
      "Train set auc\n",
      "['0.8724279835390947', '0.8727445394112061', '0.8793922127255461', '0.8759100981323202', '0.8774928774928774', '0.8778094333649888']\n",
      "Test set auc\n",
      "['0.7129186602870814', '0.708133971291866', '0.7129186602870813', '0.7129186602870813', '0.7129186602870813', '0.7224880382775118']\n",
      "---------------------------------------------------------\n",
      "Test set\n",
      "              precision    recall  f1-score   support\n",
      "\n",
      "           0       0.55      0.55      0.55        11\n",
      "           1       0.74      0.74      0.74        19\n",
      "\n",
      "    accuracy                           0.67        30\n",
      "   macro avg       0.64      0.64      0.64        30\n",
      "weighted avg       0.67      0.67      0.67        30\n",
      "\n",
      "lg roc-auc: 0.7224880382775118\n"
     ]
    }
   ],
   "source": [
    "# evaluate performance of algorithm built\n",
    "# using selected features\n",
    "\n",
    "lg_model_bd1 = run_reglog(X_train_bd1.fillna(0),\n",
    "                  X_test_bd1.fillna(0),\n",
    "                  y_train_bd1, y_test_bd1)"
   ]
  },
  {
   "cell_type": "markdown",
   "metadata": {},
   "source": [
    "### Arbol de decisión bd1"
   ]
  },
  {
   "cell_type": "code",
   "execution_count": 269,
   "metadata": {},
   "outputs": [
    {
     "name": "stdout",
     "output_type": "stream",
     "text": [
      "Train set\n",
      "Decisions tree roc-auc: 0.8933206710984488\n",
      "Test set\n",
      "Decisions tree roc-auc: 0.6148325358851674\n",
      "Decisions tree roc-auc: 0.6148325358851674\n",
      "---------------------------------------------------------\n",
      "Test set\n",
      "              precision    recall  f1-score   support\n",
      "\n",
      "           0       0.50      0.36      0.42        11\n",
      "           1       0.68      0.79      0.73        19\n",
      "\n",
      "    accuracy                           0.63        30\n",
      "   macro avg       0.59      0.58      0.58        30\n",
      "weighted avg       0.62      0.63      0.62        30\n",
      "\n"
     ]
    }
   ],
   "source": [
    "# evaluate performance of algorithm built\n",
    "# using selected features\n",
    "\n",
    "tree_model_bd1 = run_DecisionTree(X_train_bd1.fillna(0),\n",
    "                  X_test_bd1.fillna(0),\n",
    "                  y_train_bd1, y_test_bd1)"
   ]
  },
  {
   "cell_type": "markdown",
   "metadata": {},
   "source": [
    "### Random Forest bd1"
   ]
  },
  {
   "cell_type": "code",
   "execution_count": 270,
   "metadata": {},
   "outputs": [
    {
     "name": "stdout",
     "output_type": "stream",
     "text": [
      "Train set\n",
      "Random Forests roc-auc: 0.9914529914529915\n",
      "Test set\n",
      "Random Forests roc-auc: 0.69377990430622\n",
      "rf roc-auc: 0.69377990430622\n",
      "---------------------------------------------------------\n",
      "Test set\n",
      "              precision    recall  f1-score   support\n",
      "\n",
      "           0       0.62      0.45      0.53        11\n",
      "           1       0.73      0.84      0.78        19\n",
      "\n",
      "    accuracy                           0.70        30\n",
      "   macro avg       0.68      0.65      0.65        30\n",
      "weighted avg       0.69      0.70      0.69        30\n",
      "\n"
     ]
    }
   ],
   "source": [
    "# evaluate performance of algorithm built\n",
    "# using selected features\n",
    "\n",
    "rf_model_bd1 = run_randomForests(X_train_bd1.fillna(0),\n",
    "                  X_test_bd1.fillna(0),\n",
    "                  y_train_bd1, y_test_bd1)"
   ]
  },
  {
   "cell_type": "markdown",
   "metadata": {},
   "source": [
    "### Máquina de soporte vectorial bd1"
   ]
  },
  {
   "cell_type": "code",
   "execution_count": 271,
   "metadata": {},
   "outputs": [
    {
     "name": "stdout",
     "output_type": "stream",
     "text": [
      "Train set\n",
      "msv roc-auc: 0.8692624248179803\n",
      "Test set\n",
      "msv roc-auc: 0.6267942583732058\n",
      "rf roc-auc: 0.6267942583732058\n",
      "msv roc-auc: 0.6267942583732058\n",
      "---------------------------------------------------------\n",
      "Test set\n",
      "              precision    recall  f1-score   support\n",
      "\n",
      "           0       0.45      0.45      0.45        11\n",
      "           1       0.68      0.68      0.68        19\n",
      "\n",
      "    accuracy                           0.60        30\n",
      "   macro avg       0.57      0.57      0.57        30\n",
      "weighted avg       0.60      0.60      0.60        30\n",
      "\n",
      "---------------------------------------------------------\n"
     ]
    }
   ],
   "source": [
    "#### evaluate performance of algorithm built\n",
    "# using selected featuresLa \n",
    "\n",
    "svm_model_bd1 = run_svm(X_train_bd1.fillna(0),\n",
    "                  X_test_bd1.fillna(0),\n",
    "                  y_train_bd1, y_test_bd1)"
   ]
  },
  {
   "cell_type": "markdown",
   "metadata": {},
   "source": [
    "### K Nearest Neighbors bd1"
   ]
  },
  {
   "cell_type": "code",
   "execution_count": 272,
   "metadata": {},
   "outputs": [
    {
     "name": "stdout",
     "output_type": "stream",
     "text": [
      "Train set\n",
      "Random Forests roc-auc: 0.8057929724596391\n",
      "Test set\n",
      "Random Forests roc-auc: 0.7129186602870813\n",
      "clf roc-auc: 0.7129186602870813\n",
      "---------------------------------------------------------\n",
      "Test set\n",
      "              precision    recall  f1-score   support\n",
      "\n",
      "           0       0.62      0.45      0.53        11\n",
      "           1       0.73      0.84      0.78        19\n",
      "\n",
      "    accuracy                           0.70        30\n",
      "   macro avg       0.68      0.65      0.65        30\n",
      "weighted avg       0.69      0.70      0.69        30\n",
      "\n"
     ]
    }
   ],
   "source": [
    "#### evaluate performance of algorithm built\n",
    "# using selected featuresLa \n",
    "\n",
    "knn_model_bd1 = knn(X_train_bd1.fillna(0),\n",
    "                  X_test_bd1.fillna(0),\n",
    "                  y_train_bd1, y_test_bd1)"
   ]
  },
  {
   "cell_type": "markdown",
   "metadata": {},
   "source": [
    "## Modelos BD2"
   ]
  },
  {
   "cell_type": "code",
   "execution_count": 273,
   "metadata": {
    "collapsed": true
   },
   "outputs": [],
   "source": [
    "bd2_train = bd2.iloc[list(train.index)]\n",
    "bd2_test = bd2.iloc[list(test.index)]"
   ]
  },
  {
   "cell_type": "code",
   "execution_count": 274,
   "metadata": {
    "collapsed": true
   },
   "outputs": [],
   "source": [
    "X_train_bd2 = bd2_train.drop('yL',  axis = 1)\n",
    "X_test_bd2 = bd2_test.drop('yL',  axis = 1)\n",
    "\n",
    "y_train_bd2 = bd2_train['yL']\n",
    "y_test_bd2 = bd2_test['yL']\n"
   ]
  },
  {
   "cell_type": "code",
   "execution_count": 275,
   "metadata": {
    "collapsed": true
   },
   "outputs": [],
   "source": [
    "#bd2.head()"
   ]
  },
  {
   "cell_type": "markdown",
   "metadata": {},
   "source": [
    "### Regresión Logística bd2"
   ]
  },
  {
   "cell_type": "code",
   "execution_count": 276,
   "metadata": {},
   "outputs": [
    {
     "name": "stdout",
     "output_type": "stream",
     "text": [
      "Best c\n",
      "c: 1.0\n",
      "Train set auc\n",
      "['0.8271604938271604', '0.8274770496992718', '0.8325419436530548', '0.8274770496992718', '0.8274770496992718', '0.8360240582462805']\n",
      "Test set auc\n",
      "['0.6842105263157895', '0.6842105263157895', '0.6794258373205742', '0.6842105263157895', '0.6842105263157895', '0.6842105263157895']\n",
      "---------------------------------------------------------\n",
      "Test set\n",
      "              precision    recall  f1-score   support\n",
      "\n",
      "           0       0.67      0.55      0.60        11\n",
      "           1       0.76      0.84      0.80        19\n",
      "\n",
      "    accuracy                           0.73        30\n",
      "   macro avg       0.71      0.69      0.70        30\n",
      "weighted avg       0.73      0.73      0.73        30\n",
      "\n",
      "lg roc-auc: 0.6842105263157895\n"
     ]
    }
   ],
   "source": [
    "# evaluate performance of algorithm built\n",
    "# using selected features\n",
    "lg_model_bd2 = run_reglog(X_train_bd2.fillna(0),\n",
    "                  X_test_bd2.fillna(0),\n",
    "                  y_train_bd2, y_test_bd2)"
   ]
  },
  {
   "cell_type": "markdown",
   "metadata": {},
   "source": [
    "### Arbol de decisión bd2"
   ]
  },
  {
   "cell_type": "code",
   "execution_count": 277,
   "metadata": {},
   "outputs": [
    {
     "name": "stdout",
     "output_type": "stream",
     "text": [
      "Train set\n",
      "Decisions tree roc-auc: 0.8483697372586261\n",
      "Test set\n",
      "Decisions tree roc-auc: 0.5909090909090908\n",
      "Decisions tree roc-auc: 0.5909090909090908\n",
      "---------------------------------------------------------\n",
      "Test set\n",
      "              precision    recall  f1-score   support\n",
      "\n",
      "           0       0.33      0.55      0.41        11\n",
      "           1       0.58      0.37      0.45        19\n",
      "\n",
      "    accuracy                           0.43        30\n",
      "   macro avg       0.46      0.46      0.43        30\n",
      "weighted avg       0.49      0.43      0.44        30\n",
      "\n"
     ]
    }
   ],
   "source": [
    "# evaluate performance of algorithm built\n",
    "# using selected features\n",
    "\n",
    "tree_model_bd2 = run_DecisionTree(X_train_bd2.fillna(0),\n",
    "                  X_test_bd2.fillna(0),\n",
    "                  y_train_bd2, y_test_bd2)"
   ]
  },
  {
   "cell_type": "markdown",
   "metadata": {},
   "source": [
    "### Random Forest bd2"
   ]
  },
  {
   "cell_type": "code",
   "execution_count": 278,
   "metadata": {},
   "outputs": [
    {
     "name": "stdout",
     "output_type": "stream",
     "text": [
      "Train set\n",
      "Random Forests roc-auc: 0.9825894270338714\n",
      "Test set\n",
      "Random Forests roc-auc: 0.6842105263157895\n",
      "rf roc-auc: 0.6842105263157895\n",
      "---------------------------------------------------------\n",
      "Test set\n",
      "              precision    recall  f1-score   support\n",
      "\n",
      "           0       0.75      0.55      0.63        11\n",
      "           1       0.77      0.89      0.83        19\n",
      "\n",
      "    accuracy                           0.77        30\n",
      "   macro avg       0.76      0.72      0.73        30\n",
      "weighted avg       0.76      0.77      0.76        30\n",
      "\n"
     ]
    }
   ],
   "source": [
    "# evaluate performance of algorithm built\n",
    "# using selected features\n",
    "\n",
    "rf_model_bd2 = run_randomForests(X_train_bd2.fillna(0),\n",
    "                  X_test_bd2.fillna(0),\n",
    "                  y_train_bd2, y_test_bd2)"
   ]
  },
  {
   "cell_type": "markdown",
   "metadata": {},
   "source": [
    "### Máquina de soporte vectorial bd2"
   ]
  },
  {
   "cell_type": "code",
   "execution_count": 279,
   "metadata": {},
   "outputs": [
    {
     "name": "stdout",
     "output_type": "stream",
     "text": [
      "Train set\n",
      "msv roc-auc: 0.8296929408040518\n",
      "Test set\n",
      "msv roc-auc: 0.6698564593301435\n",
      "rf roc-auc: 0.6698564593301435\n",
      "msv roc-auc: 0.6698564593301435\n",
      "---------------------------------------------------------\n",
      "Test set\n",
      "              precision    recall  f1-score   support\n",
      "\n",
      "           0       0.67      0.55      0.60        11\n",
      "           1       0.76      0.84      0.80        19\n",
      "\n",
      "    accuracy                           0.73        30\n",
      "   macro avg       0.71      0.69      0.70        30\n",
      "weighted avg       0.73      0.73      0.73        30\n",
      "\n",
      "---------------------------------------------------------\n"
     ]
    }
   ],
   "source": [
    "#### evaluate performance of algorithm built\n",
    "# using selected featuresLa \n",
    "\n",
    "svm_model_bd2 = run_svm(X_train_bd2.fillna(0),\n",
    "                  X_test_bd2.fillna(0),\n",
    "                  y_train_bd2, y_test_bd2)"
   ]
  },
  {
   "cell_type": "markdown",
   "metadata": {},
   "source": [
    "### K Nearest Neighbors bd2"
   ]
  },
  {
   "cell_type": "code",
   "execution_count": 280,
   "metadata": {},
   "outputs": [
    {
     "name": "stdout",
     "output_type": "stream",
     "text": [
      "Train set\n",
      "Random Forests roc-auc: 0.8057929724596391\n",
      "Test set\n",
      "Random Forests roc-auc: 0.6913875598086123\n",
      "clf roc-auc: 0.6913875598086123\n",
      "---------------------------------------------------------\n",
      "Test set\n",
      "              precision    recall  f1-score   support\n",
      "\n",
      "           0       0.62      0.45      0.53        11\n",
      "           1       0.73      0.84      0.78        19\n",
      "\n",
      "    accuracy                           0.70        30\n",
      "   macro avg       0.68      0.65      0.65        30\n",
      "weighted avg       0.69      0.70      0.69        30\n",
      "\n"
     ]
    }
   ],
   "source": [
    "#### evaluate performance of algorithm built\n",
    "# using selected featuresLa \n",
    "\n",
    "knn_model_bd2 = knn(X_train_bd2.fillna(0),\n",
    "                  X_test_bd2.fillna(0),\n",
    "                  y_train_bd2, y_test_bd2)"
   ]
  },
  {
   "cell_type": "markdown",
   "metadata": {},
   "source": [
    "## Modelos bd3"
   ]
  },
  {
   "cell_type": "code",
   "execution_count": 281,
   "metadata": {
    "collapsed": true
   },
   "outputs": [],
   "source": [
    "bd3_train = bd3.iloc[list(train.index)]\n",
    "bd3_test = bd3.iloc[list(test.index)]"
   ]
  },
  {
   "cell_type": "code",
   "execution_count": 282,
   "metadata": {
    "collapsed": true
   },
   "outputs": [],
   "source": [
    "X_train_bd3 = bd3_train.drop('yL',  axis = 1)\n",
    "X_test_bd3 = bd3_test.drop('yL',  axis = 1)\n",
    "\n",
    "y_train_bd3 = bd3_train['yL']\n",
    "y_test_bd3 = bd3_test['yL']\n"
   ]
  },
  {
   "cell_type": "markdown",
   "metadata": {},
   "source": [
    "### Regresión Logística bd3"
   ]
  },
  {
   "cell_type": "code",
   "execution_count": 283,
   "metadata": {},
   "outputs": [
    {
     "name": "stdout",
     "output_type": "stream",
     "text": [
      "Best c\n",
      "c: 1.0\n",
      "Train set auc\n",
      "['0.8271604938271604', '0.8274770496992718', '0.8325419436530548', '0.8274770496992718', '0.8274770496992718', '0.8360240582462805']\n",
      "Test set auc\n",
      "['0.6842105263157895', '0.6842105263157895', '0.6794258373205742', '0.6842105263157895', '0.6842105263157895', '0.6842105263157895']\n",
      "---------------------------------------------------------\n",
      "Test set\n",
      "              precision    recall  f1-score   support\n",
      "\n",
      "           0       0.67      0.55      0.60        11\n",
      "           1       0.76      0.84      0.80        19\n",
      "\n",
      "    accuracy                           0.73        30\n",
      "   macro avg       0.71      0.69      0.70        30\n",
      "weighted avg       0.73      0.73      0.73        30\n",
      "\n",
      "lg roc-auc: 0.6842105263157895\n"
     ]
    }
   ],
   "source": [
    "# evaluate performance of algorithm built\n",
    "# using selected features\n",
    "lg_model_bd3 = run_reglog(X_train_bd3.fillna(0),\n",
    "                  X_test_bd3.fillna(0),\n",
    "                  y_train_bd3, y_test_bd3)"
   ]
  },
  {
   "cell_type": "markdown",
   "metadata": {},
   "source": [
    "### Arbol de decisión bd3"
   ]
  },
  {
   "cell_type": "code",
   "execution_count": 284,
   "metadata": {},
   "outputs": [
    {
     "name": "stdout",
     "output_type": "stream",
     "text": [
      "Train set\n",
      "Decisions tree roc-auc: 0.8483697372586261\n",
      "Test set\n",
      "Decisions tree roc-auc: 0.5909090909090908\n",
      "Decisions tree roc-auc: 0.5909090909090908\n",
      "---------------------------------------------------------\n",
      "Test set\n",
      "              precision    recall  f1-score   support\n",
      "\n",
      "           0       0.33      0.55      0.41        11\n",
      "           1       0.58      0.37      0.45        19\n",
      "\n",
      "    accuracy                           0.43        30\n",
      "   macro avg       0.46      0.46      0.43        30\n",
      "weighted avg       0.49      0.43      0.44        30\n",
      "\n"
     ]
    }
   ],
   "source": [
    "# evaluate performance of algorithm built\n",
    "# using selected features\n",
    "\n",
    "tree_model_bd3 = run_DecisionTree(X_train_bd3.fillna(0),\n",
    "                  X_test_bd3.fillna(0),\n",
    "                  y_train_bd3, y_test_bd3)"
   ]
  },
  {
   "cell_type": "markdown",
   "metadata": {},
   "source": [
    "### Random Forest bd3"
   ]
  },
  {
   "cell_type": "code",
   "execution_count": 285,
   "metadata": {},
   "outputs": [
    {
     "name": "stdout",
     "output_type": "stream",
     "text": [
      "Train set\n",
      "Random Forests roc-auc: 0.9825894270338714\n",
      "Test set\n",
      "Random Forests roc-auc: 0.6842105263157895\n",
      "rf roc-auc: 0.6842105263157895\n",
      "---------------------------------------------------------\n",
      "Test set\n",
      "              precision    recall  f1-score   support\n",
      "\n",
      "           0       0.75      0.55      0.63        11\n",
      "           1       0.77      0.89      0.83        19\n",
      "\n",
      "    accuracy                           0.77        30\n",
      "   macro avg       0.76      0.72      0.73        30\n",
      "weighted avg       0.76      0.77      0.76        30\n",
      "\n"
     ]
    }
   ],
   "source": [
    "# evaluate performance of algorithm built\n",
    "# using selected features\n",
    "\n",
    "rf_model_bd3 = run_randomForests(X_train_bd3.fillna(0),\n",
    "                  X_test_bd3.fillna(0),\n",
    "                  y_train_bd3, y_test_bd3)"
   ]
  },
  {
   "cell_type": "markdown",
   "metadata": {},
   "source": [
    "### Máquina de soporte vectorial bd3"
   ]
  },
  {
   "cell_type": "code",
   "execution_count": 286,
   "metadata": {},
   "outputs": [
    {
     "name": "stdout",
     "output_type": "stream",
     "text": [
      "Train set\n",
      "msv roc-auc: 0.8296929408040518\n",
      "Test set\n",
      "msv roc-auc: 0.6698564593301435\n",
      "rf roc-auc: 0.6698564593301435\n",
      "msv roc-auc: 0.6698564593301435\n",
      "---------------------------------------------------------\n",
      "Test set\n",
      "              precision    recall  f1-score   support\n",
      "\n",
      "           0       0.67      0.55      0.60        11\n",
      "           1       0.76      0.84      0.80        19\n",
      "\n",
      "    accuracy                           0.73        30\n",
      "   macro avg       0.71      0.69      0.70        30\n",
      "weighted avg       0.73      0.73      0.73        30\n",
      "\n",
      "---------------------------------------------------------\n"
     ]
    }
   ],
   "source": [
    "#### evaluate performance of algorithm built\n",
    "# using selected featuresLa \n",
    "\n",
    "svm_model_bd3 = run_svm(X_train_bd3.fillna(0),\n",
    "                  X_test_bd3.fillna(0),\n",
    "                  y_train_bd3, y_test_bd3)"
   ]
  },
  {
   "cell_type": "markdown",
   "metadata": {},
   "source": [
    "### K Nearest Neighbors bd3"
   ]
  },
  {
   "cell_type": "code",
   "execution_count": 287,
   "metadata": {},
   "outputs": [
    {
     "name": "stdout",
     "output_type": "stream",
     "text": [
      "Train set\n",
      "Random Forests roc-auc: 0.8057929724596391\n",
      "Test set\n",
      "Random Forests roc-auc: 0.6913875598086123\n",
      "clf roc-auc: 0.6913875598086123\n",
      "---------------------------------------------------------\n",
      "Test set\n",
      "              precision    recall  f1-score   support\n",
      "\n",
      "           0       0.62      0.45      0.53        11\n",
      "           1       0.73      0.84      0.78        19\n",
      "\n",
      "    accuracy                           0.70        30\n",
      "   macro avg       0.68      0.65      0.65        30\n",
      "weighted avg       0.69      0.70      0.69        30\n",
      "\n"
     ]
    }
   ],
   "source": [
    "#### evaluate performance of algorithm built\n",
    "# using selected featuresLa \n",
    "\n",
    "knn_model_bd3 = knn(X_train_bd3.fillna(0),\n",
    "                  X_test_bd3.fillna(0),\n",
    "                  y_train_bd3, y_test_bd3)"
   ]
  },
  {
   "cell_type": "markdown",
   "metadata": {},
   "source": [
    "## Modelos bd4"
   ]
  },
  {
   "cell_type": "code",
   "execution_count": 288,
   "metadata": {
    "collapsed": true
   },
   "outputs": [],
   "source": [
    "bd4_train = bd4.iloc[list(train.index)]\n",
    "bd4_test = bd4.iloc[list(test.index)]"
   ]
  },
  {
   "cell_type": "code",
   "execution_count": 289,
   "metadata": {
    "collapsed": true
   },
   "outputs": [],
   "source": [
    "X_train_bd4 = bd4_train.drop('yL',  axis = 1)\n",
    "X_test_bd4 = bd4_test.drop('yL',  axis = 1)\n",
    "\n",
    "y_train_bd4 = bd4_train['yL']\n",
    "y_test_bd4 = bd4_test['yL']"
   ]
  },
  {
   "cell_type": "markdown",
   "metadata": {},
   "source": [
    "### Regresión Logística bd4"
   ]
  },
  {
   "cell_type": "code",
   "execution_count": 290,
   "metadata": {},
   "outputs": [
    {
     "name": "stdout",
     "output_type": "stream",
     "text": [
      "Best c\n",
      "c: 1.0\n",
      "Train set auc\n",
      "['0.7879075656853435', '0.7894903450459005', '0.792022792022792', '0.7910731244064576', '0.7904400126622348', '0.7977207977207977']\n",
      "Test set auc\n",
      "['0.7320574162679425', '0.7320574162679425', '0.708133971291866', '0.7320574162679425', '0.7320574162679425', '0.7129186602870814']\n",
      "---------------------------------------------------------\n",
      "Test set\n",
      "              precision    recall  f1-score   support\n",
      "\n",
      "           0       0.67      0.55      0.60        11\n",
      "           1       0.76      0.84      0.80        19\n",
      "\n",
      "    accuracy                           0.73        30\n",
      "   macro avg       0.71      0.69      0.70        30\n",
      "weighted avg       0.73      0.73      0.73        30\n",
      "\n",
      "lg roc-auc: 0.7320574162679425\n"
     ]
    }
   ],
   "source": [
    "# evaluate performance of algorithm built\n",
    "# using selected features\n",
    "lg_model_bd4 = run_reglog(X_train_bd4.fillna(0),\n",
    "                  X_test_bd4.fillna(0),\n",
    "                  y_train_bd4, y_test_bd4)"
   ]
  },
  {
   "cell_type": "markdown",
   "metadata": {},
   "source": [
    "### Arbol de decisión bd4"
   ]
  },
  {
   "cell_type": "code",
   "execution_count": 291,
   "metadata": {},
   "outputs": [
    {
     "name": "stdout",
     "output_type": "stream",
     "text": [
      "Train set\n",
      "Decisions tree roc-auc: 0.8262108262108262\n",
      "Test set\n",
      "Decisions tree roc-auc: 0.6244019138755981\n",
      "Decisions tree roc-auc: 0.6244019138755981\n",
      "---------------------------------------------------------\n",
      "Test set\n",
      "              precision    recall  f1-score   support\n",
      "\n",
      "           0       0.60      0.55      0.57        11\n",
      "           1       0.75      0.79      0.77        19\n",
      "\n",
      "    accuracy                           0.70        30\n",
      "   macro avg       0.68      0.67      0.67        30\n",
      "weighted avg       0.70      0.70      0.70        30\n",
      "\n"
     ]
    }
   ],
   "source": [
    "# evaluate performance of algorithm built\n",
    "# using selected features\n",
    "\n",
    "tree_model_bd4 = run_DecisionTree(X_train_bd4.fillna(0),\n",
    "                  X_test_bd4.fillna(0),\n",
    "                  y_train_bd4, y_test_bd4)"
   ]
  },
  {
   "cell_type": "markdown",
   "metadata": {},
   "source": [
    "### Random Forest bd4"
   ]
  },
  {
   "cell_type": "code",
   "execution_count": 292,
   "metadata": {},
   "outputs": [
    {
     "name": "stdout",
     "output_type": "stream",
     "text": [
      "Train set\n",
      "Random Forests roc-auc: 0.9762583095916428\n",
      "Test set\n",
      "Random Forests roc-auc: 0.7511961722488038\n",
      "rf roc-auc: 0.7511961722488038\n",
      "---------------------------------------------------------\n",
      "Test set\n",
      "              precision    recall  f1-score   support\n",
      "\n",
      "           0       0.71      0.45      0.56        11\n",
      "           1       0.74      0.89      0.81        19\n",
      "\n",
      "    accuracy                           0.73        30\n",
      "   macro avg       0.73      0.67      0.68        30\n",
      "weighted avg       0.73      0.73      0.72        30\n",
      "\n"
     ]
    }
   ],
   "source": [
    "# evaluate performance of algorithm built\n",
    "# using selected features\n",
    "\n",
    "rf_model_bd4 = run_randomForests(X_train_bd4.fillna(0),\n",
    "                  X_test_bd4.fillna(0),\n",
    "                  y_train_bd4, y_test_bd4)"
   ]
  },
  {
   "cell_type": "markdown",
   "metadata": {},
   "source": [
    "### Máquina de soporte vectorial bd4"
   ]
  },
  {
   "cell_type": "code",
   "execution_count": 293,
   "metadata": {},
   "outputs": [
    {
     "name": "stdout",
     "output_type": "stream",
     "text": [
      "Train set\n",
      "msv roc-auc: 0.7670148781259892\n",
      "Test set\n",
      "msv roc-auc: 0.6842105263157895\n",
      "rf roc-auc: 0.6842105263157895\n",
      "msv roc-auc: 0.6842105263157895\n",
      "---------------------------------------------------------\n",
      "Test set\n",
      "              precision    recall  f1-score   support\n",
      "\n",
      "           0       0.75      0.55      0.63        11\n",
      "           1       0.77      0.89      0.83        19\n",
      "\n",
      "    accuracy                           0.77        30\n",
      "   macro avg       0.76      0.72      0.73        30\n",
      "weighted avg       0.76      0.77      0.76        30\n",
      "\n",
      "---------------------------------------------------------\n"
     ]
    }
   ],
   "source": [
    "#### evaluate performance of algorithm built\n",
    "# using selected featuresLa \n",
    "\n",
    "svm_model_bd4 = run_svm(X_train_bd4.fillna(0),\n",
    "                  X_test_bd4.fillna(0),\n",
    "                  y_train_bd4, y_test_bd4)"
   ]
  },
  {
   "cell_type": "markdown",
   "metadata": {},
   "source": [
    "### K Nearest Neighbors bd4"
   ]
  },
  {
   "cell_type": "code",
   "execution_count": 294,
   "metadata": {},
   "outputs": [
    {
     "name": "stdout",
     "output_type": "stream",
     "text": [
      "Train set\n",
      "Random Forests roc-auc: 0.7869578980690092\n",
      "Test set\n",
      "Random Forests roc-auc: 0.777511961722488\n",
      "clf roc-auc: 0.777511961722488\n",
      "---------------------------------------------------------\n",
      "Test set\n",
      "              precision    recall  f1-score   support\n",
      "\n",
      "           0       0.71      0.45      0.56        11\n",
      "           1       0.74      0.89      0.81        19\n",
      "\n",
      "    accuracy                           0.73        30\n",
      "   macro avg       0.73      0.67      0.68        30\n",
      "weighted avg       0.73      0.73      0.72        30\n",
      "\n"
     ]
    }
   ],
   "source": [
    "#### evaluate performance of algorithm built\n",
    "# using selected featuresLa \n",
    "\n",
    "knn_model_bd4 = knn(X_train_bd4.fillna(0),\n",
    "                  X_test_bd4.fillna(0),\n",
    "                  y_train_bd4, y_test_bd4)"
   ]
  },
  {
   "cell_type": "markdown",
   "metadata": {},
   "source": [
    "## Compartivo"
   ]
  },
  {
   "cell_type": "code",
   "execution_count": 295,
   "metadata": {},
   "outputs": [
    {
     "data": {
      "image/png": "[encoded data removed]",
      "text/plain": [
       "<Figure size 432x288 with 1 Axes>"
      ]
     },
     "metadata": {
      "needs_background": "light"
     },
     "output_type": "display_data"
    }
   ],
   "source": [
    "models = [lg_model_bd1, tree_model_bd1, rf_model_bd1, svm_model_bd1,knn_model_bd1]\n",
    "colors = ['aqua', 'deeppink', 'cornflowerblue', 'darkorange','green']\n",
    "labels=['RegLog', 'Tree','RandomForest', 'svm', 'knn']\n",
    "title='Curvas ROC bd1'\n",
    "ROC_graphics(models, colors, labels)"
   ]
  },
  {
   "cell_type": "code",
   "execution_count": 296,
   "metadata": {},
   "outputs": [
    {
     "data": {
      "image/png": "[encoded data removed]",
      "text/plain": [
       "<Figure size 432x288 with 1 Axes>"
      ]
     },
     "metadata": {
      "needs_background": "light"
     },
     "output_type": "display_data"
    }
   ],
   "source": [
    "models = [lg_model_bd2, tree_model_bd2, rf_model_bd2, svm_model_bd2,knn_model_bd2]\n",
    "colors = ['aqua', 'deeppink', 'cornflowerblue', 'darkorange','green']\n",
    "labels=['RegLog', 'Tree','RandomForest', 'svm', 'knn']\n",
    "title='Curvas ROC bd2'\n",
    "ROC_graphics(models, colors, labels)"
   ]
  },
  {
   "cell_type": "code",
   "execution_count": 297,
   "metadata": {},
   "outputs": [
    {
     "data": {
      "image/png": "[encoded data removed]",
      "text/plain": [
       "<Figure size 432x288 with 1 Axes>"
      ]
     },
     "metadata": {
      "needs_background": "light"
     },
     "output_type": "display_data"
    }
   ],
   "source": [
    "models = [lg_model_bd3, tree_model_bd3, rf_model_bd3, svm_model_bd3,knn_model_bd3]\n",
    "colors = ['aqua', 'deeppink', 'cornflowerblue', 'darkorange','green']\n",
    "labels=['RegLog', 'Tree','RandomForest', 'svm', 'knn']\n",
    "title='Curvas ROC bd3'\n",
    "ROC_graphics(models, colors, labels)"
   ]
  },
  {
   "cell_type": "code",
   "execution_count": 298,
   "metadata": {},
   "outputs": [
    {
     "data": {
      "image/png": "[encoded data removed]",
      "text/plain": [
       "<Figure size 432x288 with 1 Axes>"
      ]
     },
     "metadata": {
      "needs_background": "light"
     },
     "output_type": "display_data"
    }
   ],
   "source": [
    "models = [lg_model_bd4, tree_model_bd4, rf_model_bd4, svm_model_bd4,knn_model_bd4]\n",
    "colors = ['aqua', 'deeppink', 'cornflowerblue', 'darkorange','green']\n",
    "labels=['RegLog', 'Tree','RandomForest', 'svm', 'knn']\n",
    "title='Curvas ROC bd4'\n",
    "ROC_graphics(models, colors, labels)"
   ]
  },
  {
   "cell_type": "code",
   "execution_count": null,
   "metadata": {
    "collapsed": true
   },
   "outputs": [],
   "source": []
  },
  {
   "cell_type": "code",
   "execution_count": null,
   "metadata": {
    "collapsed": true
   },
   "outputs": [],
   "source": []
  }
 ],
 "metadata": {
  "kernelspec": {
   "display_name": "Python 3",
   "language": "python",
   "name": "python3"
  },
  "language_info": {
   "codemirror_mode": {
    "name": "ipython",
    "version": 3
   },
   "file_extension": ".py",
   "mimetype": "text/x-python",
   "name": "python",
   "nbconvert_exporter": "python",
   "pygments_lexer": "ipython3",
   "version": "3.7.3"
  }
 },
 "nbformat": 4,
 "nbformat_minor": 2
}
