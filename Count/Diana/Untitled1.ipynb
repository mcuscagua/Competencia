{
 "cells": [
  {
   "cell_type": "code",
   "execution_count": 2,
   "metadata": {
    "collapsed": true
   },
   "outputs": [],
   "source": [
    "import pandas as pd\n",
    "\n",
    "data = pd.read_csv('databinarystudents.csv')\n",
    "data = data.drop('id', axis = 1)\n",
    "X = data.iloc[:, 2:]\n",
    "Y = data.iloc[:, 1]"
   ]
  },
  {
   "cell_type": "code",
   "execution_count": 3,
   "metadata": {
    "collapsed": true
   },
   "outputs": [],
   "source": [
    "import os\n",
    "import time\n",
    "import numpy as np\n",
    "import pandas as pd\n",
    "import matplotlib.pyplot as plt\n",
    "import matplotlib.patheffects as PathEffects\n",
    "import seaborn as sns\n",
    "from sklearn.datasets import fetch_mldata\n",
    "from sklearn.decomposition import PCA\n",
    "from sklearn.manifold import TSNE\n",
    "import matplotlib.pyplot as plt\n",
    "from mpl_toolkits.mplot3d import Axes3D\n",
    "from sklearn.feature_selection import mutual_info_classif, mutual_info_regression\n",
    "from sklearn.feature_selection import SelectKBest, SelectPercentile\n",
    "\n",
    "# Mutual Information Criteria\n",
    "mutual_info = pd.Series(mutual_info_classif(X,Y))\n",
    "mutual_info.index = X.columns\n",
    "mutual_info = mutual_info.sort_values(ascending=False)\n",
    "\n",
    "for i in range(1000):\n",
    "    sel_ = SelectPercentile(mutual_info_classif, percentile=50).fit(X_train.fillna(0), y_train)\n",
    "    test =  np.concatenate([test, X_train.columns[sel_.get_support()].values])\n",
    "\n",
    "Mutual_info_criteria = X.columns[SelectPercentile(mutual_info_classif, percentile=50).fit(X, Y).get_support()]"
   ]
  }
 ],
 "metadata": {
  "kernelspec": {
   "display_name": "Python 3",
   "language": "python",
   "name": "python3"
  },
  "language_info": {
   "codemirror_mode": {
    "name": "ipython",
    "version": 3
   },
   "file_extension": ".py",
   "mimetype": "text/x-python",
   "name": "python",
   "nbconvert_exporter": "python",
   "pygments_lexer": "ipython3",
   "version": "3.7.3"
  }
 },
 "nbformat": 4,
 "nbformat_minor": 2
}
