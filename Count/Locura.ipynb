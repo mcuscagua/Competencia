{
 "cells": [
  {
   "cell_type": "code",
   "execution_count": 1,
   "metadata": {},
   "outputs": [],
   "source": [
    "import pandas as pd\n",
    "import numpy as np\n",
    "from sklearn.linear_model import LogisticRegression\n",
    "from sklearn.preprocessing import StandardScaler\n",
    "from sklearn.metrics import roc_auc_score, mean_squared_error, accuracy_score\n",
    "import xgboost as xgb\n",
    "import time\n",
    "import random as rnd\n",
    "\n",
    "standarscaler = StandardScaler()\n",
    "\n",
    "import warnings\n",
    "warnings.filterwarnings(\"ignore\")"
   ]
  },
  {
   "cell_type": "code",
   "execution_count": 2,
   "metadata": {},
   "outputs": [],
   "source": [
    "TrainData = pd.read_csv('count_train.csv')\n",
    "X = TrainData.drop('yC', axis = 1)\n",
    "Y = TrainData['yC']\n",
    "\n",
    "Xs = standarscaler.fit_transform(X)\n",
    "Xs = pd.DataFrame(Xs, index=X.index, columns=X.columns.values)"
   ]
  },
  {
   "cell_type": "code",
   "execution_count": 3,
   "metadata": {},
   "outputs": [],
   "source": [
    "TestData = pd.read_csv('count_test.csv')\n",
    "Xt = TestData.drop('yC', axis = 1)\n",
    "Yt = TestData['yC']\n",
    "\n",
    "Xts = standarscaler.transform(Xt)\n",
    "Xts = pd.DataFrame(Xts, index=Xt.index, columns=Xt.columns.values)"
   ]
  },
  {
   "cell_type": "code",
   "execution_count": 4,
   "metadata": {
    "scrolled": true
   },
   "outputs": [],
   "source": [
    "variables = [0 for x in range(10000000)]\n",
    "for i in range(10000000):\n",
    "    variables[i] = rnd.sample(X.columns.values.tolist(), rnd.sample([x+1 for x in range(X.shape[1])],1)[0])"
   ]
  },
  {
   "cell_type": "code",
   "execution_count": null,
   "metadata": {
    "scrolled": true
   },
   "outputs": [],
   "source": [
    "RMSE_List = [0 for x in range(10000000)]\n",
    "RMSE_List_round = [0 for x in range(10000000)]\n",
    "RMSE_List_floor = [0 for x in range(10000000)]\n",
    "RMSE_List_ceil = [0 for x in range(10000000)]\n",
    "start_time = time.time()\n",
    "for i in range(len(variables)):\n",
    "    xg_reg = xgb.XGBRegressor(objective ='reg:squarederror')\n",
    "    xg_reg.fit(Xs[variables[i]],Y)\n",
    "    preds = xg_reg.predict(Xts[variables[i]])\n",
    "    RMSE_List[i] = (np.sqrt(mean_squared_error(Yt, preds)))\n",
    "    RMSE_List_round[i] = np.sqrt(mean_squared_error(Yt, np.round(preds)))\n",
    "    RMSE_List_floor[i] = np.sqrt(mean_squared_error(Yt, np.floor(preds)))\n",
    "    RMSE_List_ceil[i] = np.sqrt(mean_squared_error(Yt, np.ceil(preds)))\n",
    "elapsed_time = time.time() - start_time\n",
    "print(elapsed_time)"
   ]
  },
  {
   "cell_type": "code",
   "execution_count": 26,
   "metadata": {},
   "outputs": [],
   "source": [
    "vari = np.array(variables)\n",
    "RMSE = np.array(RMSE_List)\n",
    "Round = np.array(RMSE_List_round)\n",
    "Floor = np.array(RMSE_List_floor)\n",
    "Ceil = np.array(RMSE_List_ceil)"
   ]
  },
  {
   "cell_type": "code",
   "execution_count": 27,
   "metadata": {},
   "outputs": [],
   "source": [
    "vari1 = vari[RMSE !=0]\n",
    "RMSE1 = RMSE[RMSE !=0]\n",
    "Round1 = Round[RMSE !=0]\n",
    "Floor1 = Floor[RMSE !=0]\n",
    "Ceil1 = Ceil[RMSE !=0]"
   ]
  },
  {
   "cell_type": "code",
   "execution_count": 28,
   "metadata": {
    "scrolled": true
   },
   "outputs": [
    {
     "name": "stdout",
     "output_type": "stream",
     "text": [
      "1.0425212693687411\n",
      "1.0165300454651272\n",
      "1.140175425099138\n",
      "1.1105554165971787\n"
     ]
    }
   ],
   "source": [
    "print(min(RMSE1))\n",
    "print(min(Round1))\n",
    "print(min(Floor1))\n",
    "print(min(Ceil1))"
   ]
  },
  {
   "cell_type": "code",
   "execution_count": 29,
   "metadata": {},
   "outputs": [
    {
     "data": {
      "text/plain": [
       "['x24',\n",
       " 'x18',\n",
       " 'x8',\n",
       " 'x2',\n",
       " 'x22',\n",
       " 'x16',\n",
       " 'x4',\n",
       " 'x29',\n",
       " 'x14',\n",
       " 'x30',\n",
       " 'x13',\n",
       " 'x25',\n",
       " 'x27',\n",
       " 'x7',\n",
       " 'x26',\n",
       " 'x3']"
      ]
     },
     "execution_count": 29,
     "metadata": {},
     "output_type": "execute_result"
    }
   ],
   "source": [
    "chosen = np.array(vari1)[Round1 == min(Round1)]\n",
    "chosen = chosen.tolist()[0]\n",
    "chosen"
   ]
  },
  {
   "cell_type": "code",
   "execution_count": 30,
   "metadata": {},
   "outputs": [
    {
     "data": {
      "text/plain": [
       "1.0165300454651272"
      ]
     },
     "execution_count": 30,
     "metadata": {},
     "output_type": "execute_result"
    }
   ],
   "source": [
    "xg_reg2 = xgb.XGBRegressor(objective ='reg:squarederror')\n",
    "xg_reg2.fit(Xs[chosen],Y)\n",
    "preds2 = xg_reg2.predict(Xts[chosen])\n",
    "np.sqrt(mean_squared_error(Yt, np.round(preds2)))"
   ]
  },
  {
   "cell_type": "code",
   "execution_count": 31,
   "metadata": {},
   "outputs": [
    {
     "data": {
      "text/plain": [
       "array([1., 2., 1., 1., 0., 1., 1., 1., 1., 1., 2., 0., 1., 1., 1., 2., 1.,\n",
       "       2., 2., 2., 2., 1., 1., 1., 1., 1., 4., 1., 1., 1.], dtype=float32)"
      ]
     },
     "execution_count": 31,
     "metadata": {},
     "output_type": "execute_result"
    }
   ],
   "source": [
    "np.round(preds2)"
   ]
  },
  {
   "cell_type": "code",
   "execution_count": 32,
   "metadata": {},
   "outputs": [
    {
     "data": {
      "text/plain": [
       "array([0, 2, 2, 2, 0, 1, 0, 0, 1, 0, 4, 0, 1, 1, 0, 1, 2, 2, 3, 2, 3, 0,\n",
       "       0, 0, 0, 2, 7, 0, 0, 1], dtype=int64)"
      ]
     },
     "execution_count": 32,
     "metadata": {},
     "output_type": "execute_result"
    }
   ],
   "source": [
    "Yt.values"
   ]
  }
 ],
 "metadata": {
  "kernelspec": {
   "display_name": "Python 3",
   "language": "python",
   "name": "python3"
  }
 },
 "nbformat": 4,
 "nbformat_minor": 2
}
