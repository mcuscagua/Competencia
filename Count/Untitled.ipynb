{
 "cells": [
  {
   "cell_type": "code",
   "execution_count": 2,
   "metadata": {},
   "outputs": [],
   "source": [
    "import pandas as pd\n",
    "import numpy as np\n",
    "from sklearn.linear_model import LogisticRegression\n",
    "from sklearn.metrics import roc_auc_score, mean_squared_error, accuracy_score\n",
    "\n",
    "import warnings\n",
    "warnings.filterwarnings(\"ignore\")"
   ]
  },
  {
   "cell_type": "code",
   "execution_count": 3,
   "metadata": {},
   "outputs": [],
   "source": [
    "def to_stand(x):\n",
    "    return (x-np.mean(x))/np.std(x)"
   ]
  },
  {
   "cell_type": "code",
   "execution_count": 4,
   "metadata": {},
   "outputs": [],
   "source": [
    "TestData = pd.read_csv('count_test.csv')\n",
    "Xt = TestData.drop('yC', axis = 1)\n",
    "Yt = TestData['yC']\n",
    "Xt = Xt.apply(to_stand)\n",
    "Xt = Xt[['x3','x13','x14','x22','x25']]"
   ]
  },
  {
   "cell_type": "code",
   "execution_count": 5,
   "metadata": {},
   "outputs": [],
   "source": [
    "TrainData = pd.read_csv('count_train.csv')\n",
    "X = TrainData.drop('yC', axis = 1)\n",
    "Y = TrainData['yC']\n",
    "X = X.apply(to_stand)\n",
    "X = X[['x3','x13','x14','x22','x25']]\n",
    "\n",
    "Y_class = np.sort(Y.unique())\n",
    "Log_Model = {}"
   ]
  },
  {
   "cell_type": "code",
   "execution_count": 7,
   "metadata": {},
   "outputs": [],
   "source": [
    "for cls in Y_class:\n",
    "    Yaux = Y.copy()\n",
    "    indaux = Yaux == cls\n",
    "    Yaux[indaux] = 1\n",
    "    Yaux[-indaux] = 0\n",
    "    LR = LogisticRegression()\n",
    "    LR.fit(X,Yaux)\n",
    "    Log_Model[str(cls)] = LR"
   ]
  },
  {
   "cell_type": "code",
   "execution_count": null,
   "metadata": {},
   "outputs": [],
   "source": [
    "for i in range(Xt.shape[0]):\n",
    "    pred = []\n",
    "    for cls, model in Log_Model.items():\n",
    "        pred.append(model.predict(Xt.iloc[0,].values.reshape(1, -1)))\n",
    "    "
   ]
  },
  {
   "cell_type": "code",
   "execution_count": 10,
   "metadata": {
    "scrolled": true
   },
   "outputs": [
    {
     "data": {
      "text/plain": [
       "0      1\n",
       "1      1\n",
       "2      1\n",
       "3      3\n",
       "4      0\n",
       "5      1\n",
       "6      1\n",
       "7      0\n",
       "8      6\n",
       "9      5\n",
       "10     0\n",
       "11     2\n",
       "12     1\n",
       "13     2\n",
       "14     0\n",
       "15     3\n",
       "16     1\n",
       "17     4\n",
       "18     1\n",
       "19     2\n",
       "20     1\n",
       "21     1\n",
       "22     5\n",
       "23     3\n",
       "24     1\n",
       "25     2\n",
       "26     0\n",
       "27     1\n",
       "28     1\n",
       "29     1\n",
       "      ..\n",
       "90     1\n",
       "91     1\n",
       "92     2\n",
       "93     1\n",
       "94     0\n",
       "95     0\n",
       "96     0\n",
       "97     1\n",
       "98     0\n",
       "99     0\n",
       "100    1\n",
       "101    2\n",
       "102    0\n",
       "103    0\n",
       "104    0\n",
       "105    3\n",
       "106    1\n",
       "107    0\n",
       "108    3\n",
       "109    2\n",
       "110    0\n",
       "111    0\n",
       "112    0\n",
       "113    0\n",
       "114    3\n",
       "115    2\n",
       "116    0\n",
       "117    2\n",
       "118    0\n",
       "119    1\n",
       "Name: yC, Length: 120, dtype: int64"
      ]
     },
     "execution_count": 10,
     "metadata": {},
     "output_type": "execute_result"
    }
   ],
   "source": [
    "Y"
   ]
  },
  {
   "cell_type": "code",
   "execution_count": 24,
   "metadata": {
    "scrolled": false
   },
   "outputs": [
    {
     "data": {
      "text/plain": [
       "array([0], dtype=int64)"
      ]
     },
     "execution_count": 24,
     "metadata": {},
     "output_type": "execute_result"
    }
   ],
   "source": []
  },
  {
   "cell_type": "code",
   "execution_count": 25,
   "metadata": {},
   "outputs": [],
   "source": [
    "pred = []\n",
    "for cls, model in Log_Model.items():\n",
    "    pred.append(model.predict(Xt.iloc[18,].values.reshape(1, -1)))"
   ]
  },
  {
   "cell_type": "code",
   "execution_count": 26,
   "metadata": {
    "scrolled": true
   },
   "outputs": [
    {
     "data": {
      "text/plain": [
       "0      1\n",
       "1      1\n",
       "2      1\n",
       "3      3\n",
       "4      0\n",
       "5      1\n",
       "6      1\n",
       "7      0\n",
       "8      6\n",
       "9      5\n",
       "10     0\n",
       "11     2\n",
       "12     1\n",
       "13     2\n",
       "14     0\n",
       "15     3\n",
       "16     1\n",
       "17     4\n",
       "18     1\n",
       "19     2\n",
       "20     1\n",
       "21     1\n",
       "22     5\n",
       "23     3\n",
       "24     1\n",
       "25     2\n",
       "26     0\n",
       "27     1\n",
       "28     1\n",
       "29     1\n",
       "      ..\n",
       "90     1\n",
       "91     1\n",
       "92     2\n",
       "93     1\n",
       "94     0\n",
       "95     0\n",
       "96     0\n",
       "97     1\n",
       "98     0\n",
       "99     0\n",
       "100    1\n",
       "101    2\n",
       "102    0\n",
       "103    0\n",
       "104    0\n",
       "105    3\n",
       "106    1\n",
       "107    0\n",
       "108    3\n",
       "109    2\n",
       "110    0\n",
       "111    0\n",
       "112    0\n",
       "113    0\n",
       "114    3\n",
       "115    2\n",
       "116    0\n",
       "117    2\n",
       "118    0\n",
       "119    1\n",
       "Name: yC, Length: 120, dtype: int64"
      ]
     },
     "execution_count": 26,
     "metadata": {},
     "output_type": "execute_result"
    }
   ],
   "source": [
    "Y"
   ]
  }
 ],
 "metadata": {
  "kernelspec": {
   "display_name": "Python 3",
   "language": "python",
   "name": "python3"
  },
  "language_info": {
   "codemirror_mode": {
    "name": "ipython",
    "version": 3
   },
   "file_extension": ".py",
   "mimetype": "text/x-python",
   "name": "python",
   "nbconvert_exporter": "python",
   "pygments_lexer": "ipython3",
   "version": "3.7.3"
  }
 },
 "nbformat": 4,
 "nbformat_minor": 2
}
