{
 "cells": [
  {
   "cell_type": "code",
   "execution_count": 1,
   "metadata": {},
   "outputs": [],
   "source": [
    "import pandas as pd\n",
    "import numpy as np\n",
    "from sklearn.linear_model import LogisticRegression\n",
    "from sklearn.multiclass import OneVsRestClassifier\n",
    "from sklearn.preprocessing import StandardScaler\n",
    "from sklearn.ensemble import RandomForestRegressor\n",
    "from sklearn.neural_network import MLPClassifier, MLPRegressor\n",
    "from sklearn.svm import SVR, SVC\n",
    "import statsmodels.api as sm\n",
    "from sklearn.metrics import roc_auc_score, mean_squared_error, accuracy_score\n",
    "import xgboost as xgb\n",
    "import time\n",
    "import random as rnd\n",
    "\n",
    "standarscaler = StandardScaler()\n",
    "\n",
    "import warnings\n",
    "warnings.filterwarnings(\"ignore\")"
   ]
  },
  {
   "cell_type": "code",
   "execution_count": 2,
   "metadata": {},
   "outputs": [],
   "source": [
    "TrainData = pd.read_csv('count_train.csv')\n",
    "X = TrainData.drop('yC', axis = 1)\n",
    "Y = TrainData['yC']\n",
    "\n",
    "Xs = standarscaler.fit_transform(X)\n",
    "Xs = pd.DataFrame(Xs, index=X.index, columns=X.columns.values)"
   ]
  },
  {
   "cell_type": "code",
   "execution_count": 3,
   "metadata": {},
   "outputs": [],
   "source": [
    "TestData = pd.read_csv('count_test.csv')\n",
    "Xt = TestData.drop('yC', axis = 1)\n",
    "Yt = TestData['yC']\n",
    "\n",
    "Xts = standarscaler.transform(Xt)\n",
    "Xts = pd.DataFrame(Xts, index=Xt.index, columns=Xt.columns.values)"
   ]
  },
  {
   "cell_type": "code",
   "execution_count": 4,
   "metadata": {},
   "outputs": [],
   "source": [
    "variables = ['x4', 'x13', 'x25', 'x24', 'x27', 'x7', 'x14', 'x3', 'x2', 'x8', 'x22']"
   ]
  },
  {
   "cell_type": "code",
   "execution_count": 33,
   "metadata": {
    "scrolled": true
   },
   "outputs": [],
   "source": [
    "def capacidad_pred_especifica(Ytrue, Yest):\n",
    "    y1 = Ytrue.values.copy()\n",
    "    y2 = Yest.values.copy()\n",
    "    y1[y1!=0] = 1\n",
    "    y2[y2!=0] = 1\n",
    "    return(accuracy_score(y1, y2))"
   ]
  },
  {
   "cell_type": "code",
   "execution_count": 83,
   "metadata": {},
   "outputs": [],
   "source": [
    "General = []\n",
    "Especifica = []"
   ]
  },
  {
   "cell_type": "markdown",
   "metadata": {},
   "source": [
    "# xgboost"
   ]
  },
  {
   "cell_type": "code",
   "execution_count": 84,
   "metadata": {
    "scrolled": true
   },
   "outputs": [
    {
     "name": "stdout",
     "output_type": "stream",
     "text": [
      "MSE es 1.0327955589886444\n",
      "Especifica es 0.6\n"
     ]
    }
   ],
   "source": [
    "xg_reg = xgb.XGBRegressor(objective ='reg:squarederror')\n",
    "xg_reg.fit(Xs[variables],Y)\n",
    "preds = xg_reg.predict(Xts[variables])\n",
    "\n",
    "MSE = np.sqrt(mean_squared_error(Yt, np.round(preds)))\n",
    "ESP = capacidad_pred_especifica(Yt, pd.Series(np.round(preds)))\n",
    "print('MSE es ' + str(MSE))\n",
    "print('Especifica es ' + str(ESP))\n",
    "General.append(MSE)\n",
    "Especifica.append(ESP)"
   ]
  },
  {
   "cell_type": "markdown",
   "metadata": {},
   "source": [
    "# Multiclass logistic regression"
   ]
  },
  {
   "cell_type": "code",
   "execution_count": 85,
   "metadata": {},
   "outputs": [
    {
     "name": "stdout",
     "output_type": "stream",
     "text": [
      "MSE es 1.4605934866804429\n",
      "Especifica es 0.6333333333333333\n"
     ]
    }
   ],
   "source": [
    "MLR = OneVsRestClassifier(LogisticRegression(), n_jobs=-1)\n",
    "MLR.fit(Xs[variables], Y)\n",
    "preds = MLR.predict(Xts[variables])\n",
    "\n",
    "MSE = np.sqrt(mean_squared_error(Yt, np.round(preds)))\n",
    "ESP = capacidad_pred_especifica(Yt, pd.Series(np.round(preds)))\n",
    "print('MSE es ' + str(MSE))\n",
    "print('Especifica es ' + str(ESP))\n",
    "General.append(MSE)\n",
    "Especifica.append(ESP)"
   ]
  },
  {
   "cell_type": "markdown",
   "metadata": {},
   "source": [
    "# Random Forest Regressor"
   ]
  },
  {
   "cell_type": "code",
   "execution_count": 86,
   "metadata": {},
   "outputs": [
    {
     "name": "stdout",
     "output_type": "stream",
     "text": [
      "MSE es 1.4023789311975086\n",
      "Especifica es 0.5333333333333333\n"
     ]
    }
   ],
   "source": [
    "RFR = RandomForestRegressor()\n",
    "RFR.fit(Xs[variables],Y)\n",
    "preds = RFR.predict(Xts[variables])\n",
    "\n",
    "MSE = np.sqrt(mean_squared_error(Yt, np.round(preds)))\n",
    "ESP = capacidad_pred_especifica(Yt, pd.Series(np.round(preds)))\n",
    "print('MSE es ' + str(MSE))\n",
    "print('Especifica es ' + str(ESP))\n",
    "General.append(MSE)\n",
    "Especifica.append(ESP)"
   ]
  },
  {
   "cell_type": "markdown",
   "metadata": {},
   "source": [
    "# Support Vector Machine Regressor"
   ]
  },
  {
   "cell_type": "code",
   "execution_count": 87,
   "metadata": {},
   "outputs": [
    {
     "name": "stdout",
     "output_type": "stream",
     "text": [
      "MSE es 1.378404875209022\n",
      "Especifica es 0.6333333333333333\n"
     ]
    }
   ],
   "source": [
    "SVMR = SVR()\n",
    "SVMR.fit(Xs[variables],Y)\n",
    "preds = SVMR.predict(Xts[variables])\n",
    "\n",
    "MSE = np.sqrt(mean_squared_error(Yt, np.round(preds)))\n",
    "ESP = capacidad_pred_especifica(Yt, pd.Series(np.round(preds)))\n",
    "print('MSE es ' + str(MSE))\n",
    "print('Especifica es ' + str(ESP))\n",
    "General.append(MSE)\n",
    "Especifica.append(ESP)"
   ]
  },
  {
   "cell_type": "markdown",
   "metadata": {},
   "source": [
    "# Support Vector Machine Classifier"
   ]
  },
  {
   "cell_type": "code",
   "execution_count": 88,
   "metadata": {},
   "outputs": [
    {
     "name": "stdout",
     "output_type": "stream",
     "text": [
      "MSE es 1.4719601443879744\n",
      "Especifica es 0.6333333333333333\n"
     ]
    }
   ],
   "source": [
    "SVMC = SVC()\n",
    "SVMC.fit(Xs[variables],Y)\n",
    "preds = SVMC.predict(Xts[variables])\n",
    "\n",
    "MSE = np.sqrt(mean_squared_error(Yt, np.round(preds)))\n",
    "ESP = capacidad_pred_especifica(Yt, pd.Series(np.round(preds)))\n",
    "print('MSE es ' + str(MSE))\n",
    "print('Especifica es ' + str(ESP))\n",
    "General.append(MSE)\n",
    "Especifica.append(ESP)"
   ]
  },
  {
   "cell_type": "markdown",
   "metadata": {},
   "source": [
    "# Multilayer Perceptron Classifier"
   ]
  },
  {
   "cell_type": "code",
   "execution_count": 89,
   "metadata": {},
   "outputs": [
    {
     "name": "stdout",
     "output_type": "stream",
     "text": [
      "MSE es 1.4719601443879744\n",
      "Especifica es 0.6\n"
     ]
    }
   ],
   "source": [
    "MLPC = MLPClassifier()\n",
    "MLPC.fit(Xs[variables],Y)\n",
    "preds = MLPC.predict(Xts[variables])\n",
    "\n",
    "MSE = np.sqrt(mean_squared_error(Yt, np.round(preds)))\n",
    "ESP = capacidad_pred_especifica(Yt, pd.Series(np.round(preds)))\n",
    "print('MSE es ' + str(MSE))\n",
    "print('Especifica es ' + str(ESP))\n",
    "General.append(MSE)\n",
    "Especifica.append(ESP)"
   ]
  },
  {
   "cell_type": "markdown",
   "metadata": {},
   "source": [
    "# Multilayer Perceptron Regressor"
   ]
  },
  {
   "cell_type": "code",
   "execution_count": 90,
   "metadata": {},
   "outputs": [
    {
     "name": "stdout",
     "output_type": "stream",
     "text": [
      "MSE es 1.3038404810405297\n",
      "Especifica es 0.5666666666666667\n"
     ]
    }
   ],
   "source": [
    "MLPR = MLPRegressor()\n",
    "MLPR.fit(Xs[variables],Y)\n",
    "preds = MLPR.predict(Xts[variables])\n",
    "\n",
    "MSE = np.sqrt(mean_squared_error(Yt, np.round(preds)))\n",
    "ESP = capacidad_pred_especifica(Yt, pd.Series(np.round(preds)))\n",
    "print('MSE es ' + str(MSE))\n",
    "print('Especifica es ' + str(ESP))\n",
    "General.append(MSE)\n",
    "Especifica.append(ESP)"
   ]
  },
  {
   "cell_type": "markdown",
   "metadata": {},
   "source": [
    "# Poisson Regression"
   ]
  },
  {
   "cell_type": "code",
   "execution_count": 91,
   "metadata": {},
   "outputs": [
    {
     "name": "stdout",
     "output_type": "stream",
     "text": [
      "MSE es 1.2780193008453875\n",
      "Especifica es 0.6\n"
     ]
    }
   ],
   "source": [
    "PR = sm.GLM(Y, Xs[variables], family=sm.families.Poisson()).fit()\n",
    "preds = PR.get_prediction(Xts[variables]).summary_frame()['mean']\n",
    "\n",
    "MSE = np.sqrt(mean_squared_error(Yt, np.round(preds)))\n",
    "ESP = capacidad_pred_especifica(Yt, pd.Series(np.round(preds)))\n",
    "print('MSE es ' + str(MSE))\n",
    "print('Especifica es ' + str(ESP))\n",
    "General.append(MSE)\n",
    "Especifica.append(ESP)"
   ]
  },
  {
   "cell_type": "markdown",
   "metadata": {},
   "source": [
    "## Resultados"
   ]
  },
  {
   "cell_type": "code",
   "execution_count": 100,
   "metadata": {},
   "outputs": [
    {
     "data": {
      "text/html": [
       "<div>\n",
       "<style scoped>\n",
       "    .dataframe tbody tr th:only-of-type {\n",
       "        vertical-align: middle;\n",
       "    }\n",
       "\n",
       "    .dataframe tbody tr th {\n",
       "        vertical-align: top;\n",
       "    }\n",
       "\n",
       "    .dataframe thead th {\n",
       "        text-align: right;\n",
       "    }\n",
       "</style>\n",
       "<table border=\"1\" class=\"dataframe\">\n",
       "  <thead>\n",
       "    <tr style=\"text-align: right;\">\n",
       "      <th></th>\n",
       "      <th>XGBoost</th>\n",
       "      <th>Multiclass Logistic Regression</th>\n",
       "      <th>Random Forest Regressor</th>\n",
       "      <th>SVM Regressor</th>\n",
       "      <th>SVM Classifier</th>\n",
       "      <th>Multilayer Percepton Classifier</th>\n",
       "      <th>Multilayer Perceptron Regressor</th>\n",
       "      <th>Poisson Regression</th>\n",
       "    </tr>\n",
       "  </thead>\n",
       "  <tbody>\n",
       "    <tr>\n",
       "      <th>0</th>\n",
       "      <td>1.032796</td>\n",
       "      <td>1.460593</td>\n",
       "      <td>1.402379</td>\n",
       "      <td>1.378405</td>\n",
       "      <td>1.471960</td>\n",
       "      <td>1.47196</td>\n",
       "      <td>1.303840</td>\n",
       "      <td>1.278019</td>\n",
       "    </tr>\n",
       "    <tr>\n",
       "      <th>1</th>\n",
       "      <td>0.600000</td>\n",
       "      <td>0.633333</td>\n",
       "      <td>0.533333</td>\n",
       "      <td>0.633333</td>\n",
       "      <td>0.633333</td>\n",
       "      <td>0.60000</td>\n",
       "      <td>0.566667</td>\n",
       "      <td>0.600000</td>\n",
       "    </tr>\n",
       "  </tbody>\n",
       "</table>\n",
       "</div>"
      ],
      "text/plain": [
       "    XGBoost  Multiclass Logistic Regression  Random Forest Regressor  \\\n",
       "0  1.032796                        1.460593                 1.402379   \n",
       "1  0.600000                        0.633333                 0.533333   \n",
       "\n",
       "   SVM Regressor  SVM Classifier  Multilayer Percepton Classifier  \\\n",
       "0       1.378405        1.471960                          1.47196   \n",
       "1       0.633333        0.633333                          0.60000   \n",
       "\n",
       "   Multilayer Perceptron Regressor  Poisson Regression  \n",
       "0                         1.303840            1.278019  \n",
       "1                         0.566667            0.600000  "
      ]
     },
     "execution_count": 100,
     "metadata": {},
     "output_type": "execute_result"
    }
   ],
   "source": [
    "Resultados = pd.DataFrame([General, Especifica])\n",
    "Resultados.columns = ['XGBoost', 'Multiclass Logistic Regression', 'Random Forest Regressor', 'SVM Regressor',\n",
    "                      'SVM Classifier', 'Multilayer Percepton Classifier', 'Multilayer Perceptron Regressor',\n",
    "                      'Poisson Regression']\n",
    "\n",
    "Resultados"
   ]
  }
 ],
 "metadata": {
  "kernelspec": {
   "display_name": "Python 3",
   "language": "python",
   "name": "python3"
  },
  "language_info": {
   "codemirror_mode": {
    "name": "ipython",
    "version": 3
   },
   "file_extension": ".py",
   "mimetype": "text/x-python",
   "name": "python",
   "nbconvert_exporter": "python",
   "pygments_lexer": "ipython3",
   "version": "3.7.3"
  }
 },
 "nbformat": 4,
 "nbformat_minor": 2
}
