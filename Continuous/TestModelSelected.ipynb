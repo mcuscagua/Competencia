{
 "cells": [
  {
   "cell_type": "code",
   "execution_count": 42,
   "metadata": {},
   "outputs": [],
   "source": [
    "import pandas as pd\n",
    "import numpy as np\n",
    "from sklearn.model_selection import GridSearchCV,train_test_split\n",
    "from sklearn.preprocessing import StandardScaler\n",
    "from sklearn.linear_model import LinearRegression\n",
    "import matplotlib.pyplot as plt\n",
    "from sklearn.pipeline import Pipeline\n",
    "from sklearn.metrics import mean_squared_error, r2_score\n",
    "import pickle"
   ]
  },
  {
   "cell_type": "code",
   "execution_count": 2,
   "metadata": {},
   "outputs": [],
   "source": [
    "path = 'continuous_train.csv'\n",
    "data = pd.read_csv(path, sep = ',', na_filter = False)\n",
    "data = data.set_index('Unnamed: 0')\n",
    "\n",
    "X_train = data.drop(columns = ['y']).copy()\n",
    "y_train = data[['y']].copy()"
   ]
  },
  {
   "cell_type": "code",
   "execution_count": 3,
   "metadata": {},
   "outputs": [],
   "source": [
    "path = 'continuous_test.csv'\n",
    "test = pd.read_csv(path, sep = ',', na_filter = False)\n",
    "test = test.set_index('Unnamed: 0')\n",
    "\n",
    "X_test = test.drop(columns = ['y']).copy()\n",
    "y_test = test[['y']].copy()"
   ]
  },
  {
   "cell_type": "code",
   "execution_count": 4,
   "metadata": {},
   "outputs": [],
   "source": [
    "def calculated_metrics(variablesSelected,X_trained_scaled,y_train,X_test_scaled,y_test):\n",
    "    X_trained_scaled_aux = X_trained_scaled[variablesSelected].copy()\n",
    "    X_test_scaled_aux = X_test_scaled[variablesSelected].copy()\n",
    "    ## Regresion para cada cantidad de variables\n",
    "    regr = LinearRegression()\n",
    "\n",
    "    # Train the model using the training sets\n",
    "    regr.fit(X_trained_scaled_aux,  y_train['y'].values)\n",
    "\n",
    "    # Make predictions using the testing set\n",
    "    y_pred = regr.predict(X_test_scaled_aux)\n",
    "\n",
    "    y_pred = pd.DataFrame(y_pred, index=y_test.index, columns=[\"y_pred\"])\n",
    "\n",
    "    total = y_pred.join(y_test)\n",
    "    total['y_menor_-1'] = (total['y']<-1).astype(int)\n",
    "    total['y_pred_menor_-1'] = (total['y_pred']<-1).astype(int)\n",
    "    total['good_class'] = (total['y_menor_-1']==total['y_pred_menor_-1']).astype(int)\n",
    "    mse = mean_squared_error(y_test, y_pred)\n",
    "    accuray =total['good_class'].sum()/len(total)\n",
    "    r2 = r2_score(y_test, y_pred)\n",
    "    return mse,accuray,r2"
   ]
  },
  {
   "cell_type": "code",
   "execution_count": 5,
   "metadata": {},
   "outputs": [],
   "source": [
    "modelToProof = [['x12','x23','x25','x32']]"
   ]
  },
  {
   "cell_type": "code",
   "execution_count": 6,
   "metadata": {},
   "outputs": [],
   "source": [
    "modelToProof.append(['x6','x7','x12','x23','x24','x25','x32'])"
   ]
  },
  {
   "cell_type": "code",
   "execution_count": 7,
   "metadata": {},
   "outputs": [],
   "source": [
    "modelToProof.append(['x6','x13','x20','x23','x25','x27','x31'])"
   ]
  },
  {
   "cell_type": "code",
   "execution_count": 8,
   "metadata": {},
   "outputs": [],
   "source": [
    "modelToProof.append(['x6','x13','x21','x23','x25','x31'])"
   ]
  },
  {
   "cell_type": "code",
   "execution_count": 9,
   "metadata": {},
   "outputs": [],
   "source": [
    "modelToProof.append(['x1','x23','x25','x32'])"
   ]
  },
  {
   "cell_type": "code",
   "execution_count": 10,
   "metadata": {},
   "outputs": [],
   "source": [
    "modelToProof.append(['x1','x23','x25','x31'])"
   ]
  },
  {
   "cell_type": "code",
   "execution_count": 11,
   "metadata": {},
   "outputs": [],
   "source": [
    "modelToProof.append(['x12','x23','x24','x25','x32'])"
   ]
  },
  {
   "cell_type": "code",
   "execution_count": 12,
   "metadata": {},
   "outputs": [],
   "source": [
    "modelToProof.append(['x6','x7','x12','x23','x24','x25','x32'])"
   ]
  },
  {
   "cell_type": "code",
   "execution_count": 13,
   "metadata": {},
   "outputs": [],
   "source": [
    "modelToProof.append(['x13','x23','x25','x31'])"
   ]
  },
  {
   "cell_type": "code",
   "execution_count": 14,
   "metadata": {},
   "outputs": [],
   "source": [
    "modelToProof.append(['x13','x23','x25','x31','x32'])"
   ]
  },
  {
   "cell_type": "code",
   "execution_count": 15,
   "metadata": {},
   "outputs": [],
   "source": [
    "modelToProof.append(['x23','x25','x31'])"
   ]
  },
  {
   "cell_type": "code",
   "execution_count": 16,
   "metadata": {},
   "outputs": [],
   "source": [
    "modelToProof.append(['x13','x23','x25'])"
   ]
  },
  {
   "cell_type": "code",
   "execution_count": 17,
   "metadata": {},
   "outputs": [],
   "source": [
    "modelToProof.append(['x23','x25'])"
   ]
  },
  {
   "cell_type": "code",
   "execution_count": 18,
   "metadata": {},
   "outputs": [],
   "source": [
    "standarscaler = StandardScaler()\n",
    "X_trained_scaled = standarscaler.fit_transform(X_train)\n",
    "X_trained_scaled = pd.DataFrame(X_trained_scaled, index=X_train.index, columns=X_train.columns.values)\n",
    "\n",
    "X_test_scaled = standarscaler.transform(X_test)\n",
    "\n",
    "X_test_scaled = pd.DataFrame(X_test_scaled, index=X_test.index, columns=X_test.columns.values)"
   ]
  },
  {
   "cell_type": "code",
   "execution_count": 19,
   "metadata": {},
   "outputs": [],
   "source": [
    "resultados = pd.DataFrame()\n",
    "for variablesSelected in modelToProof:\n",
    "    mse_aux,accuray_aux,r2_aux= calculated_metrics(variablesSelected,X_trained_scaled,y_train,X_test_scaled,y_test)\n",
    "    auxRes= pd.DataFrame({'Modelo': [variablesSelected], 'Median: Mean squared error': [np.median(np.asarray(mse_aux))], 'Median: R2': [np.median(np.asarray(r2_aux))],'Median: Accuray': [np.median(np.asarray(accuray_aux))]})\n",
    "    resultados = pd.concat([resultados,auxRes])"
   ]
  },
  {
   "cell_type": "code",
   "execution_count": 21,
   "metadata": {},
   "outputs": [
    {
     "data": {
      "text/html": [
       "<div>\n",
       "<style scoped>\n",
       "    .dataframe tbody tr th:only-of-type {\n",
       "        vertical-align: middle;\n",
       "    }\n",
       "\n",
       "    .dataframe tbody tr th {\n",
       "        vertical-align: top;\n",
       "    }\n",
       "\n",
       "    .dataframe thead th {\n",
       "        text-align: right;\n",
       "    }\n",
       "</style>\n",
       "<table border=\"1\" class=\"dataframe\">\n",
       "  <thead>\n",
       "    <tr style=\"text-align: right;\">\n",
       "      <th></th>\n",
       "      <th>Modelo</th>\n",
       "      <th>Median: Mean squared error</th>\n",
       "      <th>Median: R2</th>\n",
       "      <th>Median: Accuray</th>\n",
       "    </tr>\n",
       "  </thead>\n",
       "  <tbody>\n",
       "    <tr>\n",
       "      <td>0</td>\n",
       "      <td>[x6, x13, x20, x23, x25, x27, x31]</td>\n",
       "      <td>3.605172</td>\n",
       "      <td>0.288628</td>\n",
       "      <td>0.700000</td>\n",
       "    </tr>\n",
       "    <tr>\n",
       "      <td>0</td>\n",
       "      <td>[x1, x23, x25, x32]</td>\n",
       "      <td>3.882074</td>\n",
       "      <td>0.233990</td>\n",
       "      <td>0.800000</td>\n",
       "    </tr>\n",
       "    <tr>\n",
       "      <td>0</td>\n",
       "      <td>[x1, x23, x25, x31]</td>\n",
       "      <td>3.942122</td>\n",
       "      <td>0.222142</td>\n",
       "      <td>0.800000</td>\n",
       "    </tr>\n",
       "    <tr>\n",
       "      <td>0</td>\n",
       "      <td>[x23, x25, x31]</td>\n",
       "      <td>4.121718</td>\n",
       "      <td>0.186704</td>\n",
       "      <td>0.800000</td>\n",
       "    </tr>\n",
       "    <tr>\n",
       "      <td>0</td>\n",
       "      <td>[x23, x25]</td>\n",
       "      <td>4.206218</td>\n",
       "      <td>0.170030</td>\n",
       "      <td>0.833333</td>\n",
       "    </tr>\n",
       "    <tr>\n",
       "      <td>0</td>\n",
       "      <td>[x13, x23, x25]</td>\n",
       "      <td>4.331523</td>\n",
       "      <td>0.145305</td>\n",
       "      <td>0.833333</td>\n",
       "    </tr>\n",
       "    <tr>\n",
       "      <td>0</td>\n",
       "      <td>[x13, x23, x25, x31, x32]</td>\n",
       "      <td>4.484211</td>\n",
       "      <td>0.115177</td>\n",
       "      <td>0.766667</td>\n",
       "    </tr>\n",
       "    <tr>\n",
       "      <td>0</td>\n",
       "      <td>[x6, x13, x21, x23, x25, x31]</td>\n",
       "      <td>4.519678</td>\n",
       "      <td>0.108178</td>\n",
       "      <td>0.700000</td>\n",
       "    </tr>\n",
       "    <tr>\n",
       "      <td>0</td>\n",
       "      <td>[x13, x23, x25, x31]</td>\n",
       "      <td>4.520651</td>\n",
       "      <td>0.107986</td>\n",
       "      <td>0.800000</td>\n",
       "    </tr>\n",
       "    <tr>\n",
       "      <td>0</td>\n",
       "      <td>[x12, x23, x24, x25, x32]</td>\n",
       "      <td>4.732792</td>\n",
       "      <td>0.066127</td>\n",
       "      <td>0.733333</td>\n",
       "    </tr>\n",
       "    <tr>\n",
       "      <td>0</td>\n",
       "      <td>[x12, x23, x25, x32]</td>\n",
       "      <td>4.844263</td>\n",
       "      <td>0.044131</td>\n",
       "      <td>0.766667</td>\n",
       "    </tr>\n",
       "    <tr>\n",
       "      <td>0</td>\n",
       "      <td>[x6, x7, x12, x23, x24, x25, x32]</td>\n",
       "      <td>4.969183</td>\n",
       "      <td>0.019482</td>\n",
       "      <td>0.733333</td>\n",
       "    </tr>\n",
       "    <tr>\n",
       "      <td>0</td>\n",
       "      <td>[x6, x7, x12, x23, x24, x25, x32]</td>\n",
       "      <td>4.969183</td>\n",
       "      <td>0.019482</td>\n",
       "      <td>0.733333</td>\n",
       "    </tr>\n",
       "  </tbody>\n",
       "</table>\n",
       "</div>"
      ],
      "text/plain": [
       "                               Modelo  Median: Mean squared error  Median: R2  \\\n",
       "0  [x6, x13, x20, x23, x25, x27, x31]                    3.605172    0.288628   \n",
       "0                 [x1, x23, x25, x32]                    3.882074    0.233990   \n",
       "0                 [x1, x23, x25, x31]                    3.942122    0.222142   \n",
       "0                     [x23, x25, x31]                    4.121718    0.186704   \n",
       "0                          [x23, x25]                    4.206218    0.170030   \n",
       "0                     [x13, x23, x25]                    4.331523    0.145305   \n",
       "0           [x13, x23, x25, x31, x32]                    4.484211    0.115177   \n",
       "0       [x6, x13, x21, x23, x25, x31]                    4.519678    0.108178   \n",
       "0                [x13, x23, x25, x31]                    4.520651    0.107986   \n",
       "0           [x12, x23, x24, x25, x32]                    4.732792    0.066127   \n",
       "0                [x12, x23, x25, x32]                    4.844263    0.044131   \n",
       "0   [x6, x7, x12, x23, x24, x25, x32]                    4.969183    0.019482   \n",
       "0   [x6, x7, x12, x23, x24, x25, x32]                    4.969183    0.019482   \n",
       "\n",
       "   Median: Accuray  \n",
       "0         0.700000  \n",
       "0         0.800000  \n",
       "0         0.800000  \n",
       "0         0.800000  \n",
       "0         0.833333  \n",
       "0         0.833333  \n",
       "0         0.766667  \n",
       "0         0.700000  \n",
       "0         0.800000  \n",
       "0         0.733333  \n",
       "0         0.766667  \n",
       "0         0.733333  \n",
       "0         0.733333  "
      ]
     },
     "execution_count": 21,
     "metadata": {},
     "output_type": "execute_result"
    }
   ],
   "source": [
    "resultados.sort_values('Median: Mean squared error')"
   ]
  },
  {
   "cell_type": "code",
   "execution_count": 34,
   "metadata": {},
   "outputs": [],
   "source": [
    "def training_model(variablesSelected,X_trained,y_train,X_test,y_test):\n",
    "    X_trained_aux = X_trained[variablesSelected].copy()\n",
    "    X_test_aux = X_test[variablesSelected].copy()\n",
    "    ## Regresion para cada cantidad de variables\n",
    "    model_to_return = {}\n",
    "    model_to_return['variableSelected'] = variablesSelected\n",
    "    \n",
    "    pipeline = Pipeline(steps = [('standarscaled',StandardScaler()),\n",
    "                                 ('linearModel',LinearRegression())])\n",
    "\n",
    "\n",
    "    # Train the model using the training sets\n",
    "    pipeline.fit(X_trained_aux,  y_train['y'].values)\n",
    "\n",
    "    # Make predictions using the testing set\n",
    "    y_pred = pipeline.predict(X_test_aux)\n",
    "\n",
    "    y_pred = pd.DataFrame(y_pred, index=y_test.index, columns=[\"y_pred\"])\n",
    "\n",
    "    total = y_pred.join(y_test)\n",
    "    total['y_menor_-1'] = (total['y']<-1).astype(int)\n",
    "    total['y_pred_menor_-1'] = (total['y_pred']<-1).astype(int)\n",
    "    total['good_class'] = (total['y_menor_-1']==total['y_pred_menor_-1']).astype(int)\n",
    "    mse = mean_squared_error(y_test, y_pred)\n",
    "    accuray =total['good_class'].sum()/len(total)\n",
    "    r2 = r2_score(y_test, y_pred)\n",
    "    model_to_return['model'] = pipeline\n",
    "    model_to_return['mse_test'] = mse\n",
    "    model_to_return['accuray_test'] = accuray\n",
    "    model_to_return['r2_test'] = r2\n",
    "    return model_to_return"
   ]
  },
  {
   "cell_type": "markdown",
   "metadata": {},
   "source": [
    "## Modelo Final"
   ]
  },
  {
   "cell_type": "code",
   "execution_count": 29,
   "metadata": {},
   "outputs": [],
   "source": [
    "variablesSelected = ['x23', 'x25']"
   ]
  },
  {
   "cell_type": "code",
   "execution_count": 35,
   "metadata": {},
   "outputs": [],
   "source": [
    "model_to_return = training_model(variablesSelected,X_train,y_train,X_test,y_test)"
   ]
  },
  {
   "cell_type": "code",
   "execution_count": 36,
   "metadata": {},
   "outputs": [
    {
     "data": {
      "text/plain": [
       "{'variableSelected': ['x23', 'x25'], 'model': Pipeline(memory=None,\n",
       "          steps=[('standarscaled',\n",
       "                  StandardScaler(copy=True, with_mean=True, with_std=True)),\n",
       "                 ('linearModel',\n",
       "                  LinearRegression(copy_X=True, fit_intercept=True, n_jobs=None,\n",
       "                                   normalize=False))],\n",
       "          verbose=False), 'mse_test': 4.206217969668216, 'accuray_test': 0.8333333333333334, 'r2_test': 0.1700302684229148}"
      ]
     },
     "execution_count": 36,
     "metadata": {},
     "output_type": "execute_result"
    }
   ],
   "source": [
    "model_to_return"
   ]
  },
  {
   "cell_type": "code",
   "execution_count": 43,
   "metadata": {},
   "outputs": [],
   "source": [
    "pickle.dump(model_to_return, open('modelContinuos.sav', 'wb'))"
   ]
  }
 ],
 "metadata": {
  "kernelspec": {
   "display_name": "Python 3",
   "language": "python",
   "name": "python3"
  },
  "language_info": {
   "codemirror_mode": {
    "name": "ipython",
    "version": 3
   },
   "file_extension": ".py",
   "mimetype": "text/x-python",
   "name": "python",
   "nbconvert_exporter": "python",
   "pygments_lexer": "ipython3",
   "version": "3.6.6"
  }
 },
 "nbformat": 4,
 "nbformat_minor": 2
}
