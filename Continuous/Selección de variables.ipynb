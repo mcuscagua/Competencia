{
 "cells": [
  {
   "cell_type": "code",
   "execution_count": 16,
   "metadata": {},
   "outputs": [],
   "source": [
    "import pandas as pd\n",
    "import numpy as np\n",
    "from sklearn.model_selection import GridSearchCV,train_test_split\n",
    "from sklearn.preprocessing import StandardScaler"
   ]
  },
  {
   "cell_type": "markdown",
   "metadata": {},
   "source": [
    "# Lectura de los datos"
   ]
  },
  {
   "cell_type": "code",
   "execution_count": 5,
   "metadata": {},
   "outputs": [],
   "source": [
    "datos = pd.read_csv('datacontinuousstudents.csv', sep = ',', encoding = 'UTF-8')\n",
    "# datos.rename(columns={'Precio(millones)':'Precio'}, inplace = True)"
   ]
  },
  {
   "cell_type": "code",
   "execution_count": 6,
   "metadata": {},
   "outputs": [],
   "source": [
    "datos = datos.set_index('id')"
   ]
  },
  {
   "cell_type": "code",
   "execution_count": 7,
   "metadata": {
    "scrolled": true
   },
   "outputs": [
    {
     "name": "stdout",
     "output_type": "stream",
     "text": [
      "<class 'pandas.core.frame.DataFrame'>\n",
      "Int64Index: 150 entries, 1 to 150\n",
      "Data columns (total 33 columns):\n",
      "y      150 non-null float64\n",
      "x1     150 non-null float64\n",
      "x2     150 non-null float64\n",
      "x3     150 non-null int64\n",
      "x4     150 non-null int64\n",
      "x5     150 non-null int64\n",
      "x6     150 non-null int64\n",
      "x7     150 non-null int64\n",
      "x8     150 non-null float64\n",
      "x9     150 non-null int64\n",
      "x10    150 non-null float64\n",
      "x11    150 non-null float64\n",
      "x12    150 non-null float64\n",
      "x13    150 non-null int64\n",
      "x14    150 non-null int64\n",
      "x15    150 non-null int64\n",
      "x16    150 non-null int64\n",
      "x17    150 non-null int64\n",
      "x18    150 non-null int64\n",
      "x19    150 non-null int64\n",
      "x20    150 non-null int64\n",
      "x21    150 non-null float64\n",
      "x22    150 non-null float64\n",
      "x23    150 non-null float64\n",
      "x24    150 non-null float64\n",
      "x25    150 non-null int64\n",
      "x26    150 non-null int64\n",
      "x27    150 non-null float64\n",
      "x28    150 non-null int64\n",
      "x29    150 non-null int64\n",
      "x30    150 non-null int64\n",
      "x31    150 non-null float64\n",
      "x32    150 non-null float64\n",
      "dtypes: float64(14), int64(19)\n",
      "memory usage: 39.8 KB\n"
     ]
    }
   ],
   "source": [
    "datos.info()"
   ]
  },
  {
   "cell_type": "code",
   "execution_count": 8,
   "metadata": {},
   "outputs": [],
   "source": [
    "#Eliminacion de NAN\n",
    "datos.dropna(inplace = True)"
   ]
  },
  {
   "cell_type": "code",
   "execution_count": 9,
   "metadata": {},
   "outputs": [
    {
     "name": "stdout",
     "output_type": "stream",
     "text": [
      "<class 'pandas.core.frame.DataFrame'>\n",
      "Int64Index: 150 entries, 1 to 150\n",
      "Data columns (total 33 columns):\n",
      "y      150 non-null float64\n",
      "x1     150 non-null float64\n",
      "x2     150 non-null float64\n",
      "x3     150 non-null int64\n",
      "x4     150 non-null int64\n",
      "x5     150 non-null int64\n",
      "x6     150 non-null int64\n",
      "x7     150 non-null int64\n",
      "x8     150 non-null float64\n",
      "x9     150 non-null int64\n",
      "x10    150 non-null float64\n",
      "x11    150 non-null float64\n",
      "x12    150 non-null float64\n",
      "x13    150 non-null int64\n",
      "x14    150 non-null int64\n",
      "x15    150 non-null int64\n",
      "x16    150 non-null int64\n",
      "x17    150 non-null int64\n",
      "x18    150 non-null int64\n",
      "x19    150 non-null int64\n",
      "x20    150 non-null int64\n",
      "x21    150 non-null float64\n",
      "x22    150 non-null float64\n",
      "x23    150 non-null float64\n",
      "x24    150 non-null float64\n",
      "x25    150 non-null int64\n",
      "x26    150 non-null int64\n",
      "x27    150 non-null float64\n",
      "x28    150 non-null int64\n",
      "x29    150 non-null int64\n",
      "x30    150 non-null int64\n",
      "x31    150 non-null float64\n",
      "x32    150 non-null float64\n",
      "dtypes: float64(14), int64(19)\n",
      "memory usage: 39.8 KB\n"
     ]
    }
   ],
   "source": [
    "datos.info()"
   ]
  },
  {
   "cell_type": "code",
   "execution_count": 13,
   "metadata": {},
   "outputs": [],
   "source": [
    "# variables seleccionadas según diferentes criterios\n",
    "test_size = 0.2\n",
    "y = datos[['y']].copy()\n",
    "X = datos.drop(columns = ['y']).copy()"
   ]
  },
  {
   "cell_type": "markdown",
   "metadata": {},
   "source": [
    "# Particionar el Data Frame"
   ]
  },
  {
   "cell_type": "code",
   "execution_count": 14,
   "metadata": {},
   "outputs": [],
   "source": [
    "X_train, X_test, y_train, y_test = train_test_split(X, y, test_size=test_size)"
   ]
  },
  {
   "cell_type": "code",
   "execution_count": 17,
   "metadata": {},
   "outputs": [],
   "source": [
    "standarscaler = StandardScaler()"
   ]
  },
  {
   "cell_type": "code",
   "execution_count": 18,
   "metadata": {},
   "outputs": [],
   "source": [
    "X_trained_scaled = standarscaler.fit_transform(X_train)"
   ]
  },
  {
   "cell_type": "code",
   "execution_count": null,
   "metadata": {},
   "outputs": [],
   "source": [
    "from sklearn.feature_selection import RFE\n",
    "from sklearn.svm import SVR\n",
    "\n",
    "rfe_selector = RFE(estimator=LogisticRegression(), n_features_to_select=100, step=10, verbose=5)\n",
    "rfe_selector.fit(X_norm, y)"
   ]
  }
 ],
 "metadata": {
  "kernelspec": {
   "display_name": "Python 3",
   "language": "python",
   "name": "python3"
  },
  "language_info": {
   "codemirror_mode": {
    "name": "ipython",
    "version": 3
   },
   "file_extension": ".py",
   "mimetype": "text/x-python",
   "name": "python",
   "nbconvert_exporter": "python",
   "pygments_lexer": "ipython3",
   "version": "3.6.6"
  }
 },
 "nbformat": 4,
 "nbformat_minor": 2
}
