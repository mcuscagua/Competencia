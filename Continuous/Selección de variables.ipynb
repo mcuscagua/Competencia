{
 "cells": [
  {
   "cell_type": "code",
   "execution_count": 12,
   "metadata": {},
   "outputs": [],
   "source": [
    "import pandas as pd\n",
    "import numpy as np\n",
    "from sklearn.model_selection import GridSearchCV,train_test_split\n",
    "from sklearn.preprocessing import StandardScaler\n",
    "from sklearn.linear_model import LinearRegression"
   ]
  },
  {
   "cell_type": "markdown",
   "metadata": {},
   "source": [
    "# Lectura de los datos"
   ]
  },
  {
   "cell_type": "code",
   "execution_count": 2,
   "metadata": {},
   "outputs": [],
   "source": [
    "datos = pd.read_csv('datacontinuousstudents.csv', sep = ',', encoding = 'UTF-8')\n",
    "# datos.rename(columns={'Precio(millones)':'Precio'}, inplace = True)"
   ]
  },
  {
   "cell_type": "code",
   "execution_count": 3,
   "metadata": {},
   "outputs": [],
   "source": [
    "datos = datos.set_index('id')"
   ]
  },
  {
   "cell_type": "code",
   "execution_count": 4,
   "metadata": {
    "scrolled": true
   },
   "outputs": [
    {
     "name": "stdout",
     "output_type": "stream",
     "text": [
      "<class 'pandas.core.frame.DataFrame'>\n",
      "Int64Index: 150 entries, 1 to 150\n",
      "Data columns (total 33 columns):\n",
      "y      150 non-null float64\n",
      "x1     150 non-null float64\n",
      "x2     150 non-null float64\n",
      "x3     150 non-null int64\n",
      "x4     150 non-null int64\n",
      "x5     150 non-null int64\n",
      "x6     150 non-null int64\n",
      "x7     150 non-null int64\n",
      "x8     150 non-null float64\n",
      "x9     150 non-null int64\n",
      "x10    150 non-null float64\n",
      "x11    150 non-null float64\n",
      "x12    150 non-null float64\n",
      "x13    150 non-null int64\n",
      "x14    150 non-null int64\n",
      "x15    150 non-null int64\n",
      "x16    150 non-null int64\n",
      "x17    150 non-null int64\n",
      "x18    150 non-null int64\n",
      "x19    150 non-null int64\n",
      "x20    150 non-null int64\n",
      "x21    150 non-null float64\n",
      "x22    150 non-null float64\n",
      "x23    150 non-null float64\n",
      "x24    150 non-null float64\n",
      "x25    150 non-null int64\n",
      "x26    150 non-null int64\n",
      "x27    150 non-null float64\n",
      "x28    150 non-null int64\n",
      "x29    150 non-null int64\n",
      "x30    150 non-null int64\n",
      "x31    150 non-null float64\n",
      "x32    150 non-null float64\n",
      "dtypes: float64(14), int64(19)\n",
      "memory usage: 39.8 KB\n"
     ]
    }
   ],
   "source": [
    "datos.info()"
   ]
  },
  {
   "cell_type": "code",
   "execution_count": 5,
   "metadata": {},
   "outputs": [],
   "source": [
    "#Eliminacion de NAN\n",
    "datos.dropna(inplace = True)"
   ]
  },
  {
   "cell_type": "code",
   "execution_count": 6,
   "metadata": {},
   "outputs": [
    {
     "name": "stdout",
     "output_type": "stream",
     "text": [
      "<class 'pandas.core.frame.DataFrame'>\n",
      "Int64Index: 150 entries, 1 to 150\n",
      "Data columns (total 33 columns):\n",
      "y      150 non-null float64\n",
      "x1     150 non-null float64\n",
      "x2     150 non-null float64\n",
      "x3     150 non-null int64\n",
      "x4     150 non-null int64\n",
      "x5     150 non-null int64\n",
      "x6     150 non-null int64\n",
      "x7     150 non-null int64\n",
      "x8     150 non-null float64\n",
      "x9     150 non-null int64\n",
      "x10    150 non-null float64\n",
      "x11    150 non-null float64\n",
      "x12    150 non-null float64\n",
      "x13    150 non-null int64\n",
      "x14    150 non-null int64\n",
      "x15    150 non-null int64\n",
      "x16    150 non-null int64\n",
      "x17    150 non-null int64\n",
      "x18    150 non-null int64\n",
      "x19    150 non-null int64\n",
      "x20    150 non-null int64\n",
      "x21    150 non-null float64\n",
      "x22    150 non-null float64\n",
      "x23    150 non-null float64\n",
      "x24    150 non-null float64\n",
      "x25    150 non-null int64\n",
      "x26    150 non-null int64\n",
      "x27    150 non-null float64\n",
      "x28    150 non-null int64\n",
      "x29    150 non-null int64\n",
      "x30    150 non-null int64\n",
      "x31    150 non-null float64\n",
      "x32    150 non-null float64\n",
      "dtypes: float64(14), int64(19)\n",
      "memory usage: 39.8 KB\n"
     ]
    }
   ],
   "source": [
    "datos.info()"
   ]
  },
  {
   "cell_type": "code",
   "execution_count": 7,
   "metadata": {},
   "outputs": [],
   "source": [
    "# variables seleccionadas según diferentes criterios\n",
    "test_size = 0.2\n",
    "y = datos[['y']].copy()\n",
    "X = datos.drop(columns = ['y']).copy()"
   ]
  },
  {
   "cell_type": "markdown",
   "metadata": {},
   "source": [
    "# Particionar el Data Frame"
   ]
  },
  {
   "cell_type": "code",
   "execution_count": 8,
   "metadata": {},
   "outputs": [],
   "source": [
    "X_train, X_test, y_train, y_test = train_test_split(X, y, test_size=test_size)"
   ]
  },
  {
   "cell_type": "code",
   "execution_count": 9,
   "metadata": {},
   "outputs": [],
   "source": [
    "standarscaler = StandardScaler()"
   ]
  },
  {
   "cell_type": "code",
   "execution_count": 10,
   "metadata": {},
   "outputs": [],
   "source": [
    "X_trained_scaled = standarscaler.fit_transform(X_train)"
   ]
  },
  {
   "cell_type": "code",
   "execution_count": 14,
   "metadata": {},
   "outputs": [
    {
     "ename": "NameError",
     "evalue": "name 'X_norm' is not defined",
     "output_type": "error",
     "traceback": [
      "\u001b[1;31m---------------------------------------------------------------------------\u001b[0m",
      "\u001b[1;31mNameError\u001b[0m                                 Traceback (most recent call last)",
      "\u001b[1;32m<ipython-input-14-d4085c49b28b>\u001b[0m in \u001b[0;36m<module>\u001b[1;34m\u001b[0m\n\u001b[0;32m      3\u001b[0m \u001b[1;33m\u001b[0m\u001b[0m\n\u001b[0;32m      4\u001b[0m \u001b[0mrfe_selector\u001b[0m \u001b[1;33m=\u001b[0m \u001b[0mRFE\u001b[0m\u001b[1;33m(\u001b[0m\u001b[0mestimator\u001b[0m\u001b[1;33m=\u001b[0m\u001b[0mLinearRegression\u001b[0m\u001b[1;33m(\u001b[0m\u001b[1;33m)\u001b[0m\u001b[1;33m,\u001b[0m \u001b[0mn_features_to_select\u001b[0m\u001b[1;33m=\u001b[0m\u001b[1;36m100\u001b[0m\u001b[1;33m,\u001b[0m \u001b[0mstep\u001b[0m\u001b[1;33m=\u001b[0m\u001b[1;36m10\u001b[0m\u001b[1;33m,\u001b[0m \u001b[0mverbose\u001b[0m\u001b[1;33m=\u001b[0m\u001b[1;36m5\u001b[0m\u001b[1;33m)\u001b[0m\u001b[1;33m\u001b[0m\u001b[0m\n\u001b[1;32m----> 5\u001b[1;33m \u001b[0mrfe_selector\u001b[0m\u001b[1;33m.\u001b[0m\u001b[0mfit\u001b[0m\u001b[1;33m(\u001b[0m\u001b[0mX_norm\u001b[0m\u001b[1;33m,\u001b[0m \u001b[0my\u001b[0m\u001b[1;33m)\u001b[0m\u001b[1;33m\u001b[0m\u001b[0m\n\u001b[0m",
      "\u001b[1;31mNameError\u001b[0m: name 'X_norm' is not defined"
     ]
    }
   ],
   "source": [
    "from sklearn.feature_selection import RFE\n",
    "# from sklearn.svm import SVR\n",
    "\n",
    "rfe_selector = RFE(estimator=LinearRegression(), n_features_to_select=100, step=10, verbose=5)\n",
    "rfe_selector.fit(X_trained_scaled, y)"
   ]
  }
 ],
 "metadata": {
  "kernelspec": {
   "display_name": "Python 3",
   "language": "python",
   "name": "python3"
  },
  "language_info": {
   "codemirror_mode": {
    "name": "ipython",
    "version": 3
   },
   "file_extension": ".py",
   "mimetype": "text/x-python",
   "name": "python",
   "nbconvert_exporter": "python",
   "pygments_lexer": "ipython3",
   "version": "3.6.6"
  }
 },
 "nbformat": 4,
 "nbformat_minor": 2
}
