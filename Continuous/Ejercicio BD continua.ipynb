{
 "cells": [
  {
   "cell_type": "code",
   "execution_count": 80,
   "metadata": {},
   "outputs": [],
   "source": [
    "\n",
    "import numpy as np\n",
    "import pandas as pd\n",
    "from sklearn.feature_selection import RFE\n",
    "from sklearn.svm import SVR\n",
    "from sklearn.model_selection import train_test_split\n",
    "from sklearn.preprocessing import StandardScaler"
   ]
  },
  {
   "cell_type": "code",
   "execution_count": 81,
   "metadata": {},
   "outputs": [],
   "source": [
    "#path = '/Users/diana/Library/Mobile Documents/com~apple~CloudDocs/Maestria/Aprendizaje Automático/HR_attrition_orig_proc.csv'\n",
    "path = 'datacontinuousstudents.csv'\n",
    "data = pd.read_csv(path, sep = ',', na_filter = False)\n",
    "data = data.iloc[:, 1:]"
   ]
  },
  {
   "cell_type": "code",
   "execution_count": 82,
   "metadata": {},
   "outputs": [
    {
     "data": {
      "text/html": [
       "<div>\n",
       "<style scoped>\n",
       "    .dataframe tbody tr th:only-of-type {\n",
       "        vertical-align: middle;\n",
       "    }\n",
       "\n",
       "    .dataframe tbody tr th {\n",
       "        vertical-align: top;\n",
       "    }\n",
       "\n",
       "    .dataframe thead th {\n",
       "        text-align: right;\n",
       "    }\n",
       "</style>\n",
       "<table border=\"1\" class=\"dataframe\">\n",
       "  <thead>\n",
       "    <tr style=\"text-align: right;\">\n",
       "      <th></th>\n",
       "      <th>y</th>\n",
       "      <th>x1</th>\n",
       "      <th>x2</th>\n",
       "      <th>x3</th>\n",
       "      <th>x4</th>\n",
       "      <th>x5</th>\n",
       "      <th>x6</th>\n",
       "      <th>x7</th>\n",
       "      <th>x8</th>\n",
       "      <th>x9</th>\n",
       "      <th>...</th>\n",
       "      <th>x23</th>\n",
       "      <th>x24</th>\n",
       "      <th>x25</th>\n",
       "      <th>x26</th>\n",
       "      <th>x27</th>\n",
       "      <th>x28</th>\n",
       "      <th>x29</th>\n",
       "      <th>x30</th>\n",
       "      <th>x31</th>\n",
       "      <th>x32</th>\n",
       "    </tr>\n",
       "  </thead>\n",
       "  <tbody>\n",
       "    <tr>\n",
       "      <th>0</th>\n",
       "      <td>-0.852667</td>\n",
       "      <td>49.856</td>\n",
       "      <td>118.8</td>\n",
       "      <td>1</td>\n",
       "      <td>0</td>\n",
       "      <td>0</td>\n",
       "      <td>0</td>\n",
       "      <td>0</td>\n",
       "      <td>16.32096</td>\n",
       "      <td>0</td>\n",
       "      <td>...</td>\n",
       "      <td>0.9709</td>\n",
       "      <td>0.0003</td>\n",
       "      <td>6</td>\n",
       "      <td>6</td>\n",
       "      <td>24.7138</td>\n",
       "      <td>0</td>\n",
       "      <td>0</td>\n",
       "      <td>7</td>\n",
       "      <td>0.056546</td>\n",
       "      <td>0.112860</td>\n",
       "    </tr>\n",
       "    <tr>\n",
       "      <th>1</th>\n",
       "      <td>0.685760</td>\n",
       "      <td>71.836</td>\n",
       "      <td>34.8</td>\n",
       "      <td>0</td>\n",
       "      <td>0</td>\n",
       "      <td>0</td>\n",
       "      <td>0</td>\n",
       "      <td>1</td>\n",
       "      <td>15.00535</td>\n",
       "      <td>44</td>\n",
       "      <td>...</td>\n",
       "      <td>0.4200</td>\n",
       "      <td>0.0000</td>\n",
       "      <td>8</td>\n",
       "      <td>4</td>\n",
       "      <td>38.0658</td>\n",
       "      <td>0</td>\n",
       "      <td>0</td>\n",
       "      <td>7</td>\n",
       "      <td>0.655260</td>\n",
       "      <td>0.886908</td>\n",
       "    </tr>\n",
       "    <tr>\n",
       "      <th>2</th>\n",
       "      <td>5.951199</td>\n",
       "      <td>66.725</td>\n",
       "      <td>41.8</td>\n",
       "      <td>0</td>\n",
       "      <td>1</td>\n",
       "      <td>0</td>\n",
       "      <td>0</td>\n",
       "      <td>0</td>\n",
       "      <td>17.07023</td>\n",
       "      <td>27</td>\n",
       "      <td>...</td>\n",
       "      <td>0.9650</td>\n",
       "      <td>0.0000</td>\n",
       "      <td>6</td>\n",
       "      <td>6</td>\n",
       "      <td>48.3807</td>\n",
       "      <td>0</td>\n",
       "      <td>1</td>\n",
       "      <td>4</td>\n",
       "      <td>0.067855</td>\n",
       "      <td>0.133944</td>\n",
       "    </tr>\n",
       "    <tr>\n",
       "      <th>3</th>\n",
       "      <td>-2.030599</td>\n",
       "      <td>41.696</td>\n",
       "      <td>132.0</td>\n",
       "      <td>0</td>\n",
       "      <td>0</td>\n",
       "      <td>1</td>\n",
       "      <td>0</td>\n",
       "      <td>0</td>\n",
       "      <td>16.31460</td>\n",
       "      <td>0</td>\n",
       "      <td>...</td>\n",
       "      <td>0.0091</td>\n",
       "      <td>0.0001</td>\n",
       "      <td>6</td>\n",
       "      <td>4</td>\n",
       "      <td>59.8410</td>\n",
       "      <td>0</td>\n",
       "      <td>0</td>\n",
       "      <td>7</td>\n",
       "      <td>0.133230</td>\n",
       "      <td>0.260102</td>\n",
       "    </tr>\n",
       "    <tr>\n",
       "      <th>4</th>\n",
       "      <td>-6.143410</td>\n",
       "      <td>71.351</td>\n",
       "      <td>24.2</td>\n",
       "      <td>1</td>\n",
       "      <td>0</td>\n",
       "      <td>0</td>\n",
       "      <td>0</td>\n",
       "      <td>0</td>\n",
       "      <td>11.10790</td>\n",
       "      <td>31</td>\n",
       "      <td>...</td>\n",
       "      <td>0.0051</td>\n",
       "      <td>0.0000</td>\n",
       "      <td>5</td>\n",
       "      <td>7</td>\n",
       "      <td>175.9250</td>\n",
       "      <td>0</td>\n",
       "      <td>0</td>\n",
       "      <td>3</td>\n",
       "      <td>0.318584</td>\n",
       "      <td>0.627729</td>\n",
       "    </tr>\n",
       "  </tbody>\n",
       "</table>\n",
       "<p>5 rows × 33 columns</p>\n",
       "</div>"
      ],
      "text/plain": [
       "          y      x1     x2  x3  x4  x5  x6  x7        x8  x9  ...     x23  \\\n",
       "0 -0.852667  49.856  118.8   1   0   0   0   0  16.32096   0  ...  0.9709   \n",
       "1  0.685760  71.836   34.8   0   0   0   0   1  15.00535  44  ...  0.4200   \n",
       "2  5.951199  66.725   41.8   0   1   0   0   0  17.07023  27  ...  0.9650   \n",
       "3 -2.030599  41.696  132.0   0   0   1   0   0  16.31460   0  ...  0.0091   \n",
       "4 -6.143410  71.351   24.2   1   0   0   0   0  11.10790  31  ...  0.0051   \n",
       "\n",
       "      x24  x25  x26       x27  x28  x29  x30       x31       x32  \n",
       "0  0.0003    6    6   24.7138    0    0    7  0.056546  0.112860  \n",
       "1  0.0000    8    4   38.0658    0    0    7  0.655260  0.886908  \n",
       "2  0.0000    6    6   48.3807    0    1    4  0.067855  0.133944  \n",
       "3  0.0001    6    4   59.8410    0    0    7  0.133230  0.260102  \n",
       "4  0.0000    5    7  175.9250    0    0    3  0.318584  0.627729  \n",
       "\n",
       "[5 rows x 33 columns]"
      ]
     },
     "execution_count": 82,
     "metadata": {},
     "output_type": "execute_result"
    }
   ],
   "source": [
    "# Columnas del dataframe\n",
    "data.head()"
   ]
  },
  {
   "cell_type": "code",
   "execution_count": 83,
   "metadata": {},
   "outputs": [],
   "source": [
    "test_size = 0.2"
   ]
  },
  {
   "cell_type": "code",
   "execution_count": 84,
   "metadata": {},
   "outputs": [],
   "source": [
    "X_train, X_test, y_train, y_test = train_test_split(X, y, test_size=test_size)\n",
    "data_train, data_test = train_test_split(data, test_size=test_size)"
   ]
  },
  {
   "cell_type": "code",
   "execution_count": 85,
   "metadata": {},
   "outputs": [],
   "source": [
    "data_train.to_csv('continuous_train.csv')\n",
    "data_test.to_csv('continuous_test.csv')"
   ]
  },
  {
   "cell_type": "markdown",
   "metadata": {},
   "source": [
    "### Leyendo los datos de entrenamiento"
   ]
  },
  {
   "cell_type": "code",
   "execution_count": 97,
   "metadata": {},
   "outputs": [],
   "source": [
    "path = 'continuous_train.csv'\n",
    "train = pd.read_csv(path, sep = ',', na_filter = False)\n",
    "train = train.set_index('Unnamed: 0')"
   ]
  },
  {
   "cell_type": "code",
   "execution_count": 98,
   "metadata": {},
   "outputs": [],
   "source": [
    "X_train = train.drop(columns = ['y']).copy()\n",
    "y_train = train[['y']].copy()"
   ]
  },
  {
   "cell_type": "code",
   "execution_count": 99,
   "metadata": {},
   "outputs": [],
   "source": [
    "standarscaler = StandardScaler()\n",
    "X_trained_scaled = standarscaler.fit_transform(X_train)"
   ]
  },
  {
   "cell_type": "code",
   "execution_count": 100,
   "metadata": {},
   "outputs": [],
   "source": [
    "X_trained_scaled = pd.DataFrame(X_trained_scaled, index=X_train.index, columns=X_train.columns.values)"
   ]
  },
  {
   "cell_type": "code",
   "execution_count": 101,
   "metadata": {},
   "outputs": [
    {
     "data": {
      "text/html": [
       "<div>\n",
       "<style scoped>\n",
       "    .dataframe tbody tr th:only-of-type {\n",
       "        vertical-align: middle;\n",
       "    }\n",
       "\n",
       "    .dataframe tbody tr th {\n",
       "        vertical-align: top;\n",
       "    }\n",
       "\n",
       "    .dataframe thead th {\n",
       "        text-align: right;\n",
       "    }\n",
       "</style>\n",
       "<table border=\"1\" class=\"dataframe\">\n",
       "  <thead>\n",
       "    <tr style=\"text-align: right;\">\n",
       "      <th></th>\n",
       "      <th>x1</th>\n",
       "      <th>x2</th>\n",
       "      <th>x3</th>\n",
       "      <th>x4</th>\n",
       "      <th>x5</th>\n",
       "      <th>x6</th>\n",
       "      <th>x7</th>\n",
       "      <th>x8</th>\n",
       "      <th>x9</th>\n",
       "      <th>x10</th>\n",
       "      <th>...</th>\n",
       "      <th>x23</th>\n",
       "      <th>x24</th>\n",
       "      <th>x25</th>\n",
       "      <th>x26</th>\n",
       "      <th>x27</th>\n",
       "      <th>x28</th>\n",
       "      <th>x29</th>\n",
       "      <th>x30</th>\n",
       "      <th>x31</th>\n",
       "      <th>x32</th>\n",
       "    </tr>\n",
       "    <tr>\n",
       "      <th>Unnamed: 0</th>\n",
       "      <th></th>\n",
       "      <th></th>\n",
       "      <th></th>\n",
       "      <th></th>\n",
       "      <th></th>\n",
       "      <th></th>\n",
       "      <th></th>\n",
       "      <th></th>\n",
       "      <th></th>\n",
       "      <th></th>\n",
       "      <th></th>\n",
       "      <th></th>\n",
       "      <th></th>\n",
       "      <th></th>\n",
       "      <th></th>\n",
       "      <th></th>\n",
       "      <th></th>\n",
       "      <th></th>\n",
       "      <th></th>\n",
       "      <th></th>\n",
       "      <th></th>\n",
       "    </tr>\n",
       "  </thead>\n",
       "  <tbody>\n",
       "    <tr>\n",
       "      <th>14</th>\n",
       "      <td>0.658455</td>\n",
       "      <td>-0.959550</td>\n",
       "      <td>-0.654654</td>\n",
       "      <td>-0.433727</td>\n",
       "      <td>-0.185695</td>\n",
       "      <td>-0.363422</td>\n",
       "      <td>-0.333333</td>\n",
       "      <td>0.371211</td>\n",
       "      <td>0.228617</td>\n",
       "      <td>-0.223173</td>\n",
       "      <td>...</td>\n",
       "      <td>-0.689031</td>\n",
       "      <td>-0.253585</td>\n",
       "      <td>-1.483326</td>\n",
       "      <td>0.446846</td>\n",
       "      <td>0.244912</td>\n",
       "      <td>-0.392232</td>\n",
       "      <td>-0.208514</td>\n",
       "      <td>0.038813</td>\n",
       "      <td>0.734505</td>\n",
       "      <td>1.163082</td>\n",
       "    </tr>\n",
       "    <tr>\n",
       "      <th>13</th>\n",
       "      <td>0.714798</td>\n",
       "      <td>-0.860038</td>\n",
       "      <td>1.527525</td>\n",
       "      <td>-0.433727</td>\n",
       "      <td>-0.185695</td>\n",
       "      <td>-0.363422</td>\n",
       "      <td>-0.333333</td>\n",
       "      <td>-1.480961</td>\n",
       "      <td>0.228617</td>\n",
       "      <td>1.064408</td>\n",
       "      <td>...</td>\n",
       "      <td>-0.681359</td>\n",
       "      <td>-0.251387</td>\n",
       "      <td>-0.411042</td>\n",
       "      <td>0.446846</td>\n",
       "      <td>0.469554</td>\n",
       "      <td>-0.392232</td>\n",
       "      <td>-0.208514</td>\n",
       "      <td>-1.358468</td>\n",
       "      <td>0.764061</td>\n",
       "      <td>1.199058</td>\n",
       "    </tr>\n",
       "    <tr>\n",
       "      <th>131</th>\n",
       "      <td>-3.117517</td>\n",
       "      <td>1.145917</td>\n",
       "      <td>-0.654654</td>\n",
       "      <td>-0.433727</td>\n",
       "      <td>-0.185695</td>\n",
       "      <td>-0.363422</td>\n",
       "      <td>-0.333333</td>\n",
       "      <td>0.198330</td>\n",
       "      <td>-1.825621</td>\n",
       "      <td>0.340452</td>\n",
       "      <td>...</td>\n",
       "      <td>-0.473387</td>\n",
       "      <td>-0.254317</td>\n",
       "      <td>1.733525</td>\n",
       "      <td>0.446846</td>\n",
       "      <td>-1.154609</td>\n",
       "      <td>-0.392232</td>\n",
       "      <td>-0.208514</td>\n",
       "      <td>0.970334</td>\n",
       "      <td>0.317838</td>\n",
       "      <td>0.341579</td>\n",
       "    </tr>\n",
       "    <tr>\n",
       "      <th>112</th>\n",
       "      <td>-1.050814</td>\n",
       "      <td>1.274235</td>\n",
       "      <td>-0.654654</td>\n",
       "      <td>-0.433727</td>\n",
       "      <td>-0.185695</td>\n",
       "      <td>-0.363422</td>\n",
       "      <td>-0.333333</td>\n",
       "      <td>0.679245</td>\n",
       "      <td>0.957540</td>\n",
       "      <td>-0.035625</td>\n",
       "      <td>...</td>\n",
       "      <td>-0.581919</td>\n",
       "      <td>0.551470</td>\n",
       "      <td>-1.483326</td>\n",
       "      <td>-0.546145</td>\n",
       "      <td>-0.904328</td>\n",
       "      <td>2.549510</td>\n",
       "      <td>-0.208514</td>\n",
       "      <td>0.038813</td>\n",
       "      <td>0.122394</td>\n",
       "      <td>0.117891</td>\n",
       "    </tr>\n",
       "    <tr>\n",
       "      <th>139</th>\n",
       "      <td>0.902658</td>\n",
       "      <td>-1.048587</td>\n",
       "      <td>-0.654654</td>\n",
       "      <td>-0.433727</td>\n",
       "      <td>-0.185695</td>\n",
       "      <td>-0.363422</td>\n",
       "      <td>-0.333333</td>\n",
       "      <td>-0.451635</td>\n",
       "      <td>0.228617</td>\n",
       "      <td>-0.109596</td>\n",
       "      <td>...</td>\n",
       "      <td>-0.625105</td>\n",
       "      <td>-0.254317</td>\n",
       "      <td>1.733525</td>\n",
       "      <td>-1.539136</td>\n",
       "      <td>1.839749</td>\n",
       "      <td>-0.392232</td>\n",
       "      <td>-0.208514</td>\n",
       "      <td>-0.892708</td>\n",
       "      <td>-0.510351</td>\n",
       "      <td>-0.473047</td>\n",
       "    </tr>\n",
       "  </tbody>\n",
       "</table>\n",
       "<p>5 rows × 32 columns</p>\n",
       "</div>"
      ],
      "text/plain": [
       "                  x1        x2        x3        x4        x5        x6  \\\n",
       "Unnamed: 0                                                               \n",
       "14          0.658455 -0.959550 -0.654654 -0.433727 -0.185695 -0.363422   \n",
       "13          0.714798 -0.860038  1.527525 -0.433727 -0.185695 -0.363422   \n",
       "131        -3.117517  1.145917 -0.654654 -0.433727 -0.185695 -0.363422   \n",
       "112        -1.050814  1.274235 -0.654654 -0.433727 -0.185695 -0.363422   \n",
       "139         0.902658 -1.048587 -0.654654 -0.433727 -0.185695 -0.363422   \n",
       "\n",
       "                  x7        x8        x9       x10  ...       x23       x24  \\\n",
       "Unnamed: 0                                          ...                       \n",
       "14         -0.333333  0.371211  0.228617 -0.223173  ... -0.689031 -0.253585   \n",
       "13         -0.333333 -1.480961  0.228617  1.064408  ... -0.681359 -0.251387   \n",
       "131        -0.333333  0.198330 -1.825621  0.340452  ... -0.473387 -0.254317   \n",
       "112        -0.333333  0.679245  0.957540 -0.035625  ... -0.581919  0.551470   \n",
       "139        -0.333333 -0.451635  0.228617 -0.109596  ... -0.625105 -0.254317   \n",
       "\n",
       "                 x25       x26       x27       x28       x29       x30  \\\n",
       "Unnamed: 0                                                               \n",
       "14         -1.483326  0.446846  0.244912 -0.392232 -0.208514  0.038813   \n",
       "13         -0.411042  0.446846  0.469554 -0.392232 -0.208514 -1.358468   \n",
       "131         1.733525  0.446846 -1.154609 -0.392232 -0.208514  0.970334   \n",
       "112        -1.483326 -0.546145 -0.904328  2.549510 -0.208514  0.038813   \n",
       "139         1.733525 -1.539136  1.839749 -0.392232 -0.208514 -0.892708   \n",
       "\n",
       "                 x31       x32  \n",
       "Unnamed: 0                      \n",
       "14          0.734505  1.163082  \n",
       "13          0.764061  1.199058  \n",
       "131         0.317838  0.341579  \n",
       "112         0.122394  0.117891  \n",
       "139        -0.510351 -0.473047  \n",
       "\n",
       "[5 rows x 32 columns]"
      ]
     },
     "execution_count": 101,
     "metadata": {},
     "output_type": "execute_result"
    }
   ],
   "source": [
    "X_trained_scaled.head()"
   ]
  },
  {
   "cell_type": "code",
   "execution_count": 102,
   "metadata": {},
   "outputs": [
    {
     "data": {
      "text/plain": [
       "120"
      ]
     },
     "execution_count": 102,
     "metadata": {},
     "output_type": "execute_result"
    }
   ],
   "source": [
    "len(X_trained_scaled)"
   ]
  },
  {
   "cell_type": "markdown",
   "metadata": {},
   "source": [
    "### Leyendo los datos del test"
   ]
  },
  {
   "cell_type": "code",
   "execution_count": 103,
   "metadata": {},
   "outputs": [],
   "source": [
    "path = 'continuous_test.csv'\n",
    "test = pd.read_csv(path, sep = ',', na_filter = False)\n",
    "test = test.drop(columns = ['Unnamed: 0']).copy()"
   ]
  },
  {
   "cell_type": "code",
   "execution_count": 104,
   "metadata": {},
   "outputs": [],
   "source": [
    "X_test = test.drop(columns = ['y']).copy()\n",
    "y_test = test[['y']].copy()"
   ]
  },
  {
   "cell_type": "code",
   "execution_count": 105,
   "metadata": {},
   "outputs": [],
   "source": [
    "X_test_scaled = standarscaler.transform(X_test)"
   ]
  },
  {
   "cell_type": "code",
   "execution_count": 106,
   "metadata": {},
   "outputs": [],
   "source": [
    "X_test_scaled = pd.DataFrame(X_test_scaled, index=X_test.index, columns=X_test.columns.values)"
   ]
  },
  {
   "cell_type": "markdown",
   "metadata": {},
   "source": [
    "### feature selection"
   ]
  },
  {
   "cell_type": "code",
   "execution_count": 160,
   "metadata": {},
   "outputs": [
    {
     "name": "stderr",
     "output_type": "stream",
     "text": [
      "/miniconda3/lib/python3.7/site-packages/sklearn/utils/validation.py:724: DataConversionWarning: A column-vector y was passed when a 1d array was expected. Please change the shape of y to (n_samples, ), for example using ravel().\n",
      "  y = column_or_1d(y, warn=True)\n"
     ]
    }
   ],
   "source": [
    "estimator = SVR(kernel=\"linear\")\n",
    "selector = RFE(estimator, 20, step=1)\n",
    "sel_ = selector.fit(X_trained_scaled,y_train)"
   ]
  },
  {
   "cell_type": "code",
   "execution_count": 161,
   "metadata": {},
   "outputs": [
    {
     "data": {
      "text/plain": [
       "pandas.core.frame.DataFrame"
      ]
     },
     "execution_count": 161,
     "metadata": {},
     "output_type": "execute_result"
    }
   ],
   "source": [
    "type(y_train)"
   ]
  },
  {
   "cell_type": "code",
   "execution_count": 162,
   "metadata": {},
   "outputs": [
    {
     "data": {
      "text/plain": [
       "array([ True,  True, False,  True,  True,  True, False,  True, False,\n",
       "        True, False, False,  True,  True, False,  True, False, False,\n",
       "       False,  True,  True, False,  True,  True,  True,  True,  True,\n",
       "       False,  True, False,  True,  True])"
      ]
     },
     "execution_count": 162,
     "metadata": {},
     "output_type": "execute_result"
    }
   ],
   "source": [
    "sel_.support_"
   ]
  },
  {
   "cell_type": "code",
   "execution_count": 163,
   "metadata": {},
   "outputs": [
    {
     "data": {
      "text/plain": [
       "Index(['x1', 'x2', 'x4', 'x5', 'x6', 'x8', 'x10', 'x13', 'x14', 'x16', 'x20',\n",
       "       'x21', 'x23', 'x24', 'x25', 'x26', 'x27', 'x29', 'x31', 'x32'],\n",
       "      dtype='object')"
      ]
     },
     "execution_count": 163,
     "metadata": {},
     "output_type": "execute_result"
    }
   ],
   "source": [
    "X_trained_scaled.columns[sel_.get_support()]"
   ]
  },
  {
   "cell_type": "markdown",
   "metadata": {},
   "source": [
    "# Modelos"
   ]
  },
  {
   "cell_type": "markdown",
   "metadata": {},
   "source": [
    "## Linear regression"
   ]
  },
  {
   "cell_type": "code",
   "execution_count": 118,
   "metadata": {},
   "outputs": [],
   "source": [
    "from sklearn.linear_model import LinearRegression"
   ]
  },
  {
   "cell_type": "code",
   "execution_count": 204,
   "metadata": {},
   "outputs": [],
   "source": [
    "X_pred0 = X_trained_scaled[['x1', 'x2', 'x4', 'x5', 'x6', 'x8', 'x10', 'x13', 'x14', 'x16', 'x20',\n",
    "       'x21', 'x23', 'x24', 'x25', 'x26', 'x27', 'x29', 'x31', 'x32']]\n",
    "X_pred1 = X_trained_scaled[['x4','x7','x12','x13','x23', 'x24', 'x25', 'x31', 'x32']]\n",
    "X_pred2 = X_trained_scaled[['x4','x7','x6','x8','x12','x13','x20','x23', 'x24', 'x25', 'x31', 'x32']]\n",
    "X_pred3 = X_trained_scaled[['x4','x7','x6','x8','x12','x13','x16','x18','x20','x21','x23', 'x24', 'x25','x26','x29', 'x31', 'x32']]"
   ]
  },
  {
   "cell_type": "code",
   "execution_count": 205,
   "metadata": {},
   "outputs": [
    {
     "data": {
      "text/plain": [
       "0.4095709518279199"
      ]
     },
     "execution_count": 205,
     "metadata": {},
     "output_type": "execute_result"
    }
   ],
   "source": [
    "lm = LinearRegression()\n",
    "lm.fit(X_pred0, y_train)\n",
    "lm.score(X_pred0, y_train)"
   ]
  },
  {
   "cell_type": "code",
   "execution_count": 206,
   "metadata": {},
   "outputs": [
    {
     "data": {
      "text/plain": [
       "array([[-0.30300706, -0.69448788,  0.04645383,  0.13903178,  0.44221243,\n",
       "        -0.05947007,  0.50129851, -0.79881956, -0.03098831, -0.12372062,\n",
       "         0.61449132, -0.23686558,  0.69036817, -0.16815537,  0.47722414,\n",
       "        -0.03004422,  0.22526232,  0.12002357, -0.73352594,  0.37991474]])"
      ]
     },
     "execution_count": 206,
     "metadata": {},
     "output_type": "execute_result"
    }
   ],
   "source": [
    "lm.intercept_\n",
    "lm.coef_"
   ]
  },
  {
   "cell_type": "code",
   "execution_count": 207,
   "metadata": {},
   "outputs": [
    {
     "data": {
      "text/plain": [
       "0.25339933957282057"
      ]
     },
     "execution_count": 207,
     "metadata": {},
     "output_type": "execute_result"
    }
   ],
   "source": [
    "lm = LinearRegression()\n",
    "lm.fit(X_pred1, y_train)\n",
    "lm.score(X_pred1, y_train)"
   ]
  },
  {
   "cell_type": "code",
   "execution_count": 208,
   "metadata": {},
   "outputs": [
    {
     "data": {
      "text/plain": [
       "0.30388301069920554"
      ]
     },
     "execution_count": 208,
     "metadata": {},
     "output_type": "execute_result"
    }
   ],
   "source": [
    "lm = LinearRegression()\n",
    "lm.fit(X_pred2, y_train)\n",
    "lm.score(X_pred2, y_train)"
   ]
  },
  {
   "cell_type": "code",
   "execution_count": 209,
   "metadata": {},
   "outputs": [
    {
     "data": {
      "text/plain": [
       "0.31500533492148486"
      ]
     },
     "execution_count": 209,
     "metadata": {},
     "output_type": "execute_result"
    }
   ],
   "source": [
    "lm = LinearRegression()\n",
    "lm.fit(X_pred3, y_train)\n",
    "lm.score(X_pred3, y_train)"
   ]
  },
  {
   "cell_type": "code",
   "execution_count": null,
   "metadata": {},
   "outputs": [],
   "source": []
  }
 ],
 "metadata": {
  "kernelspec": {
   "display_name": "Python 3",
   "language": "python",
   "name": "python3"
  },
  "language_info": {
   "codemirror_mode": {
    "name": "ipython",
    "version": 3
   },
   "file_extension": ".py",
   "mimetype": "text/x-python",
   "name": "python",
   "nbconvert_exporter": "python",
   "pygments_lexer": "ipython3",
   "version": "3.7.3"
  }
 },
 "nbformat": 4,
 "nbformat_minor": 2
}
